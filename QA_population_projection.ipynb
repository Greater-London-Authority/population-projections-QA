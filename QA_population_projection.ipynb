{
 "cells": [
  {
   "cell_type": "markdown",
   "metadata": {},
   "source": [
    "# 📊 **QA script for Population Projections**\n",
    "\n",
    "---\n",
    "\n",
    "## 📝 **Introduction**\n",
    "This notebook aims to identify outliers in the GLA population projection data. The analysis involves loading the dataset, preprocessing the data, defining utility functions, performing outlier detection, and presenting the results through visualizations.\n",
    "\n",
    "### 🎯 **Goals**\n",
    "The analysis will focus on the following objectives:\n",
    "- **Load and preprocess** the population projections dataset.\n",
    "- Define utility functions\n",
    "- Perform **basic checks** on the dataset:\n",
    "  - Range of years covered.\n",
    "  - Missing values.\n",
    "  - Duplicates.\n",
    "  - Descriptive statistics.\n",
    "  - Breakdown by components.\n",
    "  - Detecting negative values.\n",
    "  - Age group ranges.\n",
    "- **Outlier Detection** over time for each component:\n",
    "  - Identify outliers using **Z-scores** and **Robust Z-scores**.\n",
    "  - Analyze by **component**, **ward**, and **borough**.\n",
    "  - Handle **infinite values** separately.\n",
    "- **Total Outliers**:\n",
    "  - Use Z-scores and Robust Z-scores for comparison.\n",
    "  - Perform **cross-sectional comparisons**: Examine changes between boroughs and wards for a given year.\n",
    "  - Conduct **temporal comparisons**: Measure percentage changes between years for both boroughs and wards.\n",
    "  - Handle **infinite values** separately.\n",
    "- **Gender Outliers**:\n",
    "  - Investigate abnormal **gender ratios**.\n",
    "  - Analyze by component.\n",
    "  - Adjust the **outlier standard deviation thresholds** as needed based on different components.\n",
    "- **Key Visualizations**:\n",
    "  - Display the distribution of components.\n",
    "  - Group data by **age ranges**.\n",
    "  - Visualize **yearly totals**.\n",
    "  - Show yearly total trends over time, broken down by components.\n",
    "  - Create **population pyramids**.\n",
    "- **Collate Outliers**: Summarize and determine the key outlier rows.\n",
    "\n",
    "---\n",
    "\n",
    "## 📂 **Dataset**\n",
    "The dataset used in this analysis contains population projections for wards and borough, including population counts, births, death and net-flows\n",
    "\n",
    "---\n",
    "\n",
    "## 🛠️ **Structure**\n",
    "1. [**Load and Preprocess** the population projections dataset.](#load-and-preprocess)\n",
    "2. [**Define Utility Functions** for effective use.](#define-utility-functions)\n",
    "3. [**Basic Checks** on the dataset.](#basic-checks)\n",
    "4. [**Population Consistency Over Time** for each component.](#outlier-detection)\n",
    "5. [**Total Outliers**](#total-outliers)\n",
    "6. [**Gender Outliers**](#gender-outliers)\n",
    "7. [**Key Visualisations**](#key-visualisations)\n",
    "8. [**Collate Outliers** to determine key outlier rows.](#collate-outliers)\n",
    "\n"
   ]
  },
  {
   "cell_type": "markdown",
   "metadata": {},
   "source": [
    "## Load and Preprocess\n",
    "This section will cover how to load and preprocess the dataset.\n",
    "\n",
    "---\n"
   ]
  },
  {
   "cell_type": "code",
   "execution_count": 157,
   "metadata": {},
   "outputs": [],
   "source": [
    "import pandas as pd\n",
    "import numpy as np\n",
    "import pyreadr\n",
    "import os\n",
    "import matplotlib.pyplot as plt\n",
    "import seaborn as sns\n",
    "from scipy import stats\n",
    "import dash\n",
    "from dash import dcc, html\n",
    "from dash.dependencies import Input, Output\n",
    "import plotly.express as px"
   ]
  },
  {
   "cell_type": "code",
   "execution_count": 7,
   "metadata": {},
   "outputs": [
    {
     "name": "stderr",
     "output_type": "stream",
     "text": [
      "C:\\Users\\user\\AppData\\Local\\Temp\\ipykernel_10204\\1627369184.py:2: DtypeWarning: Columns (8,9) have mixed types. Specify dtype option on import or set low_memory=False.\n",
      "  combined_10yr_fert = pd.read_csv('combined_10yr_central_fert.csv').iloc[:, 1:]\n"
     ]
    }
   ],
   "source": [
    "os.chdir(r'C:\\Users\\user\\Documents\\population_data\\combined_10yr_central_fert')\n",
    "combined_10yr_fert = pd.read_csv('combined_10yr_central_fert.csv').iloc[:, 1:]"
   ]
  },
  {
   "cell_type": "code",
   "execution_count": 5,
   "metadata": {},
   "outputs": [],
   "source": [
    "#split ward and borough dataframes\n",
    "combined_10yr_fert_boroughs = combined_10yr_fert[combined_10yr_fert['gss_code_ward'].isna()]\n",
    "combined_10yr_fert_ward = combined_10yr_fert[~combined_10yr_fert['gss_code_ward'].isna()]"
   ]
  },
  {
   "cell_type": "code",
   "execution_count": 19,
   "metadata": {},
   "outputs": [],
   "source": [
    "combined_10yr_fert_agebins = create_age_bins(combined_10yr_fert)"
   ]
  },
  {
   "cell_type": "code",
   "execution_count": 20,
   "metadata": {},
   "outputs": [
    {
     "data": {
      "text/html": [
       "<div>\n",
       "<style scoped>\n",
       "    .dataframe tbody tr th:only-of-type {\n",
       "        vertical-align: middle;\n",
       "    }\n",
       "\n",
       "    .dataframe tbody tr th {\n",
       "        vertical-align: top;\n",
       "    }\n",
       "\n",
       "    .dataframe thead th {\n",
       "        text-align: right;\n",
       "    }\n",
       "</style>\n",
       "<table border=\"1\" class=\"dataframe\">\n",
       "  <thead>\n",
       "    <tr style=\"text-align: right;\">\n",
       "      <th></th>\n",
       "      <th>gss_code</th>\n",
       "      <th>la_name</th>\n",
       "      <th>year</th>\n",
       "      <th>sex</th>\n",
       "      <th>age</th>\n",
       "      <th>value</th>\n",
       "      <th>component</th>\n",
       "      <th>gss_code_ward</th>\n",
       "      <th>ward_name</th>\n",
       "    </tr>\n",
       "  </thead>\n",
       "  <tbody>\n",
       "    <tr>\n",
       "      <th>0</th>\n",
       "      <td>E09000001</td>\n",
       "      <td>City of London</td>\n",
       "      <td>2012.0</td>\n",
       "      <td>female</td>\n",
       "      <td>0-18</td>\n",
       "      <td>32.0</td>\n",
       "      <td>births</td>\n",
       "      <td>NaN</td>\n",
       "      <td>NaN</td>\n",
       "    </tr>\n",
       "    <tr>\n",
       "      <th>1</th>\n",
       "      <td>E09000001</td>\n",
       "      <td>City of London</td>\n",
       "      <td>2012.0</td>\n",
       "      <td>male</td>\n",
       "      <td>0-18</td>\n",
       "      <td>24.0</td>\n",
       "      <td>births</td>\n",
       "      <td>NaN</td>\n",
       "      <td>NaN</td>\n",
       "    </tr>\n",
       "    <tr>\n",
       "      <th>2</th>\n",
       "      <td>E09000001</td>\n",
       "      <td>City of London</td>\n",
       "      <td>2013.0</td>\n",
       "      <td>female</td>\n",
       "      <td>0-18</td>\n",
       "      <td>36.0</td>\n",
       "      <td>births</td>\n",
       "      <td>NaN</td>\n",
       "      <td>NaN</td>\n",
       "    </tr>\n",
       "    <tr>\n",
       "      <th>3</th>\n",
       "      <td>E09000001</td>\n",
       "      <td>City of London</td>\n",
       "      <td>2013.0</td>\n",
       "      <td>male</td>\n",
       "      <td>0-18</td>\n",
       "      <td>35.0</td>\n",
       "      <td>births</td>\n",
       "      <td>NaN</td>\n",
       "      <td>NaN</td>\n",
       "    </tr>\n",
       "    <tr>\n",
       "      <th>4</th>\n",
       "      <td>E09000001</td>\n",
       "      <td>City of London</td>\n",
       "      <td>2014.0</td>\n",
       "      <td>female</td>\n",
       "      <td>0-18</td>\n",
       "      <td>26.0</td>\n",
       "      <td>births</td>\n",
       "      <td>NaN</td>\n",
       "      <td>NaN</td>\n",
       "    </tr>\n",
       "    <tr>\n",
       "      <th>...</th>\n",
       "      <td>...</td>\n",
       "      <td>...</td>\n",
       "      <td>...</td>\n",
       "      <td>...</td>\n",
       "      <td>...</td>\n",
       "      <td>...</td>\n",
       "      <td>...</td>\n",
       "      <td>...</td>\n",
       "      <td>...</td>\n",
       "    </tr>\n",
       "    <tr>\n",
       "      <th>15428057</th>\n",
       "      <td>E09000033</td>\n",
       "      <td>Westminster</td>\n",
       "      <td>2050.0</td>\n",
       "      <td>male</td>\n",
       "      <td>81-89</td>\n",
       "      <td>16.9</td>\n",
       "      <td>popn</td>\n",
       "      <td>E05013809</td>\n",
       "      <td>Westbourne</td>\n",
       "    </tr>\n",
       "    <tr>\n",
       "      <th>15428058</th>\n",
       "      <td>E09000033</td>\n",
       "      <td>Westminster</td>\n",
       "      <td>2050.0</td>\n",
       "      <td>male</td>\n",
       "      <td>81-89</td>\n",
       "      <td>13.3</td>\n",
       "      <td>popn</td>\n",
       "      <td>E05013809</td>\n",
       "      <td>Westbourne</td>\n",
       "    </tr>\n",
       "    <tr>\n",
       "      <th>15428059</th>\n",
       "      <td>E09000033</td>\n",
       "      <td>Westminster</td>\n",
       "      <td>2050.0</td>\n",
       "      <td>male</td>\n",
       "      <td>81-89</td>\n",
       "      <td>11.0</td>\n",
       "      <td>popn</td>\n",
       "      <td>E05013809</td>\n",
       "      <td>Westbourne</td>\n",
       "    </tr>\n",
       "    <tr>\n",
       "      <th>15428060</th>\n",
       "      <td>E09000033</td>\n",
       "      <td>Westminster</td>\n",
       "      <td>2050.0</td>\n",
       "      <td>male</td>\n",
       "      <td>81-89</td>\n",
       "      <td>9.9</td>\n",
       "      <td>popn</td>\n",
       "      <td>E05013809</td>\n",
       "      <td>Westbourne</td>\n",
       "    </tr>\n",
       "    <tr>\n",
       "      <th>15428061</th>\n",
       "      <td>E09000033</td>\n",
       "      <td>Westminster</td>\n",
       "      <td>2050.0</td>\n",
       "      <td>male</td>\n",
       "      <td>90+</td>\n",
       "      <td>25.0</td>\n",
       "      <td>popn</td>\n",
       "      <td>E05013809</td>\n",
       "      <td>Westbourne</td>\n",
       "    </tr>\n",
       "  </tbody>\n",
       "</table>\n",
       "<p>15428062 rows × 9 columns</p>\n",
       "</div>"
      ],
      "text/plain": [
       "           gss_code         la_name    year     sex    age  value component  \\\n",
       "0         E09000001  City of London  2012.0  female   0-18   32.0    births   \n",
       "1         E09000001  City of London  2012.0    male   0-18   24.0    births   \n",
       "2         E09000001  City of London  2013.0  female   0-18   36.0    births   \n",
       "3         E09000001  City of London  2013.0    male   0-18   35.0    births   \n",
       "4         E09000001  City of London  2014.0  female   0-18   26.0    births   \n",
       "...             ...             ...     ...     ...    ...    ...       ...   \n",
       "15428057  E09000033     Westminster  2050.0    male  81-89   16.9      popn   \n",
       "15428058  E09000033     Westminster  2050.0    male  81-89   13.3      popn   \n",
       "15428059  E09000033     Westminster  2050.0    male  81-89   11.0      popn   \n",
       "15428060  E09000033     Westminster  2050.0    male  81-89    9.9      popn   \n",
       "15428061  E09000033     Westminster  2050.0    male    90+   25.0      popn   \n",
       "\n",
       "         gss_code_ward   ward_name  \n",
       "0                  NaN         NaN  \n",
       "1                  NaN         NaN  \n",
       "2                  NaN         NaN  \n",
       "3                  NaN         NaN  \n",
       "4                  NaN         NaN  \n",
       "...                ...         ...  \n",
       "15428057     E05013809  Westbourne  \n",
       "15428058     E05013809  Westbourne  \n",
       "15428059     E05013809  Westbourne  \n",
       "15428060     E05013809  Westbourne  \n",
       "15428061     E05013809  Westbourne  \n",
       "\n",
       "[15428062 rows x 9 columns]"
      ]
     },
     "execution_count": 20,
     "metadata": {},
     "output_type": "execute_result"
    }
   ],
   "source": [
    "combined_10yr_fert_agebins"
   ]
  },
  {
   "cell_type": "markdown",
   "metadata": {},
   "source": [
    "## Define Utility Functions\n",
    "Define utility functions that will be used for various parts of the analysis.\n",
    "\n",
    "---"
   ]
  },
  {
   "cell_type": "code",
   "execution_count": 82,
   "metadata": {},
   "outputs": [],
   "source": [
    "def view_descriptive_statistics(df, columns):\n",
    "    \"\"\"\n",
    "    Calculate descriptive statistics, including mean, median, and mode, for specified columns in a DataFrame.\n",
    "    \n",
    "    Parameters:\n",
    "    df (pd.DataFrame): The input DataFrame.\n",
    "    columns (list): List of columns for which to calculate the statistics.\n",
    "    \n",
    "    Returns:\n",
    "    pd.DataFrame: DataFrame containing the descriptive statistics including median and mode.\n",
    "    \"\"\"\n",
    "    # Get descriptive statistics using describe()\n",
    "    descriptive_stats = df[columns].describe()\n",
    "\n",
    "    # Calculate median for each column\n",
    "    median = df[columns].median()\n",
    "\n",
    "    # Calculate mode for each column (in case of multiple modes, take the first one)\n",
    "    mode = df[columns].mode().iloc[0]\n",
    "\n",
    "    # Add median and mode to the descriptive statistics DataFrame\n",
    "    descriptive_stats.loc['median'] = median\n",
    "    descriptive_stats.loc['mode'] = mode\n",
    "\n",
    "    # Return the combined descriptive statistics\n",
    "    return descriptive_stats"
   ]
  },
  {
   "cell_type": "code",
   "execution_count": 10,
   "metadata": {},
   "outputs": [],
   "source": [
    "def create_age_bins(df, age_column='age', bins=None, labels=None):\n",
    "    \"\"\"\n",
    "    Create age bins for the specified age column in the given DataFrame.\n",
    "\n",
    "    Parameters:\n",
    "    df (pd.DataFrame): The DataFrame containing the age data.\n",
    "    age_column (str): The name of the column containing age data. Default is 'age'.\n",
    "    bins (list): A list of bin edges for categorizing ages. Default is None.\n",
    "    labels (list): A list of labels for the bins. Default is None.\n",
    "\n",
    "    Returns:\n",
    "    pd.DataFrame: The DataFrame with a new 'age' column containing binned age data.\n",
    "    \"\"\"\n",
    "    \n",
    "    # If bins and labels are not provided, set default values\n",
    "    if bins is None:\n",
    "        bins = [-1, 18, 30, 40, 50, 60, 70, 80, 89, 90]\n",
    "    \n",
    "    if labels is None:\n",
    "        labels = ['0-18', '19-30', '31-40', '41-50', '51-60', '61-70', '71-80', '81-89', '90+']\n",
    "    \n",
    "    # Create a copy of the original DataFrame to avoid modifying it directly\n",
    "    binned_df = df.copy()\n",
    "    \n",
    "    # Create age bins\n",
    "    binned_df[age_column] = pd.cut(binned_df[age_column], bins=bins, labels=labels)\n",
    "    \n",
    "    return binned_df\n",
    "\n",
    "# Example usage:\n",
    "# combined_10yr_fert_agebins = create_age_bins(combined_10yr_fert)\n"
   ]
  },
  {
   "cell_type": "code",
   "execution_count": 140,
   "metadata": {},
   "outputs": [],
   "source": [
    "def calculate_zscores_and_find_outliers(df, component_columns, handle_inf=True, Geography='borough', z_score_threshold=2, For_population_totals=False): \n",
    "    \"\"\"\n",
    "    Computes z-scores or robust z-scores (depending on distribution) for the respective columns,\n",
    "    and returns DataFrames containing outliers for either the component columns (handle_inf=True) \n",
    "    or the percentage change columns (handle_inf=False).\n",
    "    \n",
    "    Parameters:\n",
    "    df (pd.DataFrame): The input DataFrame containing population data component value columns.\n",
    "    component_columns (str or list): A single column name or a list of column names to be analysed.\n",
    "    handle_inf (bool): If True, uses the component columns to determine outliers. \n",
    "                       If False, uses percentage change columns to determine outliers.\n",
    "    Geography (str): Specifies whether to group by 'borough' (using 'gss_code') or 'ward' (using 'gss_code_ward').\n",
    "                     Default is 'borough'.\n",
    "    For_population_totals (bool): If True, calculates total population sums and percentage changes before proceeding \n",
    "                                  to z-score and outlier analysis.\n",
    "    z_score_threshold (float or int): The threshold to consider as an outlier based on the z-score. Default is 2.\n",
    "    \n",
    "    Returns:\n",
    "    dict: A dictionary containing DataFrames with outliers for each respective column based on the z-score threshold.\n",
    "    \"\"\"\n",
    "    \n",
    "    # If a single column name is provided as a string, convert it to a list\n",
    "    if isinstance(component_columns, str):\n",
    "        component_columns = [component_columns]\n",
    "\n",
    "    outliers_dict = {}\n",
    "    z_score_type = {}  # Dictionary to store which method was used\n",
    "\n",
    "    # Grouping and pivot based on the Geography parameter\n",
    "    if Geography == 'borough':\n",
    "        geo_column = 'gss_code'\n",
    "    elif Geography == 'ward':\n",
    "        geo_column = 'gss_code_ward'\n",
    "    else:\n",
    "        raise ValueError(\"Geography must be either 'borough' or 'ward'.\")\n",
    "\n",
    "    # Automatically create pct_change_columns based on component_columns\n",
    "    pct_change_columns = [f\"{col}_pct_change\" for col in component_columns]\n",
    "\n",
    "    # Calculate the percentage change for the component columns\n",
    "    df[pct_change_columns] = df.groupby([geo_column, 'sex', 'age'])[component_columns].pct_change().abs()\n",
    "\n",
    "    pivoted = df.pivot_table(index=[geo_column, 'sex', 'age', 'year'], columns='component', values='value').reset_index()\n",
    "\n",
    "    # If For_population_totals is True, calculate population totals and percentage changes\n",
    "    if For_population_totals:\n",
    "\n",
    "        # Group by geography and year, and sum the population values\n",
    "        population_sum = pivoted.groupby([geo_column, 'year'])['popn'].sum().reset_index()\n",
    "\n",
    "        population_sum_time = population_sum.copy()\n",
    "        population_sum_cross = population_sum.copy()    \n",
    "\n",
    "        # Temporally: Calculate the population change over the years for each gss_code or ward\n",
    "        population_sum_time['popn_pct_change_temporal'] = population_sum_time.groupby(geo_column)['popn'].pct_change() * 100\n",
    "\n",
    "        # Cross-sectionally: Compare the population between different gss_code or wards for the same year and compare to the mean\n",
    "        population_sum_cross['popn_mean'] = population_sum_cross.groupby('year')['popn'].transform('mean')\n",
    "        population_sum_cross['popn_pct_change_cross'] = ((population_sum_cross['popn'] - population_sum_cross['popn_mean']) / population_sum_cross['popn_mean']) * 100\n",
    "\n",
    "    # Now, decide how to determine outliers based on handle_inf and pct_change_columns\n",
    "    if handle_inf:\n",
    "        # Outliers based on component columns\n",
    "        for comp_col, pct_change_col in zip(component_columns, pct_change_columns):\n",
    "            if pct_change_col in df.columns:\n",
    "                if handle_inf:\n",
    "                    # Filter rows where percentage change columns have inf or -inf\n",
    "                 df_filtered = df[df[pct_change_col].isin([np.inf, -np.inf])]\n",
    "                else:\n",
    "                # Replace inf and -inf with NaN and work on entire DataFrame after cleaning\n",
    "                    df_filtered = df.replace([np.inf, -np.inf], np.nan).dropna(subset=[comp_col, pct_change_col])\n",
    "\n",
    "                print(df_filtered)\n",
    "\n",
    "                if not df_filtered.empty:\n",
    "                    # Check if the column is normally distributed using skewness\n",
    "                    skewness = df_filtered[comp_col].skew()\n",
    "\n",
    "                    if abs(skewness) < 0.5:  # If skewness is less than 0.5, use normal Z-score\n",
    "                        df_filtered['z_score'] = stats.zscore(df_filtered[comp_col])\n",
    "                        outliers = df_filtered[df_filtered['z_score'].abs() > z_score_threshold]  # Z-score > threshold\n",
    "                        z_score_type[comp_col] = 'Normal Z-Score'\n",
    "                        print(f\"{comp_col} used Normal Z-Score.\")\n",
    "                    else:\n",
    "                        # Use Robust Z-score (based on median and MAD) for non-normal distribution\n",
    "                        median = df_filtered[comp_col].median()\n",
    "                        mad = stats.median_abs_deviation(df_filtered[comp_col])\n",
    "                        df_filtered['robust_z_score'] = (df_filtered[comp_col] - median) / mad\n",
    "                        outliers = df_filtered[df_filtered['robust_z_score'].abs() > z_score_threshold]  # Robust Z-score > threshold\n",
    "                        z_score_type[comp_col] = 'Robust Z-Score'\n",
    "                        print(f\"{comp_col} used Robust Z-Score.\")\n",
    "\n",
    "                    # Store the outliers for this component column\n",
    "                    outliers_dict[comp_col] = outliers\n",
    "                else:\n",
    "                    outliers_dict[comp_col] = pd.DataFrame()  # Return empty DataFrame if no rows found\n",
    "            else:\n",
    "                print(f\"{comp_col} does not exist in DataFrame\")\n",
    "\n",
    "    else:\n",
    "        # Outliers based on pct_change_columns\n",
    "        for pct_change_col in pct_change_columns:\n",
    "            # Choose the correct DataFrame based on the column\n",
    "            if pct_change_col == 'popn_pct_change_temporal':\n",
    "                df_filtered = population_sum_time  # Use the temporal population data\n",
    "                print(df_filtered)\n",
    "            elif pct_change_col == 'popn_pct_change_cross':\n",
    "                df_filtered = population_sum_cross  # Use the cross-sectional population data\n",
    "                print(df_filtered)\n",
    "            else:\n",
    "                df_filtered = df  # Default to the original df if other percentage columns are provided\n",
    "\n",
    "            if pct_change_col in df_filtered.columns:\n",
    "                # Replace inf and -inf with NaN and work on the entire DataFrame after cleaning\n",
    "                df_filtered = df_filtered.replace([np.inf, -np.inf], np.nan).dropna(subset=[pct_change_col])\n",
    "\n",
    "                if not df_filtered.empty:\n",
    "                    # Check if the column is normally distributed using skewness\n",
    "                    skewness = df_filtered[pct_change_col].skew()\n",
    "                    print(pct_change_col)\n",
    "\n",
    "                    if abs(skewness) < 0.5:  # If skewness is less than 0.5, use normal Z-score\n",
    "                        df_filtered['z_score'] = stats.zscore(df_filtered[pct_change_col])\n",
    "                        outliers = df_filtered[df_filtered['z_score'].abs() > z_score_threshold]  # Z-score > threshold\n",
    "                        z_score_type[pct_change_col] = 'Normal Z-Score'\n",
    "                        print(f\"{pct_change_col} used Normal Z-Score.\")\n",
    "                    else:\n",
    "                        # Use Robust Z-score (based on median and MAD) for non-normal distribution\n",
    "                        median = df_filtered[pct_change_col].median()\n",
    "                        mad = stats.median_abs_deviation(df_filtered[pct_change_col])\n",
    "                        df_filtered['robust_z_score'] = (df_filtered[pct_change_col] - median) / mad\n",
    "                        outliers = df_filtered[df_filtered['robust_z_score'].abs() > z_score_threshold]  # Robust Z-score > threshold\n",
    "                        z_score_type[pct_change_col] = 'Robust Z-Score'\n",
    "                        print(f\"{pct_change_col} used Robust Z-Score.\")\n",
    "\n",
    "                    # Store the outliers for this percentage change column\n",
    "                    outliers_dict[pct_change_col] = outliers\n",
    "                else:\n",
    "                    outliers_dict[pct_change_col] = pd.DataFrame()  # Return empty DataFrame if no rows found\n",
    "            else:\n",
    "                print(f\"{pct_change_col} does not exist in DataFrame\")\n",
    "\n",
    "    return outliers_dict, z_score_type  # Returning z_score_type for further use if needed\n",
    "\n"
   ]
  },
  {
   "cell_type": "code",
   "execution_count": 199,
   "metadata": {},
   "outputs": [],
   "source": [
    "import pandas as pd\n",
    "import numpy as np\n",
    "from scipy import stats\n",
    "\n",
    "def calculate_zscores_and_find_outliers(df, component_columns, handle_inf=True, Geography='borough', z_score_threshold=2, For_population_totals=False, population_analysis_type='cross-sectional'):\n",
    "    \"\"\"\n",
    "    Computes z-scores or robust z-scores (depending on distribution) for the respective columns,\n",
    "    and returns DataFrames containing outliers for either the component columns (handle_inf=True) \n",
    "    or the percentage change columns (handle_inf=False).\n",
    "\n",
    "    Parameters:\n",
    "    df (pd.DataFrame): The input DataFrame containing population data component value columns.\n",
    "    component_columns (str or list): A single column name or a list of column names to be analysed.\n",
    "    handle_inf (bool): If True, uses the component columns to determine outliers. \n",
    "                       If False, uses percentage change columns to determine outliers.\n",
    "    Geography (str): Specifies whether to group by 'borough' (using 'gss_code') or 'ward' (using 'gss_code_ward').\n",
    "                     Default is 'borough'.\n",
    "    For_population_totals (bool): If True, calculates total population sums and percentage changes before proceeding \n",
    "                                  to z-score and outlier analysis.\n",
    "    population_analysis_type (str): Specifies whether to do 'cross-sectional' or 'temporal' analysis for population totals.\n",
    "                                    Default is 'cross-sectional'.\n",
    "    z_score_threshold (float or int): The threshold to consider as an outlier based on the z-score. Default is 2.\n",
    "\n",
    "    Returns:\n",
    "    dict: A dictionary containing DataFrames with outliers for each respective column based on the z-score threshold.\n",
    "    \"\"\"\n",
    "    \n",
    "    # If a single column name is provided as a string, convert it to a list\n",
    "    if isinstance(component_columns, str):\n",
    "        component_columns = [component_columns]\n",
    "\n",
    "    outliers_dict = {}\n",
    "    z_score_type = {}  # Dictionary to store which method was used\n",
    "\n",
    "    # Grouping and pivot based on the Geography parameter\n",
    "    if Geography == 'borough':\n",
    "        geo_column = 'gss_code'\n",
    "    elif Geography == 'ward':\n",
    "        geo_column = 'gss_code_ward'\n",
    "    else:\n",
    "        raise ValueError(\"Geography must be either 'borough' or 'ward'.\")\n",
    "\n",
    "    # Automatically create pct_change_columns based on component_columns\n",
    "    pct_change_columns = [f\"{col}_pct_change\" for col in component_columns]\n",
    "\n",
    "    # If For_population_totals is True, calculate population totals and percentage changes\n",
    "    if For_population_totals:\n",
    "\n",
    "        # Ensure that there's a 'popn' column in the resulting DataFrame\n",
    "        if 'popn' in df.columns:\n",
    "            df['popn'] = df['popn']  # Extract the 'popn' column\n",
    "        else:\n",
    "            raise ValueError(\"The 'popn' column is missing after pivoting.\")\n",
    "\n",
    "        # Group by geography and year, and sum the population values\n",
    "        population_sum = df.groupby([geo_column, 'year'])['popn'].sum().reset_index()\n",
    "\n",
    "        population_sum_time = population_sum.copy()\n",
    "        population_sum_cross = population_sum.copy()\n",
    "\n",
    "        if population_analysis_type == 'temporal':\n",
    "            # Temporally: Calculate the population change over the years for each gss_code or ward\n",
    "            population_sum_time['popn_pct_change_temporal'] = population_sum_time.groupby(geo_column)['popn'].pct_change() * 100\n",
    "            print(population_sum_time.head())\n",
    "        elif population_analysis_type == 'cross-sectional':\n",
    "            # Cross-sectionally: Compare the population between different gss_code or wards for the same year and compare to the mean\n",
    "            population_sum_cross['popn_mean'] = population_sum_cross.groupby('year')['popn'].transform('mean')\n",
    "            population_sum_cross['popn_pct_change_cross'] = ((population_sum_cross['popn'] - population_sum_cross['popn_mean']) / population_sum_cross['popn_mean']) * 100\n",
    "            print(population_sum_cross.head())\n",
    "        else:\n",
    "            raise ValueError(\"population_analysis_type must be either 'cross-sectional' or 'temporal'.\")\n",
    "\n",
    "    # Now, decide how to determine outliers based on handle_inf and pct_change_columns\n",
    "    if handle_inf:\n",
    "        # Outliers based on component columns\n",
    "        for comp_col, pct_change_col in zip(component_columns, pct_change_columns):\n",
    "            if pct_change_col in df.columns:\n",
    "                # Filter rows where percentage change columns have inf or -inf\n",
    "                df_filtered = df.replace([np.inf, -np.inf], np.nan).dropna(subset=[comp_col, pct_change_col])\n",
    "\n",
    "                if not df_filtered.empty:\n",
    "                    # Check if the column is normally distributed using skewness\n",
    "                    skewness = df_filtered[comp_col].skew()\n",
    "\n",
    "                    if abs(skewness) < 0.5:  # If skewness is less than 0.5, use normal Z-score\n",
    "                        df_filtered['z_score'] = stats.zscore(df_filtered[comp_col])\n",
    "                        outliers = df_filtered[df_filtered['z_score'].abs() > z_score_threshold]  # Z-score > threshold\n",
    "                        z_score_type[comp_col] = 'Normal Z-Score'\n",
    "                    else:\n",
    "                        # Use Robust Z-score (based on median and MAD) for non-normal distribution\n",
    "                        median = df_filtered[comp_col].median()\n",
    "                        mad = stats.median_abs_deviation(df_filtered[comp_col])\n",
    "                        df_filtered['robust_z_score'] = (df_filtered[comp_col] - median) / mad\n",
    "                        outliers = df_filtered[df_filtered['robust_z_score'].abs() > z_score_threshold]  # Robust Z-score > threshold\n",
    "                        z_score_type[comp_col] = 'Robust Z-Score'\n",
    "\n",
    "                    # Store the outliers for this component column\n",
    "                    outliers_dict[comp_col] = outliers\n",
    "                else:\n",
    "                    outliers_dict[comp_col] = pd.DataFrame()  # Return empty DataFrame if no rows found\n",
    "            else:\n",
    "                print(f\"{comp_col} does not exist in DataFrame\")\n",
    "\n",
    "    else:\n",
    "        # Outliers based on pct_change_columns\n",
    "        for pct_change_col in pct_change_columns:\n",
    "            # Choose the correct DataFrame based on the column\n",
    "            if population_analysis_type == 'temporal' and 'popn_pct_change_temporal' in pct_change_col:\n",
    "                df_filtered = population_sum_time  # Use the temporal population data\n",
    "            elif population_analysis_type == 'cross-sectional' and 'popn_pct_change_cross' in pct_change_col:\n",
    "                df_filtered = population_sum_cross  # Use the cross-sectional population data\n",
    "            else:\n",
    "                df_filtered = df  # Default to the original df if other percentage columns are provided\n",
    "\n",
    "            if pct_change_col in df_filtered.columns:\n",
    "                # Replace inf and -inf with NaN and work on the entire DataFrame after cleaning\n",
    "                df_filtered = df_filtered.replace([np.inf, -np.inf], np.nan).dropna(subset=[pct_change_col])\n",
    "\n",
    "                if not df_filtered.empty:\n",
    "                    # Check if the column is normally distributed using skewness\n",
    "                    skewness = df_filtered[pct_change_col].skew()\n",
    "\n",
    "                    if abs(skewness) < 0.5:  # If skewness is less than 0.5, use normal Z-score\n",
    "                        df_filtered['z_score'] = stats.zscore(df_filtered[pct_change_col])\n",
    "                        outliers = df_filtered[df_filtered['z_score'].abs() > z_score_threshold]  # Z-score > threshold\n",
    "                        z_score_type[pct_change_col] = 'Normal Z-Score'\n",
    "                    else:\n",
    "                        # Use Robust Z-score (based on median and MAD) for non-normal distribution\n",
    "                        median = df_filtered[pct_change_col].median()\n",
    "                        mad = stats.median_abs_deviation(df_filtered[pct_change_col])\n",
    "                        df_filtered['robust_z_score'] = (df_filtered[pct_change_col] - median) / mad\n",
    "                        outliers = df_filtered[df_filtered['robust_z_score'].abs() > z_score_threshold]  # Robust Z-score > threshold\n",
    "                        z_score_type[pct_change_col] = 'Robust Z-Score'\n",
    "\n",
    "                    # Store the outliers for this percentage change column\n",
    "                    outliers_dict[pct_change_col] = outliers\n",
    "                else:\n",
    "                    outliers_dict[pct_change_col] = pd.DataFrame()  # Return empty DataFrame if no rows found\n",
    "            else:\n",
    "                print(f\"{pct_change_col} does not exist in DataFrame\")\n",
    "\n",
    "    return outliers_dict, z_score_type  # Returning z_score_type for further use if needed\n"
   ]
  },
  {
   "cell_type": "code",
   "execution_count": 178,
   "metadata": {},
   "outputs": [],
   "source": [
    "import pandas as pd\n",
    "import numpy as np\n",
    "from scipy import stats\n",
    "\n",
    "def calculate_zscores_and_find_outliers(df, component_columns, handle_inf=True, Geography='borough', z_score_threshold=2, For_population_totals=False, population_analysis_type='cross-sectional'):\n",
    "    \"\"\"\n",
    "    Computes z-scores or robust z-scores (depending on distribution) for the respective columns,\n",
    "    and returns DataFrames containing outliers for either the component columns (handle_inf=True) \n",
    "    or the percentage change columns (handle_inf=False).\n",
    "\n",
    "    Parameters:\n",
    "    df (pd.DataFrame): The input DataFrame containing population data component value columns.\n",
    "    component_columns (str or list): A single column name or a list of column names to be analysed.\n",
    "    handle_inf (bool): If True, uses the component columns to determine outliers. \n",
    "                       If False, uses percentage change columns to determine outliers.\n",
    "    Geography (str): Specifies whether to group by 'borough' (using 'gss_code') or 'ward' (using 'gss_code_ward').\n",
    "                     Default is 'borough'.\n",
    "    For_population_totals (bool): If True, calculates total population sums and percentage changes before proceeding \n",
    "                                  to z-score and outlier analysis.\n",
    "    population_analysis_type (str): Specifies whether to do 'cross-sectional' or 'temporal' analysis for population totals.\n",
    "                                    Default is 'cross-sectional'.\n",
    "    z_score_threshold (float or int): The threshold to consider as an outlier based on the z-score. Default is 2.\n",
    "\n",
    "    Returns:\n",
    "    dict: A dictionary containing DataFrames with outliers for each respective column based on the z-score threshold.\n",
    "    \"\"\"\n",
    "    \n",
    "    # If a single column name is provided as a string, convert it to a list\n",
    "    if isinstance(component_columns, str):\n",
    "        component_columns = [component_columns]\n",
    "\n",
    "    outliers_dict = {}\n",
    "    z_score_type = {}  # Dictionary to store which method was used\n",
    "\n",
    "    # Grouping and pivot based on the Geography parameter\n",
    "    if Geography == 'borough':\n",
    "        geo_column = 'gss_code'\n",
    "    elif Geography == 'ward':\n",
    "        geo_column = 'gss_code_ward'\n",
    "    else:\n",
    "        raise ValueError(\"Geography must be either 'borough' or 'ward'.\")\n",
    "\n",
    "    # Automatically create pct_change_columns based on component_columns\n",
    "    pct_change_columns = [f\"{col}_pct_change\" for col in component_columns]\n",
    "\n",
    "    # Calculate the percentage change for the component columns\n",
    "    df[pct_change_columns] = df.groupby([geo_column, 'sex', 'age'])[component_columns].pct_change().abs()\n",
    "    pivoted = df.pivot_table(index=[geo_column, 'sex', 'age', 'year'], columns='component', values='value').reset_index()\n",
    "\n",
    "    # If For_population_totals is True, calculate population totals and percentage changes\n",
    "    if For_population_totals:\n",
    "        # Filter the DataFrame to only keep rows where the 'component' is 'popn'\n",
    "        popn_df = pivoted[pivoted['component'] == 'popn']\n",
    "        \n",
    "        # Pivot the data to get 'popn' values by geography, sex, age, and year\n",
    "        pivoted = popn_df.pivot_table(index=[geo_column, 'sex', 'age', 'year'], columns='component', values='value').reset_index()\n",
    "        \n",
    "        # Ensure that there's a 'popn' column in the resulting DataFrame\n",
    "        if 'popn' in pivoted.columns:\n",
    "            pivoted['popn'] = pivoted['popn']  # Extract the 'popn' column\n",
    "        else:\n",
    "            raise ValueError(\"The 'popn' column is missing after pivoting.\")\n",
    "\n",
    "        # Group by geography and year, and sum the population values\n",
    "        population_sum = pivoted.groupby([geo_column, 'year'])['popn'].sum().reset_index()\n",
    "\n",
    "        population_sum_time = population_sum.copy()\n",
    "        population_sum_cross = population_sum.copy()\n",
    "\n",
    "        if population_analysis_type == 'temporal':\n",
    "            # Temporally: Calculate the population change over the years for each gss_code or ward\n",
    "            population_sum_time['popn_pct_change_temporal'] = population_sum_time.groupby(geo_column)['popn'].pct_change() * 100\n",
    "        elif population_analysis_type == 'cross-sectional':\n",
    "            # Cross-sectionally: Compare the population between different gss_code or wards for the same year and compare to the mean\n",
    "            population_sum_cross['popn_mean'] = population_sum_cross.groupby('year')['popn'].transform('mean')\n",
    "            population_sum_cross['popn_pct_change_cross'] = ((population_sum_cross['popn'] - population_sum_cross['popn_mean']) / population_sum_cross['popn_mean']) * 100\n",
    "        else:\n",
    "            raise ValueError(\"population_analysis_type must be either 'cross-sectional' or 'temporal'.\")\n",
    "\n",
    "    # Now, decide how to determine outliers based on handle_inf and pct_change_columns\n",
    "    if handle_inf:\n",
    "        # Outliers based on component columns\n",
    "        for comp_col, pct_change_col in zip(component_columns, pct_change_columns):\n",
    "            if pct_change_col in df.columns:\n",
    "                # Filter rows where percentage change columns have inf or -inf\n",
    "                df_filtered = df.replace([np.inf, -np.inf], np.nan).dropna(subset=[comp_col, pct_change_col])\n",
    "\n",
    "                if not df_filtered.empty:\n",
    "                    # Check if the column is normally distributed using skewness\n",
    "                    skewness = df_filtered[comp_col].skew()\n",
    "\n",
    "                    if abs(skewness) < 0.5:  # If skewness is less than 0.5, use normal Z-score\n",
    "                        df_filtered['z_score'] = stats.zscore(df_filtered[comp_col])\n",
    "                        outliers = df_filtered[df_filtered['z_score'].abs() > z_score_threshold]  # Z-score > threshold\n",
    "                        z_score_type[comp_col] = 'Normal Z-Score'\n",
    "                    else:\n",
    "                        # Use Robust Z-score (based on median and MAD) for non-normal distribution\n",
    "                        median = df_filtered[comp_col].median()\n",
    "                        mad = stats.median_abs_deviation(df_filtered[comp_col])\n",
    "                        df_filtered['robust_z_score'] = (df_filtered[comp_col] - median) / mad\n",
    "                        outliers = df_filtered[df_filtered['robust_z_score'].abs() > z_score_threshold]  # Robust Z-score > threshold\n",
    "                        z_score_type[comp_col] = 'Robust Z-Score'\n",
    "\n",
    "                    # Store the outliers for this component column\n",
    "                    outliers_dict[comp_col] = outliers\n",
    "                else:\n",
    "                    outliers_dict[comp_col] = pd.DataFrame()  # Return empty DataFrame if no rows found\n",
    "            else:\n",
    "                print(f\"{comp_col} does not exist in DataFrame\")\n",
    "\n",
    "    else:\n",
    "        # Outliers based on pct_change_columns\n",
    "        for pct_change_col in pct_change_columns:\n",
    "            # Choose the correct DataFrame based on the column\n",
    "            if population_analysis_type == 'temporal' and 'popn_pct_change_temporal' in pct_change_col:\n",
    "                df_filtered = population_sum_time  # Use the temporal population data\n",
    "            elif population_analysis_type == 'cross-sectional' and 'popn_pct_change_cross' in pct_change_col:\n",
    "                df_filtered = population_sum_cross  # Use the cross-sectional population data\n",
    "            else:\n",
    "                df_filtered = df  # Default to the original df if other percentage columns are provided\n",
    "\n",
    "            if pct_change_col in df_filtered.columns:\n",
    "                # Replace inf and -inf with NaN and work on the entire DataFrame after cleaning\n",
    "                df_filtered = df_filtered.replace([np.inf, -np.inf], np.nan).dropna(subset=[pct_change_col])\n",
    "\n",
    "                if not df_filtered.empty:\n",
    "                    # Check if the column is normally distributed using skewness\n",
    "                    skewness = df_filtered[pct_change_col].skew()\n",
    "\n",
    "                    if abs(skewness) < 0.5:  # If skewness is less than 0.5, use normal Z-score\n",
    "                        df_filtered['z_score'] = stats.zscore(df_filtered[pct_change_col])\n",
    "                        outliers = df_filtered[df_filtered['z_score'].abs() > z_score_threshold]  # Z-score > threshold\n",
    "                        z_score_type[pct_change_col] = 'Normal Z-Score'\n",
    "                    else:\n",
    "                        # Use Robust Z-score (based on median and MAD) for non-normal distribution\n",
    "                        median = df_filtered[pct_change_col].median()\n",
    "                        mad = stats.median_abs_deviation(df_filtered[pct_change_col])\n",
    "                        df_filtered['robust_z_score'] = (df_filtered[pct_change_col] - median) / mad\n",
    "                        outliers = df_filtered[df_filtered['robust_z_score'].abs() > z_score_threshold]  # Robust Z-score > threshold\n",
    "                        z_score_type[pct_change_col] = 'Robust Z-Score'\n",
    "\n",
    "                    # Store the outliers for this percentage change column\n",
    "                    outliers_dict[pct_change_col] = outliers\n",
    "                else:\n",
    "                    outliers_dict[pct_change_col] = pd.DataFrame()  # Return empty DataFrame if no rows found\n",
    "            else:\n",
    "                print(f\"{pct_change_col} does not exist in DataFrame\")\n",
    "\n",
    "    return outliers_dict, z_score_type  # Returning z_score_type for further use if needed\n"
   ]
  },
  {
   "cell_type": "code",
   "execution_count": 83,
   "metadata": {},
   "outputs": [],
   "source": [
    "def gender_outliers(df, component_columns, geography='borough', outlier_std={'births': 2, 'deaths': 5, 'netflow': 2, 'popn': 5}):\n",
    "    \"\"\"\n",
    "    Processes gender data for either wards or boroughs, and calculates outliers for specified components.\n",
    "    \n",
    "    Parameters:\n",
    "    - df: pandas DataFrame containing the raw data\n",
    "    - component_columns: list or single component column name(s) for which ratios and outliers need to be calculated\n",
    "    - geography: str, either 'ward' or 'borough', default is 'borough'\n",
    "    - outlier_std: dict specifying how many standard deviations to use for each component's threshold calculation.\n",
    "    \n",
    "    Returns:\n",
    "    - outliers_dict: dictionary of outlier DataFrames for each component\n",
    "    \"\"\"\n",
    "\n",
    "    # Check geography type and set index columns accordingly\n",
    "    if geography == 'ward':\n",
    "        geo_col = 'gss_code_ward'\n",
    "    else:\n",
    "        geo_col = 'gss_code'\n",
    "    \n",
    "    # Step 1: Create the pivot table\n",
    "    gender_pivot = df.pivot_table(\n",
    "        index=[geo_col, 'year', 'age', 'component'],  # Geography column and other grouping columns\n",
    "        columns='sex',                                # Columns for sex (male, female)\n",
    "        values='value',                               # Values (count of males and females)\n",
    "        aggfunc='sum'                                 # Aggregation function (sum)\n",
    "    ).reset_index()\n",
    "    \n",
    "    # Step 2: Calculate the ratio of females to males\n",
    "    gender_pivot['ratio_female_to_male'] = gender_pivot['female'] / gender_pivot['male']\n",
    "    \n",
    "    # Handle division by zero and missing values\n",
    "    gender_pivot['ratio_female_to_male'].replace([float('inf'), -float('inf')], pd.NA, inplace=True)\n",
    "    gender_pivot['ratio_female_to_male'].fillna(np.nan, inplace=True)\n",
    "    \n",
    "    # Step 3: Pivot again to spread component values into columns\n",
    "    gender_pivot = gender_pivot.pivot(\n",
    "        index=[geo_col, 'year', 'age'], \n",
    "        columns='component', \n",
    "        values='ratio_female_to_male'\n",
    "    ).reset_index()\n",
    "    \n",
    "    # Step 4: Convert the specified component columns to numeric\n",
    "    for component in component_columns:\n",
    "        gender_pivot[component] = pd.to_numeric(gender_pivot[component], errors='coerce')\n",
    "    \n",
    "    # Step 5: Calculate mean and standard deviation for each component\n",
    "    means = {}\n",
    "    stds = {}\n",
    "    for component in component_columns:\n",
    "        means[component] = gender_pivot[component].mean()\n",
    "        stds[component] = gender_pivot[component].std()\n",
    "    \n",
    "    # Step 6: Set thresholds for outliers using mean ± specified standard deviations\n",
    "    thresholds = {}\n",
    "    for component in component_columns:\n",
    "        high_threshold = means[component] + outlier_std.get(component, 2) * stds[component]\n",
    "        low_threshold = means[component] - outlier_std.get(component, 2) * stds[component]\n",
    "        thresholds[component] = (low_threshold, high_threshold)\n",
    "    \n",
    "    # Step 7: Identify outliers for each component\n",
    "    outliers_dict = {}\n",
    "    for component in component_columns:\n",
    "        low_threshold, high_threshold = thresholds[component]\n",
    "        outliers = gender_pivot[(gender_pivot[component] > high_threshold) | (gender_pivot[component] < low_threshold)]\n",
    "        outliers_dict[component] = outliers.reset_index(drop=True)\n",
    "    \n",
    "    return outliers_dict\n"
   ]
  },
  {
   "cell_type": "markdown",
   "metadata": {},
   "source": [
    "## Basic Checks\n",
    "Perform basic checks on the dataset, including checking for missing values, duplicates, and descriptive statistics.\n",
    "\n",
    "---"
   ]
  },
  {
   "cell_type": "code",
   "execution_count": 3,
   "metadata": {},
   "outputs": [],
   "source": [
    "#min and max year\n",
    "def get_year_range(df):\n",
    "    return df['year'].max(), df['year'].min()"
   ]
  },
  {
   "cell_type": "code",
   "execution_count": 7,
   "metadata": {},
   "outputs": [
    {
     "name": "stdout",
     "output_type": "stream",
     "text": [
      "(2050.0, 2002.0)\n",
      "(2050.0, 2011.0)\n",
      "(2050.0, 2002.0)\n"
     ]
    }
   ],
   "source": [
    "#year ranges\n",
    "print(get_year_range(combined_10yr_fert))\n",
    "print(get_year_range(combined_10yr_fert_ward))\n",
    "print(get_year_range(combined_10yr_fert_boroughs))"
   ]
  },
  {
   "cell_type": "markdown",
   "metadata": {},
   "source": [
    "##### missing values"
   ]
  },
  {
   "cell_type": "code",
   "execution_count": 8,
   "metadata": {},
   "outputs": [
    {
     "name": "stdout",
     "output_type": "stream",
     "text": [
      "Missing values per column:\n",
      " gss_code              0\n",
      "la_name               0\n",
      "year                  0\n",
      "sex                   0\n",
      "age                   0\n",
      "value                 0\n",
      "component             0\n",
      "gss_code_ward    771342\n",
      "ward_name        771342\n",
      "dtype: int64\n"
     ]
    }
   ],
   "source": [
    "missing_values = combined_10yr_fert.isnull().sum()\n",
    "print(\"Missing values per column:\\n\", missing_values)"
   ]
  },
  {
   "cell_type": "markdown",
   "metadata": {},
   "source": [
    "#### duplicates"
   ]
  },
  {
   "cell_type": "code",
   "execution_count": 9,
   "metadata": {},
   "outputs": [
    {
     "name": "stdout",
     "output_type": "stream",
     "text": [
      "Number of duplicate rows: 0\n"
     ]
    }
   ],
   "source": [
    "duplicates = combined_10yr_fert.duplicated().sum()\n",
    "print(\"Number of duplicate rows:\", duplicates)"
   ]
  },
  {
   "cell_type": "markdown",
   "metadata": {},
   "source": [
    "##### Descriptive data"
   ]
  },
  {
   "cell_type": "code",
   "execution_count": 10,
   "metadata": {},
   "outputs": [
    {
     "data": {
      "text/html": [
       "<div>\n",
       "<style scoped>\n",
       "    .dataframe tbody tr th:only-of-type {\n",
       "        vertical-align: middle;\n",
       "    }\n",
       "\n",
       "    .dataframe tbody tr th {\n",
       "        vertical-align: top;\n",
       "    }\n",
       "\n",
       "    .dataframe thead th {\n",
       "        text-align: right;\n",
       "    }\n",
       "</style>\n",
       "<table border=\"1\" class=\"dataframe\">\n",
       "  <thead>\n",
       "    <tr style=\"text-align: right;\">\n",
       "      <th></th>\n",
       "      <th>year</th>\n",
       "      <th>age</th>\n",
       "      <th>value</th>\n",
       "    </tr>\n",
       "  </thead>\n",
       "  <tbody>\n",
       "    <tr>\n",
       "      <th>count</th>\n",
       "      <td>1.542806e+07</td>\n",
       "      <td>1.542806e+07</td>\n",
       "      <td>1.542806e+07</td>\n",
       "    </tr>\n",
       "    <tr>\n",
       "      <th>mean</th>\n",
       "      <td>2.030736e+03</td>\n",
       "      <td>4.483779e+01</td>\n",
       "      <td>4.879530e+01</td>\n",
       "    </tr>\n",
       "    <tr>\n",
       "      <th>std</th>\n",
       "      <td>1.143556e+01</td>\n",
       "      <td>2.635879e+01</td>\n",
       "      <td>2.227471e+02</td>\n",
       "    </tr>\n",
       "    <tr>\n",
       "      <th>min</th>\n",
       "      <td>2.002000e+03</td>\n",
       "      <td>0.000000e+00</td>\n",
       "      <td>-7.130000e+02</td>\n",
       "    </tr>\n",
       "    <tr>\n",
       "      <th>25%</th>\n",
       "      <td>2.021000e+03</td>\n",
       "      <td>2.200000e+01</td>\n",
       "      <td>0.000000e+00</td>\n",
       "    </tr>\n",
       "    <tr>\n",
       "      <th>50%</th>\n",
       "      <td>2.031000e+03</td>\n",
       "      <td>4.500000e+01</td>\n",
       "      <td>8.000000e-01</td>\n",
       "    </tr>\n",
       "    <tr>\n",
       "      <th>75%</th>\n",
       "      <td>2.041000e+03</td>\n",
       "      <td>6.800000e+01</td>\n",
       "      <td>4.790000e+01</td>\n",
       "    </tr>\n",
       "    <tr>\n",
       "      <th>max</th>\n",
       "      <td>2.050000e+03</td>\n",
       "      <td>9.000000e+01</td>\n",
       "      <td>5.922600e+03</td>\n",
       "    </tr>\n",
       "  </tbody>\n",
       "</table>\n",
       "</div>"
      ],
      "text/plain": [
       "               year           age         value\n",
       "count  1.542806e+07  1.542806e+07  1.542806e+07\n",
       "mean   2.030736e+03  4.483779e+01  4.879530e+01\n",
       "std    1.143556e+01  2.635879e+01  2.227471e+02\n",
       "min    2.002000e+03  0.000000e+00 -7.130000e+02\n",
       "25%    2.021000e+03  2.200000e+01  0.000000e+00\n",
       "50%    2.031000e+03  4.500000e+01  8.000000e-01\n",
       "75%    2.041000e+03  6.800000e+01  4.790000e+01\n",
       "max    2.050000e+03  9.000000e+01  5.922600e+03"
      ]
     },
     "execution_count": 10,
     "metadata": {},
     "output_type": "execute_result"
    }
   ],
   "source": [
    "combined_10yr_fert.describe()"
   ]
  },
  {
   "cell_type": "markdown",
   "metadata": {},
   "source": [
    "##### Description by components"
   ]
  },
  {
   "cell_type": "code",
   "execution_count": 11,
   "metadata": {},
   "outputs": [],
   "source": [
    "# Group by 'component' column\n",
    "grouped = combined_10yr_fert.groupby('component')\n",
    "\n",
    "# Apply describe to each group\n",
    "described_groups = grouped.describe()"
   ]
  },
  {
   "cell_type": "code",
   "execution_count": 12,
   "metadata": {},
   "outputs": [
    {
     "data": {
      "text/html": [
       "<div>\n",
       "<style scoped>\n",
       "    .dataframe tbody tr th:only-of-type {\n",
       "        vertical-align: middle;\n",
       "    }\n",
       "\n",
       "    .dataframe tbody tr th {\n",
       "        vertical-align: top;\n",
       "    }\n",
       "\n",
       "    .dataframe thead tr th {\n",
       "        text-align: left;\n",
       "    }\n",
       "\n",
       "    .dataframe thead tr:last-of-type th {\n",
       "        text-align: right;\n",
       "    }\n",
       "</style>\n",
       "<table border=\"1\" class=\"dataframe\">\n",
       "  <thead>\n",
       "    <tr>\n",
       "      <th></th>\n",
       "      <th colspan=\"8\" halign=\"left\">year</th>\n",
       "      <th colspan=\"5\" halign=\"left\">age</th>\n",
       "      <th colspan=\"8\" halign=\"left\">value</th>\n",
       "    </tr>\n",
       "    <tr>\n",
       "      <th></th>\n",
       "      <th>count</th>\n",
       "      <th>mean</th>\n",
       "      <th>std</th>\n",
       "      <th>min</th>\n",
       "      <th>25%</th>\n",
       "      <th>50%</th>\n",
       "      <th>75%</th>\n",
       "      <th>max</th>\n",
       "      <th>count</th>\n",
       "      <th>mean</th>\n",
       "      <th>...</th>\n",
       "      <th>75%</th>\n",
       "      <th>max</th>\n",
       "      <th>count</th>\n",
       "      <th>mean</th>\n",
       "      <th>std</th>\n",
       "      <th>min</th>\n",
       "      <th>25%</th>\n",
       "      <th>50%</th>\n",
       "      <th>75%</th>\n",
       "      <th>max</th>\n",
       "    </tr>\n",
       "    <tr>\n",
       "      <th>component</th>\n",
       "      <th></th>\n",
       "      <th></th>\n",
       "      <th></th>\n",
       "      <th></th>\n",
       "      <th></th>\n",
       "      <th></th>\n",
       "      <th></th>\n",
       "      <th></th>\n",
       "      <th></th>\n",
       "      <th></th>\n",
       "      <th></th>\n",
       "      <th></th>\n",
       "      <th></th>\n",
       "      <th></th>\n",
       "      <th></th>\n",
       "      <th></th>\n",
       "      <th></th>\n",
       "      <th></th>\n",
       "      <th></th>\n",
       "      <th></th>\n",
       "      <th></th>\n",
       "    </tr>\n",
       "  </thead>\n",
       "  <tbody>\n",
       "    <tr>\n",
       "      <th>births</th>\n",
       "      <td>55614.0</td>\n",
       "      <td>2031.000000</td>\n",
       "      <td>11.254730</td>\n",
       "      <td>2012.0</td>\n",
       "      <td>2021.00</td>\n",
       "      <td>2031.0</td>\n",
       "      <td>2041.00</td>\n",
       "      <td>2050.0</td>\n",
       "      <td>55614.0</td>\n",
       "      <td>0.0</td>\n",
       "      <td>...</td>\n",
       "      <td>0.0</td>\n",
       "      <td>0.0</td>\n",
       "      <td>55614.0</td>\n",
       "      <td>162.293288</td>\n",
       "      <td>377.997791</td>\n",
       "      <td>0.0</td>\n",
       "      <td>59.9</td>\n",
       "      <td>81.6</td>\n",
       "      <td>110.9</td>\n",
       "      <td>3264.0</td>\n",
       "    </tr>\n",
       "    <tr>\n",
       "      <th>deaths</th>\n",
       "      <td>5060874.0</td>\n",
       "      <td>2031.000000</td>\n",
       "      <td>11.254630</td>\n",
       "      <td>2012.0</td>\n",
       "      <td>2021.00</td>\n",
       "      <td>2031.0</td>\n",
       "      <td>2041.00</td>\n",
       "      <td>2050.0</td>\n",
       "      <td>5060874.0</td>\n",
       "      <td>45.0</td>\n",
       "      <td>...</td>\n",
       "      <td>68.0</td>\n",
       "      <td>90.0</td>\n",
       "      <td>5060874.0</td>\n",
       "      <td>0.885798</td>\n",
       "      <td>6.327541</td>\n",
       "      <td>0.0</td>\n",
       "      <td>0.0</td>\n",
       "      <td>0.1</td>\n",
       "      <td>0.6</td>\n",
       "      <td>825.2</td>\n",
       "    </tr>\n",
       "    <tr>\n",
       "      <th>netflow</th>\n",
       "      <td>5120934.0</td>\n",
       "      <td>2030.712656</td>\n",
       "      <td>11.499358</td>\n",
       "      <td>2002.0</td>\n",
       "      <td>2021.00</td>\n",
       "      <td>2031.0</td>\n",
       "      <td>2041.00</td>\n",
       "      <td>2050.0</td>\n",
       "      <td>5120934.0</td>\n",
       "      <td>45.0</td>\n",
       "      <td>...</td>\n",
       "      <td>68.0</td>\n",
       "      <td>90.0</td>\n",
       "      <td>5120934.0</td>\n",
       "      <td>-0.182117</td>\n",
       "      <td>20.742161</td>\n",
       "      <td>-713.0</td>\n",
       "      <td>-2.3</td>\n",
       "      <td>-0.4</td>\n",
       "      <td>1.2</td>\n",
       "      <td>1938.0</td>\n",
       "    </tr>\n",
       "    <tr>\n",
       "      <th>popn</th>\n",
       "      <td>5190640.0</td>\n",
       "      <td>2030.500000</td>\n",
       "      <td>11.543397</td>\n",
       "      <td>2011.0</td>\n",
       "      <td>2020.75</td>\n",
       "      <td>2030.5</td>\n",
       "      <td>2040.25</td>\n",
       "      <td>2050.0</td>\n",
       "      <td>5190640.0</td>\n",
       "      <td>45.0</td>\n",
       "      <td>...</td>\n",
       "      <td>68.0</td>\n",
       "      <td>90.0</td>\n",
       "      <td>5190640.0</td>\n",
       "      <td>142.610704</td>\n",
       "      <td>363.229346</td>\n",
       "      <td>0.0</td>\n",
       "      <td>45.0</td>\n",
       "      <td>71.2</td>\n",
       "      <td>103.6</td>\n",
       "      <td>5922.6</td>\n",
       "    </tr>\n",
       "  </tbody>\n",
       "</table>\n",
       "<p>4 rows × 24 columns</p>\n",
       "</div>"
      ],
      "text/plain": [
       "                year                                                   \\\n",
       "               count         mean        std     min      25%     50%   \n",
       "component                                                               \n",
       "births       55614.0  2031.000000  11.254730  2012.0  2021.00  2031.0   \n",
       "deaths     5060874.0  2031.000000  11.254630  2012.0  2021.00  2031.0   \n",
       "netflow    5120934.0  2030.712656  11.499358  2002.0  2021.00  2031.0   \n",
       "popn       5190640.0  2030.500000  11.543397  2011.0  2020.75  2030.5   \n",
       "\n",
       "                                  age        ...                  value  \\\n",
       "               75%     max      count  mean  ...   75%   max      count   \n",
       "component                                    ...                          \n",
       "births     2041.00  2050.0    55614.0   0.0  ...   0.0   0.0    55614.0   \n",
       "deaths     2041.00  2050.0  5060874.0  45.0  ...  68.0  90.0  5060874.0   \n",
       "netflow    2041.00  2050.0  5120934.0  45.0  ...  68.0  90.0  5120934.0   \n",
       "popn       2040.25  2050.0  5190640.0  45.0  ...  68.0  90.0  5190640.0   \n",
       "\n",
       "                                                                     \n",
       "                 mean         std    min   25%   50%    75%     max  \n",
       "component                                                            \n",
       "births     162.293288  377.997791    0.0  59.9  81.6  110.9  3264.0  \n",
       "deaths       0.885798    6.327541    0.0   0.0   0.1    0.6   825.2  \n",
       "netflow     -0.182117   20.742161 -713.0  -2.3  -0.4    1.2  1938.0  \n",
       "popn       142.610704  363.229346    0.0  45.0  71.2  103.6  5922.6  \n",
       "\n",
       "[4 rows x 24 columns]"
      ]
     },
     "execution_count": 12,
     "metadata": {},
     "output_type": "execute_result"
    }
   ],
   "source": [
    "described_groups"
   ]
  },
  {
   "cell_type": "markdown",
   "metadata": {},
   "source": [
    "#### check for negative values in columns"
   ]
  },
  {
   "cell_type": "code",
   "execution_count": 13,
   "metadata": {},
   "outputs": [
    {
     "name": "stdout",
     "output_type": "stream",
     "text": [
      "components with negative values: ['netflow']\n"
     ]
    }
   ],
   "source": [
    "# Checking for negative values and extremely high values\n",
    "negative_values = combined_10yr_fert[combined_10yr_fert['value'] < 0]\n",
    "print('components with negative values:', negative_values['component'].unique())"
   ]
  },
  {
   "cell_type": "markdown",
   "metadata": {},
   "source": [
    "#### check age range"
   ]
  },
  {
   "cell_type": "code",
   "execution_count": 14,
   "metadata": {},
   "outputs": [
    {
     "name": "stdout",
     "output_type": "stream",
     "text": [
      "Is max age is 90 and min age is 0: True\n"
     ]
    }
   ],
   "source": [
    "#print true if max age is 90 and min age is 0\n",
    "print('Is max age is 90 and min age is 0:', (combined_10yr_fert['age'].max() == 90) & (combined_10yr_fert['age'].min() == 0))"
   ]
  },
  {
   "cell_type": "markdown",
   "metadata": {},
   "source": [
    "## Population Consistency Over Time\n",
    "\n",
    "---"
   ]
  },
  {
   "cell_type": "markdown",
   "metadata": {},
   "source": [
    "##### place ages in bins this will even out large flunctions between age group where the are likely to the unusally high e.i. 18 year olds moving to university"
   ]
  },
  {
   "cell_type": "code",
   "execution_count": 17,
   "metadata": {},
   "outputs": [],
   "source": [
    "combined_10yr_fert_agebins = create_age_bins(combined_10yr_fert)"
   ]
  },
  {
   "cell_type": "markdown",
   "metadata": {},
   "source": [
    "#### seperate components into columns"
   ]
  },
  {
   "cell_type": "code",
   "execution_count": 24,
   "metadata": {},
   "outputs": [
    {
     "name": "stderr",
     "output_type": "stream",
     "text": [
      "C:\\Users\\user\\AppData\\Local\\Temp\\ipykernel_10204\\1138379748.py:1: FutureWarning: The default value of observed=False is deprecated and will change to observed=True in a future version of pandas. Specify observed=False to silence this warning and retain the current behavior\n",
      "  combined_10yr_fert_agebins_component_columns = combined_10yr_fert_agebins.pivot_table(index=['gss_code','gss_code_ward','sex', 'age','year'], columns='component', values='value').reset_index()\n"
     ]
    }
   ],
   "source": [
    "combined_10yr_fert_agebins_component_columns = combined_10yr_fert_agebins.pivot_table(index=['gss_code','gss_code_ward','sex', 'age','year'], columns='component', values='value').reset_index()"
   ]
  },
  {
   "cell_type": "code",
   "execution_count": 25,
   "metadata": {},
   "outputs": [
    {
     "data": {
      "text/html": [
       "<div>\n",
       "<style scoped>\n",
       "    .dataframe tbody tr th:only-of-type {\n",
       "        vertical-align: middle;\n",
       "    }\n",
       "\n",
       "    .dataframe tbody tr th {\n",
       "        vertical-align: top;\n",
       "    }\n",
       "\n",
       "    .dataframe thead th {\n",
       "        text-align: right;\n",
       "    }\n",
       "</style>\n",
       "<table border=\"1\" class=\"dataframe\">\n",
       "  <thead>\n",
       "    <tr style=\"text-align: right;\">\n",
       "      <th>component</th>\n",
       "      <th>gss_code</th>\n",
       "      <th>gss_code_ward</th>\n",
       "      <th>sex</th>\n",
       "      <th>age</th>\n",
       "      <th>year</th>\n",
       "      <th>births</th>\n",
       "      <th>deaths</th>\n",
       "      <th>netflow</th>\n",
       "      <th>popn</th>\n",
       "    </tr>\n",
       "  </thead>\n",
       "  <tbody>\n",
       "    <tr>\n",
       "      <th>0</th>\n",
       "      <td>E09000001</td>\n",
       "      <td>E09000001</td>\n",
       "      <td>female</td>\n",
       "      <td>0-18</td>\n",
       "      <td>2011.0</td>\n",
       "      <td>NaN</td>\n",
       "      <td>NaN</td>\n",
       "      <td>NaN</td>\n",
       "      <td>19.421053</td>\n",
       "    </tr>\n",
       "    <tr>\n",
       "      <th>1</th>\n",
       "      <td>E09000001</td>\n",
       "      <td>E09000001</td>\n",
       "      <td>female</td>\n",
       "      <td>0-18</td>\n",
       "      <td>2012.0</td>\n",
       "      <td>32.0</td>\n",
       "      <td>0.0</td>\n",
       "      <td>0.631579</td>\n",
       "      <td>20.368421</td>\n",
       "    </tr>\n",
       "    <tr>\n",
       "      <th>2</th>\n",
       "      <td>E09000001</td>\n",
       "      <td>E09000001</td>\n",
       "      <td>female</td>\n",
       "      <td>0-18</td>\n",
       "      <td>2013.0</td>\n",
       "      <td>36.0</td>\n",
       "      <td>0.0</td>\n",
       "      <td>-1.526316</td>\n",
       "      <td>19.947368</td>\n",
       "    </tr>\n",
       "    <tr>\n",
       "      <th>3</th>\n",
       "      <td>E09000001</td>\n",
       "      <td>E09000001</td>\n",
       "      <td>female</td>\n",
       "      <td>0-18</td>\n",
       "      <td>2014.0</td>\n",
       "      <td>26.0</td>\n",
       "      <td>0.0</td>\n",
       "      <td>0.052632</td>\n",
       "      <td>19.473684</td>\n",
       "    </tr>\n",
       "    <tr>\n",
       "      <th>4</th>\n",
       "      <td>E09000001</td>\n",
       "      <td>E09000001</td>\n",
       "      <td>female</td>\n",
       "      <td>0-18</td>\n",
       "      <td>2015.0</td>\n",
       "      <td>30.0</td>\n",
       "      <td>0.0</td>\n",
       "      <td>-0.210526</td>\n",
       "      <td>19.578947</td>\n",
       "    </tr>\n",
       "    <tr>\n",
       "      <th>...</th>\n",
       "      <td>...</td>\n",
       "      <td>...</td>\n",
       "      <td>...</td>\n",
       "      <td>...</td>\n",
       "      <td>...</td>\n",
       "      <td>...</td>\n",
       "      <td>...</td>\n",
       "      <td>...</td>\n",
       "      <td>...</td>\n",
       "    </tr>\n",
       "    <tr>\n",
       "      <th>489595</th>\n",
       "      <td>E09000033</td>\n",
       "      <td>E05013809</td>\n",
       "      <td>male</td>\n",
       "      <td>90+</td>\n",
       "      <td>2046.0</td>\n",
       "      <td>NaN</td>\n",
       "      <td>7.8</td>\n",
       "      <td>0.900000</td>\n",
       "      <td>20.000000</td>\n",
       "    </tr>\n",
       "    <tr>\n",
       "      <th>489596</th>\n",
       "      <td>E09000033</td>\n",
       "      <td>E05013809</td>\n",
       "      <td>male</td>\n",
       "      <td>90+</td>\n",
       "      <td>2047.0</td>\n",
       "      <td>NaN</td>\n",
       "      <td>8.1</td>\n",
       "      <td>0.900000</td>\n",
       "      <td>21.000000</td>\n",
       "    </tr>\n",
       "    <tr>\n",
       "      <th>489597</th>\n",
       "      <td>E09000033</td>\n",
       "      <td>E05013809</td>\n",
       "      <td>male</td>\n",
       "      <td>90+</td>\n",
       "      <td>2048.0</td>\n",
       "      <td>NaN</td>\n",
       "      <td>8.5</td>\n",
       "      <td>0.900000</td>\n",
       "      <td>22.200000</td>\n",
       "    </tr>\n",
       "    <tr>\n",
       "      <th>489598</th>\n",
       "      <td>E09000033</td>\n",
       "      <td>E05013809</td>\n",
       "      <td>male</td>\n",
       "      <td>90+</td>\n",
       "      <td>2049.0</td>\n",
       "      <td>NaN</td>\n",
       "      <td>8.7</td>\n",
       "      <td>0.900000</td>\n",
       "      <td>23.200000</td>\n",
       "    </tr>\n",
       "    <tr>\n",
       "      <th>489599</th>\n",
       "      <td>E09000033</td>\n",
       "      <td>E05013809</td>\n",
       "      <td>male</td>\n",
       "      <td>90+</td>\n",
       "      <td>2050.0</td>\n",
       "      <td>NaN</td>\n",
       "      <td>9.3</td>\n",
       "      <td>0.900000</td>\n",
       "      <td>25.000000</td>\n",
       "    </tr>\n",
       "  </tbody>\n",
       "</table>\n",
       "<p>489600 rows × 9 columns</p>\n",
       "</div>"
      ],
      "text/plain": [
       "component   gss_code gss_code_ward     sex   age    year  births  deaths  \\\n",
       "0          E09000001     E09000001  female  0-18  2011.0     NaN     NaN   \n",
       "1          E09000001     E09000001  female  0-18  2012.0    32.0     0.0   \n",
       "2          E09000001     E09000001  female  0-18  2013.0    36.0     0.0   \n",
       "3          E09000001     E09000001  female  0-18  2014.0    26.0     0.0   \n",
       "4          E09000001     E09000001  female  0-18  2015.0    30.0     0.0   \n",
       "...              ...           ...     ...   ...     ...     ...     ...   \n",
       "489595     E09000033     E05013809    male   90+  2046.0     NaN     7.8   \n",
       "489596     E09000033     E05013809    male   90+  2047.0     NaN     8.1   \n",
       "489597     E09000033     E05013809    male   90+  2048.0     NaN     8.5   \n",
       "489598     E09000033     E05013809    male   90+  2049.0     NaN     8.7   \n",
       "489599     E09000033     E05013809    male   90+  2050.0     NaN     9.3   \n",
       "\n",
       "component   netflow       popn  \n",
       "0               NaN  19.421053  \n",
       "1          0.631579  20.368421  \n",
       "2         -1.526316  19.947368  \n",
       "3          0.052632  19.473684  \n",
       "4         -0.210526  19.578947  \n",
       "...             ...        ...  \n",
       "489595     0.900000  20.000000  \n",
       "489596     0.900000  21.000000  \n",
       "489597     0.900000  22.200000  \n",
       "489598     0.900000  23.200000  \n",
       "489599     0.900000  25.000000  \n",
       "\n",
       "[489600 rows x 9 columns]"
      ]
     },
     "execution_count": 25,
     "metadata": {},
     "output_type": "execute_result"
    }
   ],
   "source": [
    "combined_10yr_fert_agebins_component_columns"
   ]
  },
  {
   "cell_type": "code",
   "execution_count": null,
   "metadata": {},
   "outputs": [],
   "source": [
    "# List of percentage change columns\n",
    "pct_change_columns = ['births_pct_change', 'deaths_pct_change', 'netflow_pct_change', 'popn_pct_change']\n",
    "\n",
    "# Call the function\n",
    "descriptive_stats = view_descriptive_statistics(pivoted, pct_change_columns)\n",
    "\n",
    "# Display the descriptive statistics\n",
    "print(descriptive_stats)"
   ]
  },
  {
   "cell_type": "code",
   "execution_count": 40,
   "metadata": {},
   "outputs": [
    {
     "name": "stderr",
     "output_type": "stream",
     "text": [
      "C:\\Users\\user\\AppData\\Local\\Temp\\ipykernel_10204\\3286682426.py:41: FutureWarning: The default of observed=False is deprecated and will be changed to True in a future version of pandas. Pass observed=False to retain current behavior or observed=True to adopt the future default and silence this warning.\n",
      "  df[pct_change_columns] = df.groupby([geo_column, 'sex', 'age'])[component_columns].pct_change().abs()\n",
      "C:\\Users\\user\\AppData\\Local\\Temp\\ipykernel_10204\\3286682426.py:41: FutureWarning: The default fill_method='ffill' in DataFrameGroupBy.pct_change is deprecated and will be removed in a future version. Either fill in any non-leading NA values prior to calling pct_change or specify 'fill_method=None' to not fill NA values.\n",
      "  df[pct_change_columns] = df.groupby([geo_column, 'sex', 'age'])[component_columns].pct_change().abs()\n"
     ]
    },
    {
     "name": "stdout",
     "output_type": "stream",
     "text": [
      "births_pct_change\n",
      "births_pct_change used Robust Z-Score.\n",
      "deaths_pct_change\n",
      "deaths_pct_change used Robust Z-Score.\n",
      "netflow_pct_change\n",
      "netflow_pct_change used Robust Z-Score.\n",
      "popn_pct_change\n",
      "popn_pct_change used Robust Z-Score.\n"
     ]
    }
   ],
   "source": [
    "outliers_dict_borough, z_score_type = calculate_zscores_and_find_outliers(\n",
    "    combined_10yr_fert_agebins_component_columns, \n",
    "    ['births', 'deaths', 'netflow', 'popn'], \n",
    "    handle_inf=False, \n",
    "    Geography='borough',\n",
    "    z_score_threshold=3,\n",
    "    For_population_totals=False\n",
    "    )"
   ]
  },
  {
   "cell_type": "code",
   "execution_count": 48,
   "metadata": {},
   "outputs": [
    {
     "name": "stderr",
     "output_type": "stream",
     "text": [
      "C:\\Users\\user\\AppData\\Local\\Temp\\ipykernel_10204\\3286682426.py:41: FutureWarning: The default of observed=False is deprecated and will be changed to True in a future version of pandas. Pass observed=False to retain current behavior or observed=True to adopt the future default and silence this warning.\n",
      "  df[pct_change_columns] = df.groupby([geo_column, 'sex', 'age'])[component_columns].pct_change().abs()\n",
      "C:\\Users\\user\\AppData\\Local\\Temp\\ipykernel_10204\\3286682426.py:41: FutureWarning: The default fill_method='ffill' in DataFrameGroupBy.pct_change is deprecated and will be removed in a future version. Either fill in any non-leading NA values prior to calling pct_change or specify 'fill_method=None' to not fill NA values.\n",
      "  df[pct_change_columns] = df.groupby([geo_column, 'sex', 'age'])[component_columns].pct_change().abs()\n"
     ]
    },
    {
     "name": "stdout",
     "output_type": "stream",
     "text": [
      "births_pct_change\n",
      "births_pct_change used Robust Z-Score.\n",
      "deaths_pct_change\n",
      "deaths_pct_change used Robust Z-Score.\n",
      "netflow_pct_change\n",
      "netflow_pct_change used Robust Z-Score.\n",
      "popn_pct_change\n",
      "popn_pct_change used Robust Z-Score.\n"
     ]
    }
   ],
   "source": [
    "outliers_dict_ward, z_score_type = calculate_zscores_and_find_outliers(\n",
    "    combined_10yr_fert_agebins_component_columns, \n",
    "    ['births', 'deaths', 'netflow', 'popn'], \n",
    "    handle_inf=False, \n",
    "    Geography='ward',\n",
    "    z_score_threshold=3,\n",
    "    For_population_totals=False\n",
    "    )"
   ]
  },
  {
   "cell_type": "code",
   "execution_count": 79,
   "metadata": {},
   "outputs": [
    {
     "name": "stderr",
     "output_type": "stream",
     "text": [
      "C:\\Users\\user\\AppData\\Local\\Temp\\ipykernel_10204\\522488216.py:41: FutureWarning: The default of observed=False is deprecated and will be changed to True in a future version of pandas. Pass observed=False to retain current behavior or observed=True to adopt the future default and silence this warning.\n",
      "  df[pct_change_columns] = df.groupby([geo_column, 'sex', 'age'])[component_columns].pct_change().abs()\n",
      "C:\\Users\\user\\AppData\\Local\\Temp\\ipykernel_10204\\522488216.py:41: FutureWarning: The default fill_method='ffill' in DataFrameGroupBy.pct_change is deprecated and will be removed in a future version. Either fill in any non-leading NA values prior to calling pct_change or specify 'fill_method=None' to not fill NA values.\n",
      "  df[pct_change_columns] = df.groupby([geo_column, 'sex', 'age'])[component_columns].pct_change().abs()\n"
     ]
    },
    {
     "name": "stdout",
     "output_type": "stream",
     "text": [
      "component   gss_code gss_code_ward   sex   age    year  births  deaths  \\\n",
      "465482     E09000032     E05014015  male  0-18  2013.0     2.1     0.0   \n",
      "465484     E09000032     E05014015  male  0-18  2015.0     0.2     0.0   \n",
      "\n",
      "component   netflow      popn  births_pct_change  deaths_pct_change  \\\n",
      "465482     0.026316  1.300000                inf                NaN   \n",
      "465484     0.457895  1.584211                inf                NaN   \n",
      "\n",
      "component  netflow_pct_change  popn_pct_change  \n",
      "465482               0.912281         0.020661  \n",
      "465484               1.121951         0.127341  \n",
      "births used Robust Z-Score.\n",
      "component   gss_code gss_code_ward     sex    age    year  births    deaths  \\\n",
      "51         E09000001     E09000001  female  19-30  2022.0     NaN  0.083333   \n",
      "85         E09000001     E09000001  female  31-40  2016.0     NaN  0.100000   \n",
      "89         E09000001     E09000001  female  31-40  2020.0     NaN  0.100000   \n",
      "92         E09000001     E09000001  female  31-40  2023.0     NaN  0.010000   \n",
      "128        E09000001     E09000001  female  41-50  2019.0     NaN  0.100000   \n",
      "...              ...           ...     ...    ...     ...     ...       ...   \n",
      "489285     E09000033     E05013809    male  19-30  2016.0     NaN  0.100000   \n",
      "489289     E09000033     E05013809    male  19-30  2020.0     NaN  0.033333   \n",
      "489291     E09000033     E05013809    male  19-30  2022.0     NaN  0.075000   \n",
      "489329     E09000033     E05013809    male  31-40  2020.0     NaN  0.050000   \n",
      "489331     E09000033     E05013809    male  31-40  2022.0     NaN  0.020000   \n",
      "\n",
      "component    netflow        popn  births_pct_change  deaths_pct_change  \\\n",
      "51         51.833333  147.250000                NaN                inf   \n",
      "85         -4.100000   58.700000                NaN                inf   \n",
      "89         -6.500000   67.600000                NaN                inf   \n",
      "92         -6.680000   95.640000                NaN                inf   \n",
      "128        -1.400000   46.700000                NaN                inf   \n",
      "...              ...         ...                ...                ...   \n",
      "489285      4.241667   88.991667                NaN                inf   \n",
      "489289      2.500000   96.700000                NaN                inf   \n",
      "489291      6.241667  110.333333                NaN                inf   \n",
      "489329     -3.080000   83.490000                NaN                inf   \n",
      "489331     -3.180000   81.800000                NaN                inf   \n",
      "\n",
      "component  netflow_pct_change  popn_pct_change  \n",
      "51                   1.439216         0.454321  \n",
      "85                  40.000000         0.026534  \n",
      "89                   4.095238         0.011696  \n",
      "92                   1.404848         0.027282  \n",
      "128                  0.555556         0.046939  \n",
      "...                       ...              ...  \n",
      "489285               0.515238         0.061953  \n",
      "489289               0.052632         0.037368  \n",
      "489291               0.518018         0.029069  \n",
      "489329               0.393701         0.055222  \n",
      "489331               0.064706         0.007389  \n",
      "\n",
      "[14453 rows x 13 columns]\n",
      "deaths used Robust Z-Score.\n",
      "component   gss_code gss_code_ward     sex    age    year  births    deaths  \\\n",
      "332        E09000001     E09000001  female    90+  2023.0     NaN  3.700000   \n",
      "482        E09000001     E09000001    male  41-50  2013.0     NaN  0.100000   \n",
      "511        E09000001     E09000001    male  41-50  2042.0     NaN  0.080000   \n",
      "611        E09000001     E09000001    male  71-80  2022.0     NaN  0.500000   \n",
      "652        E09000001     E09000001    male  81-89  2023.0     NaN  0.677778   \n",
      "...              ...           ...     ...    ...     ...     ...       ...   \n",
      "486635     E09000033     E05013805    male  71-80  2046.0     NaN  0.640000   \n",
      "487406     E09000033     E05013806    male    90+  2017.0     NaN  3.900000   \n",
      "488123     E09000033     E05013807    male    90+  2014.0     NaN  7.700000   \n",
      "488300     E09000033     E05013808  female  41-50  2031.0     NaN  0.060000   \n",
      "488304     E09000033     E05013808  female  41-50  2035.0     NaN  0.060000   \n",
      "\n",
      "component   netflow       popn  births_pct_change  deaths_pct_change  \\\n",
      "332       -1.800000  20.600000                NaN           0.537500   \n",
      "482        1.800000  77.400000                NaN                inf   \n",
      "511       -0.100000  97.680000                NaN           0.000000   \n",
      "611        0.600000  26.600000                NaN           0.375000   \n",
      "652       -0.511111  12.055556                NaN           0.525000   \n",
      "...             ...        ...                ...                ...   \n",
      "486635     0.010000  35.660000                NaN           0.044776   \n",
      "487406    -0.400000   7.300000                NaN           0.300000   \n",
      "488123     0.200000  25.900000                NaN           1.333333   \n",
      "488300     0.010000  67.390000                NaN           0.000000   \n",
      "488304     0.070000  67.440000                NaN           0.000000   \n",
      "\n",
      "component  netflow_pct_change  popn_pct_change  \n",
      "332                       inf         0.019048  \n",
      "482                       inf         0.051630  \n",
      "511                       inf         0.005599  \n",
      "611                       inf         0.064000  \n",
      "652                       inf         0.004587  \n",
      "...                       ...              ...  \n",
      "486635                    inf         0.002517  \n",
      "487406                    inf         0.342342  \n",
      "488123                    inf         0.295000  \n",
      "488300                    inf         0.000593  \n",
      "488304                    inf         0.001039  \n",
      "\n",
      "[1493 rows x 13 columns]\n",
      "netflow used Robust Z-Score.\n",
      "component   gss_code gss_code_ward   sex  age    year  births  deaths  \\\n",
      "59720      E09000005     E05013517  male  90+  2011.0     NaN     NaN   \n",
      "356372     E09000025     E05013907  male  90+  2023.0     NaN     0.0   \n",
      "413972     E09000028     E05011114  male  90+  2023.0     NaN     0.6   \n",
      "\n",
      "component  netflow  popn  births_pct_change  deaths_pct_change  \\\n",
      "59720          NaN  11.0                NaN                0.0   \n",
      "356372         0.5   0.5                NaN                1.0   \n",
      "413972         0.2   2.6                NaN                inf   \n",
      "\n",
      "component  netflow_pct_change  popn_pct_change  \n",
      "59720                    0.00              inf  \n",
      "356372                   1.25              inf  \n",
      "413972                    inf              inf  \n",
      "popn used Robust Z-Score.\n"
     ]
    },
    {
     "name": "stderr",
     "output_type": "stream",
     "text": [
      "C:\\Users\\user\\AppData\\Local\\Temp\\ipykernel_10204\\522488216.py:89: SettingWithCopyWarning: \n",
      "A value is trying to be set on a copy of a slice from a DataFrame.\n",
      "Try using .loc[row_indexer,col_indexer] = value instead\n",
      "\n",
      "See the caveats in the documentation: https://pandas.pydata.org/pandas-docs/stable/user_guide/indexing.html#returning-a-view-versus-a-copy\n",
      "  df_filtered['robust_z_score'] = (df_filtered[comp_col] - median) / mad\n",
      "C:\\Users\\user\\AppData\\Local\\Temp\\ipykernel_10204\\522488216.py:89: SettingWithCopyWarning: \n",
      "A value is trying to be set on a copy of a slice from a DataFrame.\n",
      "Try using .loc[row_indexer,col_indexer] = value instead\n",
      "\n",
      "See the caveats in the documentation: https://pandas.pydata.org/pandas-docs/stable/user_guide/indexing.html#returning-a-view-versus-a-copy\n",
      "  df_filtered['robust_z_score'] = (df_filtered[comp_col] - median) / mad\n",
      "C:\\Users\\user\\AppData\\Local\\Temp\\ipykernel_10204\\522488216.py:89: SettingWithCopyWarning: \n",
      "A value is trying to be set on a copy of a slice from a DataFrame.\n",
      "Try using .loc[row_indexer,col_indexer] = value instead\n",
      "\n",
      "See the caveats in the documentation: https://pandas.pydata.org/pandas-docs/stable/user_guide/indexing.html#returning-a-view-versus-a-copy\n",
      "  df_filtered['robust_z_score'] = (df_filtered[comp_col] - median) / mad\n",
      "C:\\Users\\user\\AppData\\Local\\Temp\\ipykernel_10204\\522488216.py:89: SettingWithCopyWarning: \n",
      "A value is trying to be set on a copy of a slice from a DataFrame.\n",
      "Try using .loc[row_indexer,col_indexer] = value instead\n",
      "\n",
      "See the caveats in the documentation: https://pandas.pydata.org/pandas-docs/stable/user_guide/indexing.html#returning-a-view-versus-a-copy\n",
      "  df_filtered['robust_z_score'] = (df_filtered[comp_col] - median) / mad\n"
     ]
    }
   ],
   "source": [
    "outliers_dict_borough_inf_values, z_score_type = calculate_zscores_and_find_outliers(\n",
    "    combined_10yr_fert_agebins_component_columns, \n",
    "    ['births', 'deaths', 'netflow', 'popn'], \n",
    "    handle_inf=True, \n",
    "    Geography='borough',\n",
    "    z_score_threshold=3,\n",
    "    For_population_totals=False\n",
    "    )"
   ]
  },
  {
   "cell_type": "code",
   "execution_count": 75,
   "metadata": {},
   "outputs": [
    {
     "name": "stderr",
     "output_type": "stream",
     "text": [
      "C:\\Users\\user\\AppData\\Local\\Temp\\ipykernel_10204\\522488216.py:41: FutureWarning: The default of observed=False is deprecated and will be changed to True in a future version of pandas. Pass observed=False to retain current behavior or observed=True to adopt the future default and silence this warning.\n",
      "  df[pct_change_columns] = df.groupby([geo_column, 'sex', 'age'])[component_columns].pct_change().abs()\n",
      "C:\\Users\\user\\AppData\\Local\\Temp\\ipykernel_10204\\522488216.py:41: FutureWarning: The default fill_method='ffill' in DataFrameGroupBy.pct_change is deprecated and will be removed in a future version. Either fill in any non-leading NA values prior to calling pct_change or specify 'fill_method=None' to not fill NA values.\n",
      "  df[pct_change_columns] = df.groupby([geo_column, 'sex', 'age'])[component_columns].pct_change().abs()\n"
     ]
    },
    {
     "name": "stdout",
     "output_type": "stream",
     "text": [
      "component   gss_code gss_code_ward   sex   age    year  births  deaths  \\\n",
      "465482     E09000032     E05014015  male  0-18  2013.0     2.1     0.0   \n",
      "465484     E09000032     E05014015  male  0-18  2015.0     0.2     0.0   \n",
      "\n",
      "component   netflow      popn  births_pct_change  deaths_pct_change  \\\n",
      "465482     0.026316  1.300000                inf                NaN   \n",
      "465484     0.457895  1.584211                inf                NaN   \n",
      "\n",
      "component  netflow_pct_change  popn_pct_change  \n",
      "465482               0.912281         0.020661  \n",
      "465484               1.121951         0.127341  \n",
      "births used Robust Z-Score.\n",
      "component   gss_code gss_code_ward     sex    age    year  births    deaths  \\\n",
      "51         E09000001     E09000001  female  19-30  2022.0     NaN  0.083333   \n",
      "85         E09000001     E09000001  female  31-40  2016.0     NaN  0.100000   \n",
      "89         E09000001     E09000001  female  31-40  2020.0     NaN  0.100000   \n",
      "92         E09000001     E09000001  female  31-40  2023.0     NaN  0.010000   \n",
      "128        E09000001     E09000001  female  41-50  2019.0     NaN  0.100000   \n",
      "...              ...           ...     ...    ...     ...     ...       ...   \n",
      "489285     E09000033     E05013809    male  19-30  2016.0     NaN  0.100000   \n",
      "489289     E09000033     E05013809    male  19-30  2020.0     NaN  0.033333   \n",
      "489291     E09000033     E05013809    male  19-30  2022.0     NaN  0.075000   \n",
      "489329     E09000033     E05013809    male  31-40  2020.0     NaN  0.050000   \n",
      "489331     E09000033     E05013809    male  31-40  2022.0     NaN  0.020000   \n",
      "\n",
      "component    netflow        popn  births_pct_change  deaths_pct_change  \\\n",
      "51         51.833333  147.250000                NaN                inf   \n",
      "85         -4.100000   58.700000                NaN                inf   \n",
      "89         -6.500000   67.600000                NaN                inf   \n",
      "92         -6.680000   95.640000                NaN                inf   \n",
      "128        -1.400000   46.700000                NaN                inf   \n",
      "...              ...         ...                ...                ...   \n",
      "489285      4.241667   88.991667                NaN                inf   \n",
      "489289      2.500000   96.700000                NaN                inf   \n",
      "489291      6.241667  110.333333                NaN                inf   \n",
      "489329     -3.080000   83.490000                NaN                inf   \n",
      "489331     -3.180000   81.800000                NaN                inf   \n",
      "\n",
      "component  netflow_pct_change  popn_pct_change  \n",
      "51                   1.439216         0.454321  \n",
      "85                  40.000000         0.026534  \n",
      "89                   4.095238         0.011696  \n",
      "92                   1.404848         0.027282  \n",
      "128                  0.555556         0.046939  \n",
      "...                       ...              ...  \n",
      "489285               0.515238         0.061953  \n",
      "489289               0.052632         0.037368  \n",
      "489291               0.518018         0.029069  \n",
      "489329               0.393701         0.055222  \n",
      "489331               0.064706         0.007389  \n",
      "\n",
      "[13830 rows x 13 columns]\n",
      "deaths used Robust Z-Score.\n",
      "component   gss_code gss_code_ward     sex    age    year  births    deaths  \\\n",
      "332        E09000001     E09000001  female    90+  2023.0     NaN  3.700000   \n",
      "482        E09000001     E09000001    male  41-50  2013.0     NaN  0.100000   \n",
      "511        E09000001     E09000001    male  41-50  2042.0     NaN  0.080000   \n",
      "611        E09000001     E09000001    male  71-80  2022.0     NaN  0.500000   \n",
      "652        E09000001     E09000001    male  81-89  2023.0     NaN  0.677778   \n",
      "...              ...           ...     ...    ...     ...     ...       ...   \n",
      "486635     E09000033     E05013805    male  71-80  2046.0     NaN  0.640000   \n",
      "487406     E09000033     E05013806    male    90+  2017.0     NaN  3.900000   \n",
      "488123     E09000033     E05013807    male    90+  2014.0     NaN  7.700000   \n",
      "488300     E09000033     E05013808  female  41-50  2031.0     NaN  0.060000   \n",
      "488304     E09000033     E05013808  female  41-50  2035.0     NaN  0.060000   \n",
      "\n",
      "component   netflow       popn  births_pct_change  deaths_pct_change  \\\n",
      "332       -1.800000  20.600000                NaN           0.537500   \n",
      "482        1.800000  77.400000                NaN                inf   \n",
      "511       -0.100000  97.680000                NaN           0.000000   \n",
      "611        0.600000  26.600000                NaN           0.375000   \n",
      "652       -0.511111  12.055556                NaN           0.525000   \n",
      "...             ...        ...                ...                ...   \n",
      "486635     0.010000  35.660000                NaN           0.044776   \n",
      "487406    -0.400000   7.300000                NaN           0.300000   \n",
      "488123     0.200000  25.900000                NaN           1.333333   \n",
      "488300     0.010000  67.390000                NaN           0.000000   \n",
      "488304     0.070000  67.440000                NaN           0.000000   \n",
      "\n",
      "component  netflow_pct_change  popn_pct_change  \n",
      "332                       inf         0.019048  \n",
      "482                       inf         0.051630  \n",
      "511                       inf         0.005599  \n",
      "611                       inf         0.064000  \n",
      "652                       inf         0.004587  \n",
      "...                       ...              ...  \n",
      "486635                    inf         0.002517  \n",
      "487406                    inf         0.342342  \n",
      "488123                    inf         0.295000  \n",
      "488300                    inf         0.000593  \n",
      "488304                    inf         0.001039  \n",
      "\n",
      "[1454 rows x 13 columns]\n",
      "netflow used Robust Z-Score.\n"
     ]
    },
    {
     "name": "stderr",
     "output_type": "stream",
     "text": [
      "C:\\Users\\user\\AppData\\Local\\Temp\\ipykernel_10204\\522488216.py:89: SettingWithCopyWarning: \n",
      "A value is trying to be set on a copy of a slice from a DataFrame.\n",
      "Try using .loc[row_indexer,col_indexer] = value instead\n",
      "\n",
      "See the caveats in the documentation: https://pandas.pydata.org/pandas-docs/stable/user_guide/indexing.html#returning-a-view-versus-a-copy\n",
      "  df_filtered['robust_z_score'] = (df_filtered[comp_col] - median) / mad\n",
      "C:\\Users\\user\\AppData\\Local\\Temp\\ipykernel_10204\\522488216.py:89: SettingWithCopyWarning: \n",
      "A value is trying to be set on a copy of a slice from a DataFrame.\n",
      "Try using .loc[row_indexer,col_indexer] = value instead\n",
      "\n",
      "See the caveats in the documentation: https://pandas.pydata.org/pandas-docs/stable/user_guide/indexing.html#returning-a-view-versus-a-copy\n",
      "  df_filtered['robust_z_score'] = (df_filtered[comp_col] - median) / mad\n",
      "C:\\Users\\user\\AppData\\Local\\Temp\\ipykernel_10204\\522488216.py:89: SettingWithCopyWarning: \n",
      "A value is trying to be set on a copy of a slice from a DataFrame.\n",
      "Try using .loc[row_indexer,col_indexer] = value instead\n",
      "\n",
      "See the caveats in the documentation: https://pandas.pydata.org/pandas-docs/stable/user_guide/indexing.html#returning-a-view-versus-a-copy\n",
      "  df_filtered['robust_z_score'] = (df_filtered[comp_col] - median) / mad\n"
     ]
    },
    {
     "name": "stdout",
     "output_type": "stream",
     "text": [
      "component   gss_code gss_code_ward   sex  age    year  births  deaths  \\\n",
      "356372     E09000025     E05013907  male  90+  2023.0     NaN     0.0   \n",
      "413972     E09000028     E05011114  male  90+  2023.0     NaN     0.6   \n",
      "\n",
      "component  netflow  popn  births_pct_change  deaths_pct_change  \\\n",
      "356372         0.5   0.5                NaN                1.0   \n",
      "413972         0.2   2.6                NaN                inf   \n",
      "\n",
      "component  netflow_pct_change  popn_pct_change  \n",
      "356372                   1.25              inf  \n",
      "413972                    inf              inf  \n",
      "popn used Robust Z-Score.\n"
     ]
    },
    {
     "name": "stderr",
     "output_type": "stream",
     "text": [
      "C:\\Users\\user\\AppData\\Local\\Temp\\ipykernel_10204\\522488216.py:89: SettingWithCopyWarning: \n",
      "A value is trying to be set on a copy of a slice from a DataFrame.\n",
      "Try using .loc[row_indexer,col_indexer] = value instead\n",
      "\n",
      "See the caveats in the documentation: https://pandas.pydata.org/pandas-docs/stable/user_guide/indexing.html#returning-a-view-versus-a-copy\n",
      "  df_filtered['robust_z_score'] = (df_filtered[comp_col] - median) / mad\n"
     ]
    }
   ],
   "source": [
    "outliers_dict_ward_inf_values, z_score_type = calculate_zscores_and_find_outliers(\n",
    "    combined_10yr_fert_agebins_component_columns, \n",
    "    ['births', 'deaths', 'netflow', 'popn'], \n",
    "    handle_inf=True, \n",
    "    Geography='ward',\n",
    "    z_score_threshold=3,\n",
    "    For_population_totals=False)"
   ]
  },
  {
   "cell_type": "code",
   "execution_count": 47,
   "metadata": {},
   "outputs": [
    {
     "data": {
      "text/plain": [
       "{'births_pct_change': component   gss_code gss_code_ward     sex   age    year  births    deaths  \\\n",
       " 2          E09000001     E09000001  female  0-18  2013.0    36.0  0.000000   \n",
       " 3          E09000001     E09000001  female  0-18  2014.0    26.0  0.000000   \n",
       " 4          E09000001     E09000001  female  0-18  2015.0    30.0  0.000000   \n",
       " 5          E09000001     E09000001  female  0-18  2016.0    38.0  0.000000   \n",
       " 6          E09000001     E09000001  female  0-18  2017.0    35.0  0.000000   \n",
       " ...              ...           ...     ...   ...     ...     ...       ...   \n",
       " 489248     E09000033     E05013809    male  0-18  2019.0    73.8  0.000000   \n",
       " 489250     E09000033     E05013809    male  0-18  2021.0    57.8  0.000000   \n",
       " 489251     E09000033     E05013809    male  0-18  2022.0    54.0  0.052632   \n",
       " 489252     E09000033     E05013809    male  0-18  2023.0    60.2  0.021053   \n",
       " 489253     E09000033     E05013809    male  0-18  2024.0    61.9  0.021053   \n",
       " \n",
       " component   netflow       popn  births_pct_change  deaths_pct_change  \\\n",
       " 2         -1.526316  19.947368           0.125000                NaN   \n",
       " 3          0.052632  19.473684           0.277778                NaN   \n",
       " 4         -0.210526  19.578947           0.153846                NaN   \n",
       " 5         -0.894737  19.000000           0.266667                NaN   \n",
       " 6          0.315789  19.315789           0.078947                NaN   \n",
       " ...             ...        ...                ...                ...   \n",
       " 489248    -1.884211  73.552632           0.170787                1.0   \n",
       " 489250    -2.010526  66.631579           0.203857                NaN   \n",
       " 489251    -1.894737  63.526316           0.065744                NaN   \n",
       " 489252     1.173684  63.605263           0.114815                0.6   \n",
       " 489253     0.078947  63.121053           0.028239                0.0   \n",
       " \n",
       " component  netflow_pct_change  popn_pct_change  robust_z_score  \n",
       " 2                    3.416667         0.020672       21.430712  \n",
       " 3                    1.034483         0.023747       49.161747  \n",
       " 4                    5.000000         0.005405       26.666642  \n",
       " 5                    3.250000         0.029570       47.144945  \n",
       " 6                    1.352941         0.016620       13.071596  \n",
       " ...                       ...              ...             ...  \n",
       " 489248              12.548387         0.047895       29.741525  \n",
       " 489250               0.197479         0.041345       35.744176  \n",
       " 489251               0.057592         0.046603       10.675013  \n",
       " 489252               1.619444         0.001243       19.581976  \n",
       " 489253               0.932735         0.007613        3.867444  \n",
       " \n",
       " [16305 rows x 14 columns],\n",
       " 'deaths_pct_change': component   gss_code gss_code_ward     sex    age    year  births  deaths  \\\n",
       " 52         E09000001     E09000001  female  19-30  2023.0     NaN     0.0   \n",
       " 86         E09000001     E09000001  female  31-40  2017.0     NaN     0.0   \n",
       " 90         E09000001     E09000001  female  31-40  2021.0     NaN     0.0   \n",
       " 101        E09000001     E09000001  female  31-40  2032.0     NaN     0.0   \n",
       " 123        E09000001     E09000001  female  41-50  2014.0     NaN     0.0   \n",
       " ...              ...           ...     ...    ...     ...     ...     ...   \n",
       " 489571     E09000033     E05013809    male    90+  2022.0     NaN     5.1   \n",
       " 489572     E09000033     E05013809    male    90+  2023.0     NaN     7.9   \n",
       " 489573     E09000033     E05013809    male    90+  2024.0     NaN     6.3   \n",
       " 489574     E09000033     E05013809    male    90+  2025.0     NaN     5.6   \n",
       " 489577     E09000033     E05013809    male    90+  2028.0     NaN     5.6   \n",
       " \n",
       " component   netflow        popn  births_pct_change  deaths_pct_change  \\\n",
       " 52        -0.341667  138.316667                NaN           1.000000   \n",
       " 86         1.600000   61.500000                NaN           1.000000   \n",
       " 90         0.500000   72.800000                NaN           1.000000   \n",
       " 101       -5.470000   99.860000                NaN           1.000000   \n",
       " 123       -0.800000   49.800000                NaN           1.000000   \n",
       " ...             ...         ...                ...                ...   \n",
       " 489571     2.100000   16.000000                NaN           0.346154   \n",
       " 489572     0.500000   15.600000                NaN           0.549020   \n",
       " 489573     0.600000   12.600000                NaN           0.202532   \n",
       " 489574     0.700000   11.300000                NaN           0.111111   \n",
       " 489577     0.700000   11.700000                NaN           0.142857   \n",
       " \n",
       " component  netflow_pct_change  popn_pct_change  robust_z_score  \n",
       " 52                   1.006592         0.060668       36.000000  \n",
       " 86                   1.390244         0.047700       36.000000  \n",
       " 90                   1.076923         0.076923       36.000000  \n",
       " 101                  0.010850         0.001600       36.000000  \n",
       " 123                  3.000000         0.013861       36.000000  \n",
       " ...                       ...              ...             ...  \n",
       " 489571               8.000000         0.101124       11.807692  \n",
       " 489572               0.761905         0.025000       19.313725  \n",
       " 489573               0.200000         0.192308        6.493671  \n",
       " 489574               0.166667         0.103175        3.111111  \n",
       " 489577               0.000000         0.147059        4.285714  \n",
       " \n",
       " [117296 rows x 14 columns],\n",
       " 'netflow_pct_change': component   gss_code gss_code_ward     sex   age    year  births  deaths  \\\n",
       " 2          E09000001     E09000001  female  0-18  2013.0    36.0     0.0   \n",
       " 3          E09000001     E09000001  female  0-18  2014.0    26.0     0.0   \n",
       " 4          E09000001     E09000001  female  0-18  2015.0    30.0     0.0   \n",
       " 5          E09000001     E09000001  female  0-18  2016.0    38.0     0.0   \n",
       " 6          E09000001     E09000001  female  0-18  2017.0    35.0     0.0   \n",
       " ...              ...           ...     ...   ...     ...     ...     ...   \n",
       " 489567     E09000033     E05013809    male   90+  2018.0     NaN    10.2   \n",
       " 489569     E09000033     E05013809    male   90+  2020.0     NaN    10.6   \n",
       " 489570     E09000033     E05013809    male   90+  2021.0     NaN     7.8   \n",
       " 489571     E09000033     E05013809    male   90+  2022.0     NaN     5.1   \n",
       " 489572     E09000033     E05013809    male   90+  2023.0     NaN     7.9   \n",
       " \n",
       " component   netflow       popn  births_pct_change  deaths_pct_change  \\\n",
       " 2         -1.526316  19.947368           0.125000                NaN   \n",
       " 3          0.052632  19.473684           0.277778                NaN   \n",
       " 4         -0.210526  19.578947           0.153846                NaN   \n",
       " 5         -0.894737  19.000000           0.266667                NaN   \n",
       " 6          0.315789  19.315789           0.078947                NaN   \n",
       " ...             ...        ...                ...                ...   \n",
       " 489567     0.800000  16.400000                NaN           0.924528   \n",
       " 489569     1.800000  13.900000                NaN           1.163265   \n",
       " 489570    -0.300000  17.800000                NaN           0.264151   \n",
       " 489571     2.100000  16.000000                NaN           0.346154   \n",
       " 489572     0.500000  15.600000                NaN           0.549020   \n",
       " \n",
       " component  netflow_pct_change  popn_pct_change  robust_z_score  \n",
       " 2                    3.416667         0.020672       35.528595  \n",
       " 3                    1.034483         0.023747       10.031664  \n",
       " 4                    5.000000         0.005405       52.475290  \n",
       " 5                    3.250000         0.029570       33.744733  \n",
       " 6                    1.352941         0.016620       13.440180  \n",
       " ...                       ...              ...             ...  \n",
       " 489567               1.363636         0.057471       13.554652  \n",
       " 489569               1.000000         0.091503        9.662589  \n",
       " 489570               1.166667         0.280576       11.446451  \n",
       " 489571               8.000000         0.101124       84.584815  \n",
       " 489572               0.761905         0.025000        7.114214  \n",
       " \n",
       " [138078 rows x 14 columns],\n",
       " 'popn_pct_change': component   gss_code gss_code_ward     sex    age    year  births  deaths  \\\n",
       " 1          E09000001     E09000001  female   0-18  2012.0    32.0     0.0   \n",
       " 12         E09000001     E09000001  female   0-18  2023.0    25.9     0.0   \n",
       " 41         E09000001     E09000001  female  19-30  2012.0     NaN     0.0   \n",
       " 44         E09000001     E09000001  female  19-30  2015.0     NaN     0.0   \n",
       " 45         E09000001     E09000001  female  19-30  2016.0     NaN     0.0   \n",
       " ...              ...           ...     ...    ...     ...     ...     ...   \n",
       " 489587     E09000033     E05013809    male    90+  2038.0     NaN     6.8   \n",
       " 489595     E09000033     E05013809    male    90+  2046.0     NaN     7.8   \n",
       " 489596     E09000033     E05013809    male    90+  2047.0     NaN     8.1   \n",
       " 489597     E09000033     E05013809    male    90+  2048.0     NaN     8.5   \n",
       " 489599     E09000033     E05013809    male    90+  2050.0     NaN     9.3   \n",
       " \n",
       " component    netflow       popn  births_pct_change  deaths_pct_change  \\\n",
       " 1           0.631579  20.368421                NaN                NaN   \n",
       " 12          0.031579  16.336842           0.238235                NaN   \n",
       " 41          9.166667  69.416667                NaN                NaN   \n",
       " 44          9.416667  71.500000                NaN                NaN   \n",
       " 45         10.500000  78.416667                NaN                NaN   \n",
       " ...              ...        ...                ...                ...   \n",
       " 489587      0.900000  15.700000                NaN           0.030303   \n",
       " 489595      0.900000  20.000000                NaN           0.040000   \n",
       " 489596      0.900000  21.000000                NaN           0.038462   \n",
       " 489597      0.900000  22.200000                NaN           0.049383   \n",
       " 489599      0.900000  25.000000                NaN           0.068966   \n",
       " \n",
       " component  netflow_pct_change  popn_pct_change  robust_z_score  \n",
       " 1                         NaN         0.048780        3.306580  \n",
       " 12                   1.026087         0.089736        7.187828  \n",
       " 41                        NaN         0.081818        6.437471  \n",
       " 44                  55.500000         0.075188        5.809144  \n",
       " 45                   0.115044         0.096737        7.851248  \n",
       " ...                       ...              ...             ...  \n",
       " 489587               0.125000         0.046667        3.106259  \n",
       " 489595               0.000000         0.063830        4.732761  \n",
       " 489596               0.000000         0.050000        3.422150  \n",
       " 489597               0.000000         0.057143        4.099059  \n",
       " 489599               0.000000         0.077586        6.036419  \n",
       " \n",
       " [80683 rows x 14 columns]}"
      ]
     },
     "execution_count": 47,
     "metadata": {},
     "output_type": "execute_result"
    }
   ],
   "source": [
    "outliers_dict_borough"
   ]
  },
  {
   "cell_type": "code",
   "execution_count": 46,
   "metadata": {},
   "outputs": [],
   "source": [
    "births_pct_change_borough_outlier_df = outliers_dict_borough['births_pct_change']\n",
    "deaths_pct_change_borough_outlier_df = outliers_dict_borough['deaths_pct_change']\n",
    "netflow_pct_change_borough_outlier_df = outliers_dict_borough['netflow_pct_change']\n",
    "popn_pct_change_borough_outlier_df = outliers_dict_borough['popn_pct_change']"
   ]
  },
  {
   "cell_type": "code",
   "execution_count": 182,
   "metadata": {},
   "outputs": [],
   "source": [
    "births_pct_change_ward_outlier_df = outliers_dict_ward['births_pct_change']\n",
    "deaths_pct_change_ward_outlier_df = outliers_dict_ward['deaths_pct_change']\n",
    "netflow_pct_change_ward_outlier_df = outliers_dict_ward['netflow_pct_change']\n",
    "popn_pct_change_ward_outlier_df = outliers_dict_ward['popn_pct_change']"
   ]
  },
  {
   "cell_type": "code",
   "execution_count": 80,
   "metadata": {},
   "outputs": [],
   "source": [
    "births_pct_change_borough_inf_outlier_df = outliers_dict_borough_inf_values['births']\n",
    "deaths_pct_change_borough_inf_outlier_df = outliers_dict_borough_inf_values['deaths']\n",
    "netflow_pct_change_borough_inf_outlier_df = outliers_dict_borough_inf_values['netflow']\n",
    "popn_pct_change_borough_inf_outlier_df = outliers_dict_borough_inf_values['popn']"
   ]
  },
  {
   "cell_type": "code",
   "execution_count": 201,
   "metadata": {},
   "outputs": [],
   "source": [
    "births_pct_change_ward_inf_outlier_df = outliers_dict_ward_inf_values['births']\n",
    "deaths_pct_change_ward_inf_outlier_df = outliers_dict_ward_inf_values['deaths']\n",
    "netflow_pct_change_ward_inf_outlier_df = outliers_dict_ward_inf_values['netflow']   \n",
    "popn_pct_change_ward_inf_outlier_df = outliers_dict_ward_inf_values['popn']"
   ]
  },
  {
   "cell_type": "markdown",
   "metadata": {},
   "source": [
    "## Total Outliers\n",
    "#### Detect total outliers using Z-scores and Robust Z-scores, and perform cross-sectional and temporal comparisons.\n",
    "\n",
    "#### Using total population (popn) perform cross-sectional comparisons: Examine changes between boroughs and wards totals for a given year.\n",
    "#### Conduct temporal comparisons: Measure percentage changes between year total for both boroughs and wards\n",
    "\n",
    "#### Total population per geographical boundary\n",
    "#### Total population per year\n",
    "#### i.e.\n",
    "#### groupby('gss_code')['popn']\n",
    "#### groupby('year')['popn']\n",
    "---"
   ]
  },
  {
   "cell_type": "code",
   "execution_count": 198,
   "metadata": {},
   "outputs": [
    {
     "name": "stdout",
     "output_type": "stream",
     "text": [
      "  gss_code_ward    year         popn  popn_pct_change_temporal\n",
      "0     E05009317  2011.0  1700.927778                       NaN\n",
      "1     E05009317  2012.0  1690.413480                 -0.618151\n",
      "2     E05009317  2013.0  1719.007105                  1.691517\n",
      "3     E05009317  2014.0  1705.480351                 -0.786893\n",
      "4     E05009317  2015.0  1639.372456                 -3.876204\n"
     ]
    }
   ],
   "source": [
    "total, z_score_type = calculate_zscores_and_find_outliers(\n",
    "    combined_10yr_fert_agebins_component_columns, \n",
    "    ['popn'], \n",
    "    handle_inf=False, \n",
    "    Geography='ward',\n",
    "    For_population_totals=True,\n",
    "    population_analysis_type='temporal'\n",
    "    )"
   ]
  },
  {
   "cell_type": "code",
   "execution_count": null,
   "metadata": {},
   "outputs": [],
   "source": []
  },
  {
   "cell_type": "code",
   "execution_count": 200,
   "metadata": {},
   "outputs": [
    {
     "name": "stdout",
     "output_type": "stream",
     "text": [
      "  gss_code_ward    year         popn    popn_mean  popn_pct_change_cross\n",
      "0     E05009317  2011.0  1700.927778  1091.088114              55.892797\n",
      "1     E05009317  2012.0  1690.413480  1109.064110              52.418013\n",
      "2     E05009317  2013.0  1719.007105  1126.260870              52.629568\n",
      "3     E05009317  2014.0  1705.480351  1143.567766              49.136798\n",
      "4     E05009317  2015.0  1639.372456  1158.691562              41.484801\n"
     ]
    }
   ],
   "source": [
    "total, z_score_type = calculate_zscores_and_find_outliers(\n",
    "    combined_10yr_fert_agebins_component_columns, \n",
    "    ['popn'], \n",
    "    handle_inf=False, \n",
    "    Geography='ward',\n",
    "    For_population_totals=True,\n",
    "    population_analysis_type='cross-sectional'\n",
    "    )"
   ]
  },
  {
   "cell_type": "code",
   "execution_count": null,
   "metadata": {},
   "outputs": [],
   "source": []
  },
  {
   "cell_type": "code",
   "execution_count": 205,
   "metadata": {},
   "outputs": [
    {
     "data": {
      "text/plain": [
       "{'popn_pct_change': component   gss_code gss_code_ward     sex    age    year  births  deaths  \\\n",
       " 1          E09000001     E09000001  female   0-18  2012.0    32.0     0.0   \n",
       " 11         E09000001     E09000001  female   0-18  2022.0    34.0     0.0   \n",
       " 12         E09000001     E09000001  female   0-18  2023.0    25.9     0.0   \n",
       " 41         E09000001     E09000001  female  19-30  2012.0     NaN     0.0   \n",
       " 43         E09000001     E09000001  female  19-30  2014.0     NaN     0.0   \n",
       " ...              ...           ...     ...    ...     ...     ...     ...   \n",
       " 489595     E09000033     E05013809    male    90+  2046.0     NaN     7.8   \n",
       " 489596     E09000033     E05013809    male    90+  2047.0     NaN     8.1   \n",
       " 489597     E09000033     E05013809    male    90+  2048.0     NaN     8.5   \n",
       " 489598     E09000033     E05013809    male    90+  2049.0     NaN     8.7   \n",
       " 489599     E09000033     E05013809    male    90+  2050.0     NaN     9.3   \n",
       " \n",
       " component   netflow       popn  births_pct_change  deaths_pct_change  \\\n",
       " 1          0.631579  20.368421                NaN                NaN   \n",
       " 11        -1.210526  17.947368           0.545455                NaN   \n",
       " 12         0.031579  16.336842           0.238235                NaN   \n",
       " 41         9.166667  69.416667                NaN                NaN   \n",
       " 43         0.166667  66.500000                NaN                NaN   \n",
       " ...             ...        ...                ...                ...   \n",
       " 489595     0.900000  20.000000                NaN           0.040000   \n",
       " 489596     0.900000  21.000000                NaN           0.038462   \n",
       " 489597     0.900000  22.200000                NaN           0.049383   \n",
       " 489598     0.900000  23.200000                NaN           0.023529   \n",
       " 489599     0.900000  25.000000                NaN           0.068966   \n",
       " \n",
       " component  netflow_pct_change  popn_pct_change  robust_z_score  \n",
       " 1                         NaN         0.048780        3.528165  \n",
       " 11                   8.666667         0.036723        2.327585  \n",
       " 12                   1.026087         0.089736        7.606222  \n",
       " 41                        NaN         0.081818        6.817817  \n",
       " 43                   0.971014         0.044311        3.083164  \n",
       " ...                       ...              ...             ...  \n",
       " 489595               0.000000         0.063830        5.026664  \n",
       " 489596               0.000000         0.050000        3.649595  \n",
       " 489597               0.000000         0.057143        4.360829  \n",
       " 489598               0.000000         0.045045        3.156217  \n",
       " 489599               0.000000         0.077586        6.396428  \n",
       " \n",
       " [109628 rows x 14 columns]}"
      ]
     },
     "execution_count": 205,
     "metadata": {},
     "output_type": "execute_result"
    }
   ],
   "source": []
  },
  {
   "cell_type": "markdown",
   "metadata": {},
   "source": [
    "## Gender Outliers\n",
    "Investigate gender outliers, focusing on abnormal gender ratios and adjusting thresholds as needed.\n",
    "\n",
    "---"
   ]
  },
  {
   "cell_type": "code",
   "execution_count": 150,
   "metadata": {},
   "outputs": [
    {
     "name": "stderr",
     "output_type": "stream",
     "text": [
      "C:\\Users\\user\\AppData\\Local\\Temp\\ipykernel_10204\\989429346.py:33: FutureWarning: A value is trying to be set on a copy of a DataFrame or Series through chained assignment using an inplace method.\n",
      "The behavior will change in pandas 3.0. This inplace method will never work because the intermediate object on which we are setting values always behaves as a copy.\n",
      "\n",
      "For example, when doing 'df[col].method(value, inplace=True)', try using 'df.method({col: value}, inplace=True)' or df[col] = df[col].method(value) instead, to perform the operation inplace on the original object.\n",
      "\n",
      "\n",
      "  gender_pivot['ratio_female_to_male'].replace([float('inf'), -float('inf')], pd.NA, inplace=True)\n",
      "C:\\Users\\user\\AppData\\Local\\Temp\\ipykernel_10204\\989429346.py:34: FutureWarning: Downcasting object dtype arrays on .fillna, .ffill, .bfill is deprecated and will change in a future version. Call result.infer_objects(copy=False) instead. To opt-in to the future behavior, set `pd.set_option('future.no_silent_downcasting', True)`\n",
      "  gender_pivot['ratio_female_to_male'].fillna(np.nan, inplace=True)\n"
     ]
    }
   ],
   "source": [
    "component_columns = ['births', 'deaths', 'netflow', 'popn']\n",
    "gender_outlier_dictionary = gender_outliers(combined_10yr_fert, component_columns, geography='borough', outlier_std={'births': 2, 'deaths': 5, 'netflow': 2, 'popn': 5})"
   ]
  },
  {
   "cell_type": "code",
   "execution_count": 152,
   "metadata": {},
   "outputs": [],
   "source": [
    "gender_outlier_dictionary\n",
    "births_gender_outliers_df = gender_outlier_dictionary['births']\n",
    "deaths_gender_outliers_df = gender_outlier_dictionary['deaths']\n",
    "netflow_gender_outliers_df = gender_outlier_dictionary['netflow']\n",
    "popn_gender_outliers_df = gender_outlier_dictionary['popn']"
   ]
  },
  {
   "cell_type": "markdown",
   "metadata": {},
   "source": [
    "## Key Visualisations\n",
    "Visualise important trends in the dataset, including distribution by components, age groups, yearly totals, and population pyramids.\n",
    "\n",
    "---\n"
   ]
  },
  {
   "cell_type": "markdown",
   "metadata": {},
   "source": [
    "#### yearly totals by component visulation"
   ]
  },
  {
   "cell_type": "code",
   "execution_count": 165,
   "metadata": {},
   "outputs": [
    {
     "name": "stdout",
     "output_type": "stream",
     "text": [
      "Yearly population totals by gss_code and year:\n",
      "        year component       value\n",
      "0    2002.0   netflow      7036.6\n",
      "1    2003.0   netflow    -37021.3\n",
      "2    2004.0   netflow    -16399.9\n",
      "3    2005.0   netflow     21802.2\n",
      "4    2006.0   netflow      9229.4\n",
      "..      ...       ...         ...\n",
      "162  2049.0      popn  19763868.6\n",
      "163  2050.0    births    226639.0\n",
      "164  2050.0    deaths    137879.9\n",
      "165  2050.0   netflow    -57727.1\n",
      "166  2050.0      popn  19794455.5\n",
      "\n",
      "[167 rows x 3 columns]\n"
     ]
    }
   ],
   "source": [
    "yearly_totals = combined_10yr_fert.groupby(['year','component'])['value'].sum().reset_index()\n",
    "print(\"Yearly population totals by gss_code and year:\\n\", yearly_totals)"
   ]
  },
  {
   "cell_type": "code",
   "execution_count": 166,
   "metadata": {},
   "outputs": [
    {
     "data": {
      "application/vnd.plotly.v1+json": {
       "config": {
        "plotlyServerURL": "https://plot.ly"
       },
       "data": [
        {
         "hovertemplate": "component=netflow<br>Year=%{x}<br>Total Value=%{y}<extra></extra>",
         "legendgroup": "netflow",
         "line": {
          "color": "#636efa",
          "dash": "solid"
         },
         "marker": {
          "symbol": "circle"
         },
         "mode": "lines+markers",
         "name": "netflow",
         "orientation": "v",
         "showlegend": true,
         "type": "scatter",
         "x": [
          2002,
          2003,
          2004,
          2005,
          2006,
          2007,
          2008,
          2009,
          2010,
          2011,
          2012,
          2013,
          2014,
          2015,
          2016,
          2017,
          2018,
          2019,
          2020,
          2021,
          2022,
          2023,
          2024,
          2025,
          2026,
          2027,
          2028,
          2029,
          2030,
          2031,
          2032,
          2033,
          2034,
          2035,
          2036,
          2037,
          2038,
          2039,
          2040,
          2041,
          2042,
          2043,
          2044,
          2045,
          2046,
          2047,
          2048,
          2049,
          2050
         ],
         "xaxis": "x",
         "y": [
          7036.6,
          -37021.3,
          -16399.9,
          21802.2,
          9229.4,
          22646,
          40474.5,
          54731.9,
          40209,
          61220,
          59004.4,
          70500.9,
          52938.1,
          72606.2,
          11222.1,
          -93468.4,
          -35372,
          -31924.4,
          -158717.6,
          -231645.5,
          6569.099999999999,
          208662.9,
          -34663.5,
          -35600,
          -37461,
          -38760,
          -38487.1,
          -37089.1,
          -35104.2,
          -32887.6,
          -30666.2,
          -28845.4,
          -28158.5,
          -28660.4,
          -29403.6,
          -30315.9,
          -31628,
          -33375,
          -35391,
          -38456.8,
          -40913.2,
          -44377.8,
          -47641.3,
          -50483.1,
          -52915.8,
          -54742.2,
          -56091.8,
          -57067.2,
          -57727.1
         ],
         "yaxis": "y"
        },
        {
         "hovertemplate": "component=popn<br>Year=%{x}<br>Total Value=%{y}<extra></extra>",
         "legendgroup": "popn",
         "line": {
          "color": "#EF553B",
          "dash": "solid"
         },
         "marker": {
          "symbol": "circle"
         },
         "mode": "lines+markers",
         "name": "popn",
         "orientation": "v",
         "showlegend": true,
         "type": "scatter",
         "x": [
          2011,
          2012,
          2013,
          2014,
          2015,
          2016,
          2017,
          2018,
          2019,
          2020,
          2021,
          2022,
          2023,
          2024,
          2025,
          2026,
          2027,
          2028,
          2029,
          2030,
          2031,
          2032,
          2033,
          2034,
          2035,
          2036,
          2037,
          2038,
          2039,
          2040,
          2041,
          2042,
          2043,
          2044,
          2045,
          2046,
          2047,
          2048,
          2049,
          2050
         ],
         "xaxis": "x",
         "y": [
          16408751.2,
          16640284.7,
          16875811.6,
          17092687.4,
          17321400.7,
          17494728,
          17557540.8,
          17668165.5,
          17777509.3,
          17732445.9,
          17609554.7,
          17732360,
          18046360.4,
          18121722.3,
          18196309.8,
          18269046.2,
          18340363.9,
          18411733.1,
          18484192.9,
          18558296.3,
          18634243.9,
          18711831,
          18790410.9,
          18868964.1,
          18946487.2,
          19022683.5,
          19097224.1,
          19170288.8,
          19241642.5,
          19311016.1,
          19377157.5,
          19440485.8,
          19499593.3,
          19554288.2,
          19604577.4,
          19650397.7,
          19692091.1,
          19729855.3,
          19763868.6,
          19794455.5
         ],
         "yaxis": "y"
        },
        {
         "hovertemplate": "component=births<br>Year=%{x}<br>Total Value=%{y}<extra></extra>",
         "legendgroup": "births",
         "line": {
          "color": "#00cc96",
          "dash": "solid"
         },
         "marker": {
          "symbol": "circle"
         },
         "mode": "lines+markers",
         "name": "births",
         "orientation": "v",
         "showlegend": true,
         "type": "scatter",
         "x": [
          2012,
          2013,
          2014,
          2015,
          2016,
          2017,
          2018,
          2019,
          2020,
          2021,
          2022,
          2023,
          2024,
          2025,
          2026,
          2027,
          2028,
          2029,
          2030,
          2031,
          2032,
          2033,
          2034,
          2035,
          2036,
          2037,
          2038,
          2039,
          2040,
          2041,
          2042,
          2043,
          2044,
          2045,
          2046,
          2047,
          2048,
          2049,
          2050
         ],
         "xaxis": "x",
         "y": [
          268075.7,
          262022.2,
          255615.1,
          257041.2,
          259694.8,
          254719.1,
          247189.2,
          238172.5,
          231467.4,
          219426.4,
          219142,
          212686.9,
          217653.6,
          218140.4,
          218689.8,
          219305.3,
          219950.3,
          220611.9,
          221270,
          221917,
          222558.4,
          223237.1,
          224011.3,
          224906.5,
          225916.8,
          227023.7,
          228193.6,
          229372.4,
          230480.5,
          231432.3,
          232143.2,
          232539,
          232577.9,
          232248.3,
          231576,
          230615,
          229430,
          228087.1,
          226639
         ],
         "yaxis": "y"
        },
        {
         "hovertemplate": "component=deaths<br>Year=%{x}<br>Total Value=%{y}<extra></extra>",
         "legendgroup": "deaths",
         "line": {
          "color": "#ab63fa",
          "dash": "solid"
         },
         "marker": {
          "symbol": "circle"
         },
         "mode": "lines+markers",
         "name": "deaths",
         "orientation": "v",
         "showlegend": true,
         "type": "scatter",
         "x": [
          2012,
          2013,
          2014,
          2015,
          2016,
          2017,
          2018,
          2019,
          2020,
          2021,
          2022,
          2023,
          2024,
          2025,
          2026,
          2027,
          2028,
          2029,
          2030,
          2031,
          2032,
          2033,
          2034,
          2035,
          2036,
          2037,
          2038,
          2039,
          2040,
          2041,
          2042,
          2043,
          2044,
          2045,
          2046,
          2047,
          2048,
          2049,
          2050
         ],
         "xaxis": "x",
         "y": [
          95114.1,
          96144.1,
          90877.7,
          100276.9,
          97004.4,
          97660.8,
          100829,
          97080.3,
          117593.4,
          110149.9,
          100738.9,
          106851.4,
          107171.2,
          107477.3,
          107988.1,
          108740.3,
          109598.1,
          110585.8,
          111582.9,
          112577.6,
          113847.6,
          115285.1,
          116824.7,
          118231.9,
          119826.3,
          121672.8,
          123031.6,
          124184.7,
          125270,
          126339.6,
          127430.9,
          128566.8,
          129763.6,
          131025.6,
          132350.8,
          133722,
          135102.4,
          136512.2,
          137879.9
         ],
         "yaxis": "y"
        }
       ],
       "layout": {
        "height": 600,
        "legend": {
         "title": {
          "text": "Component"
         },
         "tracegroupgap": 0
        },
        "template": {
         "data": {
          "bar": [
           {
            "error_x": {
             "color": "#2a3f5f"
            },
            "error_y": {
             "color": "#2a3f5f"
            },
            "marker": {
             "line": {
              "color": "#E5ECF6",
              "width": 0.5
             },
             "pattern": {
              "fillmode": "overlay",
              "size": 10,
              "solidity": 0.2
             }
            },
            "type": "bar"
           }
          ],
          "barpolar": [
           {
            "marker": {
             "line": {
              "color": "#E5ECF6",
              "width": 0.5
             },
             "pattern": {
              "fillmode": "overlay",
              "size": 10,
              "solidity": 0.2
             }
            },
            "type": "barpolar"
           }
          ],
          "carpet": [
           {
            "aaxis": {
             "endlinecolor": "#2a3f5f",
             "gridcolor": "white",
             "linecolor": "white",
             "minorgridcolor": "white",
             "startlinecolor": "#2a3f5f"
            },
            "baxis": {
             "endlinecolor": "#2a3f5f",
             "gridcolor": "white",
             "linecolor": "white",
             "minorgridcolor": "white",
             "startlinecolor": "#2a3f5f"
            },
            "type": "carpet"
           }
          ],
          "choropleth": [
           {
            "colorbar": {
             "outlinewidth": 0,
             "ticks": ""
            },
            "type": "choropleth"
           }
          ],
          "contour": [
           {
            "colorbar": {
             "outlinewidth": 0,
             "ticks": ""
            },
            "colorscale": [
             [
              0,
              "#0d0887"
             ],
             [
              0.1111111111111111,
              "#46039f"
             ],
             [
              0.2222222222222222,
              "#7201a8"
             ],
             [
              0.3333333333333333,
              "#9c179e"
             ],
             [
              0.4444444444444444,
              "#bd3786"
             ],
             [
              0.5555555555555556,
              "#d8576b"
             ],
             [
              0.6666666666666666,
              "#ed7953"
             ],
             [
              0.7777777777777778,
              "#fb9f3a"
             ],
             [
              0.8888888888888888,
              "#fdca26"
             ],
             [
              1,
              "#f0f921"
             ]
            ],
            "type": "contour"
           }
          ],
          "contourcarpet": [
           {
            "colorbar": {
             "outlinewidth": 0,
             "ticks": ""
            },
            "type": "contourcarpet"
           }
          ],
          "heatmap": [
           {
            "colorbar": {
             "outlinewidth": 0,
             "ticks": ""
            },
            "colorscale": [
             [
              0,
              "#0d0887"
             ],
             [
              0.1111111111111111,
              "#46039f"
             ],
             [
              0.2222222222222222,
              "#7201a8"
             ],
             [
              0.3333333333333333,
              "#9c179e"
             ],
             [
              0.4444444444444444,
              "#bd3786"
             ],
             [
              0.5555555555555556,
              "#d8576b"
             ],
             [
              0.6666666666666666,
              "#ed7953"
             ],
             [
              0.7777777777777778,
              "#fb9f3a"
             ],
             [
              0.8888888888888888,
              "#fdca26"
             ],
             [
              1,
              "#f0f921"
             ]
            ],
            "type": "heatmap"
           }
          ],
          "heatmapgl": [
           {
            "colorbar": {
             "outlinewidth": 0,
             "ticks": ""
            },
            "colorscale": [
             [
              0,
              "#0d0887"
             ],
             [
              0.1111111111111111,
              "#46039f"
             ],
             [
              0.2222222222222222,
              "#7201a8"
             ],
             [
              0.3333333333333333,
              "#9c179e"
             ],
             [
              0.4444444444444444,
              "#bd3786"
             ],
             [
              0.5555555555555556,
              "#d8576b"
             ],
             [
              0.6666666666666666,
              "#ed7953"
             ],
             [
              0.7777777777777778,
              "#fb9f3a"
             ],
             [
              0.8888888888888888,
              "#fdca26"
             ],
             [
              1,
              "#f0f921"
             ]
            ],
            "type": "heatmapgl"
           }
          ],
          "histogram": [
           {
            "marker": {
             "pattern": {
              "fillmode": "overlay",
              "size": 10,
              "solidity": 0.2
             }
            },
            "type": "histogram"
           }
          ],
          "histogram2d": [
           {
            "colorbar": {
             "outlinewidth": 0,
             "ticks": ""
            },
            "colorscale": [
             [
              0,
              "#0d0887"
             ],
             [
              0.1111111111111111,
              "#46039f"
             ],
             [
              0.2222222222222222,
              "#7201a8"
             ],
             [
              0.3333333333333333,
              "#9c179e"
             ],
             [
              0.4444444444444444,
              "#bd3786"
             ],
             [
              0.5555555555555556,
              "#d8576b"
             ],
             [
              0.6666666666666666,
              "#ed7953"
             ],
             [
              0.7777777777777778,
              "#fb9f3a"
             ],
             [
              0.8888888888888888,
              "#fdca26"
             ],
             [
              1,
              "#f0f921"
             ]
            ],
            "type": "histogram2d"
           }
          ],
          "histogram2dcontour": [
           {
            "colorbar": {
             "outlinewidth": 0,
             "ticks": ""
            },
            "colorscale": [
             [
              0,
              "#0d0887"
             ],
             [
              0.1111111111111111,
              "#46039f"
             ],
             [
              0.2222222222222222,
              "#7201a8"
             ],
             [
              0.3333333333333333,
              "#9c179e"
             ],
             [
              0.4444444444444444,
              "#bd3786"
             ],
             [
              0.5555555555555556,
              "#d8576b"
             ],
             [
              0.6666666666666666,
              "#ed7953"
             ],
             [
              0.7777777777777778,
              "#fb9f3a"
             ],
             [
              0.8888888888888888,
              "#fdca26"
             ],
             [
              1,
              "#f0f921"
             ]
            ],
            "type": "histogram2dcontour"
           }
          ],
          "mesh3d": [
           {
            "colorbar": {
             "outlinewidth": 0,
             "ticks": ""
            },
            "type": "mesh3d"
           }
          ],
          "parcoords": [
           {
            "line": {
             "colorbar": {
              "outlinewidth": 0,
              "ticks": ""
             }
            },
            "type": "parcoords"
           }
          ],
          "pie": [
           {
            "automargin": true,
            "type": "pie"
           }
          ],
          "scatter": [
           {
            "fillpattern": {
             "fillmode": "overlay",
             "size": 10,
             "solidity": 0.2
            },
            "type": "scatter"
           }
          ],
          "scatter3d": [
           {
            "line": {
             "colorbar": {
              "outlinewidth": 0,
              "ticks": ""
             }
            },
            "marker": {
             "colorbar": {
              "outlinewidth": 0,
              "ticks": ""
             }
            },
            "type": "scatter3d"
           }
          ],
          "scattercarpet": [
           {
            "marker": {
             "colorbar": {
              "outlinewidth": 0,
              "ticks": ""
             }
            },
            "type": "scattercarpet"
           }
          ],
          "scattergeo": [
           {
            "marker": {
             "colorbar": {
              "outlinewidth": 0,
              "ticks": ""
             }
            },
            "type": "scattergeo"
           }
          ],
          "scattergl": [
           {
            "marker": {
             "colorbar": {
              "outlinewidth": 0,
              "ticks": ""
             }
            },
            "type": "scattergl"
           }
          ],
          "scattermapbox": [
           {
            "marker": {
             "colorbar": {
              "outlinewidth": 0,
              "ticks": ""
             }
            },
            "type": "scattermapbox"
           }
          ],
          "scatterpolar": [
           {
            "marker": {
             "colorbar": {
              "outlinewidth": 0,
              "ticks": ""
             }
            },
            "type": "scatterpolar"
           }
          ],
          "scatterpolargl": [
           {
            "marker": {
             "colorbar": {
              "outlinewidth": 0,
              "ticks": ""
             }
            },
            "type": "scatterpolargl"
           }
          ],
          "scatterternary": [
           {
            "marker": {
             "colorbar": {
              "outlinewidth": 0,
              "ticks": ""
             }
            },
            "type": "scatterternary"
           }
          ],
          "surface": [
           {
            "colorbar": {
             "outlinewidth": 0,
             "ticks": ""
            },
            "colorscale": [
             [
              0,
              "#0d0887"
             ],
             [
              0.1111111111111111,
              "#46039f"
             ],
             [
              0.2222222222222222,
              "#7201a8"
             ],
             [
              0.3333333333333333,
              "#9c179e"
             ],
             [
              0.4444444444444444,
              "#bd3786"
             ],
             [
              0.5555555555555556,
              "#d8576b"
             ],
             [
              0.6666666666666666,
              "#ed7953"
             ],
             [
              0.7777777777777778,
              "#fb9f3a"
             ],
             [
              0.8888888888888888,
              "#fdca26"
             ],
             [
              1,
              "#f0f921"
             ]
            ],
            "type": "surface"
           }
          ],
          "table": [
           {
            "cells": {
             "fill": {
              "color": "#EBF0F8"
             },
             "line": {
              "color": "white"
             }
            },
            "header": {
             "fill": {
              "color": "#C8D4E3"
             },
             "line": {
              "color": "white"
             }
            },
            "type": "table"
           }
          ]
         },
         "layout": {
          "annotationdefaults": {
           "arrowcolor": "#2a3f5f",
           "arrowhead": 0,
           "arrowwidth": 1
          },
          "autotypenumbers": "strict",
          "coloraxis": {
           "colorbar": {
            "outlinewidth": 0,
            "ticks": ""
           }
          },
          "colorscale": {
           "diverging": [
            [
             0,
             "#8e0152"
            ],
            [
             0.1,
             "#c51b7d"
            ],
            [
             0.2,
             "#de77ae"
            ],
            [
             0.3,
             "#f1b6da"
            ],
            [
             0.4,
             "#fde0ef"
            ],
            [
             0.5,
             "#f7f7f7"
            ],
            [
             0.6,
             "#e6f5d0"
            ],
            [
             0.7,
             "#b8e186"
            ],
            [
             0.8,
             "#7fbc41"
            ],
            [
             0.9,
             "#4d9221"
            ],
            [
             1,
             "#276419"
            ]
           ],
           "sequential": [
            [
             0,
             "#0d0887"
            ],
            [
             0.1111111111111111,
             "#46039f"
            ],
            [
             0.2222222222222222,
             "#7201a8"
            ],
            [
             0.3333333333333333,
             "#9c179e"
            ],
            [
             0.4444444444444444,
             "#bd3786"
            ],
            [
             0.5555555555555556,
             "#d8576b"
            ],
            [
             0.6666666666666666,
             "#ed7953"
            ],
            [
             0.7777777777777778,
             "#fb9f3a"
            ],
            [
             0.8888888888888888,
             "#fdca26"
            ],
            [
             1,
             "#f0f921"
            ]
           ],
           "sequentialminus": [
            [
             0,
             "#0d0887"
            ],
            [
             0.1111111111111111,
             "#46039f"
            ],
            [
             0.2222222222222222,
             "#7201a8"
            ],
            [
             0.3333333333333333,
             "#9c179e"
            ],
            [
             0.4444444444444444,
             "#bd3786"
            ],
            [
             0.5555555555555556,
             "#d8576b"
            ],
            [
             0.6666666666666666,
             "#ed7953"
            ],
            [
             0.7777777777777778,
             "#fb9f3a"
            ],
            [
             0.8888888888888888,
             "#fdca26"
            ],
            [
             1,
             "#f0f921"
            ]
           ]
          },
          "colorway": [
           "#636efa",
           "#EF553B",
           "#00cc96",
           "#ab63fa",
           "#FFA15A",
           "#19d3f3",
           "#FF6692",
           "#B6E880",
           "#FF97FF",
           "#FECB52"
          ],
          "font": {
           "color": "#2a3f5f"
          },
          "geo": {
           "bgcolor": "white",
           "lakecolor": "white",
           "landcolor": "#E5ECF6",
           "showlakes": true,
           "showland": true,
           "subunitcolor": "white"
          },
          "hoverlabel": {
           "align": "left"
          },
          "hovermode": "closest",
          "mapbox": {
           "style": "light"
          },
          "paper_bgcolor": "white",
          "plot_bgcolor": "#E5ECF6",
          "polar": {
           "angularaxis": {
            "gridcolor": "white",
            "linecolor": "white",
            "ticks": ""
           },
           "bgcolor": "#E5ECF6",
           "radialaxis": {
            "gridcolor": "white",
            "linecolor": "white",
            "ticks": ""
           }
          },
          "scene": {
           "xaxis": {
            "backgroundcolor": "#E5ECF6",
            "gridcolor": "white",
            "gridwidth": 2,
            "linecolor": "white",
            "showbackground": true,
            "ticks": "",
            "zerolinecolor": "white"
           },
           "yaxis": {
            "backgroundcolor": "#E5ECF6",
            "gridcolor": "white",
            "gridwidth": 2,
            "linecolor": "white",
            "showbackground": true,
            "ticks": "",
            "zerolinecolor": "white"
           },
           "zaxis": {
            "backgroundcolor": "#E5ECF6",
            "gridcolor": "white",
            "gridwidth": 2,
            "linecolor": "white",
            "showbackground": true,
            "ticks": "",
            "zerolinecolor": "white"
           }
          },
          "shapedefaults": {
           "line": {
            "color": "#2a3f5f"
           }
          },
          "ternary": {
           "aaxis": {
            "gridcolor": "white",
            "linecolor": "white",
            "ticks": ""
           },
           "baxis": {
            "gridcolor": "white",
            "linecolor": "white",
            "ticks": ""
           },
           "bgcolor": "#E5ECF6",
           "caxis": {
            "gridcolor": "white",
            "linecolor": "white",
            "ticks": ""
           }
          },
          "title": {
           "x": 0.05
          },
          "xaxis": {
           "automargin": true,
           "gridcolor": "white",
           "linecolor": "white",
           "ticks": "",
           "title": {
            "standoff": 15
           },
           "zerolinecolor": "white",
           "zerolinewidth": 2
          },
          "yaxis": {
           "automargin": true,
           "gridcolor": "white",
           "linecolor": "white",
           "ticks": "",
           "title": {
            "standoff": 15
           },
           "zerolinecolor": "white",
           "zerolinewidth": 2
          }
         }
        },
        "title": {
         "text": "Yearly Totals by Component Over the Years"
        },
        "width": 900,
        "xaxis": {
         "anchor": "y",
         "domain": [
          0,
          1
         ],
         "title": {
          "text": "Year"
         }
        },
        "yaxis": {
         "anchor": "x",
         "domain": [
          0,
          1
         ],
         "title": {
          "text": "Total Value"
         }
        }
       }
      }
     },
     "metadata": {},
     "output_type": "display_data"
    }
   ],
   "source": [
    "\n",
    "# Create a bar graph using Plotly Express\n",
    "fig = px.line(\n",
    "    yearly_totals, \n",
    "    x='year', \n",
    "    y='value', \n",
    "    color='component', \n",
    "    markers=True,\n",
    "    title=\"Yearly Totals by Component Over the Years\",\n",
    "    labels={'value': 'Total Value', 'year': 'Year'},\n",
    "    \n",
    ")\n",
    "\n",
    "# Update layout for better appearance\n",
    "fig.update_layout(\n",
    "    xaxis_title='Year',\n",
    "    yaxis_title='Total Value',\n",
    "    legend_title='Component',\n",
    "    width=900,\n",
    "    height=600\n",
    ")\n",
    "\n",
    "# Show the figure\n",
    "fig.show()"
   ]
  },
  {
   "cell_type": "markdown",
   "metadata": {},
   "source": [
    "#### population pyramid"
   ]
  },
  {
   "cell_type": "code",
   "execution_count": 162,
   "metadata": {},
   "outputs": [],
   "source": [
    "#for unit age\n",
    "combined_10yr_fert_popn = combined_10yr_fert[combined_10yr_fert['component'] == 'popn']\n",
    "population_pyramids_unit_age = combined_10yr_fert_popn.copy()\n",
    "population_pyramids_unit_age = population_pyramids_unit_age[~population_pyramids_unit_age['gss_code_ward'].isna()]"
   ]
  },
  {
   "cell_type": "code",
   "execution_count": 163,
   "metadata": {},
   "outputs": [
    {
     "data": {
      "text/html": [
       "<div>\n",
       "<style scoped>\n",
       "    .dataframe tbody tr th:only-of-type {\n",
       "        vertical-align: middle;\n",
       "    }\n",
       "\n",
       "    .dataframe tbody tr th {\n",
       "        vertical-align: top;\n",
       "    }\n",
       "\n",
       "    .dataframe thead th {\n",
       "        text-align: right;\n",
       "    }\n",
       "</style>\n",
       "<table border=\"1\" class=\"dataframe\">\n",
       "  <thead>\n",
       "    <tr style=\"text-align: right;\">\n",
       "      <th></th>\n",
       "      <th>gss_code</th>\n",
       "      <th>la_name</th>\n",
       "      <th>year</th>\n",
       "      <th>sex</th>\n",
       "      <th>age</th>\n",
       "      <th>value</th>\n",
       "      <th>component</th>\n",
       "      <th>gss_code_ward</th>\n",
       "      <th>ward_name</th>\n",
       "    </tr>\n",
       "  </thead>\n",
       "  <tbody>\n",
       "    <tr>\n",
       "      <th>10477662</th>\n",
       "      <td>E09000001</td>\n",
       "      <td>City of London</td>\n",
       "      <td>2011.0</td>\n",
       "      <td>female</td>\n",
       "      <td>0.0</td>\n",
       "      <td>37.0</td>\n",
       "      <td>popn</td>\n",
       "      <td>E09000001</td>\n",
       "      <td>City of London</td>\n",
       "    </tr>\n",
       "    <tr>\n",
       "      <th>10477663</th>\n",
       "      <td>E09000001</td>\n",
       "      <td>City of London</td>\n",
       "      <td>2011.0</td>\n",
       "      <td>female</td>\n",
       "      <td>1.0</td>\n",
       "      <td>34.0</td>\n",
       "      <td>popn</td>\n",
       "      <td>E09000001</td>\n",
       "      <td>City of London</td>\n",
       "    </tr>\n",
       "    <tr>\n",
       "      <th>10477664</th>\n",
       "      <td>E09000001</td>\n",
       "      <td>City of London</td>\n",
       "      <td>2011.0</td>\n",
       "      <td>female</td>\n",
       "      <td>2.0</td>\n",
       "      <td>28.0</td>\n",
       "      <td>popn</td>\n",
       "      <td>E09000001</td>\n",
       "      <td>City of London</td>\n",
       "    </tr>\n",
       "    <tr>\n",
       "      <th>10477665</th>\n",
       "      <td>E09000001</td>\n",
       "      <td>City of London</td>\n",
       "      <td>2011.0</td>\n",
       "      <td>female</td>\n",
       "      <td>3.0</td>\n",
       "      <td>18.0</td>\n",
       "      <td>popn</td>\n",
       "      <td>E09000001</td>\n",
       "      <td>City of London</td>\n",
       "    </tr>\n",
       "    <tr>\n",
       "      <th>10477666</th>\n",
       "      <td>E09000001</td>\n",
       "      <td>City of London</td>\n",
       "      <td>2011.0</td>\n",
       "      <td>female</td>\n",
       "      <td>4.0</td>\n",
       "      <td>21.0</td>\n",
       "      <td>popn</td>\n",
       "      <td>E09000001</td>\n",
       "      <td>City of London</td>\n",
       "    </tr>\n",
       "    <tr>\n",
       "      <th>...</th>\n",
       "      <td>...</td>\n",
       "      <td>...</td>\n",
       "      <td>...</td>\n",
       "      <td>...</td>\n",
       "      <td>...</td>\n",
       "      <td>...</td>\n",
       "      <td>...</td>\n",
       "      <td>...</td>\n",
       "      <td>...</td>\n",
       "    </tr>\n",
       "    <tr>\n",
       "      <th>15428057</th>\n",
       "      <td>E09000033</td>\n",
       "      <td>Westminster</td>\n",
       "      <td>2050.0</td>\n",
       "      <td>male</td>\n",
       "      <td>86.0</td>\n",
       "      <td>16.9</td>\n",
       "      <td>popn</td>\n",
       "      <td>E05013809</td>\n",
       "      <td>Westbourne</td>\n",
       "    </tr>\n",
       "    <tr>\n",
       "      <th>15428058</th>\n",
       "      <td>E09000033</td>\n",
       "      <td>Westminster</td>\n",
       "      <td>2050.0</td>\n",
       "      <td>male</td>\n",
       "      <td>87.0</td>\n",
       "      <td>13.3</td>\n",
       "      <td>popn</td>\n",
       "      <td>E05013809</td>\n",
       "      <td>Westbourne</td>\n",
       "    </tr>\n",
       "    <tr>\n",
       "      <th>15428059</th>\n",
       "      <td>E09000033</td>\n",
       "      <td>Westminster</td>\n",
       "      <td>2050.0</td>\n",
       "      <td>male</td>\n",
       "      <td>88.0</td>\n",
       "      <td>11.0</td>\n",
       "      <td>popn</td>\n",
       "      <td>E05013809</td>\n",
       "      <td>Westbourne</td>\n",
       "    </tr>\n",
       "    <tr>\n",
       "      <th>15428060</th>\n",
       "      <td>E09000033</td>\n",
       "      <td>Westminster</td>\n",
       "      <td>2050.0</td>\n",
       "      <td>male</td>\n",
       "      <td>89.0</td>\n",
       "      <td>9.9</td>\n",
       "      <td>popn</td>\n",
       "      <td>E05013809</td>\n",
       "      <td>Westbourne</td>\n",
       "    </tr>\n",
       "    <tr>\n",
       "      <th>15428061</th>\n",
       "      <td>E09000033</td>\n",
       "      <td>Westminster</td>\n",
       "      <td>2050.0</td>\n",
       "      <td>male</td>\n",
       "      <td>90.0</td>\n",
       "      <td>25.0</td>\n",
       "      <td>popn</td>\n",
       "      <td>E05013809</td>\n",
       "      <td>Westbourne</td>\n",
       "    </tr>\n",
       "  </tbody>\n",
       "</table>\n",
       "<p>4950400 rows × 9 columns</p>\n",
       "</div>"
      ],
      "text/plain": [
       "           gss_code         la_name    year     sex   age  value component  \\\n",
       "10477662  E09000001  City of London  2011.0  female   0.0   37.0      popn   \n",
       "10477663  E09000001  City of London  2011.0  female   1.0   34.0      popn   \n",
       "10477664  E09000001  City of London  2011.0  female   2.0   28.0      popn   \n",
       "10477665  E09000001  City of London  2011.0  female   3.0   18.0      popn   \n",
       "10477666  E09000001  City of London  2011.0  female   4.0   21.0      popn   \n",
       "...             ...             ...     ...     ...   ...    ...       ...   \n",
       "15428057  E09000033     Westminster  2050.0    male  86.0   16.9      popn   \n",
       "15428058  E09000033     Westminster  2050.0    male  87.0   13.3      popn   \n",
       "15428059  E09000033     Westminster  2050.0    male  88.0   11.0      popn   \n",
       "15428060  E09000033     Westminster  2050.0    male  89.0    9.9      popn   \n",
       "15428061  E09000033     Westminster  2050.0    male  90.0   25.0      popn   \n",
       "\n",
       "         gss_code_ward       ward_name  \n",
       "10477662     E09000001  City of London  \n",
       "10477663     E09000001  City of London  \n",
       "10477664     E09000001  City of London  \n",
       "10477665     E09000001  City of London  \n",
       "10477666     E09000001  City of London  \n",
       "...                ...             ...  \n",
       "15428057     E05013809      Westbourne  \n",
       "15428058     E05013809      Westbourne  \n",
       "15428059     E05013809      Westbourne  \n",
       "15428060     E05013809      Westbourne  \n",
       "15428061     E05013809      Westbourne  \n",
       "\n",
       "[4950400 rows x 9 columns]"
      ]
     },
     "execution_count": 163,
     "metadata": {},
     "output_type": "execute_result"
    }
   ],
   "source": [
    "population_pyramids_unit_age"
   ]
  },
  {
   "cell_type": "code",
   "execution_count": 164,
   "metadata": {},
   "outputs": [
    {
     "data": {
      "text/html": [
       "\n",
       "        <iframe\n",
       "            width=\"100%\"\n",
       "            height=\"650\"\n",
       "            src=\"http://127.0.0.1:1223/\"\n",
       "            frameborder=\"0\"\n",
       "            allowfullscreen\n",
       "            \n",
       "        ></iframe>\n",
       "        "
      ],
      "text/plain": [
       "<IPython.lib.display.IFrame at 0x2683473ec00>"
      ]
     },
     "metadata": {},
     "output_type": "display_data"
    },
    {
     "name": "stderr",
     "output_type": "stream",
     "text": [
      "C:\\Users\\user\\AppData\\Local\\Temp\\ipykernel_10204\\668186827.py:60: SettingWithCopyWarning:\n",
      "\n",
      "\n",
      "A value is trying to be set on a copy of a slice from a DataFrame.\n",
      "Try using .loc[row_indexer,col_indexer] = value instead\n",
      "\n",
      "See the caveats in the documentation: https://pandas.pydata.org/pandas-docs/stable/user_guide/indexing.html#returning-a-view-versus-a-copy\n",
      "\n",
      "C:\\Users\\user\\AppData\\Local\\Temp\\ipykernel_10204\\668186827.py:60: SettingWithCopyWarning:\n",
      "\n",
      "\n",
      "A value is trying to be set on a copy of a slice from a DataFrame.\n",
      "Try using .loc[row_indexer,col_indexer] = value instead\n",
      "\n",
      "See the caveats in the documentation: https://pandas.pydata.org/pandas-docs/stable/user_guide/indexing.html#returning-a-view-versus-a-copy\n",
      "\n",
      "C:\\Users\\user\\AppData\\Local\\Temp\\ipykernel_10204\\668186827.py:60: SettingWithCopyWarning:\n",
      "\n",
      "\n",
      "A value is trying to be set on a copy of a slice from a DataFrame.\n",
      "Try using .loc[row_indexer,col_indexer] = value instead\n",
      "\n",
      "See the caveats in the documentation: https://pandas.pydata.org/pandas-docs/stable/user_guide/indexing.html#returning-a-view-versus-a-copy\n",
      "\n",
      "C:\\Users\\user\\AppData\\Local\\Temp\\ipykernel_10204\\668186827.py:60: SettingWithCopyWarning:\n",
      "\n",
      "\n",
      "A value is trying to be set on a copy of a slice from a DataFrame.\n",
      "Try using .loc[row_indexer,col_indexer] = value instead\n",
      "\n",
      "See the caveats in the documentation: https://pandas.pydata.org/pandas-docs/stable/user_guide/indexing.html#returning-a-view-versus-a-copy\n",
      "\n",
      "C:\\Users\\user\\AppData\\Local\\Temp\\ipykernel_10204\\668186827.py:60: SettingWithCopyWarning:\n",
      "\n",
      "\n",
      "A value is trying to be set on a copy of a slice from a DataFrame.\n",
      "Try using .loc[row_indexer,col_indexer] = value instead\n",
      "\n",
      "See the caveats in the documentation: https://pandas.pydata.org/pandas-docs/stable/user_guide/indexing.html#returning-a-view-versus-a-copy\n",
      "\n",
      "C:\\Users\\user\\AppData\\Local\\Temp\\ipykernel_10204\\668186827.py:60: SettingWithCopyWarning:\n",
      "\n",
      "\n",
      "A value is trying to be set on a copy of a slice from a DataFrame.\n",
      "Try using .loc[row_indexer,col_indexer] = value instead\n",
      "\n",
      "See the caveats in the documentation: https://pandas.pydata.org/pandas-docs/stable/user_guide/indexing.html#returning-a-view-versus-a-copy\n",
      "\n",
      "C:\\Users\\user\\AppData\\Local\\Temp\\ipykernel_10204\\668186827.py:60: SettingWithCopyWarning:\n",
      "\n",
      "\n",
      "A value is trying to be set on a copy of a slice from a DataFrame.\n",
      "Try using .loc[row_indexer,col_indexer] = value instead\n",
      "\n",
      "See the caveats in the documentation: https://pandas.pydata.org/pandas-docs/stable/user_guide/indexing.html#returning-a-view-versus-a-copy\n",
      "\n",
      "C:\\Users\\user\\AppData\\Local\\Temp\\ipykernel_10204\\668186827.py:60: SettingWithCopyWarning:\n",
      "\n",
      "\n",
      "A value is trying to be set on a copy of a slice from a DataFrame.\n",
      "Try using .loc[row_indexer,col_indexer] = value instead\n",
      "\n",
      "See the caveats in the documentation: https://pandas.pydata.org/pandas-docs/stable/user_guide/indexing.html#returning-a-view-versus-a-copy\n",
      "\n",
      "C:\\Users\\user\\AppData\\Local\\Temp\\ipykernel_10204\\668186827.py:60: SettingWithCopyWarning:\n",
      "\n",
      "\n",
      "A value is trying to be set on a copy of a slice from a DataFrame.\n",
      "Try using .loc[row_indexer,col_indexer] = value instead\n",
      "\n",
      "See the caveats in the documentation: https://pandas.pydata.org/pandas-docs/stable/user_guide/indexing.html#returning-a-view-versus-a-copy\n",
      "\n",
      "C:\\Users\\user\\AppData\\Local\\Temp\\ipykernel_10204\\668186827.py:60: SettingWithCopyWarning:\n",
      "\n",
      "\n",
      "A value is trying to be set on a copy of a slice from a DataFrame.\n",
      "Try using .loc[row_indexer,col_indexer] = value instead\n",
      "\n",
      "See the caveats in the documentation: https://pandas.pydata.org/pandas-docs/stable/user_guide/indexing.html#returning-a-view-versus-a-copy\n",
      "\n"
     ]
    }
   ],
   "source": [
    "app = dash.Dash(__name__)\n",
    "\n",
    "app.layout = html.Div([\n",
    "    dcc.Dropdown(\n",
    "        id='location-dropdown',\n",
    "        options=[{'label': loc, 'value': loc} for loc in population_pyramids_unit_age['la_name'].unique()] + [{'label': 'London Total (All LAs)', 'value': 'London Total (All LAs)'}],\n",
    "        value=population_pyramids_unit_age['la_name'].unique()[0]\n",
    "    ),\n",
    "    dcc.Dropdown(\n",
    "        id='ward-dropdown'\n",
    "    ),\n",
    "    dcc.Graph(id='population-pyramid')\n",
    "])\n",
    "\n",
    "@app.callback(\n",
    "    Output('ward-dropdown', 'options'),\n",
    "    Output('ward-dropdown', 'value'),\n",
    "    Input('location-dropdown', 'value')\n",
    ")\n",
    "def update_ward_dropdown(selected_location):\n",
    "    if selected_location == 'London Total (All LAs)':\n",
    "        # If \"London Total (All LAs)\" is selected, disable the ward dropdown\n",
    "        return [{'label': 'All Wards', 'value': 'All Wards'}], 'All Wards'\n",
    "    else:\n",
    "        # Filter data for the selected location to get ward names\n",
    "        filtered_data = population_pyramids_unit_age[population_pyramids_unit_age['la_name'] == selected_location]\n",
    "        \n",
    "        # Get unique ward names for the selected location\n",
    "        ward_options = [{'label': ward, 'value': ward} for ward in filtered_data['ward_name'].unique()]\n",
    "        \n",
    "        # Add 'All Wards' option\n",
    "        ward_options.insert(0, {'label': 'All Wards', 'value': 'All Wards'})\n",
    "        \n",
    "        # Return the options and set the default value to 'All Wards'\n",
    "        return ward_options, 'All Wards'\n",
    "\n",
    "@app.callback(\n",
    "    Output('population-pyramid', 'figure'),\n",
    "    Input('location-dropdown', 'value'),\n",
    "    Input('ward-dropdown', 'value')\n",
    ")\n",
    "def update_pyramid(selected_location, selected_ward):\n",
    "    if selected_location == 'London Total (All LAs)':\n",
    "        # Combine data for all locations\n",
    "        filtered_data = population_pyramids_unit_age.copy()\n",
    "        title = 'Population Pyramid for London Total (All LAs)'\n",
    "    elif selected_ward == 'All Wards':\n",
    "        # Combine data for all wards in the selected location\n",
    "        filtered_data = population_pyramids_unit_age[population_pyramids_unit_age['la_name'] == selected_location]\n",
    "        title = f'Population Pyramid for {selected_location} - All Wards'\n",
    "    else:\n",
    "        # Filter data for the selected location and ward\n",
    "        filtered_data = population_pyramids_unit_age[\n",
    "            (population_pyramids_unit_age['la_name'] == selected_location) & \n",
    "            (population_pyramids_unit_age['ward_name'] == selected_ward)\n",
    "        ]\n",
    "        title = f'Population Pyramid for {selected_location} - {selected_ward}'\n",
    "\n",
    "    # Negate female population values to create a pyramid\n",
    "    filtered_data['value'] = filtered_data.apply(lambda row: -row['value'] if row['sex'] == 'female' else row['value'], axis=1)\n",
    "\n",
    "    # Create a plotly express bar chart with animation\n",
    "    fig = px.bar(\n",
    "        filtered_data,\n",
    "        x='value',\n",
    "        y='age',\n",
    "        color='sex',\n",
    "        animation_frame='year',\n",
    "        orientation='h',\n",
    "        title=title,\n",
    "        labels={'value': 'Population', 'age': 'Age'},\n",
    "        color_discrete_map={'male': 'blue', 'female': 'pink'},\n",
    "        height=600,\n",
    "        range_x=[-filtered_data['value'].max()*1.2, filtered_data['value'].max()*1.2], #need to keep x-axis consistent over time for comparison\n",
    "        hover_data={'ward_name': True}\n",
    "    )\n",
    "\n",
    "    # Update layout for better appearance\n",
    "    fig.update_layout(\n",
    "        barmode='relative',\n",
    "        xaxis_title='Population',\n",
    "        yaxis_title='Age',\n",
    "        showlegend=True,\n",
    "        width=800,\n",
    "    )\n",
    "    return fig\n",
    "\n",
    "if __name__ == '__main__':\n",
    "    app.run_server(debug=True, port=1223)"
   ]
  },
  {
   "cell_type": "markdown",
   "metadata": {},
   "source": [
    "\n",
    "## Collate Outliers\n",
    "Summarize and compile all detected outliers for further analysis.\n",
    "\n",
    "---"
   ]
  },
  {
   "cell_type": "markdown",
   "metadata": {},
   "source": []
  },
  {
   "cell_type": "code",
   "execution_count": 167,
   "metadata": {},
   "outputs": [
    {
     "name": "stdout",
     "output_type": "stream",
     "text": [
      "DataFrame Name: births_pct_change_outlier_df\n",
      "Columns: ['gss_code', 'gss_code_ward', 'sex', 'age', 'year', 'births', 'deaths', 'netflow', 'popn', 'births_pct_change', 'deaths_pct_change', 'netflow_pct_change', 'popn_pct_change', 'robust_z_score']\n",
      "Length: 16305\n",
      "\n",
      "--------------------------------------------------\n",
      "\n",
      "DataFrame Name: deaths_pct_change_outlier_df\n",
      "Columns: ['gss_code', 'gss_code_ward', 'sex', 'age', 'year', 'births', 'deaths', 'netflow', 'popn', 'births_pct_change', 'deaths_pct_change', 'netflow_pct_change', 'popn_pct_change', 'robust_z_score']\n",
      "Length: 117296\n",
      "\n",
      "--------------------------------------------------\n",
      "\n",
      "DataFrame Name: netflow_pct_change_outlier_df\n",
      "Columns: ['gss_code', 'gss_code_ward', 'sex', 'age', 'year', 'births', 'deaths', 'netflow', 'popn', 'births_pct_change', 'deaths_pct_change', 'netflow_pct_change', 'popn_pct_change', 'robust_z_score']\n",
      "Length: 138078\n",
      "\n",
      "--------------------------------------------------\n",
      "\n",
      "DataFrame Name: popn_pct_change_outlier_df\n",
      "Columns: ['gss_code', 'gss_code_ward', 'sex', 'age', 'year', 'births', 'deaths', 'netflow', 'popn', 'births_pct_change', 'deaths_pct_change', 'netflow_pct_change', 'popn_pct_change', 'robust_z_score']\n",
      "Length: 80683\n",
      "\n",
      "--------------------------------------------------\n",
      "\n",
      "DataFrame Name: births_pct_change_borough_outlier_df\n",
      "Columns: ['gss_code', 'gss_code_ward', 'sex', 'age', 'year', 'births', 'deaths', 'netflow', 'popn', 'births_pct_change', 'deaths_pct_change', 'netflow_pct_change', 'popn_pct_change', 'robust_z_score']\n",
      "Length: 16305\n",
      "\n",
      "--------------------------------------------------\n",
      "\n",
      "DataFrame Name: deaths_pct_change_borough_outlier_df\n",
      "Columns: ['gss_code', 'gss_code_ward', 'sex', 'age', 'year', 'births', 'deaths', 'netflow', 'popn', 'births_pct_change', 'deaths_pct_change', 'netflow_pct_change', 'popn_pct_change', 'robust_z_score']\n",
      "Length: 117296\n",
      "\n",
      "--------------------------------------------------\n",
      "\n",
      "DataFrame Name: netflow_pct_change_borough_outlier_df\n",
      "Columns: ['gss_code', 'gss_code_ward', 'sex', 'age', 'year', 'births', 'deaths', 'netflow', 'popn', 'births_pct_change', 'deaths_pct_change', 'netflow_pct_change', 'popn_pct_change', 'robust_z_score']\n",
      "Length: 138078\n",
      "\n",
      "--------------------------------------------------\n",
      "\n",
      "DataFrame Name: popn_pct_change_borough_outlier_df\n",
      "Columns: ['gss_code', 'gss_code_ward', 'sex', 'age', 'year', 'births', 'deaths', 'netflow', 'popn', 'births_pct_change', 'deaths_pct_change', 'netflow_pct_change', 'popn_pct_change', 'robust_z_score']\n",
      "Length: 80683\n",
      "\n",
      "--------------------------------------------------\n",
      "\n",
      "DataFrame Name: births_pct_change_ward_outlier_df\n",
      "Columns: ['gss_code', 'gss_code_ward', 'sex', 'age', 'year', 'births', 'deaths', 'netflow', 'popn', 'births_pct_change', 'deaths_pct_change', 'netflow_pct_change', 'popn_pct_change', 'robust_z_score']\n",
      "Length: 15207\n",
      "\n",
      "--------------------------------------------------\n",
      "\n",
      "DataFrame Name: deaths_pct_change_ward_outlier_df\n",
      "Columns: ['gss_code', 'gss_code_ward', 'sex', 'age', 'year', 'births', 'deaths', 'netflow', 'popn', 'births_pct_change', 'deaths_pct_change', 'netflow_pct_change', 'popn_pct_change', 'robust_z_score']\n",
      "Length: 107953\n",
      "\n",
      "--------------------------------------------------\n",
      "\n",
      "DataFrame Name: netflow_pct_change_ward_outlier_df\n",
      "Columns: ['gss_code', 'gss_code_ward', 'sex', 'age', 'year', 'births', 'deaths', 'netflow', 'popn', 'births_pct_change', 'deaths_pct_change', 'netflow_pct_change', 'popn_pct_change', 'robust_z_score']\n",
      "Length: 129644\n",
      "\n",
      "--------------------------------------------------\n",
      "\n",
      "DataFrame Name: popn_pct_change_ward_outlier_df\n",
      "Columns: ['gss_code', 'gss_code_ward', 'sex', 'age', 'year', 'births', 'deaths', 'netflow', 'popn', 'births_pct_change', 'deaths_pct_change', 'netflow_pct_change', 'popn_pct_change', 'robust_z_score']\n",
      "Length: 75228\n",
      "\n",
      "--------------------------------------------------\n",
      "\n",
      "DataFrame Name: births_pct_change_borough_inf_outlier_df\n",
      "Columns: ['gss_code', 'gss_code_ward', 'sex', 'age', 'year', 'births', 'deaths', 'netflow', 'popn', 'births_pct_change', 'deaths_pct_change', 'netflow_pct_change', 'popn_pct_change', 'robust_z_score']\n",
      "Length: 0\n",
      "\n",
      "--------------------------------------------------\n",
      "\n",
      "DataFrame Name: deaths_pct_change_borough_inf_outlier_df\n",
      "Columns: ['gss_code', 'gss_code_ward', 'sex', 'age', 'year', 'births', 'deaths', 'netflow', 'popn', 'births_pct_change', 'deaths_pct_change', 'netflow_pct_change', 'popn_pct_change', 'robust_z_score']\n",
      "Length: 1614\n",
      "\n",
      "--------------------------------------------------\n",
      "\n",
      "DataFrame Name: netflow_pct_change_borough_inf_outlier_df\n",
      "Columns: ['gss_code', 'gss_code_ward', 'sex', 'age', 'year', 'births', 'deaths', 'netflow', 'popn', 'births_pct_change', 'deaths_pct_change', 'netflow_pct_change', 'popn_pct_change', 'robust_z_score']\n",
      "Length: 371\n",
      "\n",
      "--------------------------------------------------\n",
      "\n",
      "DataFrame Name: popn_pct_change_borough_inf_outlier_df\n",
      "Columns: ['gss_code', 'gss_code_ward', 'sex', 'age', 'year', 'births', 'deaths', 'netflow', 'popn', 'births_pct_change', 'deaths_pct_change', 'netflow_pct_change', 'popn_pct_change', 'robust_z_score']\n",
      "Length: 1\n",
      "\n",
      "--------------------------------------------------\n",
      "\n",
      "DataFrame Name: births_pct_change_ward_inf_outlier_df\n",
      "Columns: ['gss_code', 'gss_code_ward', 'sex', 'age', 'year', 'births', 'deaths', 'netflow', 'popn', 'births_pct_change', 'deaths_pct_change', 'netflow_pct_change', 'popn_pct_change', 'robust_z_score']\n",
      "Length: 0\n",
      "\n",
      "--------------------------------------------------\n",
      "\n",
      "DataFrame Name: deaths_pct_change_ward_inf_outlier_df\n",
      "Columns: ['gss_code', 'gss_code_ward', 'sex', 'age', 'year', 'births', 'deaths', 'netflow', 'popn', 'births_pct_change', 'deaths_pct_change', 'netflow_pct_change', 'popn_pct_change', 'robust_z_score']\n",
      "Length: 1578\n",
      "\n",
      "--------------------------------------------------\n",
      "\n",
      "DataFrame Name: netflow_pct_change_ward_inf_outlier_df\n",
      "Columns: ['gss_code', 'gss_code_ward', 'sex', 'age', 'year', 'births', 'deaths', 'netflow', 'popn', 'births_pct_change', 'deaths_pct_change', 'netflow_pct_change', 'popn_pct_change', 'robust_z_score']\n",
      "Length: 350\n",
      "\n",
      "--------------------------------------------------\n",
      "\n",
      "DataFrame Name: popn_pct_change_ward_inf_outlier_df\n",
      "Columns: ['gss_code', 'gss_code_ward', 'sex', 'age', 'year', 'births', 'deaths', 'netflow', 'popn', 'births_pct_change', 'deaths_pct_change', 'netflow_pct_change', 'popn_pct_change', 'robust_z_score']\n",
      "Length: 0\n",
      "\n",
      "--------------------------------------------------\n",
      "\n",
      "DataFrame Name: births_gender_outliers_df\n",
      "Columns: ['gss_code', 'year', 'age', 'births', 'deaths', 'netflow', 'popn']\n",
      "Length: 19\n",
      "\n",
      "--------------------------------------------------\n",
      "\n",
      "DataFrame Name: deaths_gender_outliers_df\n",
      "Columns: ['gss_code', 'year', 'age', 'births', 'deaths', 'netflow', 'popn']\n",
      "Length: 369\n",
      "\n",
      "--------------------------------------------------\n",
      "\n",
      "DataFrame Name: netflow_gender_outliers_df\n",
      "Columns: ['gss_code', 'year', 'age', 'births', 'deaths', 'netflow', 'popn']\n",
      "Length: 120\n",
      "\n",
      "--------------------------------------------------\n",
      "\n",
      "DataFrame Name: popn_gender_outliers_df\n",
      "Columns: ['gss_code', 'year', 'age', 'births', 'deaths', 'netflow', 'popn']\n",
      "Length: 419\n",
      "\n",
      "--------------------------------------------------\n",
      "\n"
     ]
    }
   ],
   "source": [
    "# Filter the global variables to find dataframes with 'outlier' in their name\n",
    "outlier_dfs = {name: df for name, df in globals().items() if isinstance(df, pd.DataFrame) and 'outlier' in name.lower()}\n",
    "\n",
    "# Display the name, columns, and length of each dataframe\n",
    "for name, df in outlier_dfs.items():\n",
    "    print(f\"DataFrame Name: {name}\")\n",
    "    print(f\"Columns: {df.columns.tolist()}\")\n",
    "    print(f\"Length: {len(df)}\")\n",
    "    print(\"\\n\" + \"-\"*50 + \"\\n\")"
   ]
  },
  {
   "cell_type": "code",
   "execution_count": 168,
   "metadata": {},
   "outputs": [
    {
     "name": "stdout",
     "output_type": "stream",
     "text": [
      "        gss_code    year   age  count\n",
      "2679   E09000008  2022.0   90+    417\n",
      "2668   E09000008  2021.0   90+    415\n",
      "2638   E09000008  2018.0   90+    412\n",
      "2605   E09000008  2015.0   90+    399\n",
      "7975   E09000022  2022.0   90+    396\n",
      "...          ...     ...   ...    ...\n",
      "10774  E09000029  2034.0  90.0      1\n",
      "9150   E09000025  2028.0  27.0      1\n",
      "10764  E09000029  2033.0  90.0      1\n",
      "10754  E09000029  2032.0  90.0      1\n",
      "0      E09000001  2011.0   2.0      1\n",
      "\n",
      "[12366 rows x 4 columns]\n"
     ]
    }
   ],
   "source": [
    "# Initialise an empty list to store relevant rows from all DataFrames\n",
    "all_rows = []\n",
    "\n",
    "# Loop through all outlier dataframes\n",
    "for name, df in outlier_dfs.items():\n",
    "    # Check if 'gss_code' and 'year' columns exist\n",
    "    if 'gss_code' in df.columns and 'year' in df.columns:\n",
    "        # Select the relevant columns: 'gss_code', 'year' and 'age' (if it exists)\n",
    "        cols = ['gss_code', 'year']\n",
    "        if 'age' in df.columns:\n",
    "            cols.append('age')\n",
    "\n",
    "        # Append the relevant data from the current DataFrame to the list\n",
    "        all_rows.append(df[cols])\n",
    "\n",
    "# Concatenate all collected data into one DataFrame\n",
    "if all_rows:\n",
    "    combined_df = pd.concat(all_rows)\n",
    "\n",
    "    # Group by 'gss_code', 'year', and 'age' (where applicable) and count occurrences\n",
    "    tally_df = combined_df.groupby(cols).size().reset_index(name='count')\n",
    "\n",
    "    # Sort the result by count in descending order\n",
    "    tally_df = tally_df.sort_values(by='count', ascending=False)\n",
    "\n",
    "    # Display the top rows of the tally DataFrame\n",
    "    print(tally_df)\n",
    "else:\n",
    "    print(\"No relevant data found.\")"
   ]
  },
  {
   "cell_type": "code",
   "execution_count": 169,
   "metadata": {},
   "outputs": [],
   "source": [
    "from collections import defaultdict\n",
    "\n",
    "# Initialize a dictionary to store the occurrences\n",
    "occurrences = defaultdict(lambda: {'count': 0, 'dataframes': set()})\n",
    "\n",
    "# Loop through all outlier dataframes\n",
    "for name, df in outlier_dfs.items():\n",
    "    # Check if 'gss_code' and 'year' columns exist\n",
    "    if 'gss_code' in df.columns and 'year' in df.columns:\n",
    "        # Select the relevant columns: 'gss_code', 'year' and 'age' (if it exists)\n",
    "        cols = ['gss_code', 'year']\n",
    "        if 'age' in df.columns:\n",
    "            cols.append('age')\n",
    "\n",
    "        # Iterate through the rows of the current dataframe\n",
    "        for _, row in df[cols].iterrows():\n",
    "            key = tuple(row[col] for col in cols)  # Create a tuple key of the combination\n",
    "            occurrences[key]['count'] += 1  # Increment the count\n",
    "            occurrences[key]['dataframes'].add(name)  # Add the dataframe name to the set"
   ]
  },
  {
   "cell_type": "code",
   "execution_count": 170,
   "metadata": {},
   "outputs": [
    {
     "ename": "NameError",
     "evalue": "name 'results' is not defined",
     "output_type": "error",
     "traceback": [
      "\u001b[1;31m---------------------------------------------------------------------------\u001b[0m",
      "\u001b[1;31mNameError\u001b[0m                                 Traceback (most recent call last)",
      "Cell \u001b[1;32mIn[170], line 2\u001b[0m\n\u001b[0;32m      1\u001b[0m \u001b[38;5;66;03m# Convert results list into a DataFrame\u001b[39;00m\n\u001b[1;32m----> 2\u001b[0m tally_df \u001b[38;5;241m=\u001b[39m pd\u001b[38;5;241m.\u001b[39mDataFrame(\u001b[43mresults\u001b[49m, columns\u001b[38;5;241m=\u001b[39mcolumns)\n",
      "\u001b[1;31mNameError\u001b[0m: name 'results' is not defined"
     ]
    }
   ],
   "source": [
    "# Convert results list into a DataFrame\n",
    "tally_df = pd.DataFrame(results, columns=columns)"
   ]
  },
  {
   "cell_type": "code",
   "execution_count": null,
   "metadata": {},
   "outputs": [],
   "source": [
    "import pandas as pd\n",
    "from collections import defaultdict\n",
    "\n",
    "# Initialize a defaultdict to track occurrences of each combination per DataFrame\n",
    "occurrences = defaultdict(lambda: defaultdict(int))\n",
    "\n",
    "# Loop through all outlier dataframes\n",
    "for name, df in outlier_dfs.items():\n",
    "    # Check if 'gss_code' and 'year' columns exist\n",
    "    if 'gss_code' in df.columns and 'year' in df.columns:\n",
    "        # Select the relevant columns: 'gss_code', 'year' and 'age' (if it exists)\n",
    "        cols = ['gss_code', 'year']\n",
    "        if 'age' in df.columns:\n",
    "            cols.append('age')\n",
    "\n",
    "        # Iterate through the rows of the current dataframe\n",
    "        for _, row in df[cols].iterrows():\n",
    "            key = tuple(row[col] for col in cols)  # Create a tuple key of the combination\n",
    "            occurrences[key][name] += 1  # Increment the count for the specific dataframe\n",
    "\n",
    "# Convert the defaultdict to a list of dictionaries for easier conversion to a DataFrame\n",
    "results = []\n",
    "\n",
    "# Get the list of all dataframe names\n",
    "all_dataframe_names = list(outlier_dfs.keys())\n",
    "\n",
    "# Populate the results list with the occurrences\n",
    "for key, value in occurrences.items():\n",
    "    # Start with the key (gss_code, year, age)\n",
    "    row = list(key)\n",
    "\n",
    "    # Add the counts for each dataframe, setting to 0 if not present\n",
    "    for df_name in all_dataframe_names:\n",
    "        row.append(value.get(df_name, 0))\n",
    "\n",
    "    # Add the total count across all dataframes\n",
    "    total_count = sum(row[len(key):])  # Sum from the index after the key columns to the end\n",
    "    row.append(total_count)\n",
    "\n",
    "    results.append(row)\n",
    "\n",
    "# Create columns names based on the keys, the dataframe names, and a 'total' column\n",
    "columns = cols + all_dataframe_names + ['total']\n",
    "\n",
    "# Convert results list into a DataFrame\n",
    "tally_df = pd.DataFrame(results, columns=columns)\n",
    "\n",
    "# Sort the DataFrame by the 'total' column in descending order\n",
    "tally_df = tally_df.sort_values(by='total', ascending=False)\n"
   ]
  },
  {
   "cell_type": "code",
   "execution_count": null,
   "metadata": {},
   "outputs": [],
   "source": []
  }
 ],
 "metadata": {
  "kernelspec": {
   "display_name": "env",
   "language": "python",
   "name": "python3"
  },
  "language_info": {
   "codemirror_mode": {
    "name": "ipython",
    "version": 3
   },
   "file_extension": ".py",
   "mimetype": "text/x-python",
   "name": "python",
   "nbconvert_exporter": "python",
   "pygments_lexer": "ipython3",
   "version": "3.12.3"
  }
 },
 "nbformat": 4,
 "nbformat_minor": 2
}
