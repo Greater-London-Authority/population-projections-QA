{
 "cells": [
  {
   "cell_type": "markdown",
   "metadata": {},
   "source": [
    "# 📊 **QA Script for Population Projections**\n",
    "\n",
    "## 📝 **Introduction**\n",
    "This notebook aims to identify outliers in the GLA population projection data. The analysis involves loading the dataset, preprocessing the data, defining utility functions, performing outlier detection, and presenting the results through visualisations and a \n",
    "HMTL report.\n",
    "\n",
    "### 🎯 **Goals**\n",
    "The analysis will focus on the following objectives:\n",
    "- **Load and preprocess** the population projections dataset.\n",
    "- Define utility functions.\n",
    "- Perform **basic checks** on the dataset:\n",
    "  - Range of years covered.\n",
    "  - Missing values.\n",
    "  - Duplicates.\n",
    "  - Descriptive statistics.\n",
    "  - Breakdown by components.\n",
    "  - Detecting negative values.\n",
    "  - Age group ranges.\n",
    "- **Outlier Detection** over time for each component:\n",
    "  - Identify outliers using **Z-scores** and **Robust Z-scores**.\n",
    "  - Analyse by **component**, **ward**, and **borough**.\n",
    "  - Handle **infinite values** separately.\n",
    "- **Total Population Outliers**:\n",
    "  - Use Z-scores and Robust Z-scores for comparison.\n",
    "  - Perform **cross-sectional comparisons**: Examine changes between boroughs and wards for a given year.\n",
    "  - Conduct **temporal comparisons**: Measure percentage changes between years for both boroughs and wards.\n",
    "  - Handle **infinite values** separately.\n",
    "- **Gender Outliers**:\n",
    "  - Investigate abnormal **gender ratios**.\n",
    "  - Analyse by component.\n",
    "  - Adjust the **outlier standard deviation thresholds** as needed based on different components.\n",
    "- **Key Visualisations**:\n",
    "  - Display the distribution of components.\n",
    "  - Group data by **age ranges**.\n",
    "  - Visualise **yearly totals**.\n",
    "  - Show yearly total trends over time, broken down by components.\n",
    "  - Create **population pyramids**.\n",
    "- **Collate Outliers**: Summarise and determine the key outlier rows.\n",
    "\n",
    "---\n",
    "\n",
    "## 📂 **Datasets**\n",
    "How should the dataset be structured?\n",
    "\n",
    "### Dataset 1\n",
    "The functions are designed to take datasets in the form produced by the GLA Population Projection Workflow. In the current iteration of this workflow, the first dataset contains several key columns and components as outlined below:\n",
    "\n",
    "#### Main Columns\n",
    "- **gss_code**: Borough geocode (e.g., GSS code).\n",
    "- **la_name**: Local Authority name.\n",
    "- **Year**: The year of the population data.\n",
    "- **Sex**: The gender (male/female).\n",
    "- **Age**: The age group or specific age.\n",
    "- **Value**: Count of the population in the given category.\n",
    "- **gss_code_ward**: Geocode for the ward.\n",
    "- **ward_name**: Name of the ward.\n",
    "\n",
    "#### Components Column:\n",
    "This column includes specific population-related metrics:\n",
    "- **net-flow**: Population migration inflow minus migration outflow.\n",
    "- **popn**: Total population.\n",
    "- **birth**: Number of births.\n",
    "- **deaths**: Number of deaths.\n",
    "\n",
    "### Dataset 2\n",
    "\n",
    "The second dataset that is examined for outliers is the average household size (ahs) dataset. This is analysed using the find_ahs_outliers_with_context function.\n",
    "\n",
    "The dataset just contains average household size from 2021 until 2050 by ward\n",
    "\n",
    "### \n",
    "\n",
    "\n",
    "---\n",
    "\n",
    "## 🛠️ **Structure**\n",
    "1. [**Load Data** the population projections dataset.](#load-data)\n",
    "2. [**Define Utility Functions** for effective use.](#define-utility-functions)\n",
    "3. [**Process Data**](#process-data)\n",
    "4. [**Basic Checks** on the dataset.](#basic-checks)\n",
    "5. [**Population Consistency Over Time** for each component.](#population-consistency-over-time)\n",
    "6. [**Total Population Outliers**](#total-population-outliers)\n",
    "7. [**Gender Outliers**](#gender-outliers)\n",
    "8. [**Key Visualisations**](#key-visualisations)\n",
    "9. [**Collate Outliers** to determine key outlier rows.](#collate-outliers)\n",
    "10. [**Average Household Size** Outliers.](#average-household-size_outliers)\n",
    "11. [**HTML** Report.](#produce-html-report)\n",
    "\n"
   ]
  },
  {
   "cell_type": "markdown",
   "metadata": {},
   "source": [
    "## Load Data\n",
    "This section will cover how to load and preprocess the dataset.\n",
    "\n",
    "---\n"
   ]
  },
  {
   "cell_type": "code",
<<<<<<< HEAD
   "execution_count": null,
=======
   "execution_count": 1,
>>>>>>> d6e679524c1c4c65559ed5b857f2e8f7c637a755
   "metadata": {},
   "outputs": [],
   "source": [
    "import pandas as pd\n",
    "import numpy as np\n",
    "import pyreadr\n",
    "import os\n",
    "import matplotlib.pyplot as plt\n",
    "import seaborn as sns\n",
    "from scipy import stats\n",
    "import dash\n",
    "from dash import dcc, html\n",
    "from dash.dependencies import Input, Output\n",
    "import plotly.express as px\n",
    "from typing import Dict\n",
    "from scipy.stats import zscore\n",
    "from scipy.stats import skew\n",
    "import plotly.express as px\n",
<<<<<<< HEAD
    "import plotly.io as pio\n",
    "import dash_bootstrap_components as dbc\n"
=======
    "import plotly.io as pio\n"
>>>>>>> d6e679524c1c4c65559ed5b857f2e8f7c637a755
   ]
  },
  {
   "cell_type": "code",
<<<<<<< HEAD
   "execution_count": null,
   "metadata": {},
   "outputs": [],
=======
   "execution_count": 2,
   "metadata": {},
   "outputs": [
    {
     "name": "stderr",
     "output_type": "stream",
     "text": [
      "C:\\Users\\user\\AppData\\Local\\Temp\\ipykernel_4072\\1627369184.py:2: DtypeWarning: Columns (8,9) have mixed types. Specify dtype option on import or set low_memory=False.\n",
      "  combined_10yr_fert = pd.read_csv('combined_10yr_central_fert.csv').iloc[:, 1:]\n"
     ]
    }
   ],
>>>>>>> d6e679524c1c4c65559ed5b857f2e8f7c637a755
   "source": [
    "os.chdir(r'C:\\Users\\user\\Documents\\population_data\\combined_10yr_central_fert')\n",
    "combined_10yr_fert = pd.read_csv('combined_10yr_central_fert.csv').iloc[:, 1:]"
   ]
  },
  {
   "cell_type": "code",
<<<<<<< HEAD
   "execution_count": null,
   "metadata": {},
   "outputs": [],
=======
   "execution_count": 4,
   "metadata": {},
   "outputs": [
    {
     "data": {
      "text/html": [
       "<div>\n",
       "<style scoped>\n",
       "    .dataframe tbody tr th:only-of-type {\n",
       "        vertical-align: middle;\n",
       "    }\n",
       "\n",
       "    .dataframe tbody tr th {\n",
       "        vertical-align: top;\n",
       "    }\n",
       "\n",
       "    .dataframe thead th {\n",
       "        text-align: right;\n",
       "    }\n",
       "</style>\n",
       "<table border=\"1\" class=\"dataframe\">\n",
       "  <thead>\n",
       "    <tr style=\"text-align: right;\">\n",
       "      <th></th>\n",
       "      <th>gss_code</th>\n",
       "      <th>la_name</th>\n",
       "      <th>year</th>\n",
       "      <th>sex</th>\n",
       "      <th>age</th>\n",
       "      <th>value</th>\n",
       "      <th>component</th>\n",
       "      <th>gss_code_ward</th>\n",
       "      <th>ward_name</th>\n",
       "    </tr>\n",
       "  </thead>\n",
       "  <tbody>\n",
       "    <tr>\n",
       "      <th>0</th>\n",
       "      <td>E09000001</td>\n",
       "      <td>City of London</td>\n",
       "      <td>2012.0</td>\n",
       "      <td>female</td>\n",
       "      <td>0.0</td>\n",
       "      <td>32.0</td>\n",
       "      <td>births</td>\n",
       "      <td>NaN</td>\n",
       "      <td>NaN</td>\n",
       "    </tr>\n",
       "    <tr>\n",
       "      <th>1</th>\n",
       "      <td>E09000001</td>\n",
       "      <td>City of London</td>\n",
       "      <td>2012.0</td>\n",
       "      <td>male</td>\n",
       "      <td>0.0</td>\n",
       "      <td>24.0</td>\n",
       "      <td>births</td>\n",
       "      <td>NaN</td>\n",
       "      <td>NaN</td>\n",
       "    </tr>\n",
       "    <tr>\n",
       "      <th>2</th>\n",
       "      <td>E09000001</td>\n",
       "      <td>City of London</td>\n",
       "      <td>2013.0</td>\n",
       "      <td>female</td>\n",
       "      <td>0.0</td>\n",
       "      <td>36.0</td>\n",
       "      <td>births</td>\n",
       "      <td>NaN</td>\n",
       "      <td>NaN</td>\n",
       "    </tr>\n",
       "    <tr>\n",
       "      <th>3</th>\n",
       "      <td>E09000001</td>\n",
       "      <td>City of London</td>\n",
       "      <td>2013.0</td>\n",
       "      <td>male</td>\n",
       "      <td>0.0</td>\n",
       "      <td>35.0</td>\n",
       "      <td>births</td>\n",
       "      <td>NaN</td>\n",
       "      <td>NaN</td>\n",
       "    </tr>\n",
       "    <tr>\n",
       "      <th>4</th>\n",
       "      <td>E09000001</td>\n",
       "      <td>City of London</td>\n",
       "      <td>2014.0</td>\n",
       "      <td>female</td>\n",
       "      <td>0.0</td>\n",
       "      <td>26.0</td>\n",
       "      <td>births</td>\n",
       "      <td>NaN</td>\n",
       "      <td>NaN</td>\n",
       "    </tr>\n",
       "    <tr>\n",
       "      <th>...</th>\n",
       "      <td>...</td>\n",
       "      <td>...</td>\n",
       "      <td>...</td>\n",
       "      <td>...</td>\n",
       "      <td>...</td>\n",
       "      <td>...</td>\n",
       "      <td>...</td>\n",
       "      <td>...</td>\n",
       "      <td>...</td>\n",
       "    </tr>\n",
       "    <tr>\n",
       "      <th>15428057</th>\n",
       "      <td>E09000033</td>\n",
       "      <td>Westminster</td>\n",
       "      <td>2050.0</td>\n",
       "      <td>male</td>\n",
       "      <td>86.0</td>\n",
       "      <td>16.9</td>\n",
       "      <td>popn</td>\n",
       "      <td>E05013809</td>\n",
       "      <td>Westbourne</td>\n",
       "    </tr>\n",
       "    <tr>\n",
       "      <th>15428058</th>\n",
       "      <td>E09000033</td>\n",
       "      <td>Westminster</td>\n",
       "      <td>2050.0</td>\n",
       "      <td>male</td>\n",
       "      <td>87.0</td>\n",
       "      <td>13.3</td>\n",
       "      <td>popn</td>\n",
       "      <td>E05013809</td>\n",
       "      <td>Westbourne</td>\n",
       "    </tr>\n",
       "    <tr>\n",
       "      <th>15428059</th>\n",
       "      <td>E09000033</td>\n",
       "      <td>Westminster</td>\n",
       "      <td>2050.0</td>\n",
       "      <td>male</td>\n",
       "      <td>88.0</td>\n",
       "      <td>11.0</td>\n",
       "      <td>popn</td>\n",
       "      <td>E05013809</td>\n",
       "      <td>Westbourne</td>\n",
       "    </tr>\n",
       "    <tr>\n",
       "      <th>15428060</th>\n",
       "      <td>E09000033</td>\n",
       "      <td>Westminster</td>\n",
       "      <td>2050.0</td>\n",
       "      <td>male</td>\n",
       "      <td>89.0</td>\n",
       "      <td>9.9</td>\n",
       "      <td>popn</td>\n",
       "      <td>E05013809</td>\n",
       "      <td>Westbourne</td>\n",
       "    </tr>\n",
       "    <tr>\n",
       "      <th>15428061</th>\n",
       "      <td>E09000033</td>\n",
       "      <td>Westminster</td>\n",
       "      <td>2050.0</td>\n",
       "      <td>male</td>\n",
       "      <td>90.0</td>\n",
       "      <td>25.0</td>\n",
       "      <td>popn</td>\n",
       "      <td>E05013809</td>\n",
       "      <td>Westbourne</td>\n",
       "    </tr>\n",
       "  </tbody>\n",
       "</table>\n",
       "<p>15428062 rows × 9 columns</p>\n",
       "</div>"
      ],
      "text/plain": [
       "           gss_code         la_name    year     sex   age  value component  \\\n",
       "0         E09000001  City of London  2012.0  female   0.0   32.0    births   \n",
       "1         E09000001  City of London  2012.0    male   0.0   24.0    births   \n",
       "2         E09000001  City of London  2013.0  female   0.0   36.0    births   \n",
       "3         E09000001  City of London  2013.0    male   0.0   35.0    births   \n",
       "4         E09000001  City of London  2014.0  female   0.0   26.0    births   \n",
       "...             ...             ...     ...     ...   ...    ...       ...   \n",
       "15428057  E09000033     Westminster  2050.0    male  86.0   16.9      popn   \n",
       "15428058  E09000033     Westminster  2050.0    male  87.0   13.3      popn   \n",
       "15428059  E09000033     Westminster  2050.0    male  88.0   11.0      popn   \n",
       "15428060  E09000033     Westminster  2050.0    male  89.0    9.9      popn   \n",
       "15428061  E09000033     Westminster  2050.0    male  90.0   25.0      popn   \n",
       "\n",
       "         gss_code_ward   ward_name  \n",
       "0                  NaN         NaN  \n",
       "1                  NaN         NaN  \n",
       "2                  NaN         NaN  \n",
       "3                  NaN         NaN  \n",
       "4                  NaN         NaN  \n",
       "...                ...         ...  \n",
       "15428057     E05013809  Westbourne  \n",
       "15428058     E05013809  Westbourne  \n",
       "15428059     E05013809  Westbourne  \n",
       "15428060     E05013809  Westbourne  \n",
       "15428061     E05013809  Westbourne  \n",
       "\n",
       "[15428062 rows x 9 columns]"
      ]
     },
     "execution_count": 4,
     "metadata": {},
     "output_type": "execute_result"
    }
   ],
>>>>>>> d6e679524c1c4c65559ed5b857f2e8f7c637a755
   "source": [
    "combined_10yr_fert"
   ]
  },
  {
   "cell_type": "markdown",
   "metadata": {},
   "source": [
    "## Define Utility Functions\n",
    "Define utility functions that will be used for various parts of the analysis.\n",
    "\n",
    "---"
   ]
  },
  {
   "cell_type": "code",
<<<<<<< HEAD
   "execution_count": null,
=======
   "execution_count": 5,
>>>>>>> d6e679524c1c4c65559ed5b857f2e8f7c637a755
   "metadata": {},
   "outputs": [],
   "source": [
    "def view_descriptive_statistics(df, columns):\n",
    "    \"\"\"\n",
    "    Calculate descriptive statistics, including mean, median, and mode, for specified columns in a DataFrame.\n",
    "    \n",
    "    Parameters:\n",
    "    df (pd.DataFrame): The input DataFrame.\n",
    "    columns (list): List of columns for which to calculate the statistics.\n",
    "    \n",
    "    Returns:\n",
    "    pd.DataFrame: DataFrame containing the descriptive statistics including median and mode.\n",
    "    \"\"\"\n",
    "    # Get descriptive statistics using describe()\n",
    "    descriptive_stats = df[columns].describe()\n",
    "\n",
    "    # Calculate median for each column\n",
    "    median = df[columns].median()\n",
    "\n",
    "    # Calculate mode for each column (in case of multiple modes, take the first one)\n",
    "    mode = df[columns].mode().iloc[0]\n",
    "\n",
    "    # Add median and mode to the descriptive statistics DataFrame\n",
    "    descriptive_stats.loc['median'] = median\n",
    "    descriptive_stats.loc['mode'] = mode\n",
    "\n",
    "    # Return the combined descriptive statistics\n",
    "    return descriptive_stats"
   ]
  },
  {
   "cell_type": "code",
<<<<<<< HEAD
   "execution_count": null,
=======
   "execution_count": 6,
>>>>>>> d6e679524c1c4c65559ed5b857f2e8f7c637a755
   "metadata": {},
   "outputs": [],
   "source": [
    "def create_age_bins(df, age_column='age', bins=None, labels=None):\n",
    "    \"\"\"\n",
    "    Create age bins for the specified age column in the given DataFrame.\n",
    "\n",
    "    Parameters:\n",
    "    df (pd.DataFrame): The DataFrame containing the age data.\n",
    "    age_column (str): The name of the column containing age data. Default is 'age'.\n",
    "    bins (list): A list of bin edges for categorizing ages. Default is None.\n",
    "    labels (list): A list of labels for the bins. Default is None.\n",
    "\n",
    "    Returns:\n",
    "    pd.DataFrame: The DataFrame with a new 'age' column containing binned age data.\n",
    "    \"\"\"\n",
    "    \n",
    "    # If bins and labels are not provided, set default values\n",
    "    if bins is None:\n",
    "        bins = [-1, 18, 30, 40, 50, 60, 70, 80, 89, 90]\n",
    "    \n",
    "    if labels is None:\n",
    "        labels = ['0-18', '19-30', '31-40', '41-50', '51-60', '61-70', '71-80', '81-89', '90+']\n",
    "    \n",
    "    # Create a copy of the original DataFrame to avoid modifying it directly\n",
    "    binned_df = df.copy()\n",
    "    \n",
    "    # Create age bins\n",
    "    binned_df[age_column] = pd.cut(binned_df[age_column], bins=bins, labels=labels)\n",
    "    \n",
    "    return binned_df\n",
    "\n",
    "# Example usage:\n",
    "# combined_10yr_fert_agebins = create_age_bins(combined_10yr_fert)\n"
   ]
  },
  {
   "cell_type": "code",
<<<<<<< HEAD
   "execution_count": null,
=======
   "execution_count": 7,
>>>>>>> d6e679524c1c4c65559ed5b857f2e8f7c637a755
   "metadata": {},
   "outputs": [],
   "source": [
    "def calculate_zscores_and_find_outliers(df, component_columns, handle_inf=True, Geography='borough', z_score_threshold=2, For_population_totals=False, population_analysis_type='cross-sectional'):\n",
    "    \"\"\"\n",
    "    Computes z-scores or robust z-scores (depending on distribution) for the respective columns,\n",
    "    and returns DataFrames containing outliers for either the component columns (handle_inf=True) \n",
    "    or the percentage change columns (handle_inf=False).\n",
    "\n",
    "    Parameters:\n",
    "    df (pd.DataFrame): The input DataFrame containing population data component value columns.\n",
    "    component_columns (str or list): A single column name or a list of column names to be analysed.\n",
    "    handle_inf (bool): If True, uses the component columns to determine outliers. \n",
    "                       If False, uses percentage change columns to determine outliers.\n",
    "    Geography (str): Specifies whether to group by 'borough' (using 'gss_code') or 'ward' (using 'gss_code_ward').\n",
    "                     Default is 'borough'.\n",
    "    For_population_totals (bool): If True, calculates total population sums and percentage changes before proceeding \n",
    "                                  to z-score and outlier analysis.\n",
    "    population_analysis_type (str): Specifies whether to do 'cross-sectional' or 'temporal' analysis for population totals.\n",
    "                                    Default is 'cross-sectional'.\n",
    "    z_score_threshold (float or int): The threshold to consider as an outlier based on the z-score. Default is 2.\n",
    "\n",
    "    Returns:\n",
    "    dict: A dictionary containing DataFrames with outliers for each respective column based on the z-score threshold.\n",
    "    \"\"\"\n",
    "    \n",
    "    # If a single column name is provided as a string, convert it to a list\n",
    "    if isinstance(component_columns, str):\n",
    "        component_columns = [component_columns]\n",
    "\n",
    "    outliers_dict = {}\n",
    "    z_score_type = {}  # Dictionary to store which method was used\n",
    "\n",
    "    # Grouping and pivot based on the Geography parameter\n",
    "    if Geography == 'borough':\n",
    "        geo_column = 'gss_code'\n",
    "    elif Geography == 'ward':\n",
    "        geo_column = 'gss_code_ward'\n",
    "    else:\n",
    "        raise ValueError(\"Geography must be either 'borough' or 'ward'.\")\n",
    "\n",
    "    # Automatically create pct_change_columns based on component_columns\n",
    "    pct_change_columns = [f\"{col}_pct_change\" for col in component_columns]\n",
    "\n",
    "    #Calculate the percentage change for the component columns\n",
    "    df[pct_change_columns] = df.groupby([geo_column, 'sex', 'age'])[component_columns].pct_change().abs()\n",
    "    #pivoted = df.pivot_table(index=[geo_column, 'sex', 'age', 'year'], columns='component', values='value').reset_index()\n",
    "\n",
    "    # If For_population_totals is True, calculate population totals and percentage changes\n",
    "    if For_population_totals:\n",
    "        # Filter the DataFrame to only keep rows where the 'component' is 'popn'\n",
    "        # popn_df = pivoted[pivoted['component'] == 'popn']\n",
    "        \n",
    "        # Pivot the data to get 'popn' values by geography, sex, age, and year\n",
    "        # pivoted = popn_df.pivot_table(index=[geo_column, 'sex', 'age', 'year'], columns='component', values='value').reset_index()\n",
    "        \n",
    "        # Ensure that there's a 'popn' column in the resulting DataFrame\n",
    "        if 'popn' in df.columns:\n",
    "            df['popn'] = df['popn']  # Extract the 'popn' column\n",
    "        else:\n",
    "            raise ValueError(\"The 'popn' column is missing after pivoting.\")\n",
    "\n",
    "        # Group by geography and year, and sum the population values, create total population dfs for crossectional and temporal analysis change\n",
    "        population_sum = df.groupby([geo_column, 'year'])['popn'].sum().reset_index()\n",
    "\n",
    "        population_sum_time = population_sum.copy()\n",
    "        population_sum_cross = population_sum.copy()\n",
    "\n",
    "        if population_analysis_type == 'temporal':\n",
    "            # Temporally: Calculate the population change over the years for each gss_code or ward\n",
    "            population_sum_time['popn_pct_change_temporal'] = population_sum_time.groupby(geo_column)['popn'].pct_change() * 100\n",
    "        elif population_analysis_type == 'cross-sectional':\n",
    "            # Cross-sectionally: Compare the population between different gss_code or wards for the same year and compare to the mean\n",
    "            population_sum_cross['popn_mean'] = population_sum_cross.groupby('year')['popn'].transform('mean')\n",
    "            population_sum_cross['popn_pct_change_cross'] = ((population_sum_cross['popn'] - population_sum_cross['popn_mean']) / population_sum_cross['popn_mean']) * 100\n",
    "        else:\n",
    "            raise ValueError(\"population_analysis_type must be either 'cross-sectional' or 'temporal'.\")\n",
    "\n",
    "    # Now, decide how to determine outliers based on handle_inf (handling the infinite values e.i. no percentage change value) and pct_change_columns\n",
    "    if handle_inf:\n",
    "        # Outliers based on component columns value (not percentage change)\n",
    "        for comp_col, pct_change_col in zip(component_columns, pct_change_columns):\n",
    "            if pct_change_col in df.columns:\n",
    "                # Filter rows where percentage change columns have inf or -inf\n",
    "                df_filtered = df.replace([np.inf, -np.inf], np.nan).dropna(subset=[comp_col, pct_change_col])\n",
    "\n",
    "                if not df_filtered.empty:\n",
    "                    # Check if the column is normally distributed using skewness\n",
    "                    skewness = df_filtered[comp_col].skew()\n",
    "\n",
    "                    if abs(skewness) < 0.5:  # If skewness is less than 0.5, use normal Z-score\n",
    "                        df_filtered['z_score'] = stats.zscore(df_filtered[comp_col])\n",
    "                        outliers = df_filtered[df_filtered['z_score'].abs() > z_score_threshold]  # Z-score > threshold\n",
    "                        z_score_type[comp_col] = 'Normal Z-Score'\n",
    "                        print(f\"{comp_col} used Normal Z-Score.\")\n",
    "                    else:\n",
    "                        # Use Robust Z-score (based on median and MAD) for non-normal distribution\n",
    "                        median = df_filtered[comp_col].median()\n",
    "                        mad = stats.median_abs_deviation(df_filtered[comp_col])\n",
    "                        df_filtered['robust_z_score'] = (df_filtered[comp_col] - median) / mad\n",
    "                        outliers = df_filtered[df_filtered['robust_z_score'].abs() > z_score_threshold]  # Robust Z-score > threshold\n",
    "                        z_score_type[comp_col] = 'Robust Z-Score'\n",
    "                        print(f\"{comp_col} used Robust Z-Score.\")\n",
    "\n",
    "                    # Store the outliers for this component column\n",
    "                    outliers_dict[comp_col] = outliers\n",
    "                else:\n",
    "                    outliers_dict[comp_col] = pd.DataFrame()  # Return empty DataFrame if no rows found\n",
    "            else:\n",
    "                print(f\"{comp_col} does not exist in DataFrame\")\n",
    "\n",
    "    else:\n",
    "        # Outliers based on pct_change_columns\n",
    "        for pct_change_col in pct_change_columns:\n",
    "            # For population totals choose the correct DataFrame (from above) based on the selected column\n",
    "            if population_analysis_type == 'temporal' and 'popn_pct_change_temporal' in pct_change_col:\n",
    "                df_filtered = population_sum_time  # Use the temporal population data\n",
    "            elif population_analysis_type == 'cross-sectional' and 'popn_pct_change_cross' in pct_change_col:\n",
    "                df_filtered = population_sum_cross  # Use the cross-sectional population data\n",
    "            else:\n",
    "                df_filtered = df  # Default to the original df if other percentage columns are provided\n",
    "\n",
    "            #pct column for component column zscores\n",
    "            if pct_change_col in df_filtered.columns:\n",
    "                # Replace inf and -inf with NaN and work on the entire DataFrame after cleaning\n",
    "                df_filtered = df_filtered.replace([np.inf, -np.inf], np.nan).dropna(subset=[pct_change_col])\n",
    "\n",
    "                if not df_filtered.empty:\n",
    "                    # Check if the column is normally distributed using skewness\n",
    "                    skewness = df_filtered[pct_change_col].skew()\n",
    "\n",
    "                    if abs(skewness) < 0.5:  # If skewness is less than 0.5, use normal Z-score\n",
    "                        df_filtered['z_score'] = stats.zscore(df_filtered[pct_change_col])\n",
    "                        outliers = df_filtered[df_filtered['z_score'].abs() > z_score_threshold]  # Z-score > threshold\n",
    "                        z_score_type[pct_change_col] = 'Normal Z-Score'\n",
    "                        print(f\"{pct_change_col} used Normal Z-Score.\")\n",
    "                    else:\n",
    "                        # Use Robust Z-score (based on median and MAD) for non-normal distribution\n",
    "                        median = df_filtered[pct_change_col].median()\n",
    "                        mad = stats.median_abs_deviation(df_filtered[pct_change_col])\n",
    "                        df_filtered['robust_z_score'] = (df_filtered[pct_change_col] - median) / mad\n",
    "                        outliers = df_filtered[df_filtered['robust_z_score'].abs() > z_score_threshold]  # Robust Z-score > threshold\n",
    "                        z_score_type[pct_change_col] = 'Robust Z-Score'\n",
    "                        print(f\"{pct_change_col} used Robust Z-Score.\")\n",
    "\n",
    "                    # Store the outliers for this percentage change column\n",
    "                    outliers_dict[pct_change_col] = outliers\n",
    "                else:\n",
    "                    outliers_dict[pct_change_col] = pd.DataFrame()  # Return empty DataFrame if no rows found\n",
    "            else:\n",
    "                print(f\"{pct_change_col} does not exist in DataFrame\")\n",
    "\n",
    "    # Sort each DataFrame in outliers_dict by 'z_score' or 'robust_z_score' in descending order in one line\n",
    "    for key in outliers_dict.keys():\n",
    "        outliers_dict[key] = outliers_dict[key].sort_values(by='z_score' if 'z_score' in outliers_dict[key].columns else 'robust_z_score', ascending=False)\n",
    "\n",
    "    return outliers_dict  # Returning z_score_type for further use if needed\n"
   ]
  },
  {
   "cell_type": "code",
<<<<<<< HEAD
   "execution_count": null,
=======
   "execution_count": 8,
>>>>>>> d6e679524c1c4c65559ed5b857f2e8f7c637a755
   "metadata": {},
   "outputs": [],
   "source": [
    "def calculate_zscores_and_find_outliers(df, component_columns, handle_inf=True, Geography='borough', z_score_threshold=2,\n",
    "                                        For_population_totals=False, population_analysis_type='cross-sectional'):\n",
    "    \"\"\"\n",
    "    Computes z-scores or robust z-scores for the specified columns and identifies outliers based on the provided criteria.\n",
    "    \"\"\"\n",
    "\n",
    "    # Guard clauses to ensure valid inputs\n",
    "    if not component_columns:\n",
    "        raise ValueError(\"component_columns cannot be empty.\")\n",
    "    if z_score_threshold < 0:\n",
    "        raise ValueError(\"z_score_threshold must be non-negative.\")\n",
    "\n",
    "    # Convert single column name to a list if necessary\n",
    "    if isinstance(component_columns, str):\n",
    "        component_columns = [component_columns]\n",
    "\n",
    "    outliers_dict = {}\n",
    "    z_score_type = {}  # Track z-score type for each column\n",
    "\n",
    "    # Choose geographical grouping based on 'Geography' parameter\n",
    "    geo_column = 'gss_code' if Geography == 'borough' else 'gss_code_ward' if Geography == 'ward' else None\n",
    "    if not geo_column:\n",
    "        raise ValueError(\"Geography must be either 'borough' or 'ward'.\")\n",
    "\n",
    "    pct_change_columns = [f\"{col}_pct_change\" for col in component_columns]\n",
    "    df[pct_change_columns] = df.groupby([geo_column, 'sex', 'age'])[component_columns].pct_change().abs()\n",
    "\n",
    "    # Helper function for z-score calculation based on skewness\n",
    "    def calculate_outliers(column, data):\n",
    "        skewness = data[column].skew()\n",
    "        if abs(skewness) < 0.5:  # Normal distribution\n",
    "            data['z_score'] = stats.zscore(data[column])\n",
    "            outliers = data[data['z_score'].abs() > z_score_threshold]\n",
    "            z_score_type[column] = 'Normal Z-Score'\n",
    "        else:  # Non-normal distribution: Robust Z-score\n",
    "            median, mad = data[column].median(), stats.median_abs_deviation(data[column])\n",
    "            data['robust_z_score'] = (data[column] - median) / mad\n",
    "            outliers = data[data['robust_z_score'].abs() > z_score_threshold]\n",
    "            z_score_type[column] = 'Robust Z-Score'\n",
    "        return outliers\n",
    "\n",
    "    if For_population_totals:\n",
    "        if 'popn' not in df.columns:\n",
    "            raise ValueError(\"The 'popn' column is required for population totals analysis.\")\n",
    "        \n",
    "        # Process population totals for temporal or cross-sectional analysis\n",
    "        population_sum = df.groupby([geo_column, 'year'])['popn'].sum().reset_index()\n",
    "        population_sum_time, population_sum_cross = population_sum.copy(), population_sum.copy()\n",
    "        \n",
    "        if population_analysis_type == 'temporal':\n",
    "            population_sum_time['popn_pct_change_temporal'] = population_sum_time.groupby(geo_column)['popn'].pct_change() * 100\n",
    "        elif population_analysis_type == 'cross-sectional':\n",
    "            population_sum_cross['popn_mean'] = population_sum_cross.groupby('year')['popn'].transform('mean')\n",
    "            population_sum_cross['popn_pct_change_cross'] = ((population_sum_cross['popn'] - population_sum_cross['popn_mean']) / \n",
    "                                                             population_sum_cross['popn_mean']) * 100\n",
    "        else:\n",
    "            raise ValueError(\"population_analysis_type must be either 'cross-sectional' or 'temporal'.\")\n",
    "\n",
    "    # Outlier detection based on handle_inf flag\n",
    "    if handle_inf:\n",
    "        # Based on component columns\n",
    "        for comp_col in component_columns:\n",
    "            if comp_col in df.columns:\n",
    "                df_filtered = df.replace([np.inf, -np.inf], np.nan).dropna(subset=[comp_col])\n",
    "                if not df_filtered.empty:\n",
    "                    outliers_dict[comp_col] = calculate_outliers(comp_col, df_filtered)\n",
    "    else:\n",
    "        # Based on pct_change columns\n",
    "        for pct_change_col in pct_change_columns:\n",
    "            df_filtered = (population_sum_time if population_analysis_type == 'temporal' and 'popn_pct_change_temporal' in pct_change_col\n",
    "                           else population_sum_cross if population_analysis_type == 'cross-sectional' and 'popn_pct_change_cross' in pct_change_col\n",
    "                           else df.replace([np.inf, -np.inf], np.nan).dropna(subset=[pct_change_col]))\n",
    "\n",
    "            if not df_filtered.empty:\n",
    "                outliers_dict[pct_change_col] = calculate_outliers(pct_change_col, df_filtered)\n",
    "\n",
    "    # Sort each DataFrame in outliers_dict by the z-score type\n",
    "    for key, df_outliers in outliers_dict.items():\n",
    "        z_type_column = 'z_score' if 'z_score' in df_outliers.columns else 'robust_z_score'\n",
    "        outliers_dict[key] = df_outliers.sort_values(by=z_type_column, ascending=False)\n",
    "\n",
    "    return outliers_dict"
   ]
  },
  {
   "cell_type": "code",
<<<<<<< HEAD
   "execution_count": null,
=======
   "execution_count": 9,
>>>>>>> d6e679524c1c4c65559ed5b857f2e8f7c637a755
   "metadata": {},
   "outputs": [],
   "source": [
    "def calculate_zscores_and_find_outliers_percentage_change(df, component_columns, Geography='borough', percentage_change_threshold=0.05, For_population_totals=False, population_analysis_type='cross-sectional'):\n",
    "    \"\"\"\n",
    "    Computes outliers based on absolute percentage change for the specified columns, without handling infinite values.\n",
    "    Outliers are detected using a percentage change threshold instead of z-scores.\n",
    "    Optionally includes population totals analysis for either temporal or cross-sectional data.\n",
    "    \"\"\"\n",
    "    # Guard clauses to ensure valid inputs\n",
    "    if not component_columns:\n",
    "        raise ValueError(\"component_columns cannot be empty.\")\n",
    "    if percentage_change_threshold < 0:\n",
    "        raise ValueError(\"percentage_change_threshold must be non-negative.\")\n",
    "    if For_population_totals and 'popn' not in df.columns:\n",
    "        raise ValueError(\"The 'popn' column is required for population totals analysis.\")\n",
    "\n",
    "    # Convert single column name to a list if necessary\n",
    "    if isinstance(component_columns, str):\n",
    "        component_columns = [component_columns]\n",
    "\n",
    "    outliers_dict = {}\n",
    "\n",
    "    # Choose geographical grouping based on 'Geography' parameter\n",
    "    geo_column = 'gss_code' if Geography == 'borough' else 'gss_code_ward' if Geography == 'ward' else None\n",
    "    if not geo_column:\n",
    "        raise ValueError(\"Geography must be either 'borough' or 'ward'.\")\n",
    "\n",
    "    # Calculate absolute percentage change for each component column\n",
    "    percentage_change_columns = [f\"{col}_percentage_change\" for col in component_columns]\n",
    "    df[percentage_change_columns] = df.groupby([geo_column, 'sex', 'age'])[component_columns].pct_change().abs()\n",
    "\n",
    "    # If For_population_totals is True, calculate population-based percentage change\n",
    "    if For_population_totals:\n",
    "        population_sum = df.groupby([geo_column, 'year'])['popn'].sum().reset_index()\n",
    "        population_sum_time, population_sum_cross = population_sum.copy(), population_sum.copy()\n",
    "\n",
    "        if population_analysis_type == 'temporal':\n",
    "            population_sum_time['popn_pct_change_temporal'] = population_sum_time.groupby(geo_column)['popn'].pct_change().abs() * 100\n",
    "        elif population_analysis_type == 'cross-sectional':\n",
    "            population_sum_cross['popn_mean'] = population_sum_cross.groupby('year')['popn'].transform('mean')\n",
    "            population_sum_cross['popn_pct_change_cross'] = ((population_sum_cross['popn'] - population_sum_cross['popn_mean']).abs() / population_sum_cross['popn_mean']) * 100\n",
    "        else:\n",
    "            raise ValueError(\"population_analysis_type must be either 'cross-sectional' or 'temporal'.\")\n",
    "\n",
    "    # Outlier detection based on absolute percentage change threshold\n",
    "    for pct_change_col in percentage_change_columns:\n",
    "        df_filtered = df.dropna(subset=[pct_change_col])  # Dropping NaNs before analysis\n",
    "\n",
    "        if not df_filtered.empty:\n",
    "            # Detect outliers based on the absolute percentage change threshold\n",
    "            outliers = df_filtered[df_filtered[pct_change_col] > percentage_change_threshold]\n",
    "\n",
    "            if not outliers.empty:\n",
    "                outliers_dict[pct_change_col] = outliers\n",
    "\n",
    "    # If For_population_totals is True, include population-based outliers\n",
    "    if For_population_totals:\n",
    "        # Process population percentage change columns\n",
    "        popn_pct_change_columns = []\n",
    "        if population_analysis_type == 'temporal':\n",
    "            popn_pct_change_columns.append('popn_pct_change_temporal')\n",
    "        elif population_analysis_type == 'cross-sectional':\n",
    "            popn_pct_change_columns.append('popn_pct_change_cross')\n",
    "\n",
    "        for popn_pct_change_col in popn_pct_change_columns:\n",
    "            df_filtered = df.dropna(subset=[popn_pct_change_col])  # Dropping NaNs before analysis\n",
    "\n",
    "            if not df_filtered.empty:\n",
    "                # Detect population outliers based on the absolute percentage change threshold\n",
    "                outliers = df_filtered[df_filtered[popn_pct_change_col] > percentage_change_threshold]\n",
    "\n",
    "                if not outliers.empty:\n",
    "                    outliers_dict[popn_pct_change_col] = outliers\n",
    "\n",
    "    # Sort each DataFrame in outliers_dict by percentage change\n",
    "    for key, df_outliers in outliers_dict.items():\n",
    "        outliers_dict[key] = df_outliers.sort_values(by=key, ascending=False)\n",
    "\n",
    "    return outliers_dict\n",
    "\n",
    "\n",
    "def calculate_zscores_and_find_outliers_value(df, component_columns, Geography='borough', z_score_threshold=2):\n",
    "    \"\"\"\n",
    "    Computes z-scores or robust z-scores for the specified columns and identifies outliers,\n",
    "    this function is used to handle values that are infinite, where handling infinite values such as where values change from 0 or to 0. \n",
    "    Thus percnetage change is not applicable in this case, so the values are used directly.\n",
    "   \n",
    "    \"\"\"\n",
    "    # Guard clauses to ensure valid inputs\n",
    "    if not component_columns:\n",
    "        raise ValueError(\"component_columns cannot be empty.\")\n",
    "    if z_score_threshold < 0:\n",
    "        raise ValueError(\"z_score_threshold must be non-negative.\")\n",
    "\n",
    "    # Convert single column name to a list if necessary\n",
    "    if isinstance(component_columns, str):\n",
    "        component_columns = [component_columns]\n",
    "\n",
    "    outliers_dict = {}\n",
    "    z_score_type = {}  # Track z-score type for each column\n",
    "\n",
    "    # Choose geographical grouping based on 'Geography' parameter\n",
    "    geo_column = 'gss_code' if Geography == 'borough' else 'gss_code_ward' if Geography == 'ward' else None\n",
    "    if not geo_column:\n",
    "        raise ValueError(\"Geography must be either 'borough' or 'ward'.\")\n",
    "\n",
    "    percentage_change_columns = [f\"{col}_percentage_change\" for col in component_columns]\n",
    "    df[percentage_change_columns] = df.groupby([geo_column, 'sex', 'age'])[component_columns].pct_change().abs()\n",
    "\n",
    "    # Helper function for z-score calculation based on skewness\n",
    "    def calculate_outliers(column, data):\n",
    "        skewness = data[column].skew()\n",
    "        if abs(skewness) < 0.5:  # Normal distribution\n",
    "            data['z_score'] = stats.zscore(data[column])\n",
    "            outliers = data[data['z_score'].abs() > z_score_threshold]\n",
    "            z_score_type[column] = 'Normal Z-Score'\n",
    "        else:  # Non-normal distribution: Robust Z-score\n",
    "            median, mad = data[column].median(), stats.median_abs_deviation(data[column])\n",
    "            data['robust_z_score'] = (data[column] - median) / mad\n",
    "            outliers = data[data['robust_z_score'].abs() > z_score_threshold]\n",
    "            z_score_type[column] = 'Robust Z-Score'\n",
    "        return outliers\n",
    "\n",
    "    # Outlier detection based on handling inf\n",
    "    for comp_col in component_columns:\n",
    "        if comp_col in df.columns:\n",
    "            df_filtered = df.replace([np.inf, -np.inf], np.nan).dropna(subset=[comp_col]) #replacing inf values with NaN before proceeding\n",
    "            if not df_filtered.empty:\n",
    "                outliers_dict[comp_col] = calculate_outliers(comp_col, df_filtered)\n",
    "\n",
    "    # Sort each DataFrame in outliers_dict by the z-score type\n",
    "    for key, df_outliers in outliers_dict.items():\n",
    "        z_type_column = 'z_score' if 'z_score' in df_outliers.columns else 'robust_z_score'\n",
    "        outliers_dict[key] = df_outliers.sort_values(by=z_type_column, ascending=False)\n",
    "\n",
    "    return outliers_dict"
   ]
  },
  {
   "cell_type": "code",
<<<<<<< HEAD
   "execution_count": null,
=======
   "execution_count": 10,
>>>>>>> d6e679524c1c4c65559ed5b857f2e8f7c637a755
   "metadata": {},
   "outputs": [],
   "source": [
    "def robust_z_score(series):\n",
    "    \"\"\"Calculate robust z-score using median and MAD.\"\"\"\n",
    "    median = series.median()\n",
    "    mad = (series - median).abs().median()\n",
    "    return 0.6745 * (series - median) / mad if mad != 0 else np.zeros_like(series)\n",
    "\n",
    "def gender_outliers(df, component_columns, geography='borough', outlier_std={'births': 2, 'deaths': 5, 'netflow': 2, 'popn': 5}):\n",
    "    \"\"\"\n",
    "    Processes gender data for either wards or boroughs, and calculates outliers for specified components.\n",
    "    Uses either z-score or robust z-score based on skewness.\n",
    "\n",
    "    Parameters:\n",
    "    - df: pandas DataFrame containing the raw data\n",
    "    - component_columns: list or single component column name(s) for which ratios and outliers need to be calculated\n",
    "    - geography: str, either 'ward' or 'borough', default is 'borough'\n",
    "    - outlier_std: dict specifying how many standard deviations to use for each component's threshold calculation.\n",
    "    \n",
    "    Returns:\n",
    "    - outliers_dict: dictionary of outlier DataFrames for each component\n",
    "    \"\"\"\n",
    "\n",
    "    # Check geography type and set index columns accordingly\n",
    "    if geography == 'ward':\n",
    "        geo_col = 'gss_code_ward'\n",
    "    else:\n",
    "        geo_col = 'gss_code'\n",
    "    \n",
    "    # Step 1: Create the pivot table\n",
    "    gender_pivot = df.pivot_table(\n",
    "        index=[geo_col, 'year', 'age', 'component'],  # Geography column and other grouping columns\n",
    "        columns='sex',                                # Columns for sex (male, female)\n",
    "        values='value',                               # Values (count of males and females)\n",
    "        aggfunc='sum'                                 # Aggregation function (sum)\n",
    "    ).reset_index()\n",
    "    \n",
    "    # Step 2: Calculate the ratio of females to males\n",
    "    gender_pivot['ratio_female_to_male'] = gender_pivot['female'] / gender_pivot['male']\n",
    "    \n",
    "    # Handle division by zero and missing values\n",
    "    gender_pivot['ratio_female_to_male'].replace([float('inf'), -float('inf')], pd.NA, inplace=True)\n",
    "    gender_pivot['ratio_female_to_male'].fillna(np.nan, inplace=True)\n",
    "    \n",
    "    # Step 3: Pivot again to spread component values into columns\n",
    "    gender_pivot = gender_pivot.pivot(\n",
    "        index=[geo_col, 'year', 'age'], \n",
    "        columns='component', \n",
    "        values='ratio_female_to_male'\n",
    "    ).reset_index()\n",
    "    \n",
    "    # Step 4: Convert the specified component columns to numeric\n",
    "    for component in component_columns:\n",
    "        gender_pivot[component] = pd.to_numeric(gender_pivot[component], errors='coerce')\n",
    "    \n",
    "    # Step 5: Detect skewness and calculate either z-score or robust z-score for each component\n",
    "    outliers_dict = {}\n",
    "    for component in component_columns:\n",
    "        component_data = gender_pivot[component].dropna()\n",
    "\n",
    "        # Calculate skewness\n",
    "        component_skewness = skew(component_data)\n",
    "        \n",
    "        # Decide whether to use z-score or robust z-score\n",
    "        if abs(component_skewness) > 0.5:\n",
    "            # Use robust z-score if skewness is high\n",
    "            z_column = 'robust_z_score'\n",
    "            gender_pivot[z_column] = robust_z_score(gender_pivot[component])\n",
    "        else:\n",
    "            # Use standard z-score if skewness is low\n",
    "            z_column = 'z_score'\n",
    "            gender_pivot[z_column] = zscore(gender_pivot[component], nan_policy='omit')\n",
    "        \n",
    "        # Set the outlier threshold based on user input (default 2, 5, etc. depending on the component)\n",
    "        threshold = outlier_std.get(component, 2)\n",
    "        \n",
    "        # Step 6: Identify outliers where absolute z-score is greater than the threshold\n",
    "        outliers = gender_pivot[gender_pivot[z_column].abs() > threshold]\n",
    "        \n",
    "        # Step 7: Keep only relevant columns in the output (geo_col, year, age, z_score, and the component itself)\n",
    "        outliers = outliers[[geo_col, 'year', 'age', component, z_column]]\n",
    "        \n",
    "        # Store the outliers DataFrame in the outliers dictionary\n",
    "        outliers_dict[component] = outliers.reset_index(drop=True)\n",
    "    \n",
    "    return outliers_dict\n",
    "\n"
   ]
  },
  {
   "cell_type": "code",
<<<<<<< HEAD
   "execution_count": null,
=======
   "execution_count": 11,
>>>>>>> d6e679524c1c4c65559ed5b857f2e8f7c637a755
   "metadata": {},
   "outputs": [],
   "source": [
    "def tally_outliers(outlier_dfs: Dict[str, pd.DataFrame], \n",
    "                   tally_by_age: bool = False, \n",
    "                   geography: str = 'ward') -> pd.DataFrame:\n",
    "    \"\"\"\n",
    "    Tally occurrences of the same 'gss_code_ward' or 'gss_code', \n",
    "    'year', and optionally 'age' across multiple DataFrames, \n",
    "    and merge with the total outlier score from 'robust_z_score' or 'z_score'.\n",
    "\n",
    "    Parameters:\n",
    "    ----------\n",
    "    outlier_dfs : Dict[str, pd.DataFrame]\n",
    "        A dictionary where keys are DataFrame names and values are the DataFrames themselves.\n",
    "        Each DataFrame should contain 'gss_code_ward' or 'gss_code', 'year', and optionally 'age' columns.\n",
    "\n",
    "    tally_by_age : bool, optional\n",
    "        If True, the function will tally occurrences based on 'gss_code_ward' or 'gss_code', 'year', and 'age'.\n",
    "        If False, it will tally based only on 'gss_code_ward' or 'gss_code' and 'year'. Default is False.\n",
    "\n",
    "    geography : str, optional\n",
    "        Specifies the geographical code to use. Set to 'borough' to use 'gss_code' \n",
    "        or 'ward' to use 'gss_code_ward'. Default is 'ward'.\n",
    "\n",
    "    Returns:\n",
    "    -------\n",
    "    pd.DataFrame\n",
    "        A DataFrame with counts of occurrences for each combination of \n",
    "        'gss_code_ward' or 'gss_code', 'year', and 'age' (if applicable), \n",
    "        along with a total count across all DataFrames and the total outlier score.\n",
    "    \"\"\"\n",
    "    \n",
    "    # Validate input\n",
    "    if not isinstance(outlier_dfs, dict):\n",
    "        raise ValueError(\"Expected 'outlier_dfs' to be a dictionary of DataFrames.\")\n",
    "    \n",
    "    if geography not in ['borough', 'ward']:\n",
    "        raise ValueError(\"geography must be either 'borough' or 'ward'.\")\n",
    "\n",
    "    # Initialise an empty DataFrame for the combined tally\n",
    "    combined_tally = pd.DataFrame()\n",
    "\n",
    "    # Define the geography column based on the geography argument\n",
    "    geo_column = 'gss_code' if geography == 'borough' else 'gss_code_ward'\n",
    "\n",
    "    # Loop through each DataFrame in the outlier_dfs dictionary\n",
    "    for df_name, df in outlier_dfs.items():\n",
    "        if not isinstance(df, pd.DataFrame):\n",
    "            raise ValueError(f\"Expected '{df_name}' to be a pandas DataFrame.\")\n",
    "        \n",
    "        # Ensure 'age' is consistently typed if tally_by_age is True\n",
    "        if tally_by_age and 'age' in df.columns:\n",
    "            df['age'] = df['age'].astype(str)\n",
    "\n",
    "        # Select the required columns based on the tally_by_age flag\n",
    "        group_cols = [geo_column, 'year'] + (['age'] if tally_by_age and 'age' in df.columns else [])\n",
    "\n",
    "        # Ensure selected columns exist in the DataFrame\n",
    "        missing_cols = [col for col in group_cols if col not in df.columns]\n",
    "        if missing_cols:\n",
    "            raise KeyError(f\"The DataFrame '{df_name}' is missing columns: {missing_cols}\")\n",
    "\n",
    "        # Remove duplicate rows based on the selected grouping columns\n",
    "        subset = df[group_cols].drop_duplicates()\n",
    "        \n",
    "        # Add a count column for tallying occurrences\n",
    "        subset['count'] = 1\n",
    "\n",
    "        # Aggregate the counts by the grouping columns\n",
    "        grouped = subset.groupby(group_cols).count().reset_index()\n",
    "\n",
    "        # Rename the count column to indicate which DataFrame it came from\n",
    "        grouped.rename(columns={'count': df_name}, inplace=True)\n",
    "\n",
    "        # Merge the current tally with the combined tally\n",
    "        if combined_tally.empty:\n",
    "            combined_tally = grouped\n",
    "        else:\n",
    "            combined_tally = pd.merge(combined_tally, grouped, on=group_cols, how='outer')\n",
    "\n",
    "    # Fill NaN values with 0 (indicating no occurrences in that DataFrame)\n",
    "    combined_tally.fillna(0, inplace=True)\n",
    "\n",
    "    # Calculate the total tally across all DataFrame columns\n",
    "    tally_columns = combined_tally.columns.difference(group_cols)\n",
    "    combined_tally['total'] = combined_tally[tally_columns].sum(axis=1)\n",
    "\n",
    "    # Sort the DataFrame by the total count in descending order\n",
    "    combined_tally.sort_values(by='total', ascending=False, inplace=True)\n",
    "\n",
    "    # --- New logic to handle multiple score column names ---\n",
    "\n",
    "    # Concatenate all the DataFrames in the outlier_dfs dictionary\n",
    "    combined_df = pd.concat(outlier_dfs.values())\n",
    "\n",
    "    # Check if the DataFrame contains 'robust_z_score' or 'z_score' and create a unified column\n",
    "    if 'robust_z_score' in combined_df.columns:\n",
    "        combined_df['outlier_score'] = combined_df['robust_z_score']\n",
    "    elif 'z_score' in combined_df.columns:\n",
    "        combined_df['outlier_score'] = combined_df['z_score']\n",
    "    else:\n",
    "        raise ValueError(\"None of the DataFrames contain 'robust_z_score' or 'z_score'.\")\n",
    "\n",
    "    # Group by 'gss_code_ward' (or 'gss_code'), 'year', and 'age', and sum the outlier scores\n",
    "    group_outliers = combined_df.groupby(\n",
    "        [geo_column, 'year'] + (['age'] if tally_by_age and 'age' in combined_df.columns else []),\n",
    "        as_index=False).agg(total_outlier_score=('outlier_score', lambda x: x.abs().sum())) #use abs() so that the magnitude of negative and positive outliers are counted for\n",
    "\n",
    "    # Merge the total outlier score with the combined_tally DataFrame\n",
    "    final_df = pd.merge(\n",
    "        combined_tally, group_outliers, \n",
    "        on=[geo_column, 'year'] + (['age'] if tally_by_age and 'age' in group_outliers.columns else []), \n",
    "        how='left'\n",
    "    )\n",
    "\n",
    "    return final_df\n"
   ]
  },
  {
   "cell_type": "code",
<<<<<<< HEAD
   "execution_count": null,
=======
   "execution_count": 12,
>>>>>>> d6e679524c1c4c65559ed5b857f2e8f7c637a755
   "metadata": {},
   "outputs": [],
   "source": [
    "def find_ahs_outliers_absolute_value(df, z_threshold=3):\n",
    "    \"\"\"\n",
    "    Identifies outliers in the average household size (ahs) dataframe based on z-scores and returns a DataFrame with additional context.\n",
    "    \n",
    "    Args:\n",
    "    - df (pd.DataFrame): DataFrame with household size data. First column should be 'gss_code_ward'.\n",
    "    - z_threshold (float): Threshold for z-scores to determine outliers. Default is 3.\n",
    "    \n",
    "    Returns:\n",
    "    - pd.DataFrame: DataFrame containing gss_code_ward, year, z_score, outlier value, year_before, year_after,\n",
    "                    average_for_year (across wards), and average_for_ward (across years).\n",
    "    \"\"\"\n",
    "    \n",
    "    # Step 1: Calculate z-scores for each year column (excluding 'gss_code_ward')\n",
    "    z_scores = df.iloc[:, 1:].apply(zscore)\n",
    "\n",
    "    # Step 2: Identify the outliers (z-scores > z_threshold or z-scores < -z_threshold)\n",
    "    outliers = z_scores[(z_scores > z_threshold) | (z_scores < -z_threshold)]\n",
    "\n",
    "    # Step 3: Combine 'gss_code_ward' with outliers to present them in a readable format\n",
    "    outliers_cleaned = pd.concat([df['gss_code_ward'], outliers], axis=1)\n",
    "\n",
    "    # Step 4: Drop rows with no outliers\n",
    "    outliers_cleaned = outliers_cleaned.dropna(how='all', subset=outliers_cleaned.columns[1:])\n",
    "\n",
    "    # Step 5: Melt the DataFrame to have 'gss_code_ward', 'year', and 'z_score' columns\n",
    "    outliers_melted = outliers_cleaned.melt(id_vars='gss_code_ward', var_name='year', value_name='z_score')\n",
    "\n",
    "    # Step 6: Drop NaN values (non-outliers) and sort by z_score in descending order\n",
    "    outliers_sorted = outliers_melted.dropna().sort_values(by='z_score', ascending=False)\n",
    "\n",
    "    # Convert the 'year' column to integer for easier manipulation\n",
    "    outliers_sorted['year'] = outliers_sorted['year'].astype(int)\n",
    "\n",
    "    # Step 7: Create new columns for the value of AHS for outlier year, previous year, and next year\n",
    "    outliers_sorted['outlier_value'] = outliers_sorted.apply(\n",
    "        lambda row: df.loc[df['gss_code_ward'] == row['gss_code_ward'], str(row['year'])].values[0], axis=1)\n",
    "\n",
    "    outliers_sorted['year_before_value'] = outliers_sorted.apply(\n",
    "        lambda row: df.loc[df['gss_code_ward'] == row['gss_code_ward'], str(row['year'] - 1)].values[0]\n",
    "        if str(row['year'] - 1) in df.columns else None, axis=1)\n",
    "\n",
    "    outliers_sorted['year_after_value'] = outliers_sorted.apply(\n",
    "        lambda row: df.loc[df['gss_code_ward'] == row['gss_code_ward'], str(row['year'] + 1)].values[0]\n",
    "        if str(row['year'] + 1) in df.columns else None, axis=1)\n",
    "\n",
    "    # Step 8: Calculate the average for that year across all gss_code_wards\n",
    "    outliers_sorted['average_for_year'] = outliers_sorted.apply(\n",
    "        lambda row: df[str(row['year'])].mean(), axis=1)\n",
    "\n",
    "    # Step 9: Calculate the average for that gss_code_ward across all years\n",
    "    outliers_sorted['average_for_ward'] = outliers_sorted.apply(\n",
    "        lambda row: df.loc[df['gss_code_ward'] == row['gss_code_ward'], df.columns[1:]].mean(axis=1).values[0], axis=1)\n",
    "\n",
    "    # Step 10: Create the final outlier_sorted_context DataFrame\n",
    "    outlier_sorted_context = outliers_sorted[['gss_code_ward', 'year', 'z_score', 'outlier_value', 'year_before_value', 'year_after_value', 'average_for_year', 'average_for_ward']]\n",
    "\n",
    "    return outlier_sorted_context\n",
    "\n",
    "# Example usage:\n",
    "#outliers = find_outliers_with_context(average_household_size, z_threshold=3)\n",
    "\n",
    "# If you want to use a different threshold, e.g., z-score threshold of 2.5:\n",
    "#outlier_sorted_context = find_outliers_with_context(average_household_size, z_threshold=2.5)\n",
    "\n",
    "# Display the results\n",
    "#print(outlier_sorted_context)\n"
   ]
  },
  {
   "cell_type": "code",
<<<<<<< HEAD
   "execution_count": null,
=======
   "execution_count": 13,
>>>>>>> d6e679524c1c4c65559ed5b857f2e8f7c637a755
   "metadata": {},
   "outputs": [],
   "source": [
    "def find_ahs_outliers_pct_change(df, pct_change_threshold=0.3):\n",
    "        \"\"\"\n",
    "        Identifies outliers in the average household size (ahs) dataframe based on percentage change and returns a DataFrame with additional context.\n",
    "        \n",
    "        Args:\n",
    "        - df (pd.DataFrame): DataFrame with household size data. First column should be 'gss_code_ward'.\n",
    "        - pct_change_threshold (float): Threshold for percentage change to determine outliers. Default is 0.2 (20%).\n",
    "        \n",
    "        Returns:\n",
    "        - pd.DataFrame: DataFrame containing gss_code_ward, year, pct_change, outlier value, year_before, year_after,\n",
    "                        average_for_year (across wards), and average_for_ward (across years).\n",
    "        \"\"\"\n",
    "        \n",
    "        # Step 1: Calculate percentage change for each year column (excluding 'gss_code_ward')\n",
    "        pct_changes = df.iloc[:, 1:].pct_change(axis=1)\n",
    "        \n",
    "        # Step 2: Identify the outliers (percentage change > pct_change_threshold or < -pct_change_threshold)\n",
    "        outliers = pct_changes[(pct_changes > pct_change_threshold) | (pct_changes < -pct_change_threshold)]\n",
    "  \n",
    "        # Step 3: Combine 'gss_code_ward' with outliers to present them in a readable format\n",
    "        outliers_cleaned = pd.concat([df['gss_code_ward'], outliers], axis=1)\n",
    "\n",
    "        # Step 4: Drop rows with no outliers\n",
    "        outliers_cleaned = outliers_cleaned.dropna(how='all', subset=outliers_cleaned.columns[1:])\n",
    "        \n",
    "        # Step 5: Melt the DataFrame to have 'gss_code_ward', 'year', and 'pct_change' columns\n",
    "        outliers_melted = outliers_cleaned.melt(id_vars='gss_code_ward', var_name='year', value_name='pct_change')\n",
    "\n",
    "        # Step 6: Drop NaN values (non-outliers) and sort by pct_change in descending order\n",
    "        outliers_sorted = outliers_melted.dropna().sort_values(by='pct_change', ascending=False)\n",
    "\n",
    "        # Convert the 'year' column to integer for easier manipulation\n",
    "        outliers_sorted['year'] = outliers_sorted['year'].astype(int)\n",
    "\n",
    "        # Step 7: Create new columns for the value of AHS for outlier year, previous year, and next year\n",
    "        outliers_sorted['outlier_value'] = outliers_sorted.apply(\n",
    "            lambda row: df.loc[df['gss_code_ward'] == row['gss_code_ward'], str(row['year'])].values[0], axis=1)\n",
    "\n",
    "        outliers_sorted['year_before_value'] = outliers_sorted.apply(\n",
    "            lambda row: df.loc[df['gss_code_ward'] == row['gss_code_ward'], str(row['year'] - 1)].values[0]\n",
    "            if str(row['year'] - 1) in df.columns else None, axis=1)\n",
    "\n",
    "        outliers_sorted['year_after_value'] = outliers_sorted.apply(\n",
    "            lambda row: df.loc[df['gss_code_ward'] == row['gss_code_ward'], str(row['year'] + 1)].values[0]\n",
    "            if str(row['year'] + 1) in df.columns else None, axis=1)\n",
    "\n",
    "        # Step 8: Calculate the average for that year across all gss_code_wards\n",
    "        outliers_sorted['average_for_year'] = outliers_sorted.apply(\n",
    "            lambda row: df[str(row['year'])].mean(), axis=1)\n",
    "\n",
    "        # Step 9: Calculate the average for that gss_code_ward across all years\n",
    "        outliers_sorted['average_for_ward'] = outliers_sorted.apply(\n",
    "            lambda row: df.loc[df['gss_code_ward'] == row['gss_code_ward'], df.columns[1:]].mean(axis=1).values[0], axis=1)\n",
    "\n",
    "        # Step 10: Create the final outlier_sorted_context DataFrame\n",
    "        outlier_sorted_context = outliers_sorted[['gss_code_ward', 'year', 'pct_change', 'outlier_value', 'year_before_value', 'year_after_value', 'average_for_year', 'average_for_ward']]\n",
    "\n",
    "        return outlier_sorted_context\n",
    "\n",
    "    # Example usage:\n",
    "    # outlier_sorted_context = find_ahs_outliers_with_pct_change(average_household_size, pct_change_threshold=0.2)\n",
    "\n",
    "    # If you want to use a different threshold, e.g., percentage change threshold of 15%:\n",
    "    # outlier_sorted_context = find_ahs_outliers_with_pct_change(average_household_size, pct_change_threshold=0.15)\n",
    "\n",
    "    # Display the results\n",
    "    # print(outlier_sorted_context)"
   ]
  },
  {
   "cell_type": "markdown",
   "metadata": {},
   "source": [
    "## Process data\n",
    "\n",
    "---"
   ]
  },
  {
   "cell_type": "code",
<<<<<<< HEAD
   "execution_count": null,
=======
   "execution_count": 14,
>>>>>>> d6e679524c1c4c65559ed5b857f2e8f7c637a755
   "metadata": {},
   "outputs": [],
   "source": [
    "#split ward and borough dataframes\n",
    "combined_10yr_fert_boroughs = combined_10yr_fert[combined_10yr_fert['gss_code_ward'].isna()]\n",
    "combined_10yr_fert_ward = combined_10yr_fert[~combined_10yr_fert['gss_code_ward'].isna()]"
   ]
  },
  {
   "cell_type": "code",
<<<<<<< HEAD
   "execution_count": null,
=======
   "execution_count": 15,
>>>>>>> d6e679524c1c4c65559ed5b857f2e8f7c637a755
   "metadata": {},
   "outputs": [],
   "source": [
    "#bin ages\n",
    "combined_10yr_fert_agebins = create_age_bins(combined_10yr_fert)"
   ]
  },
  {
   "cell_type": "code",
<<<<<<< HEAD
   "execution_count": null,
   "metadata": {},
   "outputs": [],
=======
   "execution_count": 16,
   "metadata": {},
   "outputs": [
    {
     "name": "stderr",
     "output_type": "stream",
     "text": [
      "C:\\Users\\user\\AppData\\Local\\Temp\\ipykernel_4072\\2449090281.py:2: FutureWarning: The default value of observed=False is deprecated and will change to observed=True in a future version of pandas. Specify observed=False to silence this warning and retain the current behavior\n",
      "  combined_10yr_fert_agebins_component_columns = combined_10yr_fert_agebins.pivot_table(index=['gss_code','gss_code_ward','sex', 'age','year'], columns='component', values='value').reset_index()\n"
     ]
    }
   ],
>>>>>>> d6e679524c1c4c65559ed5b857f2e8f7c637a755
   "source": [
    "#seperate components into columns\n",
    "combined_10yr_fert_agebins_component_columns = combined_10yr_fert_agebins.pivot_table(index=['gss_code','gss_code_ward','sex', 'age','year'], columns='component', values='value').reset_index()"
   ]
  },
  {
   "cell_type": "code",
<<<<<<< HEAD
   "execution_count": null,
=======
   "execution_count": 17,
>>>>>>> d6e679524c1c4c65559ed5b857f2e8f7c637a755
   "metadata": {},
   "outputs": [],
   "source": [
    "### Create ward and borough names lookup"
   ]
  },
  {
   "cell_type": "code",
<<<<<<< HEAD
   "execution_count": null,
=======
   "execution_count": 18,
>>>>>>> d6e679524c1c4c65559ed5b857f2e8f7c637a755
   "metadata": {},
   "outputs": [],
   "source": [
    "name_lookup = combined_10yr_fert[['gss_code', 'la_name', 'gss_code_ward', 'ward_name']]\n",
    "#remove where all values in the row are the same\n",
    "name_lookup = name_lookup.drop_duplicates()\n",
    "#remove nan values\n",
    "name_lookup = name_lookup.dropna()"
   ]
  },
  {
   "cell_type": "code",
<<<<<<< HEAD
   "execution_count": null,
=======
   "execution_count": 19,
>>>>>>> d6e679524c1c4c65559ed5b857f2e8f7c637a755
   "metadata": {},
   "outputs": [],
   "source": [
    "# Identify duplicated ward names and create a unique name by appending the local authority name\n",
    "name_lookup['ward_name_unique'] = name_lookup.apply(\n",
    "    lambda row: f\"{row['ward_name']} ({row['la_name']})\" if row['ward_name'] in name_lookup[name_lookup['ward_name'].duplicated()]['ward_name'].values else row['ward_name'],\n",
    "    axis=1\n",
    ")"
   ]
  },
  {
   "cell_type": "markdown",
   "metadata": {},
   "source": [
    "## Basic Checks\n",
    "Perform basic checks on the dataset, including checking for missing values, duplicates, and descriptive statistics.\n",
    "\n",
    "---"
   ]
  },
  {
   "cell_type": "code",
<<<<<<< HEAD
   "execution_count": null,
=======
   "execution_count": 20,
>>>>>>> d6e679524c1c4c65559ed5b857f2e8f7c637a755
   "metadata": {},
   "outputs": [],
   "source": [
    "#min and max year\n",
    "def get_year_range(df):\n",
    "    return df['year'].max(), df['year'].min()"
   ]
  },
  {
   "cell_type": "code",
<<<<<<< HEAD
   "execution_count": null,
   "metadata": {},
   "outputs": [],
=======
   "execution_count": 21,
   "metadata": {},
   "outputs": [
    {
     "name": "stdout",
     "output_type": "stream",
     "text": [
      "Complete year range: (2050.0, 2002.0)\n",
      "Year range for wards: (2050.0, 2011.0)\n",
      "Year range for boroughs: (2050.0, 2002.0)\n"
     ]
    }
   ],
>>>>>>> d6e679524c1c4c65559ed5b857f2e8f7c637a755
   "source": [
    "#year ranges\n",
    "print(\"Complete year range:\", get_year_range(combined_10yr_fert))\n",
    "print(\"Year range for wards:\", get_year_range(combined_10yr_fert_ward))\n",
    "print(\"Year range for boroughs:\", get_year_range(combined_10yr_fert_boroughs))"
   ]
  },
  {
   "cell_type": "markdown",
   "metadata": {},
   "source": [
    "##### missing values"
   ]
  },
  {
   "cell_type": "code",
<<<<<<< HEAD
   "execution_count": null,
   "metadata": {},
   "outputs": [],
=======
   "execution_count": 22,
   "metadata": {},
   "outputs": [
    {
     "name": "stdout",
     "output_type": "stream",
     "text": [
      "Missing values per column:\n",
      " gss_code              0\n",
      "la_name               0\n",
      "year                  0\n",
      "sex                   0\n",
      "age                   0\n",
      "value                 0\n",
      "component             0\n",
      "gss_code_ward    771342\n",
      "ward_name        771342\n",
      "dtype: int64\n"
     ]
    }
   ],
>>>>>>> d6e679524c1c4c65559ed5b857f2e8f7c637a755
   "source": [
    "missing_values = combined_10yr_fert.isnull().sum()\n",
    "print(\"Missing values per column:\\n\", missing_values)"
   ]
  },
  {
   "cell_type": "markdown",
   "metadata": {},
   "source": [
    "#### duplicates"
   ]
  },
  {
   "cell_type": "code",
<<<<<<< HEAD
   "execution_count": null,
   "metadata": {},
   "outputs": [],
=======
   "execution_count": 30,
   "metadata": {},
   "outputs": [
    {
     "name": "stdout",
     "output_type": "stream",
     "text": [
      "Number of duplicate rows: 0\n"
     ]
    }
   ],
>>>>>>> d6e679524c1c4c65559ed5b857f2e8f7c637a755
   "source": [
    "duplicates = combined_10yr_fert.duplicated().sum()\n",
    "print(\"Number of duplicate rows:\", duplicates)"
   ]
  },
  {
   "cell_type": "markdown",
   "metadata": {},
   "source": [
    "##### Descriptive data"
   ]
  },
  {
   "cell_type": "markdown",
   "metadata": {},
   "source": [
    "##### Description by components"
   ]
  },
  {
   "cell_type": "code",
<<<<<<< HEAD
   "execution_count": null,
   "metadata": {},
   "outputs": [],
=======
   "execution_count": 31,
   "metadata": {},
   "outputs": [
    {
     "data": {
      "text/html": [
       "<div>\n",
       "<style scoped>\n",
       "    .dataframe tbody tr th:only-of-type {\n",
       "        vertical-align: middle;\n",
       "    }\n",
       "\n",
       "    .dataframe tbody tr th {\n",
       "        vertical-align: top;\n",
       "    }\n",
       "\n",
       "    .dataframe thead th {\n",
       "        text-align: right;\n",
       "    }\n",
       "</style>\n",
       "<table border=\"1\" class=\"dataframe\">\n",
       "  <thead>\n",
       "    <tr style=\"text-align: right;\">\n",
       "      <th>component</th>\n",
       "      <th>gss_code</th>\n",
       "      <th>gss_code_ward</th>\n",
       "      <th>sex</th>\n",
       "      <th>age</th>\n",
       "      <th>year</th>\n",
       "      <th>births</th>\n",
       "      <th>deaths</th>\n",
       "      <th>netflow</th>\n",
       "      <th>popn</th>\n",
       "    </tr>\n",
       "  </thead>\n",
       "  <tbody>\n",
       "    <tr>\n",
       "      <th>0</th>\n",
       "      <td>E09000001</td>\n",
       "      <td>E09000001</td>\n",
       "      <td>female</td>\n",
       "      <td>0-18</td>\n",
       "      <td>2011.0</td>\n",
       "      <td>NaN</td>\n",
       "      <td>NaN</td>\n",
       "      <td>NaN</td>\n",
       "      <td>19.421053</td>\n",
       "    </tr>\n",
       "    <tr>\n",
       "      <th>1</th>\n",
       "      <td>E09000001</td>\n",
       "      <td>E09000001</td>\n",
       "      <td>female</td>\n",
       "      <td>0-18</td>\n",
       "      <td>2012.0</td>\n",
       "      <td>32.0</td>\n",
       "      <td>0.0</td>\n",
       "      <td>0.631579</td>\n",
       "      <td>20.368421</td>\n",
       "    </tr>\n",
       "    <tr>\n",
       "      <th>2</th>\n",
       "      <td>E09000001</td>\n",
       "      <td>E09000001</td>\n",
       "      <td>female</td>\n",
       "      <td>0-18</td>\n",
       "      <td>2013.0</td>\n",
       "      <td>36.0</td>\n",
       "      <td>0.0</td>\n",
       "      <td>-1.526316</td>\n",
       "      <td>19.947368</td>\n",
       "    </tr>\n",
       "    <tr>\n",
       "      <th>3</th>\n",
       "      <td>E09000001</td>\n",
       "      <td>E09000001</td>\n",
       "      <td>female</td>\n",
       "      <td>0-18</td>\n",
       "      <td>2014.0</td>\n",
       "      <td>26.0</td>\n",
       "      <td>0.0</td>\n",
       "      <td>0.052632</td>\n",
       "      <td>19.473684</td>\n",
       "    </tr>\n",
       "    <tr>\n",
       "      <th>4</th>\n",
       "      <td>E09000001</td>\n",
       "      <td>E09000001</td>\n",
       "      <td>female</td>\n",
       "      <td>0-18</td>\n",
       "      <td>2015.0</td>\n",
       "      <td>30.0</td>\n",
       "      <td>0.0</td>\n",
       "      <td>-0.210526</td>\n",
       "      <td>19.578947</td>\n",
       "    </tr>\n",
       "    <tr>\n",
       "      <th>...</th>\n",
       "      <td>...</td>\n",
       "      <td>...</td>\n",
       "      <td>...</td>\n",
       "      <td>...</td>\n",
       "      <td>...</td>\n",
       "      <td>...</td>\n",
       "      <td>...</td>\n",
       "      <td>...</td>\n",
       "      <td>...</td>\n",
       "    </tr>\n",
       "    <tr>\n",
       "      <th>489595</th>\n",
       "      <td>E09000033</td>\n",
       "      <td>E05013809</td>\n",
       "      <td>male</td>\n",
       "      <td>90+</td>\n",
       "      <td>2046.0</td>\n",
       "      <td>NaN</td>\n",
       "      <td>7.8</td>\n",
       "      <td>0.900000</td>\n",
       "      <td>20.000000</td>\n",
       "    </tr>\n",
       "    <tr>\n",
       "      <th>489596</th>\n",
       "      <td>E09000033</td>\n",
       "      <td>E05013809</td>\n",
       "      <td>male</td>\n",
       "      <td>90+</td>\n",
       "      <td>2047.0</td>\n",
       "      <td>NaN</td>\n",
       "      <td>8.1</td>\n",
       "      <td>0.900000</td>\n",
       "      <td>21.000000</td>\n",
       "    </tr>\n",
       "    <tr>\n",
       "      <th>489597</th>\n",
       "      <td>E09000033</td>\n",
       "      <td>E05013809</td>\n",
       "      <td>male</td>\n",
       "      <td>90+</td>\n",
       "      <td>2048.0</td>\n",
       "      <td>NaN</td>\n",
       "      <td>8.5</td>\n",
       "      <td>0.900000</td>\n",
       "      <td>22.200000</td>\n",
       "    </tr>\n",
       "    <tr>\n",
       "      <th>489598</th>\n",
       "      <td>E09000033</td>\n",
       "      <td>E05013809</td>\n",
       "      <td>male</td>\n",
       "      <td>90+</td>\n",
       "      <td>2049.0</td>\n",
       "      <td>NaN</td>\n",
       "      <td>8.7</td>\n",
       "      <td>0.900000</td>\n",
       "      <td>23.200000</td>\n",
       "    </tr>\n",
       "    <tr>\n",
       "      <th>489599</th>\n",
       "      <td>E09000033</td>\n",
       "      <td>E05013809</td>\n",
       "      <td>male</td>\n",
       "      <td>90+</td>\n",
       "      <td>2050.0</td>\n",
       "      <td>NaN</td>\n",
       "      <td>9.3</td>\n",
       "      <td>0.900000</td>\n",
       "      <td>25.000000</td>\n",
       "    </tr>\n",
       "  </tbody>\n",
       "</table>\n",
       "<p>489600 rows × 9 columns</p>\n",
       "</div>"
      ],
      "text/plain": [
       "component   gss_code gss_code_ward     sex   age    year  births  deaths  \\\n",
       "0          E09000001     E09000001  female  0-18  2011.0     NaN     NaN   \n",
       "1          E09000001     E09000001  female  0-18  2012.0    32.0     0.0   \n",
       "2          E09000001     E09000001  female  0-18  2013.0    36.0     0.0   \n",
       "3          E09000001     E09000001  female  0-18  2014.0    26.0     0.0   \n",
       "4          E09000001     E09000001  female  0-18  2015.0    30.0     0.0   \n",
       "...              ...           ...     ...   ...     ...     ...     ...   \n",
       "489595     E09000033     E05013809    male   90+  2046.0     NaN     7.8   \n",
       "489596     E09000033     E05013809    male   90+  2047.0     NaN     8.1   \n",
       "489597     E09000033     E05013809    male   90+  2048.0     NaN     8.5   \n",
       "489598     E09000033     E05013809    male   90+  2049.0     NaN     8.7   \n",
       "489599     E09000033     E05013809    male   90+  2050.0     NaN     9.3   \n",
       "\n",
       "component   netflow       popn  \n",
       "0               NaN  19.421053  \n",
       "1          0.631579  20.368421  \n",
       "2         -1.526316  19.947368  \n",
       "3          0.052632  19.473684  \n",
       "4         -0.210526  19.578947  \n",
       "...             ...        ...  \n",
       "489595     0.900000  20.000000  \n",
       "489596     0.900000  21.000000  \n",
       "489597     0.900000  22.200000  \n",
       "489598     0.900000  23.200000  \n",
       "489599     0.900000  25.000000  \n",
       "\n",
       "[489600 rows x 9 columns]"
      ]
     },
     "execution_count": 31,
     "metadata": {},
     "output_type": "execute_result"
    }
   ],
>>>>>>> d6e679524c1c4c65559ed5b857f2e8f7c637a755
   "source": [
    "combined_10yr_fert_agebins_component_columns"
   ]
  },
  {
   "cell_type": "markdown",
   "metadata": {},
   "source": [
    "#### check for negative values in columns"
   ]
  },
  {
   "cell_type": "code",
<<<<<<< HEAD
   "execution_count": null,
   "metadata": {},
   "outputs": [],
=======
   "execution_count": 32,
   "metadata": {},
   "outputs": [
    {
     "name": "stdout",
     "output_type": "stream",
     "text": [
      "components with negative values: ['netflow']\n"
     ]
    }
   ],
>>>>>>> d6e679524c1c4c65559ed5b857f2e8f7c637a755
   "source": [
    "# Checking for negative values and extremely high values\n",
    "negative_values = combined_10yr_fert[combined_10yr_fert['value'] < 0]\n",
    "print('components with negative values:', negative_values['component'].unique())"
   ]
  },
  {
   "cell_type": "markdown",
   "metadata": {},
   "source": [
    "#### check age range"
   ]
  },
  {
   "cell_type": "code",
<<<<<<< HEAD
   "execution_count": null,
   "metadata": {},
   "outputs": [],
=======
   "execution_count": 33,
   "metadata": {},
   "outputs": [
    {
     "name": "stdout",
     "output_type": "stream",
     "text": [
      "Is max age is 90 and min age is 0: True\n"
     ]
    }
   ],
>>>>>>> d6e679524c1c4c65559ed5b857f2e8f7c637a755
   "source": [
    "#print true if max age is 90 and min age is 0\n",
    "print('Is max age is 90 and min age is 0:', (combined_10yr_fert['age'].max() == 90) & (combined_10yr_fert['age'].min() == 0))"
   ]
  },
  {
   "cell_type": "markdown",
   "metadata": {},
   "source": [
    "## Population Consistency Over Time\n",
    "\n",
    "---"
   ]
  },
  {
   "cell_type": "code",
<<<<<<< HEAD
   "execution_count": null,
   "metadata": {},
   "outputs": [],
=======
   "execution_count": 34,
   "metadata": {},
   "outputs": [
    {
     "data": {
      "text/html": [
       "<div>\n",
       "<style scoped>\n",
       "    .dataframe tbody tr th:only-of-type {\n",
       "        vertical-align: middle;\n",
       "    }\n",
       "\n",
       "    .dataframe tbody tr th {\n",
       "        vertical-align: top;\n",
       "    }\n",
       "\n",
       "    .dataframe thead th {\n",
       "        text-align: right;\n",
       "    }\n",
       "</style>\n",
       "<table border=\"1\" class=\"dataframe\">\n",
       "  <thead>\n",
       "    <tr style=\"text-align: right;\">\n",
       "      <th>component</th>\n",
       "      <th>gss_code</th>\n",
       "      <th>gss_code_ward</th>\n",
       "      <th>sex</th>\n",
       "      <th>age</th>\n",
       "      <th>year</th>\n",
       "      <th>births</th>\n",
       "      <th>deaths</th>\n",
       "      <th>netflow</th>\n",
       "      <th>popn</th>\n",
       "    </tr>\n",
       "  </thead>\n",
       "  <tbody>\n",
       "    <tr>\n",
       "      <th>0</th>\n",
       "      <td>E09000001</td>\n",
       "      <td>E09000001</td>\n",
       "      <td>female</td>\n",
       "      <td>0-18</td>\n",
       "      <td>2011.0</td>\n",
       "      <td>NaN</td>\n",
       "      <td>NaN</td>\n",
       "      <td>NaN</td>\n",
       "      <td>19.421053</td>\n",
       "    </tr>\n",
       "    <tr>\n",
       "      <th>1</th>\n",
       "      <td>E09000001</td>\n",
       "      <td>E09000001</td>\n",
       "      <td>female</td>\n",
       "      <td>0-18</td>\n",
       "      <td>2012.0</td>\n",
       "      <td>32.0</td>\n",
       "      <td>0.0</td>\n",
       "      <td>0.631579</td>\n",
       "      <td>20.368421</td>\n",
       "    </tr>\n",
       "    <tr>\n",
       "      <th>2</th>\n",
       "      <td>E09000001</td>\n",
       "      <td>E09000001</td>\n",
       "      <td>female</td>\n",
       "      <td>0-18</td>\n",
       "      <td>2013.0</td>\n",
       "      <td>36.0</td>\n",
       "      <td>0.0</td>\n",
       "      <td>-1.526316</td>\n",
       "      <td>19.947368</td>\n",
       "    </tr>\n",
       "    <tr>\n",
       "      <th>3</th>\n",
       "      <td>E09000001</td>\n",
       "      <td>E09000001</td>\n",
       "      <td>female</td>\n",
       "      <td>0-18</td>\n",
       "      <td>2014.0</td>\n",
       "      <td>26.0</td>\n",
       "      <td>0.0</td>\n",
       "      <td>0.052632</td>\n",
       "      <td>19.473684</td>\n",
       "    </tr>\n",
       "    <tr>\n",
       "      <th>4</th>\n",
       "      <td>E09000001</td>\n",
       "      <td>E09000001</td>\n",
       "      <td>female</td>\n",
       "      <td>0-18</td>\n",
       "      <td>2015.0</td>\n",
       "      <td>30.0</td>\n",
       "      <td>0.0</td>\n",
       "      <td>-0.210526</td>\n",
       "      <td>19.578947</td>\n",
       "    </tr>\n",
       "    <tr>\n",
       "      <th>...</th>\n",
       "      <td>...</td>\n",
       "      <td>...</td>\n",
       "      <td>...</td>\n",
       "      <td>...</td>\n",
       "      <td>...</td>\n",
       "      <td>...</td>\n",
       "      <td>...</td>\n",
       "      <td>...</td>\n",
       "      <td>...</td>\n",
       "    </tr>\n",
       "    <tr>\n",
       "      <th>489595</th>\n",
       "      <td>E09000033</td>\n",
       "      <td>E05013809</td>\n",
       "      <td>male</td>\n",
       "      <td>90+</td>\n",
       "      <td>2046.0</td>\n",
       "      <td>NaN</td>\n",
       "      <td>7.8</td>\n",
       "      <td>0.900000</td>\n",
       "      <td>20.000000</td>\n",
       "    </tr>\n",
       "    <tr>\n",
       "      <th>489596</th>\n",
       "      <td>E09000033</td>\n",
       "      <td>E05013809</td>\n",
       "      <td>male</td>\n",
       "      <td>90+</td>\n",
       "      <td>2047.0</td>\n",
       "      <td>NaN</td>\n",
       "      <td>8.1</td>\n",
       "      <td>0.900000</td>\n",
       "      <td>21.000000</td>\n",
       "    </tr>\n",
       "    <tr>\n",
       "      <th>489597</th>\n",
       "      <td>E09000033</td>\n",
       "      <td>E05013809</td>\n",
       "      <td>male</td>\n",
       "      <td>90+</td>\n",
       "      <td>2048.0</td>\n",
       "      <td>NaN</td>\n",
       "      <td>8.5</td>\n",
       "      <td>0.900000</td>\n",
       "      <td>22.200000</td>\n",
       "    </tr>\n",
       "    <tr>\n",
       "      <th>489598</th>\n",
       "      <td>E09000033</td>\n",
       "      <td>E05013809</td>\n",
       "      <td>male</td>\n",
       "      <td>90+</td>\n",
       "      <td>2049.0</td>\n",
       "      <td>NaN</td>\n",
       "      <td>8.7</td>\n",
       "      <td>0.900000</td>\n",
       "      <td>23.200000</td>\n",
       "    </tr>\n",
       "    <tr>\n",
       "      <th>489599</th>\n",
       "      <td>E09000033</td>\n",
       "      <td>E05013809</td>\n",
       "      <td>male</td>\n",
       "      <td>90+</td>\n",
       "      <td>2050.0</td>\n",
       "      <td>NaN</td>\n",
       "      <td>9.3</td>\n",
       "      <td>0.900000</td>\n",
       "      <td>25.000000</td>\n",
       "    </tr>\n",
       "  </tbody>\n",
       "</table>\n",
       "<p>489600 rows × 9 columns</p>\n",
       "</div>"
      ],
      "text/plain": [
       "component   gss_code gss_code_ward     sex   age    year  births  deaths  \\\n",
       "0          E09000001     E09000001  female  0-18  2011.0     NaN     NaN   \n",
       "1          E09000001     E09000001  female  0-18  2012.0    32.0     0.0   \n",
       "2          E09000001     E09000001  female  0-18  2013.0    36.0     0.0   \n",
       "3          E09000001     E09000001  female  0-18  2014.0    26.0     0.0   \n",
       "4          E09000001     E09000001  female  0-18  2015.0    30.0     0.0   \n",
       "...              ...           ...     ...   ...     ...     ...     ...   \n",
       "489595     E09000033     E05013809    male   90+  2046.0     NaN     7.8   \n",
       "489596     E09000033     E05013809    male   90+  2047.0     NaN     8.1   \n",
       "489597     E09000033     E05013809    male   90+  2048.0     NaN     8.5   \n",
       "489598     E09000033     E05013809    male   90+  2049.0     NaN     8.7   \n",
       "489599     E09000033     E05013809    male   90+  2050.0     NaN     9.3   \n",
       "\n",
       "component   netflow       popn  \n",
       "0               NaN  19.421053  \n",
       "1          0.631579  20.368421  \n",
       "2         -1.526316  19.947368  \n",
       "3          0.052632  19.473684  \n",
       "4         -0.210526  19.578947  \n",
       "...             ...        ...  \n",
       "489595     0.900000  20.000000  \n",
       "489596     0.900000  21.000000  \n",
       "489597     0.900000  22.200000  \n",
       "489598     0.900000  23.200000  \n",
       "489599     0.900000  25.000000  \n",
       "\n",
       "[489600 rows x 9 columns]"
      ]
     },
     "execution_count": 34,
     "metadata": {},
     "output_type": "execute_result"
    }
   ],
>>>>>>> d6e679524c1c4c65559ed5b857f2e8f7c637a755
   "source": [
    "#use binned ages this will even out large flunctions between age group where the are likely to be unusally high e.i. 18 year olds moving to university\n",
    "combined_10yr_fert_agebins_component_columns"
   ]
  },
  {
   "cell_type": "code",
<<<<<<< HEAD
   "execution_count": null,
   "metadata": {},
   "outputs": [],
=======
   "execution_count": 35,
   "metadata": {},
   "outputs": [
    {
     "name": "stderr",
     "output_type": "stream",
     "text": [
      "C:\\Users\\user\\AppData\\Local\\Temp\\ipykernel_4072\\3581825568.py:26: FutureWarning: The default of observed=False is deprecated and will be changed to True in a future version of pandas. Pass observed=False to retain current behavior or observed=True to adopt the future default and silence this warning.\n",
      "  df[pct_change_columns] = df.groupby([geo_column, 'sex', 'age'])[component_columns].pct_change().abs()\n",
      "C:\\Users\\user\\AppData\\Local\\Temp\\ipykernel_4072\\3581825568.py:26: FutureWarning: The default fill_method='ffill' in DataFrameGroupBy.pct_change is deprecated and will be removed in a future version. Either fill in any non-leading NA values prior to calling pct_change or specify 'fill_method=None' to not fill NA values.\n",
      "  df[pct_change_columns] = df.groupby([geo_column, 'sex', 'age'])[component_columns].pct_change().abs()\n"
     ]
    }
   ],
>>>>>>> d6e679524c1c4c65559ed5b857f2e8f7c637a755
   "source": [
    "outliers_dict_borough = calculate_zscores_and_find_outliers(\n",
    "    combined_10yr_fert_agebins_component_columns, \n",
    "    ['births', 'deaths', 'netflow', 'popn'], \n",
    "    handle_inf=False, \n",
    "    Geography='borough',\n",
    "    z_score_threshold=3,\n",
    "    For_population_totals=False\n",
    "    )"
   ]
  },
  {
   "cell_type": "code",
<<<<<<< HEAD
   "execution_count": null,
   "metadata": {},
   "outputs": [],
=======
   "execution_count": 36,
   "metadata": {},
   "outputs": [
    {
     "name": "stderr",
     "output_type": "stream",
     "text": [
      "C:\\Users\\user\\AppData\\Local\\Temp\\ipykernel_4072\\3581825568.py:26: FutureWarning: The default of observed=False is deprecated and will be changed to True in a future version of pandas. Pass observed=False to retain current behavior or observed=True to adopt the future default and silence this warning.\n",
      "  df[pct_change_columns] = df.groupby([geo_column, 'sex', 'age'])[component_columns].pct_change().abs()\n",
      "C:\\Users\\user\\AppData\\Local\\Temp\\ipykernel_4072\\3581825568.py:26: FutureWarning: The default fill_method='ffill' in DataFrameGroupBy.pct_change is deprecated and will be removed in a future version. Either fill in any non-leading NA values prior to calling pct_change or specify 'fill_method=None' to not fill NA values.\n",
      "  df[pct_change_columns] = df.groupby([geo_column, 'sex', 'age'])[component_columns].pct_change().abs()\n"
     ]
    }
   ],
>>>>>>> d6e679524c1c4c65559ed5b857f2e8f7c637a755
   "source": [
    "outliers_dict_ward = calculate_zscores_and_find_outliers(\n",
    "    combined_10yr_fert_agebins_component_columns, \n",
    "    ['births', 'deaths', 'netflow', 'popn'], \n",
    "    handle_inf=False, \n",
    "    Geography='ward',\n",
    "    z_score_threshold=3,\n",
    "    For_population_totals=False\n",
    "    )"
   ]
  },
  {
   "cell_type": "code",
<<<<<<< HEAD
   "execution_count": null,
   "metadata": {},
   "outputs": [],
=======
   "execution_count": 37,
   "metadata": {},
   "outputs": [
    {
     "name": "stderr",
     "output_type": "stream",
     "text": [
      "C:\\Users\\user\\AppData\\Local\\Temp\\ipykernel_4072\\3581825568.py:26: FutureWarning: The default of observed=False is deprecated and will be changed to True in a future version of pandas. Pass observed=False to retain current behavior or observed=True to adopt the future default and silence this warning.\n",
      "  df[pct_change_columns] = df.groupby([geo_column, 'sex', 'age'])[component_columns].pct_change().abs()\n",
      "C:\\Users\\user\\AppData\\Local\\Temp\\ipykernel_4072\\3581825568.py:26: FutureWarning: The default fill_method='ffill' in DataFrameGroupBy.pct_change is deprecated and will be removed in a future version. Either fill in any non-leading NA values prior to calling pct_change or specify 'fill_method=None' to not fill NA values.\n",
      "  df[pct_change_columns] = df.groupby([geo_column, 'sex', 'age'])[component_columns].pct_change().abs()\n"
     ]
    }
   ],
>>>>>>> d6e679524c1c4c65559ed5b857f2e8f7c637a755
   "source": [
    "outliers_dict_borough_inf_values = calculate_zscores_and_find_outliers(\n",
    "    combined_10yr_fert_agebins_component_columns, \n",
    "    ['births', 'deaths', 'netflow', 'popn'], \n",
    "    handle_inf=True, \n",
    "    Geography='borough',\n",
    "    z_score_threshold=3,\n",
    "    For_population_totals=False\n",
    "    )"
   ]
  },
  {
   "cell_type": "code",
<<<<<<< HEAD
   "execution_count": null,
   "metadata": {},
   "outputs": [],
=======
   "execution_count": 38,
   "metadata": {},
   "outputs": [
    {
     "name": "stderr",
     "output_type": "stream",
     "text": [
      "C:\\Users\\user\\AppData\\Local\\Temp\\ipykernel_4072\\3581825568.py:26: FutureWarning: The default of observed=False is deprecated and will be changed to True in a future version of pandas. Pass observed=False to retain current behavior or observed=True to adopt the future default and silence this warning.\n",
      "  df[pct_change_columns] = df.groupby([geo_column, 'sex', 'age'])[component_columns].pct_change().abs()\n"
     ]
    },
    {
     "name": "stderr",
     "output_type": "stream",
     "text": [
      "C:\\Users\\user\\AppData\\Local\\Temp\\ipykernel_4072\\3581825568.py:26: FutureWarning: The default fill_method='ffill' in DataFrameGroupBy.pct_change is deprecated and will be removed in a future version. Either fill in any non-leading NA values prior to calling pct_change or specify 'fill_method=None' to not fill NA values.\n",
      "  df[pct_change_columns] = df.groupby([geo_column, 'sex', 'age'])[component_columns].pct_change().abs()\n"
     ]
    }
   ],
>>>>>>> d6e679524c1c4c65559ed5b857f2e8f7c637a755
   "source": [
    "outliers_dict_ward_inf_values = calculate_zscores_and_find_outliers(\n",
    "    combined_10yr_fert_agebins_component_columns, \n",
    "    ['births', 'deaths', 'netflow', 'popn'], \n",
    "    handle_inf=True, \n",
    "    Geography='ward',\n",
    "    z_score_threshold=3,\n",
    "    For_population_totals=False)"
   ]
  },
  {
   "cell_type": "code",
<<<<<<< HEAD
   "execution_count": null,
=======
   "execution_count": 39,
>>>>>>> d6e679524c1c4c65559ed5b857f2e8f7c637a755
   "metadata": {},
   "outputs": [],
   "source": [
    "births_pct_change_borough_outlier_df = outliers_dict_borough['births_pct_change']\n",
    "deaths_pct_change_borough_outlier_df = outliers_dict_borough['deaths_pct_change']\n",
    "netflow_pct_change_borough_outlier_df = outliers_dict_borough['netflow_pct_change']\n",
    "popn_pct_change_borough_outlier_df = outliers_dict_borough['popn_pct_change']"
   ]
  },
  {
   "cell_type": "code",
<<<<<<< HEAD
   "execution_count": null,
=======
   "execution_count": 40,
>>>>>>> d6e679524c1c4c65559ed5b857f2e8f7c637a755
   "metadata": {},
   "outputs": [],
   "source": [
    "births_pct_change_ward_outlier_df = outliers_dict_ward['births_pct_change']\n",
    "deaths_pct_change_ward_outlier_df = outliers_dict_ward['deaths_pct_change']\n",
    "netflow_pct_change_ward_outlier_df = outliers_dict_ward['netflow_pct_change']\n",
    "popn_pct_change_ward_outlier_df = outliers_dict_ward['popn_pct_change']"
   ]
  },
  {
   "cell_type": "code",
<<<<<<< HEAD
   "execution_count": null,
=======
   "execution_count": 41,
>>>>>>> d6e679524c1c4c65559ed5b857f2e8f7c637a755
   "metadata": {},
   "outputs": [],
   "source": [
    "births_pct_change_borough_inf_outlier_df = outliers_dict_borough_inf_values['births']\n",
    "deaths_pct_change_borough_inf_outlier_df = outliers_dict_borough_inf_values['deaths']\n",
    "netflow_pct_change_borough_inf_outlier_df = outliers_dict_borough_inf_values['netflow']\n",
    "popn_pct_change_borough_inf_outlier_df = outliers_dict_borough_inf_values['popn']"
   ]
  },
  {
   "cell_type": "code",
<<<<<<< HEAD
   "execution_count": null,
=======
   "execution_count": 42,
>>>>>>> d6e679524c1c4c65559ed5b857f2e8f7c637a755
   "metadata": {},
   "outputs": [],
   "source": [
    "births_pct_change_ward_inf_outlier_df = outliers_dict_ward_inf_values['births']\n",
    "deaths_pct_change_ward_inf_outlier_df = outliers_dict_ward_inf_values['deaths']\n",
    "netflow_pct_change_ward_inf_outlier_df = outliers_dict_ward_inf_values['netflow']   \n",
    "popn_pct_change_ward_inf_outlier_df = outliers_dict_ward_inf_values['popn']"
   ]
  },
  {
   "cell_type": "markdown",
   "metadata": {},
   "source": [
    "## Total Population Outliers\n",
    "#### Detect total outliers using Z-scores and Robust Z-scores, and perform cross-sectional and temporal comparisons.\n",
    "\n",
    "#### Using total population (popn) perform cross-sectional comparisons: Examine changes between boroughs and wards totals for a given year.\n",
    "#### Conduct temporal comparisons: Measure percentage changes between year total for both boroughs and wards\n",
    "\n",
    "#### Total population per geographical boundary\n",
    "#### Total population per year\n",
    "#### i.e.\n",
    "#### groupby('gss_code')['popn']\n",
    "#### groupby('year')['popn']\n",
    "---"
   ]
  },
  {
   "cell_type": "code",
<<<<<<< HEAD
   "execution_count": null,
   "metadata": {},
   "outputs": [],
=======
   "execution_count": 43,
   "metadata": {},
   "outputs": [
    {
     "data": {
      "text/html": [
       "<div>\n",
       "<style scoped>\n",
       "    .dataframe tbody tr th:only-of-type {\n",
       "        vertical-align: middle;\n",
       "    }\n",
       "\n",
       "    .dataframe tbody tr th {\n",
       "        vertical-align: top;\n",
       "    }\n",
       "\n",
       "    .dataframe thead th {\n",
       "        text-align: right;\n",
       "    }\n",
       "</style>\n",
       "<table border=\"1\" class=\"dataframe\">\n",
       "  <thead>\n",
       "    <tr style=\"text-align: right;\">\n",
       "      <th>component</th>\n",
       "      <th>gss_code</th>\n",
       "      <th>gss_code_ward</th>\n",
       "      <th>sex</th>\n",
       "      <th>age</th>\n",
       "      <th>year</th>\n",
       "      <th>births</th>\n",
       "      <th>deaths</th>\n",
       "      <th>netflow</th>\n",
       "      <th>popn</th>\n",
       "      <th>births_pct_change</th>\n",
       "      <th>deaths_pct_change</th>\n",
       "      <th>netflow_pct_change</th>\n",
       "      <th>popn_pct_change</th>\n",
       "    </tr>\n",
       "  </thead>\n",
       "  <tbody>\n",
       "    <tr>\n",
       "      <th>0</th>\n",
       "      <td>E09000001</td>\n",
       "      <td>E09000001</td>\n",
       "      <td>female</td>\n",
       "      <td>0-18</td>\n",
       "      <td>2011.0</td>\n",
       "      <td>NaN</td>\n",
       "      <td>NaN</td>\n",
       "      <td>NaN</td>\n",
       "      <td>19.421053</td>\n",
       "      <td>NaN</td>\n",
       "      <td>NaN</td>\n",
       "      <td>NaN</td>\n",
       "      <td>NaN</td>\n",
       "    </tr>\n",
       "    <tr>\n",
       "      <th>1</th>\n",
       "      <td>E09000001</td>\n",
       "      <td>E09000001</td>\n",
       "      <td>female</td>\n",
       "      <td>0-18</td>\n",
       "      <td>2012.0</td>\n",
       "      <td>32.0</td>\n",
       "      <td>0.0</td>\n",
       "      <td>0.631579</td>\n",
       "      <td>20.368421</td>\n",
       "      <td>NaN</td>\n",
       "      <td>NaN</td>\n",
       "      <td>NaN</td>\n",
       "      <td>0.048780</td>\n",
       "    </tr>\n",
       "    <tr>\n",
       "      <th>2</th>\n",
       "      <td>E09000001</td>\n",
       "      <td>E09000001</td>\n",
       "      <td>female</td>\n",
       "      <td>0-18</td>\n",
       "      <td>2013.0</td>\n",
       "      <td>36.0</td>\n",
       "      <td>0.0</td>\n",
       "      <td>-1.526316</td>\n",
       "      <td>19.947368</td>\n",
       "      <td>0.125000</td>\n",
       "      <td>NaN</td>\n",
       "      <td>3.416667</td>\n",
       "      <td>0.020672</td>\n",
       "    </tr>\n",
       "    <tr>\n",
       "      <th>3</th>\n",
       "      <td>E09000001</td>\n",
       "      <td>E09000001</td>\n",
       "      <td>female</td>\n",
       "      <td>0-18</td>\n",
       "      <td>2014.0</td>\n",
       "      <td>26.0</td>\n",
       "      <td>0.0</td>\n",
       "      <td>0.052632</td>\n",
       "      <td>19.473684</td>\n",
       "      <td>0.277778</td>\n",
       "      <td>NaN</td>\n",
       "      <td>1.034483</td>\n",
       "      <td>0.023747</td>\n",
       "    </tr>\n",
       "    <tr>\n",
       "      <th>4</th>\n",
       "      <td>E09000001</td>\n",
       "      <td>E09000001</td>\n",
       "      <td>female</td>\n",
       "      <td>0-18</td>\n",
       "      <td>2015.0</td>\n",
       "      <td>30.0</td>\n",
       "      <td>0.0</td>\n",
       "      <td>-0.210526</td>\n",
       "      <td>19.578947</td>\n",
       "      <td>0.153846</td>\n",
       "      <td>NaN</td>\n",
       "      <td>5.000000</td>\n",
       "      <td>0.005405</td>\n",
       "    </tr>\n",
       "    <tr>\n",
       "      <th>...</th>\n",
       "      <td>...</td>\n",
       "      <td>...</td>\n",
       "      <td>...</td>\n",
       "      <td>...</td>\n",
       "      <td>...</td>\n",
       "      <td>...</td>\n",
       "      <td>...</td>\n",
       "      <td>...</td>\n",
       "      <td>...</td>\n",
       "      <td>...</td>\n",
       "      <td>...</td>\n",
       "      <td>...</td>\n",
       "      <td>...</td>\n",
       "    </tr>\n",
       "    <tr>\n",
       "      <th>489595</th>\n",
       "      <td>E09000033</td>\n",
       "      <td>E05013809</td>\n",
       "      <td>male</td>\n",
       "      <td>90+</td>\n",
       "      <td>2046.0</td>\n",
       "      <td>NaN</td>\n",
       "      <td>7.8</td>\n",
       "      <td>0.900000</td>\n",
       "      <td>20.000000</td>\n",
       "      <td>NaN</td>\n",
       "      <td>0.040000</td>\n",
       "      <td>0.000000</td>\n",
       "      <td>0.063830</td>\n",
       "    </tr>\n",
       "    <tr>\n",
       "      <th>489596</th>\n",
       "      <td>E09000033</td>\n",
       "      <td>E05013809</td>\n",
       "      <td>male</td>\n",
       "      <td>90+</td>\n",
       "      <td>2047.0</td>\n",
       "      <td>NaN</td>\n",
       "      <td>8.1</td>\n",
       "      <td>0.900000</td>\n",
       "      <td>21.000000</td>\n",
       "      <td>NaN</td>\n",
       "      <td>0.038462</td>\n",
       "      <td>0.000000</td>\n",
       "      <td>0.050000</td>\n",
       "    </tr>\n",
       "    <tr>\n",
       "      <th>489597</th>\n",
       "      <td>E09000033</td>\n",
       "      <td>E05013809</td>\n",
       "      <td>male</td>\n",
       "      <td>90+</td>\n",
       "      <td>2048.0</td>\n",
       "      <td>NaN</td>\n",
       "      <td>8.5</td>\n",
       "      <td>0.900000</td>\n",
       "      <td>22.200000</td>\n",
       "      <td>NaN</td>\n",
       "      <td>0.049383</td>\n",
       "      <td>0.000000</td>\n",
       "      <td>0.057143</td>\n",
       "    </tr>\n",
       "    <tr>\n",
       "      <th>489598</th>\n",
       "      <td>E09000033</td>\n",
       "      <td>E05013809</td>\n",
       "      <td>male</td>\n",
       "      <td>90+</td>\n",
       "      <td>2049.0</td>\n",
       "      <td>NaN</td>\n",
       "      <td>8.7</td>\n",
       "      <td>0.900000</td>\n",
       "      <td>23.200000</td>\n",
       "      <td>NaN</td>\n",
       "      <td>0.023529</td>\n",
       "      <td>0.000000</td>\n",
       "      <td>0.045045</td>\n",
       "    </tr>\n",
       "    <tr>\n",
       "      <th>489599</th>\n",
       "      <td>E09000033</td>\n",
       "      <td>E05013809</td>\n",
       "      <td>male</td>\n",
       "      <td>90+</td>\n",
       "      <td>2050.0</td>\n",
       "      <td>NaN</td>\n",
       "      <td>9.3</td>\n",
       "      <td>0.900000</td>\n",
       "      <td>25.000000</td>\n",
       "      <td>NaN</td>\n",
       "      <td>0.068966</td>\n",
       "      <td>0.000000</td>\n",
       "      <td>0.077586</td>\n",
       "    </tr>\n",
       "  </tbody>\n",
       "</table>\n",
       "<p>489600 rows × 13 columns</p>\n",
       "</div>"
      ],
      "text/plain": [
       "component   gss_code gss_code_ward     sex   age    year  births  deaths  \\\n",
       "0          E09000001     E09000001  female  0-18  2011.0     NaN     NaN   \n",
       "1          E09000001     E09000001  female  0-18  2012.0    32.0     0.0   \n",
       "2          E09000001     E09000001  female  0-18  2013.0    36.0     0.0   \n",
       "3          E09000001     E09000001  female  0-18  2014.0    26.0     0.0   \n",
       "4          E09000001     E09000001  female  0-18  2015.0    30.0     0.0   \n",
       "...              ...           ...     ...   ...     ...     ...     ...   \n",
       "489595     E09000033     E05013809    male   90+  2046.0     NaN     7.8   \n",
       "489596     E09000033     E05013809    male   90+  2047.0     NaN     8.1   \n",
       "489597     E09000033     E05013809    male   90+  2048.0     NaN     8.5   \n",
       "489598     E09000033     E05013809    male   90+  2049.0     NaN     8.7   \n",
       "489599     E09000033     E05013809    male   90+  2050.0     NaN     9.3   \n",
       "\n",
       "component   netflow       popn  births_pct_change  deaths_pct_change  \\\n",
       "0               NaN  19.421053                NaN                NaN   \n",
       "1          0.631579  20.368421                NaN                NaN   \n",
       "2         -1.526316  19.947368           0.125000                NaN   \n",
       "3          0.052632  19.473684           0.277778                NaN   \n",
       "4         -0.210526  19.578947           0.153846                NaN   \n",
       "...             ...        ...                ...                ...   \n",
       "489595     0.900000  20.000000                NaN           0.040000   \n",
       "489596     0.900000  21.000000                NaN           0.038462   \n",
       "489597     0.900000  22.200000                NaN           0.049383   \n",
       "489598     0.900000  23.200000                NaN           0.023529   \n",
       "489599     0.900000  25.000000                NaN           0.068966   \n",
       "\n",
       "component  netflow_pct_change  popn_pct_change  \n",
       "0                         NaN              NaN  \n",
       "1                         NaN         0.048780  \n",
       "2                    3.416667         0.020672  \n",
       "3                    1.034483         0.023747  \n",
       "4                    5.000000         0.005405  \n",
       "...                       ...              ...  \n",
       "489595               0.000000         0.063830  \n",
       "489596               0.000000         0.050000  \n",
       "489597               0.000000         0.057143  \n",
       "489598               0.000000         0.045045  \n",
       "489599               0.000000         0.077586  \n",
       "\n",
       "[489600 rows x 13 columns]"
      ]
     },
     "execution_count": 43,
     "metadata": {},
     "output_type": "execute_result"
    }
   ],
>>>>>>> d6e679524c1c4c65559ed5b857f2e8f7c637a755
   "source": [
    "combined_10yr_fert_agebins_component_columns"
   ]
  },
  {
   "cell_type": "code",
<<<<<<< HEAD
   "execution_count": null,
   "metadata": {},
   "outputs": [],
=======
   "execution_count": 44,
   "metadata": {},
   "outputs": [
    {
     "name": "stderr",
     "output_type": "stream",
     "text": [
      "C:\\Users\\user\\AppData\\Local\\Temp\\ipykernel_4072\\3581825568.py:26: FutureWarning: The default of observed=False is deprecated and will be changed to True in a future version of pandas. Pass observed=False to retain current behavior or observed=True to adopt the future default and silence this warning.\n",
      "  df[pct_change_columns] = df.groupby([geo_column, 'sex', 'age'])[component_columns].pct_change().abs()\n"
     ]
    }
   ],
>>>>>>> d6e679524c1c4c65559ed5b857f2e8f7c637a755
   "source": [
    "total_pop_temporal_outliers_ward = calculate_zscores_and_find_outliers(\n",
    "    combined_10yr_fert_agebins_component_columns, \n",
    "    ['popn'], \n",
    "    handle_inf=False, \n",
    "    Geography='ward',\n",
    "    For_population_totals=True,\n",
    "    population_analysis_type='temporal'\n",
    "    )"
   ]
  },
  {
   "cell_type": "code",
<<<<<<< HEAD
   "execution_count": null,
=======
   "execution_count": 45,
>>>>>>> d6e679524c1c4c65559ed5b857f2e8f7c637a755
   "metadata": {},
   "outputs": [],
   "source": [
    "total_pop_temporal_outliers_ward_df  = total_pop_temporal_outliers_ward['popn_pct_change']"
   ]
  },
  {
   "cell_type": "code",
<<<<<<< HEAD
   "execution_count": null,
   "metadata": {},
   "outputs": [],
=======
   "execution_count": 46,
   "metadata": {},
   "outputs": [
    {
     "name": "stderr",
     "output_type": "stream",
     "text": [
      "C:\\Users\\user\\AppData\\Local\\Temp\\ipykernel_4072\\3581825568.py:26: FutureWarning: The default of observed=False is deprecated and will be changed to True in a future version of pandas. Pass observed=False to retain current behavior or observed=True to adopt the future default and silence this warning.\n",
      "  df[pct_change_columns] = df.groupby([geo_column, 'sex', 'age'])[component_columns].pct_change().abs()\n"
     ]
    }
   ],
>>>>>>> d6e679524c1c4c65559ed5b857f2e8f7c637a755
   "source": [
    "total_pop_cross_sectional_outliers_ward = calculate_zscores_and_find_outliers(\n",
    "    combined_10yr_fert_agebins_component_columns, \n",
    "    ['popn'], \n",
    "    handle_inf=False, \n",
    "    Geography='ward',\n",
    "    For_population_totals=True,\n",
    "    population_analysis_type='cross-sectional'\n",
    "    )"
   ]
  },
  {
   "cell_type": "code",
<<<<<<< HEAD
   "execution_count": null,
=======
   "execution_count": 47,
>>>>>>> d6e679524c1c4c65559ed5b857f2e8f7c637a755
   "metadata": {},
   "outputs": [],
   "source": [
    "total_pop_cross_sectional_outliers_ward_df = total_pop_cross_sectional_outliers_ward['popn_pct_change']"
   ]
  },
  {
   "cell_type": "markdown",
   "metadata": {},
   "source": [
    "## Gender Outliers\n",
    "Investigate gender outliers, focusing on abnormal gender ratios and adjusting thresholds as needed.\n",
    "\n",
    "---"
   ]
  },
  {
   "cell_type": "code",
<<<<<<< HEAD
   "execution_count": null,
   "metadata": {},
   "outputs": [],
=======
   "execution_count": 48,
   "metadata": {},
   "outputs": [
    {
     "name": "stderr",
     "output_type": "stream",
     "text": [
      "C:\\Users\\user\\AppData\\Local\\Temp\\ipykernel_4072\\1554508619.py:40: FutureWarning: A value is trying to be set on a copy of a DataFrame or Series through chained assignment using an inplace method.\n",
      "The behavior will change in pandas 3.0. This inplace method will never work because the intermediate object on which we are setting values always behaves as a copy.\n",
      "\n",
      "For example, when doing 'df[col].method(value, inplace=True)', try using 'df.method({col: value}, inplace=True)' or df[col] = df[col].method(value) instead, to perform the operation inplace on the original object.\n",
      "\n",
      "\n",
      "  gender_pivot['ratio_female_to_male'].replace([float('inf'), -float('inf')], pd.NA, inplace=True)\n",
      "C:\\Users\\user\\AppData\\Local\\Temp\\ipykernel_4072\\1554508619.py:41: FutureWarning: Downcasting object dtype arrays on .fillna, .ffill, .bfill is deprecated and will change in a future version. Call result.infer_objects(copy=False) instead. To opt-in to the future behavior, set `pd.set_option('future.no_silent_downcasting', True)`\n",
      "  gender_pivot['ratio_female_to_male'].fillna(np.nan, inplace=True)\n"
     ]
    }
   ],
>>>>>>> d6e679524c1c4c65559ed5b857f2e8f7c637a755
   "source": [
    "#single year age \n",
    "component_columns = ['births', 'deaths', 'netflow', 'popn']\n",
    "gender_outlier_dictionary = gender_outliers(combined_10yr_fert, component_columns, geography='ward', outlier_std={'births': 2, 'deaths': 5, 'netflow': 2, 'popn': 5})"
   ]
  },
  {
   "cell_type": "code",
<<<<<<< HEAD
   "execution_count": null,
   "metadata": {},
   "outputs": [],
=======
   "execution_count": 49,
   "metadata": {},
   "outputs": [
    {
     "name": "stderr",
     "output_type": "stream",
     "text": [
      "C:\\Users\\user\\AppData\\Local\\Temp\\ipykernel_4072\\1554508619.py:29: FutureWarning: The default value of observed=False is deprecated and will change to observed=True in a future version of pandas. Specify observed=False to silence this warning and retain the current behavior\n",
      "  gender_pivot = df.pivot_table(\n",
      "C:\\Users\\user\\AppData\\Local\\Temp\\ipykernel_4072\\1554508619.py:40: FutureWarning: A value is trying to be set on a copy of a DataFrame or Series through chained assignment using an inplace method.\n",
      "The behavior will change in pandas 3.0. This inplace method will never work because the intermediate object on which we are setting values always behaves as a copy.\n",
      "\n",
      "For example, when doing 'df[col].method(value, inplace=True)', try using 'df.method({col: value}, inplace=True)' or df[col] = df[col].method(value) instead, to perform the operation inplace on the original object.\n",
      "\n",
      "\n",
      "  gender_pivot['ratio_female_to_male'].replace([float('inf'), -float('inf')], pd.NA, inplace=True)\n",
      "C:\\Users\\user\\AppData\\Local\\Temp\\ipykernel_4072\\1554508619.py:41: FutureWarning: Downcasting object dtype arrays on .fillna, .ffill, .bfill is deprecated and will change in a future version. Call result.infer_objects(copy=False) instead. To opt-in to the future behavior, set `pd.set_option('future.no_silent_downcasting', True)`\n",
      "  gender_pivot['ratio_female_to_male'].fillna(np.nan, inplace=True)\n"
     ]
    }
   ],
>>>>>>> d6e679524c1c4c65559ed5b857f2e8f7c637a755
   "source": [
    "#binned age\n",
    "component_columns = ['births', 'deaths', 'netflow', 'popn']\n",
    "gender_outlier_dictionary = gender_outliers(combined_10yr_fert_agebins, component_columns, geography='ward', outlier_std={'births': 2, 'deaths': 5, 'netflow': 2, 'popn': 5})"
   ]
  },
  {
   "cell_type": "code",
<<<<<<< HEAD
   "execution_count": null,
=======
   "execution_count": 50,
>>>>>>> d6e679524c1c4c65559ed5b857f2e8f7c637a755
   "metadata": {},
   "outputs": [],
   "source": [
    "gender_outlier_dictionary\n",
    "births_gender_outliers_df = gender_outlier_dictionary['births']\n",
    "deaths_gender_outliers_df = gender_outlier_dictionary['deaths']\n",
    "netflow_gender_outliers_df = gender_outlier_dictionary['netflow']\n",
    "popn_gender_outliers_df = gender_outlier_dictionary['popn']"
   ]
  },
  {
   "cell_type": "code",
<<<<<<< HEAD
   "execution_count": null,
   "metadata": {},
   "outputs": [],
=======
   "execution_count": 51,
   "metadata": {},
   "outputs": [
    {
     "data": {
      "text/html": [
       "<div>\n",
       "<style scoped>\n",
       "    .dataframe tbody tr th:only-of-type {\n",
       "        vertical-align: middle;\n",
       "    }\n",
       "\n",
       "    .dataframe tbody tr th {\n",
       "        vertical-align: top;\n",
       "    }\n",
       "\n",
       "    .dataframe thead th {\n",
       "        text-align: right;\n",
       "    }\n",
       "</style>\n",
       "<table border=\"1\" class=\"dataframe\">\n",
       "  <thead>\n",
       "    <tr style=\"text-align: right;\">\n",
       "      <th>component</th>\n",
       "      <th>gss_code_ward</th>\n",
       "      <th>year</th>\n",
       "      <th>age</th>\n",
       "      <th>births</th>\n",
       "      <th>robust_z_score</th>\n",
       "    </tr>\n",
       "  </thead>\n",
       "  <tbody>\n",
       "    <tr>\n",
       "      <th>0</th>\n",
       "      <td>E05009317</td>\n",
       "      <td>2012.0</td>\n",
       "      <td>0-18</td>\n",
       "      <td>0.972733</td>\n",
       "      <td>24.599647</td>\n",
       "    </tr>\n",
       "    <tr>\n",
       "      <th>1</th>\n",
       "      <td>E05009317</td>\n",
       "      <td>2013.0</td>\n",
       "      <td>0-18</td>\n",
       "      <td>1.139108</td>\n",
       "      <td>225.697260</td>\n",
       "    </tr>\n",
       "    <tr>\n",
       "      <th>2</th>\n",
       "      <td>E05009317</td>\n",
       "      <td>2014.0</td>\n",
       "      <td>0-18</td>\n",
       "      <td>1.204861</td>\n",
       "      <td>305.173778</td>\n",
       "    </tr>\n",
       "    <tr>\n",
       "      <th>3</th>\n",
       "      <td>E05009317</td>\n",
       "      <td>2015.0</td>\n",
       "      <td>0-18</td>\n",
       "      <td>0.751933</td>\n",
       "      <td>-242.282254</td>\n",
       "    </tr>\n",
       "    <tr>\n",
       "      <th>4</th>\n",
       "      <td>E05009317</td>\n",
       "      <td>2016.0</td>\n",
       "      <td>0-18</td>\n",
       "      <td>0.912195</td>\n",
       "      <td>-48.572774</td>\n",
       "    </tr>\n",
       "    <tr>\n",
       "      <th>...</th>\n",
       "      <td>...</td>\n",
       "      <td>...</td>\n",
       "      <td>...</td>\n",
       "      <td>...</td>\n",
       "      <td>...</td>\n",
       "    </tr>\n",
       "    <tr>\n",
       "      <th>7779</th>\n",
       "      <td>E09000001</td>\n",
       "      <td>2021.0</td>\n",
       "      <td>0-18</td>\n",
       "      <td>0.758621</td>\n",
       "      <td>-234.198805</td>\n",
       "    </tr>\n",
       "    <tr>\n",
       "      <th>7780</th>\n",
       "      <td>E09000001</td>\n",
       "      <td>2022.0</td>\n",
       "      <td>0-18</td>\n",
       "      <td>0.894737</td>\n",
       "      <td>-69.674667</td>\n",
       "    </tr>\n",
       "    <tr>\n",
       "      <th>7781</th>\n",
       "      <td>E09000001</td>\n",
       "      <td>2023.0</td>\n",
       "      <td>0-18</td>\n",
       "      <td>0.955720</td>\n",
       "      <td>4.035385</td>\n",
       "    </tr>\n",
       "    <tr>\n",
       "      <th>7782</th>\n",
       "      <td>E09000001</td>\n",
       "      <td>2039.0</td>\n",
       "      <td>0-18</td>\n",
       "      <td>0.950000</td>\n",
       "      <td>-2.877867</td>\n",
       "    </tr>\n",
       "    <tr>\n",
       "      <th>7783</th>\n",
       "      <td>E09000001</td>\n",
       "      <td>2049.0</td>\n",
       "      <td>0-18</td>\n",
       "      <td>0.950704</td>\n",
       "      <td>-2.026667</td>\n",
       "    </tr>\n",
       "  </tbody>\n",
       "</table>\n",
       "<p>7784 rows × 5 columns</p>\n",
       "</div>"
      ],
      "text/plain": [
       "component gss_code_ward    year   age    births  robust_z_score\n",
       "0             E05009317  2012.0  0-18  0.972733       24.599647\n",
       "1             E05009317  2013.0  0-18  1.139108      225.697260\n",
       "2             E05009317  2014.0  0-18  1.204861      305.173778\n",
       "3             E05009317  2015.0  0-18  0.751933     -242.282254\n",
       "4             E05009317  2016.0  0-18  0.912195      -48.572774\n",
       "...                 ...     ...   ...       ...             ...\n",
       "7779          E09000001  2021.0  0-18  0.758621     -234.198805\n",
       "7780          E09000001  2022.0  0-18  0.894737      -69.674667\n",
       "7781          E09000001  2023.0  0-18  0.955720        4.035385\n",
       "7782          E09000001  2039.0  0-18  0.950000       -2.877867\n",
       "7783          E09000001  2049.0  0-18  0.950704       -2.026667\n",
       "\n",
       "[7784 rows x 5 columns]"
      ]
     },
     "execution_count": 51,
     "metadata": {},
     "output_type": "execute_result"
    }
   ],
>>>>>>> d6e679524c1c4c65559ed5b857f2e8f7c637a755
   "source": [
    "births_gender_outliers_df"
   ]
  },
  {
   "cell_type": "code",
<<<<<<< HEAD
   "execution_count": null,
   "metadata": {},
   "outputs": [],
=======
   "execution_count": 52,
   "metadata": {},
   "outputs": [
    {
     "data": {
      "text/plain": [
       "{'births': component gss_code_ward    year   age    births  robust_z_score\n",
       " 0             E05009317  2012.0  0-18  0.972733       24.599647\n",
       " 1             E05009317  2013.0  0-18  1.139108      225.697260\n",
       " 2             E05009317  2014.0  0-18  1.204861      305.173778\n",
       " 3             E05009317  2015.0  0-18  0.751933     -242.282254\n",
       " 4             E05009317  2016.0  0-18  0.912195      -48.572774\n",
       " ...                 ...     ...   ...       ...             ...\n",
       " 7779          E09000001  2021.0  0-18  0.758621     -234.198805\n",
       " 7780          E09000001  2022.0  0-18  0.894737      -69.674667\n",
       " 7781          E09000001  2023.0  0-18  0.955720        4.035385\n",
       " 7782          E09000001  2039.0  0-18  0.950000       -2.877867\n",
       " 7783          E09000001  2049.0  0-18  0.950704       -2.026667\n",
       " \n",
       " [7784 rows x 5 columns],\n",
       " 'deaths': component gss_code_ward    year    age    deaths  robust_z_score\n",
       " 0             E05009317  2013.0    90+  2.760000        5.519995\n",
       " 1             E05009317  2014.0  31-40  3.333333        7.082119\n",
       " 2             E05009317  2014.0  61-70  3.000000        6.173908\n",
       " 3             E05009317  2014.0    90+  2.794118        5.612953\n",
       " 4             E05009317  2016.0    90+  2.976190        6.109035\n",
       " ...                 ...     ...    ...       ...             ...\n",
       " 6246          E05014119  2022.0  81-89  2.760000        5.519995\n",
       " 6247          E05014119  2022.0    90+  5.727273       13.604731\n",
       " 6248          E05014119  2023.0  31-40  4.000000        8.898543\n",
       " 6249          E09000001  2018.0    90+  9.000000       22.521720\n",
       " 6250          E09000001  2021.0    90+  3.500000        7.536225\n",
       " \n",
       " [6251 rows x 5 columns],\n",
       " 'netflow': component gss_code_ward    year    age    netflow  robust_z_score\n",
       " 0             E05009317  2012.0  81-89   7.625000        7.779697\n",
       " 1             E05009317  2012.0    90+   3.250000        2.717080\n",
       " 2             E05009317  2013.0  51-60  -1.257143       -2.498449\n",
       " 3             E05009317  2014.0   0-18  12.666667       13.613761\n",
       " 4             E05009317  2016.0  71-80  -9.750000      -12.326127\n",
       " ...                 ...     ...    ...        ...             ...\n",
       " 52438         E09000001  2048.0    90+   2.937500        2.355464\n",
       " 52439         E09000001  2049.0  41-50   8.000000        8.213636\n",
       " 52440         E09000001  2049.0    90+   3.062500        2.500111\n",
       " 52441         E09000001  2050.0  41-50   7.750000        7.924344\n",
       " 52442         E09000001  2050.0    90+   3.187500        2.644757\n",
       " \n",
       " [52443 rows x 5 columns],\n",
       " 'popn': component gss_code_ward    year    age      popn  robust_z_score\n",
       " 0             E05009317  2017.0  81-89  2.110266        5.366013\n",
       " 1             E05009317  2018.0  81-89  2.234551        6.043313\n",
       " 2             E05009317  2022.0    90+  2.200000        5.855026\n",
       " 3             E05009317  2023.0    90+  2.617391        8.129641\n",
       " 4             E05009317  2024.0    90+  2.989899       10.159658\n",
       " ...                 ...     ...    ...       ...             ...\n",
       " 15488         E05014119  2047.0    90+  2.137203        5.512809\n",
       " 15489         E05014119  2048.0    90+  2.139303        5.524255\n",
       " 15490         E05014119  2049.0    90+  2.117783        5.406976\n",
       " 15491         E05014119  2050.0    90+  2.082251        5.213342\n",
       " 15492         E09000001  2015.0    90+  2.714286        8.657676\n",
       " \n",
       " [15493 rows x 5 columns]}"
      ]
     },
     "execution_count": 52,
     "metadata": {},
     "output_type": "execute_result"
    }
   ],
>>>>>>> d6e679524c1c4c65559ed5b857f2e8f7c637a755
   "source": [
    "gender_outlier_dictionary"
   ]
  },
  {
   "cell_type": "markdown",
   "metadata": {},
   "source": [
    "## Key Visualisations\n",
    "Visualise important trends in the dataset, including distribution by components, age groups, yearly totals, and population pyramids.\n",
    "\n",
    "---\n"
   ]
  },
  {
   "cell_type": "markdown",
   "metadata": {},
   "source": [
    "#### yearly totals by component visulation"
   ]
  },
  {
   "cell_type": "code",
<<<<<<< HEAD
   "execution_count": null,
   "metadata": {},
   "outputs": [],
=======
   "execution_count": 53,
   "metadata": {},
   "outputs": [
    {
     "name": "stdout",
     "output_type": "stream",
     "text": [
      "Yearly population totals by gss_code and year:\n",
      "        year component       value\n",
      "0    2002.0   netflow      7036.6\n",
      "1    2003.0   netflow    -37021.3\n",
      "2    2004.0   netflow    -16399.9\n",
      "3    2005.0   netflow     21802.2\n",
      "4    2006.0   netflow      9229.4\n",
      "..      ...       ...         ...\n",
      "162  2049.0      popn  19763868.6\n",
      "163  2050.0    births    226639.0\n",
      "164  2050.0    deaths    137879.9\n",
      "165  2050.0   netflow    -57727.1\n",
      "166  2050.0      popn  19794455.5\n",
      "\n",
      "[167 rows x 3 columns]\n"
     ]
    }
   ],
>>>>>>> d6e679524c1c4c65559ed5b857f2e8f7c637a755
   "source": [
    "yearly_totals = combined_10yr_fert.groupby(['year','component'])['value'].sum().reset_index()\n",
    "print(\"Yearly population totals by gss_code and year:\\n\", yearly_totals)"
   ]
  },
  {
   "cell_type": "code",
<<<<<<< HEAD
   "execution_count": null,
   "metadata": {},
   "outputs": [],
=======
   "execution_count": 54,
   "metadata": {},
   "outputs": [
    {
     "data": {
      "application/vnd.plotly.v1+json": {
       "config": {
        "plotlyServerURL": "https://plot.ly"
       },
       "data": [
        {
         "hovertemplate": "component=netflow<br>Year=%{x}<br>Total Value=%{y}<extra></extra>",
         "legendgroup": "netflow",
         "line": {
          "color": "#1f77b4",
          "dash": "solid"
         },
         "marker": {
          "symbol": "circle"
         },
         "mode": "lines+markers",
         "name": "netflow",
         "orientation": "v",
         "showlegend": true,
         "type": "scatter",
         "x": [
          2002,
          2003,
          2004,
          2005,
          2006,
          2007,
          2008,
          2009,
          2010,
          2011,
          2012,
          2013,
          2014,
          2015,
          2016,
          2017,
          2018,
          2019,
          2020,
          2021,
          2022,
          2023,
          2024,
          2025,
          2026,
          2027,
          2028,
          2029,
          2030,
          2031,
          2032,
          2033,
          2034,
          2035,
          2036,
          2037,
          2038,
          2039,
          2040,
          2041,
          2042,
          2043,
          2044,
          2045,
          2046,
          2047,
          2048,
          2049,
          2050
         ],
         "xaxis": "x",
         "y": [
          7036.6,
          -37021.3,
          -16399.9,
          21802.2,
          9229.4,
          22646,
          40474.5,
          54731.9,
          40209,
          61220,
          59004.4,
          70500.9,
          52938.1,
          72606.2,
          11222.1,
          -93468.4,
          -35372,
          -31924.4,
          -158717.6,
          -231645.5,
          6569.099999999999,
          208662.9,
          -34663.5,
          -35600,
          -37461,
          -38760,
          -38487.1,
          -37089.1,
          -35104.2,
          -32887.6,
          -30666.2,
          -28845.4,
          -28158.5,
          -28660.4,
          -29403.6,
          -30315.9,
          -31628,
          -33375,
          -35391,
          -38456.8,
          -40913.2,
          -44377.8,
          -47641.3,
          -50483.1,
          -52915.8,
          -54742.2,
          -56091.8,
          -57067.2,
          -57727.1
         ],
         "yaxis": "y"
        },
        {
         "hovertemplate": "component=popn<br>Year=%{x}<br>Total Value=%{y}<extra></extra>",
         "legendgroup": "popn",
         "line": {
          "color": "#ff7f0e",
          "dash": "solid"
         },
         "marker": {
          "symbol": "circle"
         },
         "mode": "lines+markers",
         "name": "popn",
         "orientation": "v",
         "showlegend": true,
         "type": "scatter",
         "x": [
          2011,
          2012,
          2013,
          2014,
          2015,
          2016,
          2017,
          2018,
          2019,
          2020,
          2021,
          2022,
          2023,
          2024,
          2025,
          2026,
          2027,
          2028,
          2029,
          2030,
          2031,
          2032,
          2033,
          2034,
          2035,
          2036,
          2037,
          2038,
          2039,
          2040,
          2041,
          2042,
          2043,
          2044,
          2045,
          2046,
          2047,
          2048,
          2049,
          2050
         ],
         "xaxis": "x",
         "y": [
          16408751.2,
          16640284.7,
          16875811.6,
          17092687.4,
          17321400.7,
          17494728,
          17557540.8,
          17668165.5,
          17777509.3,
          17732445.9,
          17609554.7,
          17732360,
          18046360.4,
          18121722.3,
          18196309.8,
          18269046.2,
          18340363.9,
          18411733.1,
          18484192.9,
          18558296.3,
          18634243.9,
          18711831,
          18790410.9,
          18868964.1,
          18946487.2,
          19022683.5,
          19097224.1,
          19170288.8,
          19241642.5,
          19311016.1,
          19377157.5,
          19440485.8,
          19499593.3,
          19554288.2,
          19604577.4,
          19650397.7,
          19692091.1,
          19729855.3,
          19763868.6,
          19794455.5
         ],
         "yaxis": "y"
        },
        {
         "hovertemplate": "component=births<br>Year=%{x}<br>Total Value=%{y}<extra></extra>",
         "legendgroup": "births",
         "line": {
          "color": "#2ca02c",
          "dash": "solid"
         },
         "marker": {
          "symbol": "circle"
         },
         "mode": "lines+markers",
         "name": "births",
         "orientation": "v",
         "showlegend": true,
         "type": "scatter",
         "x": [
          2012,
          2013,
          2014,
          2015,
          2016,
          2017,
          2018,
          2019,
          2020,
          2021,
          2022,
          2023,
          2024,
          2025,
          2026,
          2027,
          2028,
          2029,
          2030,
          2031,
          2032,
          2033,
          2034,
          2035,
          2036,
          2037,
          2038,
          2039,
          2040,
          2041,
          2042,
          2043,
          2044,
          2045,
          2046,
          2047,
          2048,
          2049,
          2050
         ],
         "xaxis": "x",
         "y": [
          268075.7,
          262022.2,
          255615.1,
          257041.2,
          259694.8,
          254719.1,
          247189.2,
          238172.5,
          231467.4,
          219426.4,
          219142,
          212686.9,
          217653.6,
          218140.4,
          218689.8,
          219305.3,
          219950.3,
          220611.9,
          221270,
          221917,
          222558.4,
          223237.1,
          224011.3,
          224906.5,
          225916.8,
          227023.7,
          228193.6,
          229372.4,
          230480.5,
          231432.3,
          232143.2,
          232539,
          232577.9,
          232248.3,
          231576,
          230615,
          229430,
          228087.1,
          226639
         ],
         "yaxis": "y"
        },
        {
         "hovertemplate": "component=deaths<br>Year=%{x}<br>Total Value=%{y}<extra></extra>",
         "legendgroup": "deaths",
         "line": {
          "color": "#d62728",
          "dash": "solid"
         },
         "marker": {
          "symbol": "circle"
         },
         "mode": "lines+markers",
         "name": "deaths",
         "orientation": "v",
         "showlegend": true,
         "type": "scatter",
         "x": [
          2012,
          2013,
          2014,
          2015,
          2016,
          2017,
          2018,
          2019,
          2020,
          2021,
          2022,
          2023,
          2024,
          2025,
          2026,
          2027,
          2028,
          2029,
          2030,
          2031,
          2032,
          2033,
          2034,
          2035,
          2036,
          2037,
          2038,
          2039,
          2040,
          2041,
          2042,
          2043,
          2044,
          2045,
          2046,
          2047,
          2048,
          2049,
          2050
         ],
         "xaxis": "x",
         "y": [
          95114.1,
          96144.1,
          90877.7,
          100276.9,
          97004.4,
          97660.8,
          100829,
          97080.3,
          117593.4,
          110149.9,
          100738.9,
          106851.4,
          107171.2,
          107477.3,
          107988.1,
          108740.3,
          109598.1,
          110585.8,
          111582.9,
          112577.6,
          113847.6,
          115285.1,
          116824.7,
          118231.9,
          119826.3,
          121672.8,
          123031.6,
          124184.7,
          125270,
          126339.6,
          127430.9,
          128566.8,
          129763.6,
          131025.6,
          132350.8,
          133722,
          135102.4,
          136512.2,
          137879.9
         ],
         "yaxis": "y"
        }
       ],
       "layout": {
        "font": {
         "color": "#333333",
         "family": "Arial",
         "size": 14
        },
        "height": 600,
        "legend": {
         "font": {
          "size": 12
         },
         "orientation": "h",
         "title": {
          "text": "<b>Component</b><br>(Please click components<br> to toggle visibility)"
         },
         "tracegroupgap": 0,
         "x": 0.5,
         "xanchor": "center",
         "y": -0.15,
         "yanchor": "top"
        },
        "margin": {
         "b": 60,
         "l": 60,
         "r": 60,
         "t": 60
        },
        "paper_bgcolor": "#ffffff",
        "plot_bgcolor": "#f7f7f7",
        "template": {
         "data": {
          "bar": [
           {
            "error_x": {
             "color": "#2a3f5f"
            },
            "error_y": {
             "color": "#2a3f5f"
            },
            "marker": {
             "line": {
              "color": "#E5ECF6",
              "width": 0.5
             },
             "pattern": {
              "fillmode": "overlay",
              "size": 10,
              "solidity": 0.2
             }
            },
            "type": "bar"
           }
          ],
          "barpolar": [
           {
            "marker": {
             "line": {
              "color": "#E5ECF6",
              "width": 0.5
             },
             "pattern": {
              "fillmode": "overlay",
              "size": 10,
              "solidity": 0.2
             }
            },
            "type": "barpolar"
           }
          ],
          "carpet": [
           {
            "aaxis": {
             "endlinecolor": "#2a3f5f",
             "gridcolor": "white",
             "linecolor": "white",
             "minorgridcolor": "white",
             "startlinecolor": "#2a3f5f"
            },
            "baxis": {
             "endlinecolor": "#2a3f5f",
             "gridcolor": "white",
             "linecolor": "white",
             "minorgridcolor": "white",
             "startlinecolor": "#2a3f5f"
            },
            "type": "carpet"
           }
          ],
          "choropleth": [
           {
            "colorbar": {
             "outlinewidth": 0,
             "ticks": ""
            },
            "type": "choropleth"
           }
          ],
          "contour": [
           {
            "colorbar": {
             "outlinewidth": 0,
             "ticks": ""
            },
            "colorscale": [
             [
              0,
              "#0d0887"
             ],
             [
              0.1111111111111111,
              "#46039f"
             ],
             [
              0.2222222222222222,
              "#7201a8"
             ],
             [
              0.3333333333333333,
              "#9c179e"
             ],
             [
              0.4444444444444444,
              "#bd3786"
             ],
             [
              0.5555555555555556,
              "#d8576b"
             ],
             [
              0.6666666666666666,
              "#ed7953"
             ],
             [
              0.7777777777777778,
              "#fb9f3a"
             ],
             [
              0.8888888888888888,
              "#fdca26"
             ],
             [
              1,
              "#f0f921"
             ]
            ],
            "type": "contour"
           }
          ],
          "contourcarpet": [
           {
            "colorbar": {
             "outlinewidth": 0,
             "ticks": ""
            },
            "type": "contourcarpet"
           }
          ],
          "heatmap": [
           {
            "colorbar": {
             "outlinewidth": 0,
             "ticks": ""
            },
            "colorscale": [
             [
              0,
              "#0d0887"
             ],
             [
              0.1111111111111111,
              "#46039f"
             ],
             [
              0.2222222222222222,
              "#7201a8"
             ],
             [
              0.3333333333333333,
              "#9c179e"
             ],
             [
              0.4444444444444444,
              "#bd3786"
             ],
             [
              0.5555555555555556,
              "#d8576b"
             ],
             [
              0.6666666666666666,
              "#ed7953"
             ],
             [
              0.7777777777777778,
              "#fb9f3a"
             ],
             [
              0.8888888888888888,
              "#fdca26"
             ],
             [
              1,
              "#f0f921"
             ]
            ],
            "type": "heatmap"
           }
          ],
          "heatmapgl": [
           {
            "colorbar": {
             "outlinewidth": 0,
             "ticks": ""
            },
            "colorscale": [
             [
              0,
              "#0d0887"
             ],
             [
              0.1111111111111111,
              "#46039f"
             ],
             [
              0.2222222222222222,
              "#7201a8"
             ],
             [
              0.3333333333333333,
              "#9c179e"
             ],
             [
              0.4444444444444444,
              "#bd3786"
             ],
             [
              0.5555555555555556,
              "#d8576b"
             ],
             [
              0.6666666666666666,
              "#ed7953"
             ],
             [
              0.7777777777777778,
              "#fb9f3a"
             ],
             [
              0.8888888888888888,
              "#fdca26"
             ],
             [
              1,
              "#f0f921"
             ]
            ],
            "type": "heatmapgl"
           }
          ],
          "histogram": [
           {
            "marker": {
             "pattern": {
              "fillmode": "overlay",
              "size": 10,
              "solidity": 0.2
             }
            },
            "type": "histogram"
           }
          ],
          "histogram2d": [
           {
            "colorbar": {
             "outlinewidth": 0,
             "ticks": ""
            },
            "colorscale": [
             [
              0,
              "#0d0887"
             ],
             [
              0.1111111111111111,
              "#46039f"
             ],
             [
              0.2222222222222222,
              "#7201a8"
             ],
             [
              0.3333333333333333,
              "#9c179e"
             ],
             [
              0.4444444444444444,
              "#bd3786"
             ],
             [
              0.5555555555555556,
              "#d8576b"
             ],
             [
              0.6666666666666666,
              "#ed7953"
             ],
             [
              0.7777777777777778,
              "#fb9f3a"
             ],
             [
              0.8888888888888888,
              "#fdca26"
             ],
             [
              1,
              "#f0f921"
             ]
            ],
            "type": "histogram2d"
           }
          ],
          "histogram2dcontour": [
           {
            "colorbar": {
             "outlinewidth": 0,
             "ticks": ""
            },
            "colorscale": [
             [
              0,
              "#0d0887"
             ],
             [
              0.1111111111111111,
              "#46039f"
             ],
             [
              0.2222222222222222,
              "#7201a8"
             ],
             [
              0.3333333333333333,
              "#9c179e"
             ],
             [
              0.4444444444444444,
              "#bd3786"
             ],
             [
              0.5555555555555556,
              "#d8576b"
             ],
             [
              0.6666666666666666,
              "#ed7953"
             ],
             [
              0.7777777777777778,
              "#fb9f3a"
             ],
             [
              0.8888888888888888,
              "#fdca26"
             ],
             [
              1,
              "#f0f921"
             ]
            ],
            "type": "histogram2dcontour"
           }
          ],
          "mesh3d": [
           {
            "colorbar": {
             "outlinewidth": 0,
             "ticks": ""
            },
            "type": "mesh3d"
           }
          ],
          "parcoords": [
           {
            "line": {
             "colorbar": {
              "outlinewidth": 0,
              "ticks": ""
             }
            },
            "type": "parcoords"
           }
          ],
          "pie": [
           {
            "automargin": true,
            "type": "pie"
           }
          ],
          "scatter": [
           {
            "fillpattern": {
             "fillmode": "overlay",
             "size": 10,
             "solidity": 0.2
            },
            "type": "scatter"
           }
          ],
          "scatter3d": [
           {
            "line": {
             "colorbar": {
              "outlinewidth": 0,
              "ticks": ""
             }
            },
            "marker": {
             "colorbar": {
              "outlinewidth": 0,
              "ticks": ""
             }
            },
            "type": "scatter3d"
           }
          ],
          "scattercarpet": [
           {
            "marker": {
             "colorbar": {
              "outlinewidth": 0,
              "ticks": ""
             }
            },
            "type": "scattercarpet"
           }
          ],
          "scattergeo": [
           {
            "marker": {
             "colorbar": {
              "outlinewidth": 0,
              "ticks": ""
             }
            },
            "type": "scattergeo"
           }
          ],
          "scattergl": [
           {
            "marker": {
             "colorbar": {
              "outlinewidth": 0,
              "ticks": ""
             }
            },
            "type": "scattergl"
           }
          ],
          "scattermapbox": [
           {
            "marker": {
             "colorbar": {
              "outlinewidth": 0,
              "ticks": ""
             }
            },
            "type": "scattermapbox"
           }
          ],
          "scatterpolar": [
           {
            "marker": {
             "colorbar": {
              "outlinewidth": 0,
              "ticks": ""
             }
            },
            "type": "scatterpolar"
           }
          ],
          "scatterpolargl": [
           {
            "marker": {
             "colorbar": {
              "outlinewidth": 0,
              "ticks": ""
             }
            },
            "type": "scatterpolargl"
           }
          ],
          "scatterternary": [
           {
            "marker": {
             "colorbar": {
              "outlinewidth": 0,
              "ticks": ""
             }
            },
            "type": "scatterternary"
           }
          ],
          "surface": [
           {
            "colorbar": {
             "outlinewidth": 0,
             "ticks": ""
            },
            "colorscale": [
             [
              0,
              "#0d0887"
             ],
             [
              0.1111111111111111,
              "#46039f"
             ],
             [
              0.2222222222222222,
              "#7201a8"
             ],
             [
              0.3333333333333333,
              "#9c179e"
             ],
             [
              0.4444444444444444,
              "#bd3786"
             ],
             [
              0.5555555555555556,
              "#d8576b"
             ],
             [
              0.6666666666666666,
              "#ed7953"
             ],
             [
              0.7777777777777778,
              "#fb9f3a"
             ],
             [
              0.8888888888888888,
              "#fdca26"
             ],
             [
              1,
              "#f0f921"
             ]
            ],
            "type": "surface"
           }
          ],
          "table": [
           {
            "cells": {
             "fill": {
              "color": "#EBF0F8"
             },
             "line": {
              "color": "white"
             }
            },
            "header": {
             "fill": {
              "color": "#C8D4E3"
             },
             "line": {
              "color": "white"
             }
            },
            "type": "table"
           }
          ]
         },
         "layout": {
          "annotationdefaults": {
           "arrowcolor": "#2a3f5f",
           "arrowhead": 0,
           "arrowwidth": 1
          },
          "autotypenumbers": "strict",
          "coloraxis": {
           "colorbar": {
            "outlinewidth": 0,
            "ticks": ""
           }
          },
          "colorscale": {
           "diverging": [
            [
             0,
             "#8e0152"
            ],
            [
             0.1,
             "#c51b7d"
            ],
            [
             0.2,
             "#de77ae"
            ],
            [
             0.3,
             "#f1b6da"
            ],
            [
             0.4,
             "#fde0ef"
            ],
            [
             0.5,
             "#f7f7f7"
            ],
            [
             0.6,
             "#e6f5d0"
            ],
            [
             0.7,
             "#b8e186"
            ],
            [
             0.8,
             "#7fbc41"
            ],
            [
             0.9,
             "#4d9221"
            ],
            [
             1,
             "#276419"
            ]
           ],
           "sequential": [
            [
             0,
             "#0d0887"
            ],
            [
             0.1111111111111111,
             "#46039f"
            ],
            [
             0.2222222222222222,
             "#7201a8"
            ],
            [
             0.3333333333333333,
             "#9c179e"
            ],
            [
             0.4444444444444444,
             "#bd3786"
            ],
            [
             0.5555555555555556,
             "#d8576b"
            ],
            [
             0.6666666666666666,
             "#ed7953"
            ],
            [
             0.7777777777777778,
             "#fb9f3a"
            ],
            [
             0.8888888888888888,
             "#fdca26"
            ],
            [
             1,
             "#f0f921"
            ]
           ],
           "sequentialminus": [
            [
             0,
             "#0d0887"
            ],
            [
             0.1111111111111111,
             "#46039f"
            ],
            [
             0.2222222222222222,
             "#7201a8"
            ],
            [
             0.3333333333333333,
             "#9c179e"
            ],
            [
             0.4444444444444444,
             "#bd3786"
            ],
            [
             0.5555555555555556,
             "#d8576b"
            ],
            [
             0.6666666666666666,
             "#ed7953"
            ],
            [
             0.7777777777777778,
             "#fb9f3a"
            ],
            [
             0.8888888888888888,
             "#fdca26"
            ],
            [
             1,
             "#f0f921"
            ]
           ]
          },
          "colorway": [
           "#636efa",
           "#EF553B",
           "#00cc96",
           "#ab63fa",
           "#FFA15A",
           "#19d3f3",
           "#FF6692",
           "#B6E880",
           "#FF97FF",
           "#FECB52"
          ],
          "font": {
           "color": "#2a3f5f"
          },
          "geo": {
           "bgcolor": "white",
           "lakecolor": "white",
           "landcolor": "#E5ECF6",
           "showlakes": true,
           "showland": true,
           "subunitcolor": "white"
          },
          "hoverlabel": {
           "align": "left"
          },
          "hovermode": "closest",
          "mapbox": {
           "style": "light"
          },
          "paper_bgcolor": "white",
          "plot_bgcolor": "#E5ECF6",
          "polar": {
           "angularaxis": {
            "gridcolor": "white",
            "linecolor": "white",
            "ticks": ""
           },
           "bgcolor": "#E5ECF6",
           "radialaxis": {
            "gridcolor": "white",
            "linecolor": "white",
            "ticks": ""
           }
          },
          "scene": {
           "xaxis": {
            "backgroundcolor": "#E5ECF6",
            "gridcolor": "white",
            "gridwidth": 2,
            "linecolor": "white",
            "showbackground": true,
            "ticks": "",
            "zerolinecolor": "white"
           },
           "yaxis": {
            "backgroundcolor": "#E5ECF6",
            "gridcolor": "white",
            "gridwidth": 2,
            "linecolor": "white",
            "showbackground": true,
            "ticks": "",
            "zerolinecolor": "white"
           },
           "zaxis": {
            "backgroundcolor": "#E5ECF6",
            "gridcolor": "white",
            "gridwidth": 2,
            "linecolor": "white",
            "showbackground": true,
            "ticks": "",
            "zerolinecolor": "white"
           }
          },
          "shapedefaults": {
           "line": {
            "color": "#2a3f5f"
           }
          },
          "ternary": {
           "aaxis": {
            "gridcolor": "white",
            "linecolor": "white",
            "ticks": ""
           },
           "baxis": {
            "gridcolor": "white",
            "linecolor": "white",
            "ticks": ""
           },
           "bgcolor": "#E5ECF6",
           "caxis": {
            "gridcolor": "white",
            "linecolor": "white",
            "ticks": ""
           }
          },
          "title": {
           "x": 0.05
          },
          "xaxis": {
           "automargin": true,
           "gridcolor": "white",
           "linecolor": "white",
           "ticks": "",
           "title": {
            "standoff": 15
           },
           "zerolinecolor": "white",
           "zerolinewidth": 2
          },
          "yaxis": {
           "automargin": true,
           "gridcolor": "white",
           "linecolor": "white",
           "ticks": "",
           "title": {
            "standoff": 15
           },
           "zerolinecolor": "white",
           "zerolinewidth": 2
          }
         }
        },
        "title": {
         "font": {
          "color": "#333333",
          "family": "Arial",
          "size": 20
         },
         "text": "Yearly Totals by Component Over the Years",
         "x": 0.5,
         "xanchor": "center",
         "yanchor": "top"
        },
        "width": 900,
        "xaxis": {
         "anchor": "y",
         "domain": [
          0,
          1
         ],
         "gridcolor": "lightgrey",
         "showgrid": true,
         "title": {
          "text": "Year"
         },
         "zeroline": false
        },
        "yaxis": {
         "anchor": "x",
         "domain": [
          0,
          1
         ],
         "gridcolor": "lightgrey",
         "showgrid": true,
         "title": {
          "text": "Total Value"
         }
        }
       }
      }
     },
     "metadata": {},
     "output_type": "display_data"
    }
   ],
>>>>>>> d6e679524c1c4c65559ed5b857f2e8f7c637a755
   "source": [
    "# Create the line plot with markers\n",
    "fig = px.line(\n",
    "    yearly_totals, \n",
    "    x='year', \n",
    "    y='value', \n",
    "    color='component', \n",
    "    markers=True,\n",
    "    title=\"Yearly Totals by Component Over the Years\",\n",
    "    labels={'value': 'Total Value', 'year': 'Year'},\n",
    "    color_discrete_sequence=['#1f77b4', '#ff7f0e', '#2ca02c', '#d62728']  # Four distinct colors\n",
    ")\n",
    "\n",
    "# Update layout for refined appearance\n",
    "fig.update_layout(\n",
    "    title={\n",
    "        'text': \"Yearly Totals by Component Over the Years\",\n",
    "        'x': 0.5,  # Center the title\n",
    "        'xanchor': 'center',  # Anchor the title to the center\n",
    "        'yanchor': 'top'\n",
    "    },\n",
    "    title_font=dict(size=20, color='#333333', family='Arial'),\n",
    "    xaxis_title='Year',\n",
    "    yaxis_title='Total Value',\n",
    "    legend_title='<b>Component</b><br>(Please click components<br> to toggle visibility)',\n",
    "    width=900,\n",
    "    height=600,\n",
    "    font=dict(family=\"Arial\", size=14, color=\"#333333\"),\n",
    "    plot_bgcolor='#f7f7f7',\n",
    "    paper_bgcolor='#ffffff',\n",
    "    xaxis=dict(showgrid=True, gridcolor='lightgrey', zeroline=False),\n",
    "    yaxis=dict(showgrid=True, gridcolor='lightgrey'),\n",
    "    legend=dict(\n",
    "        orientation=\"h\",\n",
    "        yanchor=\"top\",\n",
    "        y=-0.15,\n",
    "        x=0.5,\n",
    "        xanchor=\"center\",\n",
    "        font=dict(size=12)\n",
    "    ),\n",
    "    margin=dict(l=60, r=60, t=60, b=60)  # Set margins to adjust spacing around the plot\n",
    ")\n",
    "\n",
    "# Show the figure\n",
    "fig.show()\n",
    "\n",
    "# Save the figure as an HTML file for embedding\n",
    "pio.write_html(fig, 'interactive_line_plot.html', include_plotlyjs='cdn')\n",
    "\n"
   ]
  },
  {
   "cell_type": "code",
<<<<<<< HEAD
   "execution_count": null,
   "metadata": {},
   "outputs": [],
=======
   "execution_count": 55,
   "metadata": {},
   "outputs": [
    {
     "data": {
      "application/vnd.plotly.v1+json": {
       "config": {
        "plotlyServerURL": "https://plot.ly"
       },
       "data": [
        {
         "hovertemplate": "component=netflow<br>Year=%{x}<br>Total Value=%{y}<extra></extra>",
         "legendgroup": "netflow",
         "line": {
          "color": "#636efa",
          "dash": "solid"
         },
         "marker": {
          "symbol": "circle"
         },
         "mode": "lines+markers",
         "name": "netflow",
         "orientation": "v",
         "showlegend": true,
         "type": "scatter",
         "x": [
          2002,
          2003,
          2004,
          2005,
          2006,
          2007,
          2008,
          2009,
          2010,
          2011,
          2012,
          2013,
          2014,
          2015,
          2016,
          2017,
          2018,
          2019,
          2020,
          2021,
          2022,
          2023,
          2024,
          2025,
          2026,
          2027,
          2028,
          2029,
          2030,
          2031,
          2032,
          2033,
          2034,
          2035,
          2036,
          2037,
          2038,
          2039,
          2040,
          2041,
          2042,
          2043,
          2044,
          2045,
          2046,
          2047,
          2048,
          2049,
          2050
         ],
         "xaxis": "x",
         "y": [
          7036.6,
          -37021.3,
          -16399.9,
          21802.2,
          9229.4,
          22646,
          40474.5,
          54731.9,
          40209,
          61220,
          59004.4,
          70500.9,
          52938.1,
          72606.2,
          11222.1,
          -93468.4,
          -35372,
          -31924.4,
          -158717.6,
          -231645.5,
          6569.099999999999,
          208662.9,
          -34663.5,
          -35600,
          -37461,
          -38760,
          -38487.1,
          -37089.1,
          -35104.2,
          -32887.6,
          -30666.2,
          -28845.4,
          -28158.5,
          -28660.4,
          -29403.6,
          -30315.9,
          -31628,
          -33375,
          -35391,
          -38456.8,
          -40913.2,
          -44377.8,
          -47641.3,
          -50483.1,
          -52915.8,
          -54742.2,
          -56091.8,
          -57067.2,
          -57727.1
         ],
         "yaxis": "y"
        },
        {
         "hovertemplate": "component=popn<br>Year=%{x}<br>Total Value=%{y}<extra></extra>",
         "legendgroup": "popn",
         "line": {
          "color": "#EF553B",
          "dash": "solid"
         },
         "marker": {
          "symbol": "circle"
         },
         "mode": "lines+markers",
         "name": "popn",
         "orientation": "v",
         "showlegend": true,
         "type": "scatter",
         "x": [
          2011,
          2012,
          2013,
          2014,
          2015,
          2016,
          2017,
          2018,
          2019,
          2020,
          2021,
          2022,
          2023,
          2024,
          2025,
          2026,
          2027,
          2028,
          2029,
          2030,
          2031,
          2032,
          2033,
          2034,
          2035,
          2036,
          2037,
          2038,
          2039,
          2040,
          2041,
          2042,
          2043,
          2044,
          2045,
          2046,
          2047,
          2048,
          2049,
          2050
         ],
         "xaxis": "x",
         "y": [
          16408751.2,
          16640284.7,
          16875811.6,
          17092687.4,
          17321400.7,
          17494728,
          17557540.8,
          17668165.5,
          17777509.3,
          17732445.9,
          17609554.7,
          17732360,
          18046360.4,
          18121722.3,
          18196309.8,
          18269046.2,
          18340363.9,
          18411733.1,
          18484192.9,
          18558296.3,
          18634243.9,
          18711831,
          18790410.9,
          18868964.1,
          18946487.2,
          19022683.5,
          19097224.1,
          19170288.8,
          19241642.5,
          19311016.1,
          19377157.5,
          19440485.8,
          19499593.3,
          19554288.2,
          19604577.4,
          19650397.7,
          19692091.1,
          19729855.3,
          19763868.6,
          19794455.5
         ],
         "yaxis": "y"
        },
        {
         "hovertemplate": "component=births<br>Year=%{x}<br>Total Value=%{y}<extra></extra>",
         "legendgroup": "births",
         "line": {
          "color": "#00cc96",
          "dash": "solid"
         },
         "marker": {
          "symbol": "circle"
         },
         "mode": "lines+markers",
         "name": "births",
         "orientation": "v",
         "showlegend": true,
         "type": "scatter",
         "x": [
          2012,
          2013,
          2014,
          2015,
          2016,
          2017,
          2018,
          2019,
          2020,
          2021,
          2022,
          2023,
          2024,
          2025,
          2026,
          2027,
          2028,
          2029,
          2030,
          2031,
          2032,
          2033,
          2034,
          2035,
          2036,
          2037,
          2038,
          2039,
          2040,
          2041,
          2042,
          2043,
          2044,
          2045,
          2046,
          2047,
          2048,
          2049,
          2050
         ],
         "xaxis": "x",
         "y": [
          268075.7,
          262022.2,
          255615.1,
          257041.2,
          259694.8,
          254719.1,
          247189.2,
          238172.5,
          231467.4,
          219426.4,
          219142,
          212686.9,
          217653.6,
          218140.4,
          218689.8,
          219305.3,
          219950.3,
          220611.9,
          221270,
          221917,
          222558.4,
          223237.1,
          224011.3,
          224906.5,
          225916.8,
          227023.7,
          228193.6,
          229372.4,
          230480.5,
          231432.3,
          232143.2,
          232539,
          232577.9,
          232248.3,
          231576,
          230615,
          229430,
          228087.1,
          226639
         ],
         "yaxis": "y"
        },
        {
         "hovertemplate": "component=deaths<br>Year=%{x}<br>Total Value=%{y}<extra></extra>",
         "legendgroup": "deaths",
         "line": {
          "color": "#ab63fa",
          "dash": "solid"
         },
         "marker": {
          "symbol": "circle"
         },
         "mode": "lines+markers",
         "name": "deaths",
         "orientation": "v",
         "showlegend": true,
         "type": "scatter",
         "x": [
          2012,
          2013,
          2014,
          2015,
          2016,
          2017,
          2018,
          2019,
          2020,
          2021,
          2022,
          2023,
          2024,
          2025,
          2026,
          2027,
          2028,
          2029,
          2030,
          2031,
          2032,
          2033,
          2034,
          2035,
          2036,
          2037,
          2038,
          2039,
          2040,
          2041,
          2042,
          2043,
          2044,
          2045,
          2046,
          2047,
          2048,
          2049,
          2050
         ],
         "xaxis": "x",
         "y": [
          95114.1,
          96144.1,
          90877.7,
          100276.9,
          97004.4,
          97660.8,
          100829,
          97080.3,
          117593.4,
          110149.9,
          100738.9,
          106851.4,
          107171.2,
          107477.3,
          107988.1,
          108740.3,
          109598.1,
          110585.8,
          111582.9,
          112577.6,
          113847.6,
          115285.1,
          116824.7,
          118231.9,
          119826.3,
          121672.8,
          123031.6,
          124184.7,
          125270,
          126339.6,
          127430.9,
          128566.8,
          129763.6,
          131025.6,
          132350.8,
          133722,
          135102.4,
          136512.2,
          137879.9
         ],
         "yaxis": "y"
        }
       ],
       "layout": {
        "height": 600,
        "legend": {
         "title": {
          "text": "<b>Component</b><br>(Please click components<br> to toggle visibility)"
         },
         "tracegroupgap": 0
        },
        "template": {
         "data": {
          "bar": [
           {
            "error_x": {
             "color": "#2a3f5f"
            },
            "error_y": {
             "color": "#2a3f5f"
            },
            "marker": {
             "line": {
              "color": "#E5ECF6",
              "width": 0.5
             },
             "pattern": {
              "fillmode": "overlay",
              "size": 10,
              "solidity": 0.2
             }
            },
            "type": "bar"
           }
          ],
          "barpolar": [
           {
            "marker": {
             "line": {
              "color": "#E5ECF6",
              "width": 0.5
             },
             "pattern": {
              "fillmode": "overlay",
              "size": 10,
              "solidity": 0.2
             }
            },
            "type": "barpolar"
           }
          ],
          "carpet": [
           {
            "aaxis": {
             "endlinecolor": "#2a3f5f",
             "gridcolor": "white",
             "linecolor": "white",
             "minorgridcolor": "white",
             "startlinecolor": "#2a3f5f"
            },
            "baxis": {
             "endlinecolor": "#2a3f5f",
             "gridcolor": "white",
             "linecolor": "white",
             "minorgridcolor": "white",
             "startlinecolor": "#2a3f5f"
            },
            "type": "carpet"
           }
          ],
          "choropleth": [
           {
            "colorbar": {
             "outlinewidth": 0,
             "ticks": ""
            },
            "type": "choropleth"
           }
          ],
          "contour": [
           {
            "colorbar": {
             "outlinewidth": 0,
             "ticks": ""
            },
            "colorscale": [
             [
              0,
              "#0d0887"
             ],
             [
              0.1111111111111111,
              "#46039f"
             ],
             [
              0.2222222222222222,
              "#7201a8"
             ],
             [
              0.3333333333333333,
              "#9c179e"
             ],
             [
              0.4444444444444444,
              "#bd3786"
             ],
             [
              0.5555555555555556,
              "#d8576b"
             ],
             [
              0.6666666666666666,
              "#ed7953"
             ],
             [
              0.7777777777777778,
              "#fb9f3a"
             ],
             [
              0.8888888888888888,
              "#fdca26"
             ],
             [
              1,
              "#f0f921"
             ]
            ],
            "type": "contour"
           }
          ],
          "contourcarpet": [
           {
            "colorbar": {
             "outlinewidth": 0,
             "ticks": ""
            },
            "type": "contourcarpet"
           }
          ],
          "heatmap": [
           {
            "colorbar": {
             "outlinewidth": 0,
             "ticks": ""
            },
            "colorscale": [
             [
              0,
              "#0d0887"
             ],
             [
              0.1111111111111111,
              "#46039f"
             ],
             [
              0.2222222222222222,
              "#7201a8"
             ],
             [
              0.3333333333333333,
              "#9c179e"
             ],
             [
              0.4444444444444444,
              "#bd3786"
             ],
             [
              0.5555555555555556,
              "#d8576b"
             ],
             [
              0.6666666666666666,
              "#ed7953"
             ],
             [
              0.7777777777777778,
              "#fb9f3a"
             ],
             [
              0.8888888888888888,
              "#fdca26"
             ],
             [
              1,
              "#f0f921"
             ]
            ],
            "type": "heatmap"
           }
          ],
          "heatmapgl": [
           {
            "colorbar": {
             "outlinewidth": 0,
             "ticks": ""
            },
            "colorscale": [
             [
              0,
              "#0d0887"
             ],
             [
              0.1111111111111111,
              "#46039f"
             ],
             [
              0.2222222222222222,
              "#7201a8"
             ],
             [
              0.3333333333333333,
              "#9c179e"
             ],
             [
              0.4444444444444444,
              "#bd3786"
             ],
             [
              0.5555555555555556,
              "#d8576b"
             ],
             [
              0.6666666666666666,
              "#ed7953"
             ],
             [
              0.7777777777777778,
              "#fb9f3a"
             ],
             [
              0.8888888888888888,
              "#fdca26"
             ],
             [
              1,
              "#f0f921"
             ]
            ],
            "type": "heatmapgl"
           }
          ],
          "histogram": [
           {
            "marker": {
             "pattern": {
              "fillmode": "overlay",
              "size": 10,
              "solidity": 0.2
             }
            },
            "type": "histogram"
           }
          ],
          "histogram2d": [
           {
            "colorbar": {
             "outlinewidth": 0,
             "ticks": ""
            },
            "colorscale": [
             [
              0,
              "#0d0887"
             ],
             [
              0.1111111111111111,
              "#46039f"
             ],
             [
              0.2222222222222222,
              "#7201a8"
             ],
             [
              0.3333333333333333,
              "#9c179e"
             ],
             [
              0.4444444444444444,
              "#bd3786"
             ],
             [
              0.5555555555555556,
              "#d8576b"
             ],
             [
              0.6666666666666666,
              "#ed7953"
             ],
             [
              0.7777777777777778,
              "#fb9f3a"
             ],
             [
              0.8888888888888888,
              "#fdca26"
             ],
             [
              1,
              "#f0f921"
             ]
            ],
            "type": "histogram2d"
           }
          ],
          "histogram2dcontour": [
           {
            "colorbar": {
             "outlinewidth": 0,
             "ticks": ""
            },
            "colorscale": [
             [
              0,
              "#0d0887"
             ],
             [
              0.1111111111111111,
              "#46039f"
             ],
             [
              0.2222222222222222,
              "#7201a8"
             ],
             [
              0.3333333333333333,
              "#9c179e"
             ],
             [
              0.4444444444444444,
              "#bd3786"
             ],
             [
              0.5555555555555556,
              "#d8576b"
             ],
             [
              0.6666666666666666,
              "#ed7953"
             ],
             [
              0.7777777777777778,
              "#fb9f3a"
             ],
             [
              0.8888888888888888,
              "#fdca26"
             ],
             [
              1,
              "#f0f921"
             ]
            ],
            "type": "histogram2dcontour"
           }
          ],
          "mesh3d": [
           {
            "colorbar": {
             "outlinewidth": 0,
             "ticks": ""
            },
            "type": "mesh3d"
           }
          ],
          "parcoords": [
           {
            "line": {
             "colorbar": {
              "outlinewidth": 0,
              "ticks": ""
             }
            },
            "type": "parcoords"
           }
          ],
          "pie": [
           {
            "automargin": true,
            "type": "pie"
           }
          ],
          "scatter": [
           {
            "fillpattern": {
             "fillmode": "overlay",
             "size": 10,
             "solidity": 0.2
            },
            "type": "scatter"
           }
          ],
          "scatter3d": [
           {
            "line": {
             "colorbar": {
              "outlinewidth": 0,
              "ticks": ""
             }
            },
            "marker": {
             "colorbar": {
              "outlinewidth": 0,
              "ticks": ""
             }
            },
            "type": "scatter3d"
           }
          ],
          "scattercarpet": [
           {
            "marker": {
             "colorbar": {
              "outlinewidth": 0,
              "ticks": ""
             }
            },
            "type": "scattercarpet"
           }
          ],
          "scattergeo": [
           {
            "marker": {
             "colorbar": {
              "outlinewidth": 0,
              "ticks": ""
             }
            },
            "type": "scattergeo"
           }
          ],
          "scattergl": [
           {
            "marker": {
             "colorbar": {
              "outlinewidth": 0,
              "ticks": ""
             }
            },
            "type": "scattergl"
           }
          ],
          "scattermapbox": [
           {
            "marker": {
             "colorbar": {
              "outlinewidth": 0,
              "ticks": ""
             }
            },
            "type": "scattermapbox"
           }
          ],
          "scatterpolar": [
           {
            "marker": {
             "colorbar": {
              "outlinewidth": 0,
              "ticks": ""
             }
            },
            "type": "scatterpolar"
           }
          ],
          "scatterpolargl": [
           {
            "marker": {
             "colorbar": {
              "outlinewidth": 0,
              "ticks": ""
             }
            },
            "type": "scatterpolargl"
           }
          ],
          "scatterternary": [
           {
            "marker": {
             "colorbar": {
              "outlinewidth": 0,
              "ticks": ""
             }
            },
            "type": "scatterternary"
           }
          ],
          "surface": [
           {
            "colorbar": {
             "outlinewidth": 0,
             "ticks": ""
            },
            "colorscale": [
             [
              0,
              "#0d0887"
             ],
             [
              0.1111111111111111,
              "#46039f"
             ],
             [
              0.2222222222222222,
              "#7201a8"
             ],
             [
              0.3333333333333333,
              "#9c179e"
             ],
             [
              0.4444444444444444,
              "#bd3786"
             ],
             [
              0.5555555555555556,
              "#d8576b"
             ],
             [
              0.6666666666666666,
              "#ed7953"
             ],
             [
              0.7777777777777778,
              "#fb9f3a"
             ],
             [
              0.8888888888888888,
              "#fdca26"
             ],
             [
              1,
              "#f0f921"
             ]
            ],
            "type": "surface"
           }
          ],
          "table": [
           {
            "cells": {
             "fill": {
              "color": "#EBF0F8"
             },
             "line": {
              "color": "white"
             }
            },
            "header": {
             "fill": {
              "color": "#C8D4E3"
             },
             "line": {
              "color": "white"
             }
            },
            "type": "table"
           }
          ]
         },
         "layout": {
          "annotationdefaults": {
           "arrowcolor": "#2a3f5f",
           "arrowhead": 0,
           "arrowwidth": 1
          },
          "autotypenumbers": "strict",
          "coloraxis": {
           "colorbar": {
            "outlinewidth": 0,
            "ticks": ""
           }
          },
          "colorscale": {
           "diverging": [
            [
             0,
             "#8e0152"
            ],
            [
             0.1,
             "#c51b7d"
            ],
            [
             0.2,
             "#de77ae"
            ],
            [
             0.3,
             "#f1b6da"
            ],
            [
             0.4,
             "#fde0ef"
            ],
            [
             0.5,
             "#f7f7f7"
            ],
            [
             0.6,
             "#e6f5d0"
            ],
            [
             0.7,
             "#b8e186"
            ],
            [
             0.8,
             "#7fbc41"
            ],
            [
             0.9,
             "#4d9221"
            ],
            [
             1,
             "#276419"
            ]
           ],
           "sequential": [
            [
             0,
             "#0d0887"
            ],
            [
             0.1111111111111111,
             "#46039f"
            ],
            [
             0.2222222222222222,
             "#7201a8"
            ],
            [
             0.3333333333333333,
             "#9c179e"
            ],
            [
             0.4444444444444444,
             "#bd3786"
            ],
            [
             0.5555555555555556,
             "#d8576b"
            ],
            [
             0.6666666666666666,
             "#ed7953"
            ],
            [
             0.7777777777777778,
             "#fb9f3a"
            ],
            [
             0.8888888888888888,
             "#fdca26"
            ],
            [
             1,
             "#f0f921"
            ]
           ],
           "sequentialminus": [
            [
             0,
             "#0d0887"
            ],
            [
             0.1111111111111111,
             "#46039f"
            ],
            [
             0.2222222222222222,
             "#7201a8"
            ],
            [
             0.3333333333333333,
             "#9c179e"
            ],
            [
             0.4444444444444444,
             "#bd3786"
            ],
            [
             0.5555555555555556,
             "#d8576b"
            ],
            [
             0.6666666666666666,
             "#ed7953"
            ],
            [
             0.7777777777777778,
             "#fb9f3a"
            ],
            [
             0.8888888888888888,
             "#fdca26"
            ],
            [
             1,
             "#f0f921"
            ]
           ]
          },
          "colorway": [
           "#636efa",
           "#EF553B",
           "#00cc96",
           "#ab63fa",
           "#FFA15A",
           "#19d3f3",
           "#FF6692",
           "#B6E880",
           "#FF97FF",
           "#FECB52"
          ],
          "font": {
           "color": "#2a3f5f"
          },
          "geo": {
           "bgcolor": "white",
           "lakecolor": "white",
           "landcolor": "#E5ECF6",
           "showlakes": true,
           "showland": true,
           "subunitcolor": "white"
          },
          "hoverlabel": {
           "align": "left"
          },
          "hovermode": "closest",
          "mapbox": {
           "style": "light"
          },
          "paper_bgcolor": "white",
          "plot_bgcolor": "#E5ECF6",
          "polar": {
           "angularaxis": {
            "gridcolor": "white",
            "linecolor": "white",
            "ticks": ""
           },
           "bgcolor": "#E5ECF6",
           "radialaxis": {
            "gridcolor": "white",
            "linecolor": "white",
            "ticks": ""
           }
          },
          "scene": {
           "xaxis": {
            "backgroundcolor": "#E5ECF6",
            "gridcolor": "white",
            "gridwidth": 2,
            "linecolor": "white",
            "showbackground": true,
            "ticks": "",
            "zerolinecolor": "white"
           },
           "yaxis": {
            "backgroundcolor": "#E5ECF6",
            "gridcolor": "white",
            "gridwidth": 2,
            "linecolor": "white",
            "showbackground": true,
            "ticks": "",
            "zerolinecolor": "white"
           },
           "zaxis": {
            "backgroundcolor": "#E5ECF6",
            "gridcolor": "white",
            "gridwidth": 2,
            "linecolor": "white",
            "showbackground": true,
            "ticks": "",
            "zerolinecolor": "white"
           }
          },
          "shapedefaults": {
           "line": {
            "color": "#2a3f5f"
           }
          },
          "ternary": {
           "aaxis": {
            "gridcolor": "white",
            "linecolor": "white",
            "ticks": ""
           },
           "baxis": {
            "gridcolor": "white",
            "linecolor": "white",
            "ticks": ""
           },
           "bgcolor": "#E5ECF6",
           "caxis": {
            "gridcolor": "white",
            "linecolor": "white",
            "ticks": ""
           }
          },
          "title": {
           "x": 0.05
          },
          "xaxis": {
           "automargin": true,
           "gridcolor": "white",
           "linecolor": "white",
           "ticks": "",
           "title": {
            "standoff": 15
           },
           "zerolinecolor": "white",
           "zerolinewidth": 2
          },
          "yaxis": {
           "automargin": true,
           "gridcolor": "white",
           "linecolor": "white",
           "ticks": "",
           "title": {
            "standoff": 15
           },
           "zerolinecolor": "white",
           "zerolinewidth": 2
          }
         }
        },
        "title": {
         "text": "Yearly Totals by Component Over the Years"
        },
        "width": 900,
        "xaxis": {
         "anchor": "y",
         "domain": [
          0,
          1
         ],
         "title": {
          "text": "Year"
         }
        },
        "yaxis": {
         "anchor": "x",
         "domain": [
          0,
          1
         ],
         "title": {
          "text": "Total Value"
         }
        }
       }
      }
     },
     "metadata": {},
     "output_type": "display_data"
    }
   ],
>>>>>>> d6e679524c1c4c65559ed5b857f2e8f7c637a755
   "source": [
    "\n",
    "# Create a bar graph using Plotly Express\n",
    "fig = px.line(\n",
    "    yearly_totals, \n",
    "    x='year', \n",
    "    y='value', \n",
    "    color='component', \n",
    "    markers=True,\n",
    "    title=\"Yearly Totals by Component Over the Years\",\n",
    "    labels={'value': 'Total Value', 'year': 'Year'},\n",
    "    \n",
    ")\n",
    "\n",
    "# Update layout for better appearance\n",
    "fig.update_layout(\n",
    "    xaxis_title='Year',\n",
    "    yaxis_title='Total Value',\n",
    "    legend_title='<b>Component</b><br>(Please click components<br> to toggle visibility)',\n",
    "    width=900,\n",
    "    height=600\n",
    ")\n",
    "\n",
    "# Show the figure\n",
    "fig.show()\n",
    "# Save the figure as an HTML file for embedding\n",
    "pio.write_html(fig, 'interactive_line_plot.html', include_plotlyjs='cdn')"
   ]
  },
  {
   "cell_type": "markdown",
   "metadata": {},
   "source": [
    "#### population pyramid"
   ]
  },
  {
   "cell_type": "code",
<<<<<<< HEAD
   "execution_count": null,
=======
   "execution_count": 56,
>>>>>>> d6e679524c1c4c65559ed5b857f2e8f7c637a755
   "metadata": {},
   "outputs": [],
   "source": [
    "#for unit age\n",
    "combined_10yr_fert_popn = combined_10yr_fert[combined_10yr_fert['component'] == 'popn']\n",
    "population_pyramids_unit_age = combined_10yr_fert_popn.copy()\n",
    "population_pyramids_unit_age = population_pyramids_unit_age[~population_pyramids_unit_age['gss_code_ward'].isna()]"
   ]
  },
  {
   "cell_type": "code",
<<<<<<< HEAD
   "execution_count": null,
   "metadata": {},
   "outputs": [],
=======
   "execution_count": 57,
   "metadata": {},
   "outputs": [
    {
     "name": "stdout",
     "output_type": "stream",
     "text": [
      "<class 'pandas.core.frame.DataFrame'>\n",
      "Index: 4950400 entries, 10477662 to 15428061\n",
      "Data columns (total 9 columns):\n",
      " #   Column         Dtype  \n",
      "---  ------         -----  \n",
      " 0   gss_code       object \n",
      " 1   la_name        object \n",
      " 2   year           float64\n",
      " 3   sex            object \n",
      " 4   age            float64\n",
      " 5   value          float64\n",
      " 6   component      object \n",
      " 7   gss_code_ward  object \n",
      " 8   ward_name      object \n",
      "dtypes: float64(3), object(6)\n",
      "memory usage: 1.7 GB\n"
     ]
    }
   ],
>>>>>>> d6e679524c1c4c65559ed5b857f2e8f7c637a755
   "source": [
    "population_pyramids_unit_age\n",
    "\n",
    "population_pyramids_unit_age.info(memory_usage='deep')"
   ]
  },
  {
   "cell_type": "code",
<<<<<<< HEAD
   "execution_count": null,
=======
   "execution_count": 58,
>>>>>>> d6e679524c1c4c65559ed5b857f2e8f7c637a755
   "metadata": {},
   "outputs": [],
   "source": [
    "#sum count for la_name for each year and gender\n",
    "population_pyramids_unit_age['LA_total'] = population_pyramids_unit_age.groupby(['la_name', 'year', 'sex', 'age'])['value'].transform('sum')\n"
   ]
  },
  {
   "cell_type": "code",
<<<<<<< HEAD
   "execution_count": null,
   "metadata": {},
   "outputs": [],
   "source": [
    "# Initialize the Dash app with a Bootstrap theme\n",
    "app = dash.Dash(__name__, external_stylesheets=[dbc.themes.BOOTSTRAP])\n",
=======
   "execution_count": 59,
   "metadata": {},
   "outputs": [
    {
     "data": {
      "text/html": [
       "\n",
       "        <iframe\n",
       "            width=\"100%\"\n",
       "            height=\"650\"\n",
       "            src=\"http://127.0.0.1:1223/\"\n",
       "            frameborder=\"0\"\n",
       "            allowfullscreen\n",
       "            \n",
       "        ></iframe>\n",
       "        "
      ],
      "text/plain": [
       "<IPython.lib.display.IFrame at 0x2056f0a7740>"
      ]
     },
     "metadata": {},
     "output_type": "display_data"
    },
    {
     "name": "stderr",
     "output_type": "stream",
     "text": [
      "C:\\Users\\user\\AppData\\Local\\Temp\\ipykernel_4072\\3326331348.py:68: SettingWithCopyWarning:\n",
      "\n",
      "\n",
      "A value is trying to be set on a copy of a slice from a DataFrame.\n",
      "Try using .loc[row_indexer,col_indexer] = value instead\n",
      "\n",
      "See the caveats in the documentation: https://pandas.pydata.org/pandas-docs/stable/user_guide/indexing.html#returning-a-view-versus-a-copy\n",
      "\n",
      "C:\\Users\\user\\AppData\\Local\\Temp\\ipykernel_4072\\3326331348.py:68: SettingWithCopyWarning:\n",
      "\n",
      "\n",
      "A value is trying to be set on a copy of a slice from a DataFrame.\n",
      "Try using .loc[row_indexer,col_indexer] = value instead\n",
      "\n",
      "See the caveats in the documentation: https://pandas.pydata.org/pandas-docs/stable/user_guide/indexing.html#returning-a-view-versus-a-copy\n",
      "\n"
     ]
    }
   ],
   "source": [
    "# Initialize the Dash app with an external CSS for styling (Bootstrap)\n",
    "app = dash.Dash(__name__, external_stylesheets=[\"https://stackpath.bootstrapcdn.com/bootstrap/4.5.2/css/bootstrap.min.css\"])\n",
>>>>>>> d6e679524c1c4c65559ed5b857f2e8f7c637a755
    "\n",
    "# Define layout with CSS styling\n",
    "app.layout = html.Div([\n",
    "    html.H2(\"Population Pyramid Analysis\", className=\"text-center mt-4\", style={'color': '#333333', 'font-size': '24px'}),\n",
    "    \n",
    "    # Dropdown Container\n",
    "    html.Div([\n",
<<<<<<< HEAD
    "        dbc.Row([\n",
    "            dbc.Col([\n",
    "                html.Label(\"Select Borough\", style={'font-size': '16px', 'margin-bottom': '5px', 'font-weight': 'bold'}),\n",
    "                dcc.Dropdown(\n",
    "                    id='location-dropdown',\n",
    "                    options=[{'label': loc, 'value': loc} for loc in population_pyramids_unit_age['la_name'].unique()],\n",
    "                    value=population_pyramids_unit_age['la_name'].unique()[0],\n",
    "                    style={'width': '100%', 'font-size': '16px'}\n",
    "                )\n",
    "            ], width=6),\n",
    "            \n",
    "            dbc.Col([\n",
    "                html.Label(\"Select Ward\", style={'font-size': '16px', 'margin-bottom': '5px', 'font-weight': 'bold'}),\n",
    "                dcc.Dropdown(\n",
    "                    id='ward-dropdown',\n",
    "                    style={'width': '100%', 'font-size': '16px'}\n",
    "                )\n",
    "            ], width=6)\n",
    "        ], className=\"row justify-content-center\"),\n",
    "    ], className=\"container\", style={'padding': '20px'}),\n",
=======
    "        html.Div([\n",
    "            html.Label(\"Select Borough\", style={'font-size': '16px', 'margin-bottom': '5px', 'font-weight': 'bold'}),\n",
    "            dcc.Dropdown(\n",
    "                id='location-dropdown',\n",
    "                options=[{'label': loc, 'value': loc} for loc in population_pyramids_unit_age['la_name'].unique()],\n",
    "                value=population_pyramids_unit_age['la_name'].unique()[0],\n",
    "                style={'width': '100%', 'margin-bottom': '20px', 'font-size': '16px'}\n",
    "            )\n",
    "        ], className=\"col-md-6 mb-3\"),\n",
    "\n",
    "        html.Div([\n",
    "            html.Label(\"Select Ward\", style={'font-size': '16px', 'margin-bottom': '5px', 'font-weight': 'bold'}),\n",
    "            dcc.Dropdown(\n",
    "                id='ward-dropdown',\n",
    "                style={'width': '100%', 'font-size': '16px'}\n",
    "            )\n",
    "        ], className=\"col-md-6 mb-3\"),\n",
    "    ], className=\"row justify-content-center\"),\n",
>>>>>>> d6e679524c1c4c65559ed5b857f2e8f7c637a755
    "    \n",
    "    # Graph\n",
    "    dcc.Graph(id='population-pyramid'),\n",
    "    \n",
<<<<<<< HEAD
    "], style={'padding': '20px', 'font-family': 'Arial', 'background-color': '#f7f7f7'})\n",
=======
    "], className=\"container\", style={'padding': '20px', 'font-family': 'Arial'})\n",
>>>>>>> d6e679524c1c4c65559ed5b857f2e8f7c637a755
    "\n",
    "# Update ward dropdown based on selected borough\n",
    "@app.callback(\n",
    "    Output('ward-dropdown', 'options'),\n",
    "    Output('ward-dropdown', 'value'),\n",
    "    Input('location-dropdown', 'value')\n",
    ")\n",
    "def update_ward_dropdown(selected_location):\n",
    "    filtered_data = population_pyramids_unit_age[population_pyramids_unit_age['la_name'] == selected_location]\n",
    "    ward_options = [{'label': ward, 'value': ward} for ward in filtered_data['ward_name'].unique()]\n",
    "    ward_options.append({'label': 'All Wards', 'value': 'All Wards'})  # Add \"All Wards\" as the last option\n",
    "    return ward_options, ward_options[0]['value']  # Set the first actual ward as default\n",
    "\n",
    "# Generate the population pyramid chart\n",
    "@app.callback(\n",
    "    Output('population-pyramid', 'figure'),\n",
    "    Input('location-dropdown', 'value'),\n",
    "    Input('ward-dropdown', 'value')\n",
    ")\n",
    "def update_pyramid(selected_location, selected_ward):\n",
    "    # If a specific location is selected with \"All Wards\", use LA_total for that location\n",
    "    if selected_ward == 'All Wards':\n",
    "        filtered_data = population_pyramids_unit_age[population_pyramids_unit_age['la_name'] == selected_location].copy()\n",
    "        filtered_data['value'] = filtered_data['LA_total']  # Use LA_total for overall population\n",
    "        title = f'Population Pyramid for {selected_location} - All Wards'\n",
    "    \n",
    "    # For a specific ward\n",
    "    else:\n",
    "        filtered_data = population_pyramids_unit_age[\n",
    "            (population_pyramids_unit_age['la_name'] == selected_location) & \n",
    "            (population_pyramids_unit_age['ward_name'] == selected_ward)\n",
    "        ]\n",
    "        title = f'Population Pyramid for {selected_location} - {selected_ward}'\n",
    "\n",
    "    # Prepare data for the pyramid\n",
    "    filtered_data['value'] = filtered_data.apply(lambda row: -row['value'] if row['sex'] == 'female' else row['value'], axis=1)\n",
    "\n",
    "    # Calculate range_x based on selection type\n",
    "    if selected_ward == 'All Wards':\n",
    "        max_value = abs(filtered_data['value'].max() * len(filtered_data['ward_name'].unique()))\n",
    "        range_x = [-max_value * 1.2, max_value * 1.2] \n",
    "    else:\n",
    "        max_value = abs(filtered_data['value'].max())\n",
    "        range_x = [-max_value * 1.2, max_value * 1.2]\n",
    "\n",
    "    fig = px.bar(\n",
    "        filtered_data,\n",
    "        x='value',\n",
    "        y='age',\n",
    "        color='sex',\n",
    "        animation_frame='year',\n",
    "        orientation='h',\n",
    "        title=title,\n",
    "        labels={'value': 'Population', 'age': 'Age'},\n",
    "        color_discrete_map={'male': '#1f77b4', 'female': '#ff7f0e'},\n",
    "        height=600,\n",
    "        range_x=range_x,\n",
    "        hover_data={'ward_name': True}\n",
    "    )\n",
    "\n",
    "    # Custom layout for enhanced appearance\n",
    "    fig.update_layout(\n",
    "        barmode='relative',\n",
    "        title={'text': title, 'x':0.5, 'xanchor': 'center', 'yanchor': 'top'},\n",
    "        title_font=dict(size=20, color='#333333', family='Arial'),\n",
    "        xaxis_title='Population',\n",
    "        yaxis_title='Age',\n",
    "        font=dict(family=\"Arial\", size=14, color=\"#333333\"),\n",
    "        xaxis=dict(showgrid=True, gridcolor='lightgrey', zeroline=False),\n",
    "        yaxis=dict(showgrid=True, gridcolor='lightgrey'),\n",
    "        plot_bgcolor='#f7f7f7',\n",
    "        paper_bgcolor='#ffffff',\n",
    "        showlegend=True,\n",
    "        legend=dict(title=\"Gender\", orientation=\"h\", y=1.1, x=0.5, xanchor=\"center\")\n",
    "    )\n",
    "\n",
    "    # Set a default animation speed for transitions\n",
    "    fig.layout.updatemenus[0].buttons[0].args[1][\"frame\"][\"duration\"] = 500  # Default animation frame duration\n",
    "    fig.layout.updatemenus[0].buttons[0].args[1][\"transition\"][\"duration\"] = 250  # Transition duration\n",
    "\n",
    "    return fig\n",
    "\n",
    "if __name__ == '__main__':\n",
    "    app.run_server(debug=True, port=1223)\n"
   ]
  },
  {
   "cell_type": "code",
<<<<<<< HEAD
   "execution_count": null,
=======
   "execution_count": 61,
>>>>>>> d6e679524c1c4c65559ed5b857f2e8f7c637a755
   "metadata": {},
   "outputs": [],
   "source": [
    "#add ward and borough names\n",
    "combined_10yr_fert_agebins_component_columns_with_names = pd.merge(combined_10yr_fert_agebins_component_columns, name_lookup, left_on='gss_code_ward', right_on='gss_code_ward', how='left') "
   ]
  },
  {
   "cell_type": "code",
<<<<<<< HEAD
   "execution_count": null,
   "metadata": {},
   "outputs": [],
   "source": [
    "data = combined_10yr_fert_agebins_component_columns_with_names.copy()"
=======
   "execution_count": 62,
   "metadata": {},
   "outputs": [],
   "source": [
    "#take first 20000 rows for speed\n",
    "combined_10yr_fert_agebins_component_columns_with_names_20000 = combined_10yr_fert_agebins_component_columns_with_names.head(20000)"
   ]
  },
  {
   "cell_type": "code",
   "execution_count": 64,
   "metadata": {},
   "outputs": [],
   "source": [
    "#select westbourne ward\n",
    "westbourne = combined_10yr_fert_agebins_component_columns_with_names[combined_10yr_fert_agebins_component_columns_with_names['ward_name'] == 'Westbourne']"
   ]
  },
  {
   "cell_type": "code",
   "execution_count": 65,
   "metadata": {},
   "outputs": [],
   "source": [
    "#select age 0-18\n",
    "westbourne_0_18 = westbourne[westbourne['age'] == '0-18']"
   ]
  },
  {
   "cell_type": "code",
   "execution_count": 66,
   "metadata": {},
   "outputs": [],
   "source": [
    "westbourne_0_18_2011 = westbourne_0_18[westbourne_0_18['year']==2011]"
   ]
  },
  {
   "cell_type": "code",
   "execution_count": 67,
   "metadata": {},
   "outputs": [
    {
     "data": {
      "text/html": [
       "<div>\n",
       "<style scoped>\n",
       "    .dataframe tbody tr th:only-of-type {\n",
       "        vertical-align: middle;\n",
       "    }\n",
       "\n",
       "    .dataframe tbody tr th {\n",
       "        vertical-align: top;\n",
       "    }\n",
       "\n",
       "    .dataframe thead th {\n",
       "        text-align: right;\n",
       "    }\n",
       "</style>\n",
       "<table border=\"1\" class=\"dataframe\">\n",
       "  <thead>\n",
       "    <tr style=\"text-align: right;\">\n",
       "      <th></th>\n",
       "      <th>gss_code_x</th>\n",
       "      <th>gss_code_ward</th>\n",
       "      <th>sex</th>\n",
       "      <th>age</th>\n",
       "      <th>year</th>\n",
       "      <th>births</th>\n",
       "      <th>deaths</th>\n",
       "      <th>netflow</th>\n",
       "      <th>popn</th>\n",
       "      <th>births_pct_change</th>\n",
       "      <th>deaths_pct_change</th>\n",
       "      <th>netflow_pct_change</th>\n",
       "      <th>popn_pct_change</th>\n",
       "      <th>gss_code_y</th>\n",
       "      <th>la_name</th>\n",
       "      <th>ward_name</th>\n",
       "      <th>ward_name_unique</th>\n",
       "    </tr>\n",
       "  </thead>\n",
       "  <tbody>\n",
       "    <tr>\n",
       "      <th>488880</th>\n",
       "      <td>E09000033</td>\n",
       "      <td>E05013809</td>\n",
       "      <td>female</td>\n",
       "      <td>0-18</td>\n",
       "      <td>2011.0</td>\n",
       "      <td>NaN</td>\n",
       "      <td>NaN</td>\n",
       "      <td>NaN</td>\n",
       "      <td>79.631579</td>\n",
       "      <td>NaN</td>\n",
       "      <td>NaN</td>\n",
       "      <td>NaN</td>\n",
       "      <td>NaN</td>\n",
       "      <td>E09000033</td>\n",
       "      <td>Westminster</td>\n",
       "      <td>Westbourne</td>\n",
       "      <td>Westbourne</td>\n",
       "    </tr>\n",
       "    <tr>\n",
       "      <th>489240</th>\n",
       "      <td>E09000033</td>\n",
       "      <td>E05013809</td>\n",
       "      <td>male</td>\n",
       "      <td>0-18</td>\n",
       "      <td>2011.0</td>\n",
       "      <td>NaN</td>\n",
       "      <td>NaN</td>\n",
       "      <td>NaN</td>\n",
       "      <td>81.889474</td>\n",
       "      <td>NaN</td>\n",
       "      <td>NaN</td>\n",
       "      <td>NaN</td>\n",
       "      <td>NaN</td>\n",
       "      <td>E09000033</td>\n",
       "      <td>Westminster</td>\n",
       "      <td>Westbourne</td>\n",
       "      <td>Westbourne</td>\n",
       "    </tr>\n",
       "  </tbody>\n",
       "</table>\n",
       "</div>"
      ],
      "text/plain": [
       "       gss_code_x gss_code_ward     sex   age    year  births  deaths  \\\n",
       "488880  E09000033     E05013809  female  0-18  2011.0     NaN     NaN   \n",
       "489240  E09000033     E05013809    male  0-18  2011.0     NaN     NaN   \n",
       "\n",
       "        netflow       popn  births_pct_change  deaths_pct_change  \\\n",
       "488880      NaN  79.631579                NaN                NaN   \n",
       "489240      NaN  81.889474                NaN                NaN   \n",
       "\n",
       "        netflow_pct_change  popn_pct_change gss_code_y      la_name  \\\n",
       "488880                 NaN              NaN  E09000033  Westminster   \n",
       "489240                 NaN              NaN  E09000033  Westminster   \n",
       "\n",
       "         ward_name ward_name_unique  \n",
       "488880  Westbourne       Westbourne  \n",
       "489240  Westbourne       Westbourne  "
      ]
     },
     "execution_count": 67,
     "metadata": {},
     "output_type": "execute_result"
    }
   ],
   "source": [
    "westbourne_0_18_2011"
>>>>>>> d6e679524c1c4c65559ed5b857f2e8f7c637a755
   ]
  },
  {
   "cell_type": "code",
   "execution_count": null,
   "metadata": {},
   "outputs": [],
<<<<<<< HEAD
   "source": [
    "# Initialize the Dash app with a Bootstrap theme\n",
    "app = dash.Dash(__name__, external_stylesheets=[dbc.themes.BOOTSTRAP])\n",
    "\n",
    "# App layout\n",
    "app.layout = html.Div([\n",
    "    html.H1(\"Ward Demographic Dashboard\", style={'textAlign': 'center', 'color': '#333333', 'margin-top': '20px'}),\n",
    "    \n",
    "    # Dropdown for selecting ward\n",
    "    html.Div([\n",
    "        dbc.Row([\n",
    "            dbc.Col([\n",
    "                html.Label(\"Select Ward\", style={'font-size': '16px', 'font-weight': 'bold'}),\n",
    "                dcc.Dropdown(\n",
    "                    id='ward-dropdown',\n",
    "                    options=[{'label': ward, 'value': ward} for ward in data['ward_name_unique'].unique()],\n",
    "                    value=data['ward_name_unique'].unique()[0],\n",
    "                    style={'font-size': '16px', 'margin-bottom': '20px'}\n",
    "                )\n",
    "            ], width=6),\n",
    "            dbc.Col([\n",
    "                html.Label(\"Select Component\", style={'font-size': '16px', 'font-weight': 'bold'}),\n",
    "                dcc.Dropdown(\n",
    "                    id='component-dropdown',\n",
    "                    options=[\n",
    "                        {'label': 'Births', 'value': 'births'},\n",
    "                        {'label': 'Deaths', 'value': 'deaths'},\n",
    "                        {'label': 'Netflow', 'value': 'netflow'},\n",
    "                        {'label': 'Population', 'value': 'popn'},\n",
    "                        {'label': 'Births % Change', 'value': 'births_pct_change'},\n",
    "                        {'label': 'Deaths % Change', 'value': 'deaths_pct_change'},\n",
    "                        {'label': 'Netflow % Change', 'value': 'netflow_pct_change'},\n",
    "                        {'label': 'Population % Change', 'value': 'popn_pct_change'}\n",
    "                    ],\n",
    "                    value='births',\n",
    "                    style={'font-size': '16px'}\n",
    "                )\n",
    "            ], width=6)\n",
    "        ], style={'margin-bottom': '20px'})\n",
    "    ], style={'padding': '20px'}),\n",
    "    \n",
    "    # Dropdown for selecting age group\n",
    "    html.Div([\n",
    "        html.Label(\"Select Age Group\", style={'font-size': '16px', 'font-weight': 'bold'}),\n",
    "        dcc.Dropdown(id='age-dropdown', style={'font-size': '16px'})\n",
    "    ], style={'padding': '10px'}),\n",
    "    \n",
    "    # Radio buttons for selecting plot type\n",
    "    html.Div([\n",
    "        html.Label(\"Select Plot Type\", style={'font-size': '16px', 'font-weight': 'bold'}),\n",
    "        dcc.RadioItems(\n",
    "            id='plot-type',\n",
    "            options=[\n",
    "                {'label': 'Line Plot', 'value': 'line'},\n",
    "                {'label': 'Box Plot', 'value': 'box'}\n",
    "            ],\n",
    "            value='line',\n",
    "            labelStyle={'display': 'inline-block', 'margin-right': '10px'}\n",
    "        ),\n",
    "    ], style={'padding': '10px'}),\n",
    "    \n",
    "    # Graph placeholder\n",
    "    dcc.Graph(id='plot', style={'margin-top': '20px'})\n",
    "])\n",
    "\n",
    "# Callback to update age dropdown options based on selected component\n",
    "@app.callback(\n",
    "    Output('age-dropdown', 'options'),\n",
    "    Output('age-dropdown', 'value'),\n",
    "    Input('component-dropdown', 'value')\n",
    ")\n",
    "def update_age_dropdown(selected_component):\n",
    "    if selected_component == 'births':\n",
    "        # Allow only age 0 when \"Births\" is selected\n",
    "        options = [{'label': 'Age 0', 'value': '0-18'}]\n",
    "        value = '0-18'\n",
    "    else:\n",
    "        # Show all available age options and \"All Ages\"\n",
    "        options = [{'label': age, 'value': age} for age in data['age'].unique()] + [{'label': 'All Ages', 'value': 'all'}]\n",
    "        value = 'all'\n",
    "    return options, value\n",
=======
   "source": []
  },
  {
   "cell_type": "code",
   "execution_count": 70,
   "metadata": {},
   "outputs": [
    {
     "data": {
      "text/html": [
       "\n",
       "        <iframe\n",
       "            width=\"100%\"\n",
       "            height=\"650\"\n",
       "            src=\"http://127.0.0.1:8050/\"\n",
       "            frameborder=\"0\"\n",
       "            allowfullscreen\n",
       "            \n",
       "        ></iframe>\n",
       "        "
      ],
      "text/plain": [
       "<IPython.lib.display.IFrame at 0x205712854c0>"
      ]
     },
     "metadata": {},
     "output_type": "display_data"
    }
   ],
   "source": [
    "data = combined_10yr_fert_agebins_component_columns_with_names.copy()\n",
    "# Initialise the Dash app\n",
    "app = dash.Dash(__name__)\n",
    "\n",
    "# App layout\n",
    "app.layout = html.Div([\n",
    "    html.H1(\"Ward Demographic Dashboard\"),\n",
    "    \n",
    "    # Dropdown for selecting ward\n",
    "    html.Label(\"Select Ward:\"),\n",
    "    dcc.Dropdown(\n",
    "        id='ward-dropdown',\n",
    "        options=[{'label': ward, 'value': ward} for ward in data['ward_name_unique'].unique()],\n",
    "        value=data['ward_name_unique'].unique()[0]\n",
    "    ),\n",
    "    \n",
    "    # Dropdown for selecting component\n",
    "    html.Label(\"Select Component:\"),\n",
    "    dcc.Dropdown(\n",
    "        id='component-dropdown',\n",
    "        options=[\n",
    "            {'label': 'Births', 'value': 'births'},\n",
    "            {'label': 'Deaths', 'value': 'deaths'},\n",
    "            {'label': 'Netflow', 'value': 'netflow'},\n",
    "            {'label': 'Population', 'value': 'popn'},\n",
    "            {'label': 'Births % Change', 'value': 'births_pct_change'},\n",
    "            {'label': 'Deaths % Change', 'value': 'deaths_pct_change'},\n",
    "            {'label': 'Netflow % Change', 'value': 'netflow_pct_change'},\n",
    "            {'label': 'Population % Change', 'value': 'popn_pct_change'}\n",
    "        ],\n",
    "        value='births'\n",
    "    ),\n",
    "    \n",
    "    # Dropdown for selecting age group\n",
    "    html.Label(\"Select Age Group:\"),\n",
    "    dcc.Dropdown(\n",
    "        id='age-dropdown',\n",
    "        options=[{'label': age, 'value': age} for age in data['age'].unique()] + [{'label': 'All Ages', 'value': 'all'}],\n",
    "        value='all'\n",
    "    ),\n",
    "    \n",
    "    # Animated Histogram\n",
    "    dcc.Graph(id='histogram')\n",
    "])\n",
    "\n",
    "# Update graph based on dropdowns\n",
    "@app.callback(\n",
    "    Output('histogram', 'figure'),\n",
    "    [Input('ward-dropdown', 'value'),\n",
    "     Input('component-dropdown', 'value'),\n",
    "     Input('age-dropdown', 'value')]\n",
    ")\n",
    "def update_histogram(selected_ward, selected_component, selected_age):\n",
    "    # Filter data by selected ward\n",
    "    filtered_data = data[data['ward_name_unique'] == selected_ward]\n",
    "    \n",
    "    # Filter by age group if not \"all\"\n",
    "    if selected_age != 'all':\n",
    "        filtered_data = filtered_data[filtered_data['age'] == selected_age]\n",
    "    \n",
    "    # Create animated histogram with year as the animation frame\n",
    "    fig = px.histogram(\n",
    "        filtered_data,\n",
    "        x=selected_component,\n",
    "        color='sex',  # Use 'sex' column for stacking male/female\n",
    "        barmode='stack',  # Stacked bar chart\n",
    "        animation_frame=\"year\",  # Animate by year\n",
    "        title=f\"{selected_component.capitalize()} Distribution by Gender in {selected_ward} (Year-wise)\"\n",
    "    )\n",
    "    \n",
    "    fig.update_layout(\n",
    "        bargap=0.1,\n",
    "        xaxis_title=selected_component,\n",
    "        yaxis_title=\"Frequency\"\n",
    "    )\n",
    "    \n",
    "    return fig\n",
    "\n",
    "# Run the app\n",
    "if __name__ == '__main__':\n",
    "    app.run_server(debug=True)\n",
    "\n"
   ]
  },
  {
   "cell_type": "code",
   "execution_count": 71,
   "metadata": {},
   "outputs": [
    {
     "data": {
      "text/html": [
       "\n",
       "        <iframe\n",
       "            width=\"100%\"\n",
       "            height=\"650\"\n",
       "            src=\"http://127.0.0.1:8050/\"\n",
       "            frameborder=\"0\"\n",
       "            allowfullscreen\n",
       "            \n",
       "        ></iframe>\n",
       "        "
      ],
      "text/plain": [
       "<IPython.lib.display.IFrame at 0x2056f0e7f20>"
      ]
     },
     "metadata": {},
     "output_type": "display_data"
    }
   ],
   "source": [
    "# Initialise the Dash app\n",
    "app = dash.Dash(__name__)\n",
    "\n",
    "# App layout\n",
    "app.layout = html.Div([\n",
    "    html.H1(\"Ward Demographic Dashboard\"),\n",
    "    \n",
    "    # Dropdown for selecting ward\n",
    "    html.Label(\"Select Ward:\"),\n",
    "    dcc.Dropdown(\n",
    "        id='ward-dropdown',\n",
    "        options=[{'label': ward, 'value': ward} for ward in data['ward_name_unique'].unique()],\n",
    "        value=data['ward_name_unique'].unique()[0]\n",
    "    ),\n",
    "    \n",
    "    # Dropdown for selecting component\n",
    "    html.Label(\"Select Component:\"),\n",
    "    dcc.Dropdown(\n",
    "        id='component-dropdown',\n",
    "        options=[\n",
    "            {'label': 'Births', 'value': 'births'},\n",
    "            {'label': 'Deaths', 'value': 'deaths'},\n",
    "            {'label': 'Netflow', 'value': 'netflow'},\n",
    "            {'label': 'Population', 'value': 'popn'},\n",
    "            {'label': 'Births % Change', 'value': 'births_pct_change'},\n",
    "            {'label': 'Deaths % Change', 'value': 'deaths_pct_change'},\n",
    "            {'label': 'Netflow % Change', 'value': 'netflow_pct_change'},\n",
    "            {'label': 'Population % Change', 'value': 'popn_pct_change'}\n",
    "        ],\n",
    "        value='births'\n",
    "    ),\n",
    "    \n",
    "    # Dropdown for selecting age group\n",
    "    html.Label(\"Select Age Group:\"),\n",
    "    dcc.Dropdown(\n",
    "        id='age-dropdown',\n",
    "        options=[{'label': age, 'value': age} for age in data['age'].unique()] + [{'label': 'All Ages', 'value': 'all'}],\n",
    "        value='all'\n",
    "    ),\n",
    "    \n",
    "    # Radio buttons for selecting plot type\n",
    "    html.Label(\"Select Plot Type:\"),\n",
    "    dcc.RadioItems(\n",
    "        id='plot-type',\n",
    "        options=[\n",
    "            {'label': 'Histogram', 'value': 'histogram'},\n",
    "            {'label': 'Line Plot', 'value': 'line'},\n",
    "            {'label': 'Box Plot', 'value': 'box'}\n",
    "        ],\n",
    "        value='histogram',\n",
    "        labelStyle={'display': 'inline-block', 'margin-right': '10px'}\n",
    "    ),\n",
    "    \n",
    "    # Graph placeholder\n",
    "    dcc.Graph(id='plot')\n",
    "])\n",
>>>>>>> d6e679524c1c4c65559ed5b857f2e8f7c637a755
    "\n",
    "# Update graph based on dropdowns and selected plot type\n",
    "@app.callback(\n",
    "    Output('plot', 'figure'),\n",
    "    [Input('ward-dropdown', 'value'),\n",
    "     Input('component-dropdown', 'value'),\n",
    "     Input('age-dropdown', 'value'),\n",
    "     Input('plot-type', 'value')]\n",
    ")\n",
    "def update_plot(selected_ward, selected_component, selected_age, selected_plot_type):\n",
    "    # Filter data by selected ward\n",
    "    filtered_data = data[data['ward_name_unique'] == selected_ward]\n",
    "    \n",
    "    # Filter by age group if not \"all\"\n",
    "    if selected_age != 'all':\n",
    "        filtered_data = filtered_data[filtered_data['age'] == selected_age]\n",
    "    \n",
<<<<<<< HEAD
    "    if selected_plot_type == 'line':\n",
    "        if selected_age == 'all':\n",
    "            # Aggregate data by year and sex for \"All Ages\"\n",
    "            aggregated_data = filtered_data.groupby(['year', 'sex'])[selected_component].sum().reset_index()\n",
    "            fig = px.line(\n",
    "                aggregated_data,\n",
    "                x='year',\n",
    "                y=selected_component,\n",
    "                color='sex',\n",
    "                title=f\"{selected_component.capitalize()} Trend Over Time in {selected_ward} (All Ages)\"\n",
    "            )\n",
    "        else:\n",
    "            # Create a line plot without aggregation\n",
    "            fig = px.line(\n",
    "                filtered_data,\n",
    "                x='year',\n",
    "                y=selected_component,\n",
    "                color='sex',\n",
    "                title=f\"{selected_component.capitalize()} Trend Over Time in {selected_ward}\"\n",
    "            )\n",
=======
    "    if selected_plot_type == 'histogram':\n",
    "        # Create animated histogram with year as the animation frame\n",
    "        fig = px.histogram(\n",
    "            filtered_data,\n",
    "            x=selected_component,\n",
    "            color='sex',  # Use 'sex' column to separate male/female\n",
    "            barmode='group',  # Side-by-side bar chart\n",
    "            animation_frame=\"year\",  # Animate by year\n",
    "            title=f\"{selected_component.capitalize()} Distribution by Gender in {selected_ward} (Year-wise)\"\n",
    "        )\n",
    "        # Update the bar trace to add a thin white outline\n",
    "        fig.update_traces(marker=dict(line=dict(color='white', width=1)))\n",
    "        fig.update_layout(\n",
    "            bargap=0.2,\n",
    "            xaxis_title=selected_component,\n",
    "            yaxis_title=\"Frequency\",\n",
    "            plot_bgcolor=\"white\"\n",
    "        )\n",
    "    \n",
    "    elif selected_plot_type == 'line':\n",
    "        # Create a line plot\n",
    "        fig = px.line(\n",
    "            filtered_data,\n",
    "            x='year',\n",
    "            y=selected_component,\n",
    "            color='sex',  # Use 'sex' column to separate male/female\n",
    "            title=f\"{selected_component.capitalize()} Trend Over Time in {selected_ward}\"\n",
    "        )\n",
>>>>>>> d6e679524c1c4c65559ed5b857f2e8f7c637a755
    "        fig.update_layout(\n",
    "            xaxis_title=\"Year\",\n",
    "            yaxis_title=selected_component,\n",
    "            plot_bgcolor=\"white\"\n",
    "        )\n",
    "    \n",
    "    elif selected_plot_type == 'box':\n",
    "        # Create a box plot\n",
    "        fig = px.box(\n",
    "            filtered_data,\n",
    "            x='year',\n",
    "            y=selected_component,\n",
<<<<<<< HEAD
    "            color='sex',\n",
=======
    "            color='sex',  # Use 'sex' column to separate male/female\n",
>>>>>>> d6e679524c1c4c65559ed5b857f2e8f7c637a755
    "            title=f\"{selected_component.capitalize()} Distribution by Gender in {selected_ward} (Box Plot)\"\n",
    "        )\n",
    "        fig.update_layout(\n",
    "            xaxis_title=\"Year\",\n",
    "            yaxis_title=selected_component,\n",
    "            plot_bgcolor=\"white\"\n",
    "        )\n",
    "    \n",
    "    return fig\n",
    "\n",
    "# Run the app\n",
    "if __name__ == '__main__':\n",
<<<<<<< HEAD
    "    app.run_server(debug=True, port=1333)\n",
    "\n",
    "\n"
=======
    "    app.run_server(debug=True)\n"
>>>>>>> d6e679524c1c4c65559ed5b857f2e8f7c637a755
   ]
  },
  {
   "cell_type": "code",
   "execution_count": null,
   "metadata": {},
   "outputs": [],
<<<<<<< HEAD
   "source": [
    "# Define the dropdown options\n",
    "dropdown_options = [\n",
    "    {'label': 'Births', 'value': 'births'},\n",
    "    {'label': 'Deaths', 'value': 'deaths'},\n",
    "    {'label': 'Netflow', 'value': 'netflow'},\n",
    "    {'label': 'Population', 'value': 'popn'},\n",
    "    {'label': 'Births % Change', 'value': 'births_pct_change'},\n",
    "    {'label': 'Deaths % Change', 'value': 'deaths_pct_change'},\n",
    "    {'label': 'Netflow % Change', 'value': 'netflow_pct_change'},\n",
    "    {'label': 'Population % Change', 'value': 'popn_pct_change'}\n",
    "]\n",
    "\n",
    "# Initial plot (default column)\n",
    "fig = px.histogram(data, x='deaths', title='Interactive Histogram with Dropdown')\n",
    "\n",
    "# Update layout to add dropdown\n",
    "fig.update_layout(\n",
    "    updatemenus=[\n",
    "        {\n",
    "            'buttons': [\n",
    "                {\n",
    "                    'args': [{'x': [data[option['value']]]},  # Update the x-axis data\n",
    "                             {'xaxis.title.text': option['label']}],  # Update x-axis label\n",
    "                    'label': option['label'],\n",
    "                    'method': 'update'\n",
    "                }\n",
    "                for option in dropdown_options\n",
    "            ],\n",
    "            'direction': 'down',\n",
    "            'showactive': True,\n",
    "            'x': 0.5,\n",
    "            'y': 1.15\n",
    "        }\n",
    "    ]\n",
    ")\n",
    "\n",
    "# Show the figure\n",
    "fig.show()\n"
   ]
  },
  {
   "cell_type": "code",
   "execution_count": null,
   "metadata": {},
   "outputs": [],
   "source": [
    "combined_10yr_fert_agebins_component_columns_with_names"
   ]
  },
  {
   "cell_type": "code",
   "execution_count": null,
   "metadata": {},
   "outputs": [],
   "source": [
    "import pandas as pd\n",
    "import dash\n",
    "from dash import dcc, html\n",
    "from dash.dependencies import Input, Output\n",
    "import dash_bootstrap_components as dbc\n",
    "import plotly.express as px\n",
    "\n",
    "df = combined_10yr_fert_agebins_component_columns_with_names.copy()\n",
    "\n",
    "# Preprocess the data: Ensure the relevant columns are numeric\n",
    "columns_to_visualize = ['births', 'deaths', 'netflow', 'popn', 'births_pct_change', 'deaths_pct_change', 'netflow_pct_change', 'popn_pct_change']\n",
    "df[columns_to_visualize] = df[columns_to_visualize].apply(pd.to_numeric, errors='coerce')\n",
    "\n",
    "# Initialize the Dash app with a Bootstrap theme\n",
    "app = dash.Dash(__name__, external_stylesheets=[dbc.themes.BOOTSTRAP])\n",
    "\n",
    "# Dropdown options for columns\n",
    "column_options = [{'label': col, 'value': col} for col in columns_to_visualize]\n",
    "\n",
    "# Colors for 'male' and 'female'\n",
    "gender_colors = {\n",
    "    'male': '#1f77b4',  # blue\n",
    "    'female': '#ff7f0e'  # orange\n",
    "}\n",
    "\n",
    "# Create the swarm plot function\n",
    "def create_swarm_plot(selected_column):\n",
    "    min_year = df['year'].min()\n",
    "    max_year = df['year'].max()\n",
    "\n",
    "    # Calculate range_y based on selection type\n",
    "    max_value = abs(df[selected_column].max())\n",
    "    range_y = [-max_value * 1.2, max_value * 1.2]\n",
    "    \n",
    "    # Create the figure with animation\n",
    "    fig = px.strip(\n",
    "        df,  # Use the full DataFrame for animation across years\n",
    "        x='age',  # Age on the x-axis\n",
    "        y=selected_column,  # Selected column on the y-axis\n",
    "        color='sex',  # Color by sex\n",
    "        color_discrete_map=gender_colors,\n",
    "        animation_frame='year',  # Animation by year\n",
    "        title=f\"{selected_column.capitalize()} by Age Over Time\",\n",
    "        hover_data=['ward_name', 'la_name', 'sex'],  # Hover data\n",
    "        category_orders={'age': sorted(df['age'].unique())},  # Sort ages on x-axis\n",
    "        range_y=range_y\n",
    "    )\n",
    "    \n",
    "    # Update layout for readability\n",
    "    fig.update_layout(\n",
    "        xaxis_title=\"Age Group\",\n",
    "        yaxis_title=selected_column.capitalize(),\n",
    "        template=\"plotly_dark\",  # Change to dark theme\n",
    "        height=600,\n",
    "        font=dict(family=\"Arial, sans-serif\", size=14),\n",
    "        margin=dict(l=50, r=50, t=50, b=50),\n",
    "        showlegend=True\n",
    "    )\n",
    "    \n",
    "    return fig\n",
    "\n",
    "# Define the layout of the app\n",
    "app.layout = html.Div([\n",
    "    # Header section\n",
    "    html.Div([\n",
    "        html.H1(\"Interactive Swarm Plot by Age\", style={'textAlign': 'center', 'color': '#2C3E50'}),\n",
    "        html.P(\"Select the column to visualize the data animated by year\", \n",
    "               style={'textAlign': 'center', 'fontSize': '18px', 'color': '#7F8C8D'}),\n",
    "    ], style={'padding': '20px', 'backgroundColor': '#ECF0F1'}),\n",
    "    \n",
    "    # Dropdown for column selection\n",
    "    dbc.Row([\n",
    "        dbc.Col([\n",
    "            dbc.Label(\"Select Metric\", style={'fontSize': '16px'}),\n",
    "            dcc.Dropdown(\n",
    "                id='column-dropdown',\n",
    "                options=column_options,\n",
    "                value=columns_to_visualize[0],  # Default value\n",
    "                style={'width': '100%'}\n",
    "            ),\n",
    "        ], width=6)\n",
    "    ], style={'padding': '20px'}),\n",
    "    \n",
    "    # Graph section\n",
    "    dbc.Row([\n",
    "        dbc.Col([\n",
    "            dcc.Graph(id='swarm-plot'),\n",
    "        ], width=12)\n",
    "    ], style={'padding': '20px'}),\n",
    "])\n",
    "\n",
    "# Callback to update the plot based on user input\n",
    "@app.callback(\n",
    "    Output('swarm-plot', 'figure'),\n",
    "    [Input('column-dropdown', 'value')]\n",
    ")\n",
    "def update_swarm_plot(selected_column):\n",
    "    return create_swarm_plot(selected_column)\n",
    "\n",
    "# Run the Dash app\n",
    "if __name__ == '__main__':\n",
    "    app.run_server(debug=True, port=2277)\n"
   ]
=======
   "source": []
>>>>>>> d6e679524c1c4c65559ed5b857f2e8f7c637a755
  },
  {
   "cell_type": "markdown",
   "metadata": {},
   "source": [
    "\n",
    "## Collate Outliers\n",
    "Summarize and compile all detected outliers for further analysis.\n",
    "\n",
    "---"
   ]
  },
  {
   "cell_type": "code",
<<<<<<< HEAD
   "execution_count": null,
   "metadata": {},
   "outputs": [],
=======
   "execution_count": 72,
   "metadata": {},
   "outputs": [
    {
     "name": "stdout",
     "output_type": "stream",
     "text": [
      "DataFrame Name: births_pct_change_borough_outlier_df\n",
      "Columns: ['gss_code', 'gss_code_ward', 'sex', 'age', 'year', 'births', 'deaths', 'netflow', 'popn', 'births_pct_change', 'deaths_pct_change', 'netflow_pct_change', 'popn_pct_change', 'robust_z_score']\n",
      "Length: 16305\n",
      "\n",
      "--------------------------------------------------\n",
      "\n",
      "DataFrame Name: deaths_pct_change_borough_outlier_df\n",
      "Columns: ['gss_code', 'gss_code_ward', 'sex', 'age', 'year', 'births', 'deaths', 'netflow', 'popn', 'births_pct_change', 'deaths_pct_change', 'netflow_pct_change', 'popn_pct_change', 'robust_z_score']\n",
      "Length: 117296\n",
      "\n",
      "--------------------------------------------------\n",
      "\n",
      "DataFrame Name: netflow_pct_change_borough_outlier_df\n",
      "Columns: ['gss_code', 'gss_code_ward', 'sex', 'age', 'year', 'births', 'deaths', 'netflow', 'popn', 'births_pct_change', 'deaths_pct_change', 'netflow_pct_change', 'popn_pct_change', 'robust_z_score']\n",
      "Length: 138078\n",
      "\n",
      "--------------------------------------------------\n",
      "\n",
      "DataFrame Name: popn_pct_change_borough_outlier_df\n",
      "Columns: ['gss_code', 'gss_code_ward', 'sex', 'age', 'year', 'births', 'deaths', 'netflow', 'popn', 'births_pct_change', 'deaths_pct_change', 'netflow_pct_change', 'popn_pct_change', 'robust_z_score']\n",
      "Length: 80683\n",
      "\n",
      "--------------------------------------------------\n",
      "\n",
      "DataFrame Name: births_pct_change_ward_outlier_df\n",
      "Columns: ['gss_code', 'gss_code_ward', 'sex', 'age', 'year', 'births', 'deaths', 'netflow', 'popn', 'births_pct_change', 'deaths_pct_change', 'netflow_pct_change', 'popn_pct_change', 'robust_z_score']\n",
      "Length: 15207\n",
      "\n",
      "--------------------------------------------------\n",
      "\n",
      "DataFrame Name: deaths_pct_change_ward_outlier_df\n",
      "Columns: ['gss_code', 'gss_code_ward', 'sex', 'age', 'year', 'births', 'deaths', 'netflow', 'popn', 'births_pct_change', 'deaths_pct_change', 'netflow_pct_change', 'popn_pct_change', 'robust_z_score']\n",
      "Length: 107953\n",
      "\n",
      "--------------------------------------------------\n",
      "\n",
      "DataFrame Name: netflow_pct_change_ward_outlier_df\n",
      "Columns: ['gss_code', 'gss_code_ward', 'sex', 'age', 'year', 'births', 'deaths', 'netflow', 'popn', 'births_pct_change', 'deaths_pct_change', 'netflow_pct_change', 'popn_pct_change', 'robust_z_score']\n",
      "Length: 129644\n",
      "\n",
      "--------------------------------------------------\n",
      "\n",
      "DataFrame Name: popn_pct_change_ward_outlier_df\n",
      "Columns: ['gss_code', 'gss_code_ward', 'sex', 'age', 'year', 'births', 'deaths', 'netflow', 'popn', 'births_pct_change', 'deaths_pct_change', 'netflow_pct_change', 'popn_pct_change', 'robust_z_score']\n",
      "Length: 75228\n",
      "\n",
      "--------------------------------------------------\n",
      "\n",
      "DataFrame Name: births_pct_change_borough_inf_outlier_df\n",
      "Columns: ['gss_code', 'gss_code_ward', 'sex', 'age', 'year', 'births', 'deaths', 'netflow', 'popn', 'births_pct_change', 'deaths_pct_change', 'netflow_pct_change', 'popn_pct_change', 'robust_z_score']\n",
      "Length: 2645\n",
      "\n",
      "--------------------------------------------------\n",
      "\n",
      "DataFrame Name: deaths_pct_change_borough_inf_outlier_df\n",
      "Columns: ['gss_code', 'gss_code_ward', 'sex', 'age', 'year', 'births', 'deaths', 'netflow', 'popn', 'births_pct_change', 'deaths_pct_change', 'netflow_pct_change', 'popn_pct_change', 'robust_z_score']\n",
      "Length: 122418\n",
      "\n",
      "--------------------------------------------------\n",
      "\n",
      "DataFrame Name: netflow_pct_change_borough_inf_outlier_df\n",
      "Columns: ['gss_code', 'gss_code_ward', 'sex', 'age', 'year', 'births', 'deaths', 'netflow', 'popn', 'births_pct_change', 'deaths_pct_change', 'netflow_pct_change', 'popn_pct_change', 'robust_z_score']\n",
      "Length: 86686\n",
      "\n",
      "--------------------------------------------------\n",
      "\n",
      "DataFrame Name: popn_pct_change_borough_inf_outlier_df\n",
      "Columns: ['gss_code', 'gss_code_ward', 'sex', 'age', 'year', 'births', 'deaths', 'netflow', 'popn', 'births_pct_change', 'deaths_pct_change', 'netflow_pct_change', 'popn_pct_change', 'robust_z_score']\n",
      "Length: 19970\n",
      "\n",
      "--------------------------------------------------\n",
      "\n",
      "DataFrame Name: births_pct_change_ward_inf_outlier_df\n",
      "Columns: ['gss_code', 'gss_code_ward', 'sex', 'age', 'year', 'births', 'deaths', 'netflow', 'popn', 'births_pct_change', 'deaths_pct_change', 'netflow_pct_change', 'popn_pct_change', 'robust_z_score']\n",
      "Length: 2645\n",
      "\n",
      "--------------------------------------------------\n",
      "\n",
      "DataFrame Name: deaths_pct_change_ward_inf_outlier_df\n",
      "Columns: ['gss_code', 'gss_code_ward', 'sex', 'age', 'year', 'births', 'deaths', 'netflow', 'popn', 'births_pct_change', 'deaths_pct_change', 'netflow_pct_change', 'popn_pct_change', 'robust_z_score']\n",
      "Length: 122418\n",
      "\n",
      "--------------------------------------------------\n",
      "\n",
      "DataFrame Name: netflow_pct_change_ward_inf_outlier_df\n",
      "Columns: ['gss_code', 'gss_code_ward', 'sex', 'age', 'year', 'births', 'deaths', 'netflow', 'popn', 'births_pct_change', 'deaths_pct_change', 'netflow_pct_change', 'popn_pct_change', 'robust_z_score']\n",
      "Length: 86686\n",
      "\n",
      "--------------------------------------------------\n",
      "\n",
      "DataFrame Name: popn_pct_change_ward_inf_outlier_df\n",
      "Columns: ['gss_code', 'gss_code_ward', 'sex', 'age', 'year', 'births', 'deaths', 'netflow', 'popn', 'births_pct_change', 'deaths_pct_change', 'netflow_pct_change', 'popn_pct_change', 'robust_z_score']\n",
      "Length: 19970\n",
      "\n",
      "--------------------------------------------------\n",
      "\n",
      "DataFrame Name: total_pop_temporal_outliers_ward_df\n",
      "Columns: ['gss_code', 'gss_code_ward', 'sex', 'age', 'year', 'births', 'deaths', 'netflow', 'popn', 'births_pct_change', 'deaths_pct_change', 'netflow_pct_change', 'popn_pct_change', 'robust_z_score']\n",
      "Length: 109628\n",
      "\n",
      "--------------------------------------------------\n",
      "\n",
      "DataFrame Name: total_pop_cross_sectional_outliers_ward_df\n",
      "Columns: ['gss_code', 'gss_code_ward', 'sex', 'age', 'year', 'births', 'deaths', 'netflow', 'popn', 'births_pct_change', 'deaths_pct_change', 'netflow_pct_change', 'popn_pct_change', 'robust_z_score']\n",
      "Length: 109628\n",
      "\n",
      "--------------------------------------------------\n",
      "\n",
      "DataFrame Name: births_gender_outliers_df\n",
      "Columns: ['gss_code_ward', 'year', 'age', 'births', 'robust_z_score']\n",
      "Length: 7784\n",
      "\n",
      "--------------------------------------------------\n",
      "\n",
      "DataFrame Name: deaths_gender_outliers_df\n",
      "Columns: ['gss_code_ward', 'year', 'age', 'deaths', 'robust_z_score']\n",
      "Length: 6251\n",
      "\n",
      "--------------------------------------------------\n",
      "\n",
      "DataFrame Name: netflow_gender_outliers_df\n",
      "Columns: ['gss_code_ward', 'year', 'age', 'netflow', 'robust_z_score']\n",
      "Length: 52443\n",
      "\n",
      "--------------------------------------------------\n",
      "\n",
      "DataFrame Name: popn_gender_outliers_df\n",
      "Columns: ['gss_code_ward', 'year', 'age', 'popn', 'robust_z_score']\n",
      "Length: 15493\n",
      "\n",
      "--------------------------------------------------\n",
      "\n"
     ]
    }
   ],
>>>>>>> d6e679524c1c4c65559ed5b857f2e8f7c637a755
   "source": [
    "# Filter the global variables to find dataframes with 'outlier' in their name\n",
    "outlier_dfs = {name: df for name, df in globals().items() if isinstance(df, pd.DataFrame) and 'outlier' in name.lower()}\n",
    "\n",
    "# Display the name, columns, and length of each dataframe\n",
    "for name, df in outlier_dfs.items():\n",
    "    print(f\"DataFrame Name: {name}\")\n",
    "    print(f\"Columns: {df.columns.tolist()}\")\n",
    "    print(f\"Length: {len(df)}\")\n",
    "    print(\"\\n\" + \"-\"*50 + \"\\n\")"
   ]
  },
  {
   "cell_type": "code",
<<<<<<< HEAD
   "execution_count": null,
   "metadata": {},
   "outputs": [],
=======
   "execution_count": 73,
   "metadata": {},
   "outputs": [
    {
     "name": "stdout",
     "output_type": "stream",
     "text": [
      "DataFrame Name: births_pct_change_ward_outlier_df\n",
      "Columns: ['gss_code', 'gss_code_ward', 'sex', 'age', 'year', 'births', 'deaths', 'netflow', 'popn', 'births_pct_change', 'deaths_pct_change', 'netflow_pct_change', 'popn_pct_change', 'robust_z_score']\n",
      "Length: 15207\n",
      "\n",
      "--------------------------------------------------\n",
      "\n",
      "DataFrame Name: deaths_pct_change_ward_outlier_df\n",
      "Columns: ['gss_code', 'gss_code_ward', 'sex', 'age', 'year', 'births', 'deaths', 'netflow', 'popn', 'births_pct_change', 'deaths_pct_change', 'netflow_pct_change', 'popn_pct_change', 'robust_z_score']\n",
      "Length: 107953\n",
      "\n",
      "--------------------------------------------------\n",
      "\n",
      "DataFrame Name: netflow_pct_change_ward_outlier_df\n",
      "Columns: ['gss_code', 'gss_code_ward', 'sex', 'age', 'year', 'births', 'deaths', 'netflow', 'popn', 'births_pct_change', 'deaths_pct_change', 'netflow_pct_change', 'popn_pct_change', 'robust_z_score']\n",
      "Length: 129644\n",
      "\n",
      "--------------------------------------------------\n",
      "\n",
      "DataFrame Name: popn_pct_change_ward_outlier_df\n",
      "Columns: ['gss_code', 'gss_code_ward', 'sex', 'age', 'year', 'births', 'deaths', 'netflow', 'popn', 'births_pct_change', 'deaths_pct_change', 'netflow_pct_change', 'popn_pct_change', 'robust_z_score']\n",
      "Length: 75228\n",
      "\n",
      "--------------------------------------------------\n",
      "\n",
      "DataFrame Name: births_pct_change_ward_inf_outlier_df\n",
      "Columns: ['gss_code', 'gss_code_ward', 'sex', 'age', 'year', 'births', 'deaths', 'netflow', 'popn', 'births_pct_change', 'deaths_pct_change', 'netflow_pct_change', 'popn_pct_change', 'robust_z_score']\n",
      "Length: 2645\n",
      "\n",
      "--------------------------------------------------\n",
      "\n",
      "DataFrame Name: deaths_pct_change_ward_inf_outlier_df\n",
      "Columns: ['gss_code', 'gss_code_ward', 'sex', 'age', 'year', 'births', 'deaths', 'netflow', 'popn', 'births_pct_change', 'deaths_pct_change', 'netflow_pct_change', 'popn_pct_change', 'robust_z_score']\n",
      "Length: 122418\n",
      "\n",
      "--------------------------------------------------\n",
      "\n",
      "DataFrame Name: netflow_pct_change_ward_inf_outlier_df\n",
      "Columns: ['gss_code', 'gss_code_ward', 'sex', 'age', 'year', 'births', 'deaths', 'netflow', 'popn', 'births_pct_change', 'deaths_pct_change', 'netflow_pct_change', 'popn_pct_change', 'robust_z_score']\n",
      "Length: 86686\n",
      "\n",
      "--------------------------------------------------\n",
      "\n",
      "DataFrame Name: popn_pct_change_ward_inf_outlier_df\n",
      "Columns: ['gss_code', 'gss_code_ward', 'sex', 'age', 'year', 'births', 'deaths', 'netflow', 'popn', 'births_pct_change', 'deaths_pct_change', 'netflow_pct_change', 'popn_pct_change', 'robust_z_score']\n",
      "Length: 19970\n",
      "\n",
      "--------------------------------------------------\n",
      "\n",
      "DataFrame Name: total_pop_temporal_outliers_ward_df\n",
      "Columns: ['gss_code', 'gss_code_ward', 'sex', 'age', 'year', 'births', 'deaths', 'netflow', 'popn', 'births_pct_change', 'deaths_pct_change', 'netflow_pct_change', 'popn_pct_change', 'robust_z_score']\n",
      "Length: 109628\n",
      "\n",
      "--------------------------------------------------\n",
      "\n",
      "DataFrame Name: total_pop_cross_sectional_outliers_ward_df\n",
      "Columns: ['gss_code', 'gss_code_ward', 'sex', 'age', 'year', 'births', 'deaths', 'netflow', 'popn', 'births_pct_change', 'deaths_pct_change', 'netflow_pct_change', 'popn_pct_change', 'robust_z_score']\n",
      "Length: 109628\n",
      "\n",
      "--------------------------------------------------\n",
      "\n",
      "DataFrame Name: births_gender_outliers_df\n",
      "Columns: ['gss_code_ward', 'year', 'age', 'births', 'robust_z_score']\n",
      "Length: 7784\n",
      "\n",
      "--------------------------------------------------\n",
      "\n",
      "DataFrame Name: deaths_gender_outliers_df\n",
      "Columns: ['gss_code_ward', 'year', 'age', 'deaths', 'robust_z_score']\n",
      "Length: 6251\n",
      "\n",
      "--------------------------------------------------\n",
      "\n",
      "DataFrame Name: netflow_gender_outliers_df\n",
      "Columns: ['gss_code_ward', 'year', 'age', 'netflow', 'robust_z_score']\n",
      "Length: 52443\n",
      "\n",
      "--------------------------------------------------\n",
      "\n",
      "DataFrame Name: popn_gender_outliers_df\n",
      "Columns: ['gss_code_ward', 'year', 'age', 'popn', 'robust_z_score']\n",
      "Length: 15493\n",
      "\n",
      "--------------------------------------------------\n",
      "\n"
     ]
    }
   ],
>>>>>>> d6e679524c1c4c65559ed5b857f2e8f7c637a755
   "source": [
    "# Only ward data datatframes\n",
    "# Filter the global variables to find dataframes with 'outlier' in their name and exclude ones with 'borough'\n",
    "outlier_dfs_wards = {name: df for name, df in globals().items() \n",
    "               if isinstance(df, pd.DataFrame) \n",
    "               and 'outlier' in name.lower() \n",
    "               and 'borough' not in name.lower()}\n",
    "# Display the name, columns, and length of each dataframe\n",
    "for name, df in outlier_dfs_wards.items():\n",
    "    print(f\"DataFrame Name: {name}\")\n",
    "    print(f\"Columns: {df.columns.tolist()}\")\n",
    "    print(f\"Length: {len(df)}\")\n",
    "    print(\"\\n\" + \"-\"*50 + \"\\n\")"
   ]
  },
  {
   "cell_type": "code",
<<<<<<< HEAD
   "execution_count": null,
   "metadata": {},
   "outputs": [],
=======
   "execution_count": 74,
   "metadata": {},
   "outputs": [
    {
     "data": {
      "text/plain": [
       "{'births_pct_change_ward_outlier_df': '0-18',\n",
       " 'deaths_pct_change_ward_outlier_df': '41-50',\n",
       " 'netflow_pct_change_ward_outlier_df': '81-89',\n",
       " 'popn_pct_change_ward_outlier_df': '90+',\n",
       " 'births_pct_change_ward_inf_outlier_df': '0-18',\n",
       " 'deaths_pct_change_ward_inf_outlier_df': '90+',\n",
       " 'netflow_pct_change_ward_inf_outlier_df': '19-30',\n",
       " 'popn_pct_change_ward_inf_outlier_df': '31-40',\n",
       " 'total_pop_temporal_outliers_ward_df': '90+',\n",
       " 'total_pop_cross_sectional_outliers_ward_df': '90+',\n",
       " 'births_gender_outliers_df': '0-18',\n",
       " 'deaths_gender_outliers_df': '90+',\n",
       " 'netflow_gender_outliers_df': '81-89',\n",
       " 'popn_gender_outliers_df': '81-89'}"
      ]
     },
     "execution_count": 74,
     "metadata": {},
     "output_type": "execute_result"
    }
   ],
>>>>>>> d6e679524c1c4c65559ed5b857f2e8f7c637a755
   "source": [
    "# View age column in dfs\n",
    "age_snippets = {df_name: df['age'].iloc[0] for df_name, df in outlier_dfs_wards.items()}\n",
    "age_snippets"
   ]
  },
  {
   "cell_type": "code",
<<<<<<< HEAD
   "execution_count": null,
   "metadata": {},
   "outputs": [],
=======
   "execution_count": 75,
   "metadata": {},
   "outputs": [
    {
     "name": "stderr",
     "output_type": "stream",
     "text": [
      "C:\\Users\\user\\AppData\\Local\\Temp\\ipykernel_4072\\469539181.py:21: FutureWarning:\n",
      "\n",
      "The default of observed=False is deprecated and will be changed to True in a future version of pandas. Pass observed=False to retain current behavior or observed=True to adopt the future default and silence this warning.\n",
      "\n"
     ]
    },
    {
     "name": "stdout",
     "output_type": "stream",
     "text": [
      "       gss_code_ward    year    age  count\n",
      "6587       E05009335  2022.0    90+     17\n",
      "204866     E05013988  2013.0    90+     17\n",
      "65267      E05013528  2022.0    90+     17\n",
      "221211     E05014055  2030.0   0-18     17\n",
      "827        E05009319  2022.0    90+     17\n",
      "...              ...     ...    ...    ...\n",
      "139185     E05013733  2036.0   0-18      0\n",
      "139172     E05013733  2034.0  61-70      0\n",
      "139170     E05013733  2034.0  41-50      0\n",
      "139163     E05013733  2033.0  61-70      0\n",
      "122400     E05013687  2011.0   0-18      0\n",
      "\n",
      "[244800 rows x 4 columns]\n"
     ]
    }
   ],
>>>>>>> d6e679524c1c4c65559ed5b857f2e8f7c637a755
   "source": [
    "# Initialise an empty list to store relevant rows from all DataFrames\n",
    "all_rows = []\n",
    "\n",
    "# Loop through all outlier dataframes\n",
    "for name, df in outlier_dfs_wards.items():\n",
    "    # Check if 'gss_code' and 'year' columns exist\n",
    "    if 'gss_code_ward' in df.columns and 'year' in df.columns:\n",
    "        # Select the relevant columns: 'gss_code', 'year' and 'age' (if it exists)\n",
    "        cols = ['gss_code_ward', 'year']\n",
    "        if 'age' in df.columns:\n",
    "            cols.append('age')\n",
    "\n",
    "        # Append the relevant data from the current DataFrame to the list\n",
    "        all_rows.append(df[cols])\n",
    "\n",
    "# Concatenate all collected data into one DataFrame\n",
    "if all_rows:\n",
    "    combined_df = pd.concat(all_rows)\n",
    "\n",
    "    # Group by 'gss_code', 'year', and 'age' (where applicable) and count occurrences\n",
    "    tally_df = combined_df.groupby(cols).size().reset_index(name='count')\n",
    "\n",
    "    # Sort the result by count in descending order\n",
    "    tally_df = tally_df.sort_values(by='count', ascending=False)\n",
    "\n",
    "    # Display the top rows of the tally DataFrame\n",
    "    print(tally_df)\n",
    "else:\n",
    "    print(\"No relevant data found.\")"
   ]
  },
  {
   "cell_type": "code",
<<<<<<< HEAD
   "execution_count": null,
   "metadata": {},
   "outputs": [],
=======
   "execution_count": 76,
   "metadata": {},
   "outputs": [
    {
     "data": {
      "text/plain": [
       "{'births_pct_change_ward_outlier_df': component   gss_code gss_code_ward     sex   age    year  births    deaths  \\\n",
       " 465485     E09000032     E05014015    male  0-18  2016.0     3.3  0.000000   \n",
       " 465122     E09000032     E05014015  female  0-18  2013.0     1.1  0.000000   \n",
       " 368644     E09000025     E05013925  female  0-18  2015.0    40.9  0.063158   \n",
       " 369004     E09000025     E05013925    male  0-18  2015.0    43.9  0.000000   \n",
       " 368643     E09000025     E05013925  female  0-18  2014.0     5.0  0.047368   \n",
       " ...              ...           ...     ...   ...     ...     ...       ...   \n",
       " 460449     E09000031     E05013903    male  0-18  2020.0    85.2  0.000000   \n",
       " 393136     E09000027     E05013783  female  0-18  2027.0    85.2  0.010526   \n",
       " 100460     E09000008     E05011476    male  0-18  2031.0   116.6  0.021053   \n",
       " 3266       E09000002     E05014056    male  0-18  2037.0   120.0  0.021053   \n",
       " 356777     E09000025     E05013908    male  0-18  2028.0   134.6  0.031579   \n",
       " \n",
       " component    netflow        popn  births_pct_change  deaths_pct_change  \\\n",
       " 465485      0.568421    2.273684          15.500000                NaN   \n",
       " 465122      0.094737    1.384211          10.000000                NaN   \n",
       " 368644     16.142105   20.021053           7.180000           0.333333   \n",
       " 369004     17.057895   21.878947           5.271429                NaN   \n",
       " 368643      0.373684    1.805263           5.250000                NaN   \n",
       " ...              ...         ...                ...                ...   \n",
       " 460449     -1.542105   68.568421           0.022809           1.000000   \n",
       " 393136     -1.757895   75.078947           0.022809           0.000000   \n",
       " 100460      0.284211  101.821053           0.022807           0.000000   \n",
       " 3266       -1.552632  120.178947           0.022801           0.000000   \n",
       " 356777      0.773684  119.252632           0.022796           0.000000   \n",
       " \n",
       " component  netflow_pct_change  popn_pct_change  robust_z_score  \n",
       " 465485               0.241379         0.435216     2932.592833  \n",
       " 465122               0.727273         0.027344     1891.529152  \n",
       " 368644              42.197183        10.090379     1357.747410  \n",
       " 369004              29.009259         7.642412      996.484793  \n",
       " 368643               1.730769         0.423237      992.428700  \n",
       " ...                       ...              ...             ...  \n",
       " 460449               0.565926         0.012198        3.003505  \n",
       " 393136               0.027692         0.003562        3.003505  \n",
       " 100460               0.386364         0.009181        3.003106  \n",
       " 3266                 0.340909         0.004577        3.002024  \n",
       " 356777               0.324324         0.006530        3.001087  \n",
       " \n",
       " [15207 rows x 14 columns],\n",
       " 'deaths_pct_change_ward_outlier_df': component   gss_code gss_code_ward     sex    age    year  births     deaths  \\\n",
       " 179769     E09000013     E05013736    male  41-50  2020.0     NaN   1.440000   \n",
       " 111091     E09000009     E05013519  female  61-70  2022.0     NaN   1.220000   \n",
       " 217651     E09000015     E05013556  female  61-70  2022.0     NaN   0.850000   \n",
       " 162971     E09000012     E05009368  female  71-80  2022.0     NaN   0.710000   \n",
       " 47965      E09000005     E05013501    male  31-40  2016.0     NaN   0.700000   \n",
       " ...              ...           ...     ...    ...     ...     ...        ...   \n",
       " 32652      E09000004     E05011218  female  71-80  2023.0     NaN   1.060000   \n",
       " 70906      E09000006     E05014002  female    90+  2037.0     NaN  13.200000   \n",
       " 34528      E09000004     E05011220    male    90+  2019.0     NaN  13.200000   \n",
       " 476243     E09000032     E05014030  female    90+  2014.0     NaN  20.400000   \n",
       " 95327      E09000008     E05011469  female  81-89  2018.0     NaN   2.266667   \n",
       " \n",
       " component    netflow        popn  births_pct_change  deaths_pct_change  \\\n",
       " 179769     -3.630000   65.190000                NaN         143.000000   \n",
       " 111091      1.220000   74.300000                NaN         121.000000   \n",
       " 217651     -0.650000   84.300000                NaN          84.000000   \n",
       " 162971      0.110000   25.900000                NaN          70.000000   \n",
       " 47965     -10.010000  177.490000                NaN          69.000000   \n",
       " ...              ...         ...                ...                ...   \n",
       " 32652       0.190000   57.910000                NaN           0.109244   \n",
       " 70906       0.000000   55.700000                NaN           0.109244   \n",
       " 34528       0.300000   40.000000                NaN           0.109244   \n",
       " 476243     -0.200000   96.800000                NaN           0.109170   \n",
       " 95327       0.822222   28.788889                NaN           0.109170   \n",
       " \n",
       " component  netflow_pct_change  popn_pct_change  robust_z_score  \n",
       " 179769               0.061404         0.081443     5242.333333  \n",
       " 111091              14.555556         0.035396     4435.666667  \n",
       " 217651               0.477273         0.035372     3079.000000  \n",
       " 162971               2.571429         0.058439     2565.666667  \n",
       " 47965                0.403927         0.055603     2529.000000  \n",
       " ...                       ...              ...             ...  \n",
       " 32652                0.887574         0.003640        3.005602  \n",
       " 70906                1.000000         0.111776        3.005602  \n",
       " 34528                2.000000         0.146132        3.005602  \n",
       " 476243               1.500000         0.017876        3.002911  \n",
       " 95327                0.459854         0.014454        3.002911  \n",
       " \n",
       " [107953 rows x 14 columns],\n",
       " 'netflow_pct_change_ward_outlier_df': component   gss_code gss_code_ward     sex    age    year  births    deaths  \\\n",
       " 351283     E09000024     E05013826    male  81-89  2014.0     NaN  0.455556   \n",
       " 231764     E09000016     E05013978    male  81-89  2015.0     NaN  2.211111   \n",
       " 305089     E09000021     E05013943    male  51-60  2020.0     NaN  0.230000   \n",
       " 1365       E09000002     E05014053    male  81-89  2016.0     NaN  0.177778   \n",
       " 165163     E09000012     E05009371  female  81-89  2014.0     NaN  0.233333   \n",
       " ...              ...           ...     ...    ...     ...     ...       ...   \n",
       " 172734     E09000012     E05009381    male  81-89  2025.0     NaN  1.466667   \n",
       " 85530      E09000007     E05013665    male  61-70  2021.0     NaN  2.000000   \n",
       " 366504     E09000025     E05013922  female   0-18  2035.0   117.3  0.015789   \n",
       " 76682      E09000007     E05013653    male   0-18  2013.0    47.2  0.042105   \n",
       " 18125      E09000003     E05013633  female  41-50  2016.0     NaN  0.000000   \n",
       " \n",
       " component   netflow       popn  births_pct_change  deaths_pct_change  \\\n",
       " 351283    -0.722222   5.022222                NaN           0.078947   \n",
       " 231764    -0.622222  22.088889                NaN           0.353741   \n",
       " 305089    -0.480000  59.830000                NaN           3.600000   \n",
       " 1365       0.433333   1.344444                NaN           0.058824   \n",
       " 165163    -0.411111   7.422222                NaN           0.045455   \n",
       " ...             ...        ...                ...                ...   \n",
       " 172734    -0.944444  16.244444                NaN           0.064516   \n",
       " 85530     -1.700000  38.320000                NaN           0.754386   \n",
       " 366504    -1.342105  74.000000           0.026247           0.000000   \n",
       " 76682      4.784211  39.968421           0.044534                NaN   \n",
       " 18125      4.240000  84.650000                NaN           1.000000   \n",
       " \n",
       " component  netflow_pct_change  popn_pct_change  robust_z_score  \n",
       " 351283           2.341872e+17         0.143939    2.572716e+18  \n",
       " 231764           2.017613e+17         0.004507    2.216494e+18  \n",
       " 305089           1.729382e+17         0.033869    1.899852e+18  \n",
       " 1365             1.405123e+17         0.070796    1.543630e+18  \n",
       " 165163           1.333065e+17         0.043750    1.464469e+18  \n",
       " ...                       ...              ...             ...  \n",
       " 172734           3.709677e-01         0.028129    3.000659e+00  \n",
       " 85530            3.709677e-01         0.047240    3.000659e+00  \n",
       " 366504           3.709677e-01         0.015016    3.000659e+00  \n",
       " 76682            3.709343e-01         0.047177    3.000291e+00  \n",
       " 18125            3.709199e-01         0.071926    3.000133e+00  \n",
       " \n",
       " [129644 rows x 14 columns],\n",
       " 'popn_pct_change_ward_outlier_df': component   gss_code gss_code_ward     sex    age    year  births    deaths  \\\n",
       " 158730     E09000011     E05014090  female    90+  2021.0     NaN  3.200000   \n",
       " 368681     E09000025     E05013925  female  19-30  2012.0     NaN  0.000000   \n",
       " 303449     E09000021     E05013941  female    90+  2020.0     NaN  4.100000   \n",
       " 369041     E09000025     E05013925    male  19-30  2012.0     NaN  0.000000   \n",
       " 357090     E09000025     E05013908    male    90+  2021.0     NaN  1.300000   \n",
       " ...              ...           ...     ...    ...     ...     ...       ...   \n",
       " 420470     E09000029     E05013759    male    90+  2041.0     NaN  0.800000   \n",
       " 153285     E09000011     E05014082    male  81-89  2016.0     NaN  0.311111   \n",
       " 65447      E09000006     E05013994    male  81-89  2018.0     NaN  1.288889   \n",
       " 338715     E09000023     E05013732  female  81-89  2046.0     NaN  1.322222   \n",
       " 462196     E09000032     E05014010    male  81-89  2047.0     NaN  3.855556   \n",
       " \n",
       " component    netflow       popn  births_pct_change  deaths_pct_change  \\\n",
       " 158730     -2.000000  14.900000                NaN           0.623529   \n",
       " 368681     16.591667  17.300000                NaN                NaN   \n",
       " 303449     -1.100000  10.400000                NaN           0.226415   \n",
       " 369041     14.358333  15.108333                NaN                NaN   \n",
       " 357090      3.300000   9.000000                NaN           0.808824   \n",
       " ...              ...        ...                ...                ...   \n",
       " 420470     -0.400000   2.200000                NaN           0.111111   \n",
       " 153285      0.233333   1.222222                NaN           2.500000   \n",
       " 65447      -0.666667  12.711111                NaN           0.035714   \n",
       " 338715     -1.388889  30.933333                NaN           0.034783   \n",
       " 462196      1.722222  41.600000                NaN           0.029674   \n",
       " \n",
       " component  netflow_pct_change  popn_pct_change  robust_z_score  \n",
       " 158730               0.777778        28.800000     2866.364038  \n",
       " 368681                    NaN        22.066667     2195.908018  \n",
       " 303449               0.800000        19.800000     1970.209952  \n",
       " 369041                    NaN        19.144444     1904.934531  \n",
       " 357090               0.941176        17.000000     1691.406458  \n",
       " ...                       ...              ...             ...  \n",
       " 420470               0.000000         0.043478        3.000208  \n",
       " 153285               4.250000         0.043478        3.000208  \n",
       " 65447                0.130435         0.043478        3.000208  \n",
       " 338715               0.059322         0.043478        3.000208  \n",
       " 462196               0.047297         0.043478        3.000208  \n",
       " \n",
       " [75228 rows x 14 columns],\n",
       " 'births_pct_change_ward_inf_outlier_df': component   gss_code gss_code_ward     sex   age    year  births    deaths  \\\n",
       " 2551       E09000002     E05014055    male  0-18  2042.0   615.9  0.084211   \n",
       " 2552       E09000002     E05014055    male  0-18  2043.0   612.7  0.084211   \n",
       " 2553       E09000002     E05014055    male  0-18  2044.0   598.1  0.084211   \n",
       " 2550       E09000002     E05014055    male  0-18  2041.0   595.4  0.084211   \n",
       " 2191       E09000002     E05014055  female  0-18  2042.0   586.6  0.057895   \n",
       " ...              ...           ...     ...   ...     ...     ...       ...   \n",
       " 368642     E09000025     E05013925  female  0-18  2013.0     0.8  0.000000   \n",
       " 465484     E09000032     E05014015    male  0-18  2015.0     0.2  0.000000   \n",
       " 465121     E09000032     E05014015  female  0-18  2012.0     0.1  0.000000   \n",
       " 465483     E09000032     E05014015    male  0-18  2014.0     0.0  0.000000   \n",
       " 465481     E09000032     E05014015    male  0-18  2012.0     0.0  0.000000   \n",
       " \n",
       " component    netflow        popn  births_pct_change  deaths_pct_change  \\\n",
       " 2551        0.705263  491.594737           0.034431           0.000000   \n",
       " 2552       -4.247368  504.742105           0.005196           0.000000   \n",
       " 2553       -6.305263  514.563158           0.023829           0.000000   \n",
       " 2550       11.031579  472.284211           0.040909           0.142857   \n",
       " 2191        1.110526  466.021053           0.034568           0.100000   \n",
       " ...              ...         ...                ...                ...   \n",
       " 368642      0.136842    1.268421           0.764706                NaN   \n",
       " 465484      0.457895    1.584211                NaN                NaN   \n",
       " 465121      0.347368    1.347368                NaN                NaN   \n",
       " 465483      0.215789    1.405263           1.000000                NaN   \n",
       " 465481      0.300000    1.273684                NaN                NaN   \n",
       " \n",
       " component  netflow_pct_change  popn_pct_change  robust_z_score  \n",
       " 2551                 0.936069         0.040888       23.730088  \n",
       " 2552                 7.022388         0.026744       23.588496  \n",
       " 2553                 0.484511         0.019458       22.942478  \n",
       " 2550                 0.048570         0.064688       22.823009  \n",
       " 2191                 0.899236         0.039505       22.433628  \n",
       " ...                       ...              ...             ...  \n",
       " 368642               0.527273         0.131455       -3.486726  \n",
       " 465484               1.121951         0.127341       -3.513274  \n",
       " 465121                    NaN         0.280000       -3.517699  \n",
       " 465483               7.200000         0.080972       -3.522124  \n",
       " 465481                    NaN         0.180488       -3.522124  \n",
       " \n",
       " [2645 rows x 14 columns],\n",
       " 'deaths_pct_change_ward_inf_outlier_df': component   gss_code gss_code_ward     sex    age    year  births  deaths  \\\n",
       " 60804      E09000006     E05013988  female    90+  2015.0     NaN   87.30   \n",
       " 60806      E09000006     E05013988  female    90+  2017.0     NaN   77.10   \n",
       " 60812      E09000006     E05013988  female    90+  2023.0     NaN   76.20   \n",
       " 60839      E09000006     E05013988  female    90+  2050.0     NaN   75.30   \n",
       " 60801      E09000006     E05013988  female    90+  2012.0     NaN   75.20   \n",
       " ...              ...           ...     ...    ...     ...     ...     ...   \n",
       " 262688     E09000018     E05013619    male  71-80  2019.0     NaN    0.88   \n",
       " 257292     E09000018     E05013612  female  71-80  2023.0     NaN    0.88   \n",
       " 107132     E09000008     E05011485    male  61-70  2023.0     NaN    0.88   \n",
       " 426088     E09000029     E05013767    male  61-70  2019.0     NaN    0.88   \n",
       " 42343      E09000004     E05011231    male  61-70  2034.0     NaN    0.88   \n",
       " \n",
       " component  netflow    popn  births_pct_change  deaths_pct_change  \\\n",
       " 60804         4.20  122.60                NaN           0.316742   \n",
       " 60806         3.10  101.30                NaN           0.245557   \n",
       " 60812         5.50  164.30                NaN           0.747706   \n",
       " 60839         7.10  217.20                NaN           0.027285   \n",
       " 60801         1.20  194.90                NaN                NaN   \n",
       " ...            ...     ...                ...                ...   \n",
       " 262688       -0.35   28.91                NaN           0.207207   \n",
       " 257292        0.40   47.92                NaN           0.571429   \n",
       " 107132       -1.13   73.07                NaN           0.092784   \n",
       " 426088       -0.05   48.20                NaN           0.600000   \n",
       " 42343        -2.46   65.00                NaN           0.022222   \n",
       " \n",
       " component  netflow_pct_change  popn_pct_change  robust_z_score  \n",
       " 60804                0.160000         0.259662      395.818182  \n",
       " 60806                0.415094         0.112960      349.454545  \n",
       " 60812                1.115385         0.144271      345.363636  \n",
       " 60839                0.000000         0.043729      341.272727  \n",
       " 60801                     NaN         0.110046      340.818182  \n",
       " ...                       ...              ...             ...  \n",
       " 262688               1.058824         0.033434        3.000000  \n",
       " 257292               0.805825         0.008842        3.000000  \n",
       " 107132               0.150376         0.069839        3.000000  \n",
       " 426088               0.909091         0.018929        3.000000  \n",
       " 42343                0.029289         0.008221        3.000000  \n",
       " \n",
       " [122418 rows x 14 columns],\n",
       " 'netflow_pct_change_ward_inf_outlier_df': component   gss_code gss_code_ward     sex    age    year  births    deaths  \\\n",
       " 369044     E09000025     E05013925    male  19-30  2015.0     NaN  0.000000   \n",
       " 368684     E09000025     E05013925  female  19-30  2015.0     NaN  0.066667   \n",
       " 58371      E09000005     E05013516  female  19-30  2022.0     NaN  0.000000   \n",
       " 434931     E09000030     E05009323  female  19-30  2022.0     NaN  0.166667   \n",
       " 444291     E09000030     E05009336  female  19-30  2022.0     NaN  0.000000   \n",
       " ...              ...           ...     ...    ...     ...     ...       ...   \n",
       " 363571     E09000025     E05013917    male    90+  2022.0     NaN  3.400000   \n",
       " 76724      E09000007     E05013653    male  19-30  2015.0     NaN  0.025000   \n",
       " 277171     E09000019     E05013708    male    90+  2022.0     NaN  0.500000   \n",
       " 102569     E09000008     E05011479  female    90+  2020.0     NaN  6.100000   \n",
       " 76364      E09000007     E05013653  female  19-30  2015.0     NaN  0.000000   \n",
       " \n",
       " component    netflow        popn  births_pct_change  deaths_pct_change  \\\n",
       " 369044     97.825000  122.058333                NaN                NaN   \n",
       " 368684     91.075000  121.425000                NaN                NaN   \n",
       " 58371      90.750000  247.583333                NaN                NaN   \n",
       " 434931     87.083333  326.750000                NaN                NaN   \n",
       " 444291     84.333333  374.416667                NaN                NaN   \n",
       " ...              ...         ...                ...                ...   \n",
       " 363571    -36.600000   11.000000                NaN           0.700000   \n",
       " 76724     -38.875000  235.008333                NaN                NaN   \n",
       " 277171    -40.500000    9.000000                NaN           0.687500   \n",
       " 102569    -45.400000   46.900000                NaN           1.346154   \n",
       " 76364     -50.050000  271.975000                NaN                NaN   \n",
       " \n",
       " component  netflow_pct_change  popn_pct_change  robust_z_score  \n",
       " 369044              14.693850         3.918402      131.244202  \n",
       " 368684              10.764263         2.965977      122.231553  \n",
       " 58371                9.624390         0.548767      121.797611  \n",
       " 434931               1.987421         0.268522      116.901851  \n",
       " 444291               3.056112         0.248264      113.230030  \n",
       " ...                       ...              ...             ...  \n",
       " 363571              25.142857         0.222222      -48.241040  \n",
       " 76724                9.719626         0.140082      -51.278637  \n",
       " 277171             406.000000         0.250000      -53.448349  \n",
       " 102569              65.857143         0.520940      -59.990864  \n",
       " 76364                5.185366         0.134320      -66.199578  \n",
       " \n",
       " [86686 rows x 14 columns],\n",
       " 'popn_pct_change_ward_inf_outlier_df': component   gss_code gss_code_ward     sex    age    year  births  deaths  \\\n",
       " 2273       E09000002     E05014055  female  31-40  2044.0     NaN    0.29   \n",
       " 2274       E09000002     E05014055  female  31-40  2045.0     NaN    0.29   \n",
       " 2272       E09000002     E05014055  female  31-40  2043.0     NaN    0.28   \n",
       " 2275       E09000002     E05014055  female  31-40  2046.0     NaN    0.29   \n",
       " 2276       E09000002     E05014055  female  31-40  2047.0     NaN    0.29   \n",
       " ...              ...           ...     ...    ...     ...     ...     ...   \n",
       " 248848     E09000017     E05013579    male  31-40  2019.0     NaN    0.00   \n",
       " 59527      E09000005     E05013517    male  41-50  2018.0     NaN    0.11   \n",
       " 455152     E09000031     E05013896  female  31-40  2043.0     NaN    0.05   \n",
       " 62791      E09000006     E05013991  female  41-50  2042.0     NaN    0.09   \n",
       " 474181     E09000032     E05014027    male  19-30  2032.0     NaN    0.00   \n",
       " \n",
       " component    netflow        popn  births_pct_change  deaths_pct_change  \\\n",
       " 2273        0.360000  737.090000                NaN           0.035714   \n",
       " 2274       -0.390000  734.790000                NaN           0.000000   \n",
       " 2272        2.580000  729.340000                NaN           0.037037   \n",
       " 2275       -0.120000  726.860000                NaN           0.000000   \n",
       " 2276        0.470000  715.570000                NaN           0.000000   \n",
       " ...              ...         ...                ...                ...   \n",
       " 248848      4.090000  151.910000                NaN           1.000000   \n",
       " 59527      -2.360000  151.910000                NaN           0.421053   \n",
       " 455152     -2.390000  151.910000                NaN           0.000000   \n",
       " 62791      -1.520000  151.910000                NaN           0.000000   \n",
       " 474181     11.391667  151.908333                NaN                NaN   \n",
       " \n",
       " component  netflow_pct_change  popn_pct_change  robust_z_score  \n",
       " 2273                 0.860465         0.010626       23.277625  \n",
       " 2274                 2.083333         0.003120       23.197927  \n",
       " 2272                 0.685366         0.025679       23.009076  \n",
       " 2275                 0.692308         0.010792       22.923141  \n",
       " 2276                 4.916667         0.015533       22.531925  \n",
       " ...                       ...              ...             ...  \n",
       " 248848               0.762931         0.020832        3.000255  \n",
       " 59527                5.941176         0.011048        3.000255  \n",
       " 455152               0.000000         0.009101        3.000255  \n",
       " 62791                0.020134         0.001971        3.000255  \n",
       " 474181               0.013343         0.000439        3.000198  \n",
       " \n",
       " [19970 rows x 14 columns],\n",
       " 'total_pop_temporal_outliers_ward_df': component   gss_code gss_code_ward     sex    age    year  births    deaths  \\\n",
       " 158730     E09000011     E05014090  female    90+  2021.0     NaN  3.200000   \n",
       " 368681     E09000025     E05013925  female  19-30  2012.0     NaN  0.000000   \n",
       " 303449     E09000021     E05013941  female    90+  2020.0     NaN  4.100000   \n",
       " 369041     E09000025     E05013925    male  19-30  2012.0     NaN  0.000000   \n",
       " 159090     E09000011     E05014090    male    90+  2021.0     NaN  1.700000   \n",
       " ...              ...           ...     ...    ...     ...     ...       ...   \n",
       " 22990      E09000003     E05013639    male  81-89  2041.0     NaN  2.911111   \n",
       " 339607     E09000024     E05013810    male  41-50  2018.0     NaN  0.120000   \n",
       " 461929     E09000032     E05014010    male  19-30  2020.0     NaN  0.016667   \n",
       " 262688     E09000018     E05013619    male  71-80  2019.0     NaN  0.880000   \n",
       " 256321     E09000018     E05013611  female   0-18  2012.0    89.5  0.000000   \n",
       " \n",
       " component    netflow        popn  births_pct_change  deaths_pct_change  \\\n",
       " 158730     -2.000000   14.900000                NaN           0.623529   \n",
       " 368681     16.591667   17.300000                NaN                NaN   \n",
       " 303449     -1.100000   10.400000                NaN           0.226415   \n",
       " 369041     14.358333   15.108333                NaN                NaN   \n",
       " 159090     -1.000000    9.000000                NaN           0.750000   \n",
       " ...              ...         ...                ...                ...   \n",
       " 22990      -0.188889   56.666667                NaN           0.003831   \n",
       " 339607     -1.770000   78.510000                NaN           0.333333   \n",
       " 461929      5.116667  186.950000                NaN           0.944444   \n",
       " 262688     -0.350000   28.910000                NaN           0.207207   \n",
       " 256321     -1.468421   52.547368                NaN                NaN   \n",
       " \n",
       " component  netflow_pct_change  popn_pct_change  robust_z_score  \n",
       " 158730               0.777778        28.800000     2866.364038  \n",
       " 368681                    NaN        22.066667     2195.908018  \n",
       " 303449               0.800000        19.800000     1970.209952  \n",
       " 369041                    NaN        19.144444     1904.934531  \n",
       " 159090               1.277778        17.000000     1691.406458  \n",
       " ...                       ...              ...             ...  \n",
       " 22990                0.392857         0.033435        2.000139  \n",
       " 339607               0.329545         0.033434        2.000099  \n",
       " 461929               0.765828         0.033434        2.000061  \n",
       " 262688               1.058824         0.033434        2.000038  \n",
       " 256321                    NaN         0.033433        2.000014  \n",
       " \n",
       " [109628 rows x 14 columns],\n",
       " 'total_pop_cross_sectional_outliers_ward_df': component   gss_code gss_code_ward     sex    age    year  births    deaths  \\\n",
       " 158730     E09000011     E05014090  female    90+  2021.0     NaN  3.200000   \n",
       " 368681     E09000025     E05013925  female  19-30  2012.0     NaN  0.000000   \n",
       " 303449     E09000021     E05013941  female    90+  2020.0     NaN  4.100000   \n",
       " 369041     E09000025     E05013925    male  19-30  2012.0     NaN  0.000000   \n",
       " 159090     E09000011     E05014090    male    90+  2021.0     NaN  1.700000   \n",
       " ...              ...           ...     ...    ...     ...     ...       ...   \n",
       " 22990      E09000003     E05013639    male  81-89  2041.0     NaN  2.911111   \n",
       " 339607     E09000024     E05013810    male  41-50  2018.0     NaN  0.120000   \n",
       " 461929     E09000032     E05014010    male  19-30  2020.0     NaN  0.016667   \n",
       " 262688     E09000018     E05013619    male  71-80  2019.0     NaN  0.880000   \n",
       " 256321     E09000018     E05013611  female   0-18  2012.0    89.5  0.000000   \n",
       " \n",
       " component    netflow        popn  births_pct_change  deaths_pct_change  \\\n",
       " 158730     -2.000000   14.900000                NaN           0.623529   \n",
       " 368681     16.591667   17.300000                NaN                NaN   \n",
       " 303449     -1.100000   10.400000                NaN           0.226415   \n",
       " 369041     14.358333   15.108333                NaN                NaN   \n",
       " 159090     -1.000000    9.000000                NaN           0.750000   \n",
       " ...              ...         ...                ...                ...   \n",
       " 22990      -0.188889   56.666667                NaN           0.003831   \n",
       " 339607     -1.770000   78.510000                NaN           0.333333   \n",
       " 461929      5.116667  186.950000                NaN           0.944444   \n",
       " 262688     -0.350000   28.910000                NaN           0.207207   \n",
       " 256321     -1.468421   52.547368                NaN                NaN   \n",
       " \n",
       " component  netflow_pct_change  popn_pct_change  robust_z_score  \n",
       " 158730               0.777778        28.800000     2866.364038  \n",
       " 368681                    NaN        22.066667     2195.908018  \n",
       " 303449               0.800000        19.800000     1970.209952  \n",
       " 369041                    NaN        19.144444     1904.934531  \n",
       " 159090               1.277778        17.000000     1691.406458  \n",
       " ...                       ...              ...             ...  \n",
       " 22990                0.392857         0.033435        2.000139  \n",
       " 339607               0.329545         0.033434        2.000099  \n",
       " 461929               0.765828         0.033434        2.000061  \n",
       " 262688               1.058824         0.033434        2.000038  \n",
       " 256321                    NaN         0.033433        2.000014  \n",
       " \n",
       " [109628 rows x 14 columns],\n",
       " 'births_gender_outliers_df': component gss_code_ward    year   age    births  robust_z_score\n",
       " 0             E05009317  2012.0  0-18  0.972733       24.599647\n",
       " 1             E05009317  2013.0  0-18  1.139108      225.697260\n",
       " 2             E05009317  2014.0  0-18  1.204861      305.173778\n",
       " 3             E05009317  2015.0  0-18  0.751933     -242.282254\n",
       " 4             E05009317  2016.0  0-18  0.912195      -48.572774\n",
       " ...                 ...     ...   ...       ...             ...\n",
       " 7779          E09000001  2021.0  0-18  0.758621     -234.198805\n",
       " 7780          E09000001  2022.0  0-18  0.894737      -69.674667\n",
       " 7781          E09000001  2023.0  0-18  0.955720        4.035385\n",
       " 7782          E09000001  2039.0  0-18  0.950000       -2.877867\n",
       " 7783          E09000001  2049.0  0-18  0.950704       -2.026667\n",
       " \n",
       " [7784 rows x 5 columns],\n",
       " 'deaths_gender_outliers_df': component gss_code_ward    year    age    deaths  robust_z_score\n",
       " 0             E05009317  2013.0    90+  2.760000        5.519995\n",
       " 1             E05009317  2014.0  31-40  3.333333        7.082119\n",
       " 2             E05009317  2014.0  61-70  3.000000        6.173908\n",
       " 3             E05009317  2014.0    90+  2.794118        5.612953\n",
       " 4             E05009317  2016.0    90+  2.976190        6.109035\n",
       " ...                 ...     ...    ...       ...             ...\n",
       " 6246          E05014119  2022.0  81-89  2.760000        5.519995\n",
       " 6247          E05014119  2022.0    90+  5.727273       13.604731\n",
       " 6248          E05014119  2023.0  31-40  4.000000        8.898543\n",
       " 6249          E09000001  2018.0    90+  9.000000       22.521720\n",
       " 6250          E09000001  2021.0    90+  3.500000        7.536225\n",
       " \n",
       " [6251 rows x 5 columns],\n",
       " 'netflow_gender_outliers_df': component gss_code_ward    year    age    netflow  robust_z_score\n",
       " 0             E05009317  2012.0  81-89   7.625000        7.779697\n",
       " 1             E05009317  2012.0    90+   3.250000        2.717080\n",
       " 2             E05009317  2013.0  51-60  -1.257143       -2.498449\n",
       " 3             E05009317  2014.0   0-18  12.666667       13.613761\n",
       " 4             E05009317  2016.0  71-80  -9.750000      -12.326127\n",
       " ...                 ...     ...    ...        ...             ...\n",
       " 52438         E09000001  2048.0    90+   2.937500        2.355464\n",
       " 52439         E09000001  2049.0  41-50   8.000000        8.213636\n",
       " 52440         E09000001  2049.0    90+   3.062500        2.500111\n",
       " 52441         E09000001  2050.0  41-50   7.750000        7.924344\n",
       " 52442         E09000001  2050.0    90+   3.187500        2.644757\n",
       " \n",
       " [52443 rows x 5 columns],\n",
       " 'popn_gender_outliers_df': component gss_code_ward    year    age      popn  robust_z_score\n",
       " 0             E05009317  2017.0  81-89  2.110266        5.366013\n",
       " 1             E05009317  2018.0  81-89  2.234551        6.043313\n",
       " 2             E05009317  2022.0    90+  2.200000        5.855026\n",
       " 3             E05009317  2023.0    90+  2.617391        8.129641\n",
       " 4             E05009317  2024.0    90+  2.989899       10.159658\n",
       " ...                 ...     ...    ...       ...             ...\n",
       " 15488         E05014119  2047.0    90+  2.137203        5.512809\n",
       " 15489         E05014119  2048.0    90+  2.139303        5.524255\n",
       " 15490         E05014119  2049.0    90+  2.117783        5.406976\n",
       " 15491         E05014119  2050.0    90+  2.082251        5.213342\n",
       " 15492         E09000001  2015.0    90+  2.714286        8.657676\n",
       " \n",
       " [15493 rows x 5 columns]}"
      ]
     },
     "execution_count": 76,
     "metadata": {},
     "output_type": "execute_result"
    }
   ],
>>>>>>> d6e679524c1c4c65559ed5b857f2e8f7c637a755
   "source": [
    "outlier_dfs_wards"
   ]
  },
  {
   "cell_type": "code",
<<<<<<< HEAD
   "execution_count": null,
=======
   "execution_count": 77,
>>>>>>> d6e679524c1c4c65559ed5b857f2e8f7c637a755
   "metadata": {},
   "outputs": [],
   "source": [
    "df_tally = tally_outliers(outlier_dfs_wards, tally_by_age=True)\n"
   ]
  },
  {
   "cell_type": "code",
<<<<<<< HEAD
   "execution_count": null,
   "metadata": {},
   "outputs": [],
=======
   "execution_count": 78,
   "metadata": {},
   "outputs": [
    {
     "data": {
      "text/html": [
       "<div>\n",
       "<style scoped>\n",
       "    .dataframe tbody tr th:only-of-type {\n",
       "        vertical-align: middle;\n",
       "    }\n",
       "\n",
       "    .dataframe tbody tr th {\n",
       "        vertical-align: top;\n",
       "    }\n",
       "\n",
       "    .dataframe thead th {\n",
       "        text-align: right;\n",
       "    }\n",
       "</style>\n",
       "<table border=\"1\" class=\"dataframe\">\n",
       "  <thead>\n",
       "    <tr style=\"text-align: right;\">\n",
       "      <th></th>\n",
       "      <th>gss_code_ward</th>\n",
       "      <th>year</th>\n",
       "      <th>age</th>\n",
       "      <th>births_pct_change_ward_outlier_df</th>\n",
       "      <th>deaths_pct_change_ward_outlier_df</th>\n",
       "      <th>netflow_pct_change_ward_outlier_df</th>\n",
       "      <th>popn_pct_change_ward_outlier_df</th>\n",
       "      <th>births_pct_change_ward_inf_outlier_df</th>\n",
       "      <th>deaths_pct_change_ward_inf_outlier_df</th>\n",
       "      <th>netflow_pct_change_ward_inf_outlier_df</th>\n",
       "      <th>popn_pct_change_ward_inf_outlier_df</th>\n",
       "      <th>total_pop_temporal_outliers_ward_df</th>\n",
       "      <th>total_pop_cross_sectional_outliers_ward_df</th>\n",
       "      <th>births_gender_outliers_df</th>\n",
       "      <th>deaths_gender_outliers_df</th>\n",
       "      <th>netflow_gender_outliers_df</th>\n",
       "      <th>popn_gender_outliers_df</th>\n",
       "      <th>total</th>\n",
       "      <th>total_outlier_score</th>\n",
       "    </tr>\n",
       "  </thead>\n",
       "  <tbody>\n",
       "    <tr>\n",
       "      <th>0</th>\n",
       "      <td>E05013988</td>\n",
       "      <td>2014.0</td>\n",
       "      <td>90+</td>\n",
       "      <td>0.0</td>\n",
       "      <td>1.0</td>\n",
       "      <td>1.0</td>\n",
       "      <td>1.0</td>\n",
       "      <td>0.0</td>\n",
       "      <td>1.0</td>\n",
       "      <td>1.0</td>\n",
       "      <td>1.0</td>\n",
       "      <td>1.0</td>\n",
       "      <td>1.0</td>\n",
       "      <td>0.0</td>\n",
       "      <td>1.0</td>\n",
       "      <td>1.0</td>\n",
       "      <td>1.0</td>\n",
       "      <td>11.0</td>\n",
       "      <td>474.171995</td>\n",
       "    </tr>\n",
       "    <tr>\n",
       "      <th>1</th>\n",
       "      <td>E05013988</td>\n",
       "      <td>2013.0</td>\n",
       "      <td>90+</td>\n",
       "      <td>0.0</td>\n",
       "      <td>1.0</td>\n",
       "      <td>1.0</td>\n",
       "      <td>1.0</td>\n",
       "      <td>0.0</td>\n",
       "      <td>1.0</td>\n",
       "      <td>1.0</td>\n",
       "      <td>1.0</td>\n",
       "      <td>1.0</td>\n",
       "      <td>1.0</td>\n",
       "      <td>0.0</td>\n",
       "      <td>1.0</td>\n",
       "      <td>1.0</td>\n",
       "      <td>1.0</td>\n",
       "      <td>11.0</td>\n",
       "      <td>453.748423</td>\n",
       "    </tr>\n",
       "    <tr>\n",
       "      <th>2</th>\n",
       "      <td>E05011255</td>\n",
       "      <td>2013.0</td>\n",
       "      <td>90+</td>\n",
       "      <td>0.0</td>\n",
       "      <td>1.0</td>\n",
       "      <td>1.0</td>\n",
       "      <td>1.0</td>\n",
       "      <td>0.0</td>\n",
       "      <td>1.0</td>\n",
       "      <td>1.0</td>\n",
       "      <td>1.0</td>\n",
       "      <td>1.0</td>\n",
       "      <td>1.0</td>\n",
       "      <td>0.0</td>\n",
       "      <td>1.0</td>\n",
       "      <td>1.0</td>\n",
       "      <td>1.0</td>\n",
       "      <td>11.0</td>\n",
       "      <td>267.695860</td>\n",
       "    </tr>\n",
       "    <tr>\n",
       "      <th>3</th>\n",
       "      <td>E05013631</td>\n",
       "      <td>2013.0</td>\n",
       "      <td>90+</td>\n",
       "      <td>0.0</td>\n",
       "      <td>1.0</td>\n",
       "      <td>1.0</td>\n",
       "      <td>1.0</td>\n",
       "      <td>0.0</td>\n",
       "      <td>1.0</td>\n",
       "      <td>1.0</td>\n",
       "      <td>1.0</td>\n",
       "      <td>1.0</td>\n",
       "      <td>1.0</td>\n",
       "      <td>0.0</td>\n",
       "      <td>1.0</td>\n",
       "      <td>1.0</td>\n",
       "      <td>1.0</td>\n",
       "      <td>11.0</td>\n",
       "      <td>344.876235</td>\n",
       "    </tr>\n",
       "    <tr>\n",
       "      <th>4</th>\n",
       "      <td>E05013533</td>\n",
       "      <td>2022.0</td>\n",
       "      <td>90+</td>\n",
       "      <td>0.0</td>\n",
       "      <td>1.0</td>\n",
       "      <td>1.0</td>\n",
       "      <td>1.0</td>\n",
       "      <td>0.0</td>\n",
       "      <td>1.0</td>\n",
       "      <td>1.0</td>\n",
       "      <td>0.0</td>\n",
       "      <td>1.0</td>\n",
       "      <td>1.0</td>\n",
       "      <td>0.0</td>\n",
       "      <td>1.0</td>\n",
       "      <td>1.0</td>\n",
       "      <td>1.0</td>\n",
       "      <td>10.0</td>\n",
       "      <td>199.532168</td>\n",
       "    </tr>\n",
       "    <tr>\n",
       "      <th>...</th>\n",
       "      <td>...</td>\n",
       "      <td>...</td>\n",
       "      <td>...</td>\n",
       "      <td>...</td>\n",
       "      <td>...</td>\n",
       "      <td>...</td>\n",
       "      <td>...</td>\n",
       "      <td>...</td>\n",
       "      <td>...</td>\n",
       "      <td>...</td>\n",
       "      <td>...</td>\n",
       "      <td>...</td>\n",
       "      <td>...</td>\n",
       "      <td>...</td>\n",
       "      <td>...</td>\n",
       "      <td>...</td>\n",
       "      <td>...</td>\n",
       "      <td>...</td>\n",
       "      <td>...</td>\n",
       "    </tr>\n",
       "    <tr>\n",
       "      <th>190922</th>\n",
       "      <td>E05013700</td>\n",
       "      <td>2035.0</td>\n",
       "      <td>41-50</td>\n",
       "      <td>0.0</td>\n",
       "      <td>1.0</td>\n",
       "      <td>0.0</td>\n",
       "      <td>0.0</td>\n",
       "      <td>0.0</td>\n",
       "      <td>0.0</td>\n",
       "      <td>0.0</td>\n",
       "      <td>0.0</td>\n",
       "      <td>0.0</td>\n",
       "      <td>0.0</td>\n",
       "      <td>0.0</td>\n",
       "      <td>0.0</td>\n",
       "      <td>0.0</td>\n",
       "      <td>0.0</td>\n",
       "      <td>1.0</td>\n",
       "      <td>3.074074</td>\n",
       "    </tr>\n",
       "    <tr>\n",
       "      <th>190923</th>\n",
       "      <td>E05013700</td>\n",
       "      <td>2035.0</td>\n",
       "      <td>31-40</td>\n",
       "      <td>0.0</td>\n",
       "      <td>0.0</td>\n",
       "      <td>0.0</td>\n",
       "      <td>0.0</td>\n",
       "      <td>0.0</td>\n",
       "      <td>0.0</td>\n",
       "      <td>1.0</td>\n",
       "      <td>0.0</td>\n",
       "      <td>0.0</td>\n",
       "      <td>0.0</td>\n",
       "      <td>0.0</td>\n",
       "      <td>0.0</td>\n",
       "      <td>0.0</td>\n",
       "      <td>0.0</td>\n",
       "      <td>1.0</td>\n",
       "      <td>17.624736</td>\n",
       "    </tr>\n",
       "    <tr>\n",
       "      <th>190924</th>\n",
       "      <td>E05013700</td>\n",
       "      <td>2035.0</td>\n",
       "      <td>0-18</td>\n",
       "      <td>0.0</td>\n",
       "      <td>0.0</td>\n",
       "      <td>1.0</td>\n",
       "      <td>0.0</td>\n",
       "      <td>0.0</td>\n",
       "      <td>0.0</td>\n",
       "      <td>0.0</td>\n",
       "      <td>0.0</td>\n",
       "      <td>0.0</td>\n",
       "      <td>0.0</td>\n",
       "      <td>0.0</td>\n",
       "      <td>0.0</td>\n",
       "      <td>0.0</td>\n",
       "      <td>0.0</td>\n",
       "      <td>1.0</td>\n",
       "      <td>4.784363</td>\n",
       "    </tr>\n",
       "    <tr>\n",
       "      <th>190925</th>\n",
       "      <td>E05013700</td>\n",
       "      <td>2034.0</td>\n",
       "      <td>51-60</td>\n",
       "      <td>0.0</td>\n",
       "      <td>0.0</td>\n",
       "      <td>0.0</td>\n",
       "      <td>0.0</td>\n",
       "      <td>0.0</td>\n",
       "      <td>0.0</td>\n",
       "      <td>0.0</td>\n",
       "      <td>0.0</td>\n",
       "      <td>0.0</td>\n",
       "      <td>0.0</td>\n",
       "      <td>0.0</td>\n",
       "      <td>0.0</td>\n",
       "      <td>1.0</td>\n",
       "      <td>0.0</td>\n",
       "      <td>1.0</td>\n",
       "      <td>7.086719</td>\n",
       "    </tr>\n",
       "    <tr>\n",
       "      <th>190926</th>\n",
       "      <td>E05013684</td>\n",
       "      <td>2026.0</td>\n",
       "      <td>0-18</td>\n",
       "      <td>0.0</td>\n",
       "      <td>0.0</td>\n",
       "      <td>1.0</td>\n",
       "      <td>0.0</td>\n",
       "      <td>0.0</td>\n",
       "      <td>0.0</td>\n",
       "      <td>0.0</td>\n",
       "      <td>0.0</td>\n",
       "      <td>0.0</td>\n",
       "      <td>0.0</td>\n",
       "      <td>0.0</td>\n",
       "      <td>0.0</td>\n",
       "      <td>0.0</td>\n",
       "      <td>0.0</td>\n",
       "      <td>1.0</td>\n",
       "      <td>11.805125</td>\n",
       "    </tr>\n",
       "  </tbody>\n",
       "</table>\n",
       "<p>190927 rows × 19 columns</p>\n",
       "</div>"
      ],
      "text/plain": [
       "       gss_code_ward    year    age  births_pct_change_ward_outlier_df  \\\n",
       "0          E05013988  2014.0    90+                                0.0   \n",
       "1          E05013988  2013.0    90+                                0.0   \n",
       "2          E05011255  2013.0    90+                                0.0   \n",
       "3          E05013631  2013.0    90+                                0.0   \n",
       "4          E05013533  2022.0    90+                                0.0   \n",
       "...              ...     ...    ...                                ...   \n",
       "190922     E05013700  2035.0  41-50                                0.0   \n",
       "190923     E05013700  2035.0  31-40                                0.0   \n",
       "190924     E05013700  2035.0   0-18                                0.0   \n",
       "190925     E05013700  2034.0  51-60                                0.0   \n",
       "190926     E05013684  2026.0   0-18                                0.0   \n",
       "\n",
       "        deaths_pct_change_ward_outlier_df  netflow_pct_change_ward_outlier_df  \\\n",
       "0                                     1.0                                 1.0   \n",
       "1                                     1.0                                 1.0   \n",
       "2                                     1.0                                 1.0   \n",
       "3                                     1.0                                 1.0   \n",
       "4                                     1.0                                 1.0   \n",
       "...                                   ...                                 ...   \n",
       "190922                                1.0                                 0.0   \n",
       "190923                                0.0                                 0.0   \n",
       "190924                                0.0                                 1.0   \n",
       "190925                                0.0                                 0.0   \n",
       "190926                                0.0                                 1.0   \n",
       "\n",
       "        popn_pct_change_ward_outlier_df  \\\n",
       "0                                   1.0   \n",
       "1                                   1.0   \n",
       "2                                   1.0   \n",
       "3                                   1.0   \n",
       "4                                   1.0   \n",
       "...                                 ...   \n",
       "190922                              0.0   \n",
       "190923                              0.0   \n",
       "190924                              0.0   \n",
       "190925                              0.0   \n",
       "190926                              0.0   \n",
       "\n",
       "        births_pct_change_ward_inf_outlier_df  \\\n",
       "0                                         0.0   \n",
       "1                                         0.0   \n",
       "2                                         0.0   \n",
       "3                                         0.0   \n",
       "4                                         0.0   \n",
       "...                                       ...   \n",
       "190922                                    0.0   \n",
       "190923                                    0.0   \n",
       "190924                                    0.0   \n",
       "190925                                    0.0   \n",
       "190926                                    0.0   \n",
       "\n",
       "        deaths_pct_change_ward_inf_outlier_df  \\\n",
       "0                                         1.0   \n",
       "1                                         1.0   \n",
       "2                                         1.0   \n",
       "3                                         1.0   \n",
       "4                                         1.0   \n",
       "...                                       ...   \n",
       "190922                                    0.0   \n",
       "190923                                    0.0   \n",
       "190924                                    0.0   \n",
       "190925                                    0.0   \n",
       "190926                                    0.0   \n",
       "\n",
       "        netflow_pct_change_ward_inf_outlier_df  \\\n",
       "0                                          1.0   \n",
       "1                                          1.0   \n",
       "2                                          1.0   \n",
       "3                                          1.0   \n",
       "4                                          1.0   \n",
       "...                                        ...   \n",
       "190922                                     0.0   \n",
       "190923                                     1.0   \n",
       "190924                                     0.0   \n",
       "190925                                     0.0   \n",
       "190926                                     0.0   \n",
       "\n",
       "        popn_pct_change_ward_inf_outlier_df  \\\n",
       "0                                       1.0   \n",
       "1                                       1.0   \n",
       "2                                       1.0   \n",
       "3                                       1.0   \n",
       "4                                       0.0   \n",
       "...                                     ...   \n",
       "190922                                  0.0   \n",
       "190923                                  0.0   \n",
       "190924                                  0.0   \n",
       "190925                                  0.0   \n",
       "190926                                  0.0   \n",
       "\n",
       "        total_pop_temporal_outliers_ward_df  \\\n",
       "0                                       1.0   \n",
       "1                                       1.0   \n",
       "2                                       1.0   \n",
       "3                                       1.0   \n",
       "4                                       1.0   \n",
       "...                                     ...   \n",
       "190922                                  0.0   \n",
       "190923                                  0.0   \n",
       "190924                                  0.0   \n",
       "190925                                  0.0   \n",
       "190926                                  0.0   \n",
       "\n",
       "        total_pop_cross_sectional_outliers_ward_df  births_gender_outliers_df  \\\n",
       "0                                              1.0                        0.0   \n",
       "1                                              1.0                        0.0   \n",
       "2                                              1.0                        0.0   \n",
       "3                                              1.0                        0.0   \n",
       "4                                              1.0                        0.0   \n",
       "...                                            ...                        ...   \n",
       "190922                                         0.0                        0.0   \n",
       "190923                                         0.0                        0.0   \n",
       "190924                                         0.0                        0.0   \n",
       "190925                                         0.0                        0.0   \n",
       "190926                                         0.0                        0.0   \n",
       "\n",
       "        deaths_gender_outliers_df  netflow_gender_outliers_df  \\\n",
       "0                             1.0                         1.0   \n",
       "1                             1.0                         1.0   \n",
       "2                             1.0                         1.0   \n",
       "3                             1.0                         1.0   \n",
       "4                             1.0                         1.0   \n",
       "...                           ...                         ...   \n",
       "190922                        0.0                         0.0   \n",
       "190923                        0.0                         0.0   \n",
       "190924                        0.0                         0.0   \n",
       "190925                        0.0                         1.0   \n",
       "190926                        0.0                         0.0   \n",
       "\n",
       "        popn_gender_outliers_df  total  total_outlier_score  \n",
       "0                           1.0   11.0           474.171995  \n",
       "1                           1.0   11.0           453.748423  \n",
       "2                           1.0   11.0           267.695860  \n",
       "3                           1.0   11.0           344.876235  \n",
       "4                           1.0   10.0           199.532168  \n",
       "...                         ...    ...                  ...  \n",
       "190922                      0.0    1.0             3.074074  \n",
       "190923                      0.0    1.0            17.624736  \n",
       "190924                      0.0    1.0             4.784363  \n",
       "190925                      0.0    1.0             7.086719  \n",
       "190926                      0.0    1.0            11.805125  \n",
       "\n",
       "[190927 rows x 19 columns]"
      ]
     },
     "execution_count": 78,
     "metadata": {},
     "output_type": "execute_result"
    }
   ],
>>>>>>> d6e679524c1c4c65559ed5b857f2e8f7c637a755
   "source": [
    "df_tally"
   ]
  },
  {
   "cell_type": "code",
<<<<<<< HEAD
   "execution_count": null,
   "metadata": {},
   "outputs": [],
=======
   "execution_count": 79,
   "metadata": {},
   "outputs": [
    {
     "data": {
      "text/html": [
       "<div>\n",
       "<style scoped>\n",
       "    .dataframe tbody tr th:only-of-type {\n",
       "        vertical-align: middle;\n",
       "    }\n",
       "\n",
       "    .dataframe tbody tr th {\n",
       "        vertical-align: top;\n",
       "    }\n",
       "\n",
       "    .dataframe thead th {\n",
       "        text-align: right;\n",
       "    }\n",
       "</style>\n",
       "<table border=\"1\" class=\"dataframe\">\n",
       "  <thead>\n",
       "    <tr style=\"text-align: right;\">\n",
       "      <th></th>\n",
       "      <th>gss_code_ward</th>\n",
       "      <th>year</th>\n",
       "      <th>age</th>\n",
       "      <th>births_pct_change_ward_outlier_df</th>\n",
       "      <th>deaths_pct_change_ward_outlier_df</th>\n",
       "      <th>netflow_pct_change_ward_outlier_df</th>\n",
       "      <th>popn_pct_change_ward_outlier_df</th>\n",
       "      <th>births_pct_change_ward_inf_outlier_df</th>\n",
       "      <th>deaths_pct_change_ward_inf_outlier_df</th>\n",
       "      <th>netflow_pct_change_ward_inf_outlier_df</th>\n",
       "      <th>popn_pct_change_ward_inf_outlier_df</th>\n",
       "      <th>total_pop_temporal_outliers_ward_df</th>\n",
       "      <th>total_pop_cross_sectional_outliers_ward_df</th>\n",
       "      <th>births_gender_outliers_df</th>\n",
       "      <th>deaths_gender_outliers_df</th>\n",
       "      <th>netflow_gender_outliers_df</th>\n",
       "      <th>popn_gender_outliers_df</th>\n",
       "      <th>total</th>\n",
       "      <th>total_outlier_score</th>\n",
       "    </tr>\n",
       "  </thead>\n",
       "  <tbody>\n",
       "    <tr>\n",
       "      <th>0</th>\n",
       "      <td>E05013988</td>\n",
       "      <td>2014.0</td>\n",
       "      <td>90+</td>\n",
       "      <td>0.0</td>\n",
       "      <td>1.0</td>\n",
       "      <td>1.0</td>\n",
       "      <td>1.0</td>\n",
       "      <td>0.0</td>\n",
       "      <td>1.0</td>\n",
       "      <td>1.0</td>\n",
       "      <td>1.0</td>\n",
       "      <td>1.0</td>\n",
       "      <td>1.0</td>\n",
       "      <td>0.0</td>\n",
       "      <td>1.0</td>\n",
       "      <td>1.0</td>\n",
       "      <td>1.0</td>\n",
       "      <td>11.0</td>\n",
       "      <td>474.171995</td>\n",
       "    </tr>\n",
       "    <tr>\n",
       "      <th>1</th>\n",
       "      <td>E05013988</td>\n",
       "      <td>2013.0</td>\n",
       "      <td>90+</td>\n",
       "      <td>0.0</td>\n",
       "      <td>1.0</td>\n",
       "      <td>1.0</td>\n",
       "      <td>1.0</td>\n",
       "      <td>0.0</td>\n",
       "      <td>1.0</td>\n",
       "      <td>1.0</td>\n",
       "      <td>1.0</td>\n",
       "      <td>1.0</td>\n",
       "      <td>1.0</td>\n",
       "      <td>0.0</td>\n",
       "      <td>1.0</td>\n",
       "      <td>1.0</td>\n",
       "      <td>1.0</td>\n",
       "      <td>11.0</td>\n",
       "      <td>453.748423</td>\n",
       "    </tr>\n",
       "    <tr>\n",
       "      <th>2</th>\n",
       "      <td>E05011255</td>\n",
       "      <td>2013.0</td>\n",
       "      <td>90+</td>\n",
       "      <td>0.0</td>\n",
       "      <td>1.0</td>\n",
       "      <td>1.0</td>\n",
       "      <td>1.0</td>\n",
       "      <td>0.0</td>\n",
       "      <td>1.0</td>\n",
       "      <td>1.0</td>\n",
       "      <td>1.0</td>\n",
       "      <td>1.0</td>\n",
       "      <td>1.0</td>\n",
       "      <td>0.0</td>\n",
       "      <td>1.0</td>\n",
       "      <td>1.0</td>\n",
       "      <td>1.0</td>\n",
       "      <td>11.0</td>\n",
       "      <td>267.695860</td>\n",
       "    </tr>\n",
       "    <tr>\n",
       "      <th>3</th>\n",
       "      <td>E05013631</td>\n",
       "      <td>2013.0</td>\n",
       "      <td>90+</td>\n",
       "      <td>0.0</td>\n",
       "      <td>1.0</td>\n",
       "      <td>1.0</td>\n",
       "      <td>1.0</td>\n",
       "      <td>0.0</td>\n",
       "      <td>1.0</td>\n",
       "      <td>1.0</td>\n",
       "      <td>1.0</td>\n",
       "      <td>1.0</td>\n",
       "      <td>1.0</td>\n",
       "      <td>0.0</td>\n",
       "      <td>1.0</td>\n",
       "      <td>1.0</td>\n",
       "      <td>1.0</td>\n",
       "      <td>11.0</td>\n",
       "      <td>344.876235</td>\n",
       "    </tr>\n",
       "    <tr>\n",
       "      <th>4</th>\n",
       "      <td>E05013533</td>\n",
       "      <td>2022.0</td>\n",
       "      <td>90+</td>\n",
       "      <td>0.0</td>\n",
       "      <td>1.0</td>\n",
       "      <td>1.0</td>\n",
       "      <td>1.0</td>\n",
       "      <td>0.0</td>\n",
       "      <td>1.0</td>\n",
       "      <td>1.0</td>\n",
       "      <td>0.0</td>\n",
       "      <td>1.0</td>\n",
       "      <td>1.0</td>\n",
       "      <td>0.0</td>\n",
       "      <td>1.0</td>\n",
       "      <td>1.0</td>\n",
       "      <td>1.0</td>\n",
       "      <td>10.0</td>\n",
       "      <td>199.532168</td>\n",
       "    </tr>\n",
       "    <tr>\n",
       "      <th>...</th>\n",
       "      <td>...</td>\n",
       "      <td>...</td>\n",
       "      <td>...</td>\n",
       "      <td>...</td>\n",
       "      <td>...</td>\n",
       "      <td>...</td>\n",
       "      <td>...</td>\n",
       "      <td>...</td>\n",
       "      <td>...</td>\n",
       "      <td>...</td>\n",
       "      <td>...</td>\n",
       "      <td>...</td>\n",
       "      <td>...</td>\n",
       "      <td>...</td>\n",
       "      <td>...</td>\n",
       "      <td>...</td>\n",
       "      <td>...</td>\n",
       "      <td>...</td>\n",
       "      <td>...</td>\n",
       "    </tr>\n",
       "    <tr>\n",
       "      <th>190922</th>\n",
       "      <td>E05013700</td>\n",
       "      <td>2035.0</td>\n",
       "      <td>41-50</td>\n",
       "      <td>0.0</td>\n",
       "      <td>1.0</td>\n",
       "      <td>0.0</td>\n",
       "      <td>0.0</td>\n",
       "      <td>0.0</td>\n",
       "      <td>0.0</td>\n",
       "      <td>0.0</td>\n",
       "      <td>0.0</td>\n",
       "      <td>0.0</td>\n",
       "      <td>0.0</td>\n",
       "      <td>0.0</td>\n",
       "      <td>0.0</td>\n",
       "      <td>0.0</td>\n",
       "      <td>0.0</td>\n",
       "      <td>1.0</td>\n",
       "      <td>3.074074</td>\n",
       "    </tr>\n",
       "    <tr>\n",
       "      <th>190923</th>\n",
       "      <td>E05013700</td>\n",
       "      <td>2035.0</td>\n",
       "      <td>31-40</td>\n",
       "      <td>0.0</td>\n",
       "      <td>0.0</td>\n",
       "      <td>0.0</td>\n",
       "      <td>0.0</td>\n",
       "      <td>0.0</td>\n",
       "      <td>0.0</td>\n",
       "      <td>1.0</td>\n",
       "      <td>0.0</td>\n",
       "      <td>0.0</td>\n",
       "      <td>0.0</td>\n",
       "      <td>0.0</td>\n",
       "      <td>0.0</td>\n",
       "      <td>0.0</td>\n",
       "      <td>0.0</td>\n",
       "      <td>1.0</td>\n",
       "      <td>17.624736</td>\n",
       "    </tr>\n",
       "    <tr>\n",
       "      <th>190924</th>\n",
       "      <td>E05013700</td>\n",
       "      <td>2035.0</td>\n",
       "      <td>0-18</td>\n",
       "      <td>0.0</td>\n",
       "      <td>0.0</td>\n",
       "      <td>1.0</td>\n",
       "      <td>0.0</td>\n",
       "      <td>0.0</td>\n",
       "      <td>0.0</td>\n",
       "      <td>0.0</td>\n",
       "      <td>0.0</td>\n",
       "      <td>0.0</td>\n",
       "      <td>0.0</td>\n",
       "      <td>0.0</td>\n",
       "      <td>0.0</td>\n",
       "      <td>0.0</td>\n",
       "      <td>0.0</td>\n",
       "      <td>1.0</td>\n",
       "      <td>4.784363</td>\n",
       "    </tr>\n",
       "    <tr>\n",
       "      <th>190925</th>\n",
       "      <td>E05013700</td>\n",
       "      <td>2034.0</td>\n",
       "      <td>51-60</td>\n",
       "      <td>0.0</td>\n",
       "      <td>0.0</td>\n",
       "      <td>0.0</td>\n",
       "      <td>0.0</td>\n",
       "      <td>0.0</td>\n",
       "      <td>0.0</td>\n",
       "      <td>0.0</td>\n",
       "      <td>0.0</td>\n",
       "      <td>0.0</td>\n",
       "      <td>0.0</td>\n",
       "      <td>0.0</td>\n",
       "      <td>0.0</td>\n",
       "      <td>1.0</td>\n",
       "      <td>0.0</td>\n",
       "      <td>1.0</td>\n",
       "      <td>7.086719</td>\n",
       "    </tr>\n",
       "    <tr>\n",
       "      <th>190926</th>\n",
       "      <td>E05013684</td>\n",
       "      <td>2026.0</td>\n",
       "      <td>0-18</td>\n",
       "      <td>0.0</td>\n",
       "      <td>0.0</td>\n",
       "      <td>1.0</td>\n",
       "      <td>0.0</td>\n",
       "      <td>0.0</td>\n",
       "      <td>0.0</td>\n",
       "      <td>0.0</td>\n",
       "      <td>0.0</td>\n",
       "      <td>0.0</td>\n",
       "      <td>0.0</td>\n",
       "      <td>0.0</td>\n",
       "      <td>0.0</td>\n",
       "      <td>0.0</td>\n",
       "      <td>0.0</td>\n",
       "      <td>1.0</td>\n",
       "      <td>11.805125</td>\n",
       "    </tr>\n",
       "  </tbody>\n",
       "</table>\n",
       "<p>190927 rows × 19 columns</p>\n",
       "</div>"
      ],
      "text/plain": [
       "       gss_code_ward    year    age  births_pct_change_ward_outlier_df  \\\n",
       "0          E05013988  2014.0    90+                                0.0   \n",
       "1          E05013988  2013.0    90+                                0.0   \n",
       "2          E05011255  2013.0    90+                                0.0   \n",
       "3          E05013631  2013.0    90+                                0.0   \n",
       "4          E05013533  2022.0    90+                                0.0   \n",
       "...              ...     ...    ...                                ...   \n",
       "190922     E05013700  2035.0  41-50                                0.0   \n",
       "190923     E05013700  2035.0  31-40                                0.0   \n",
       "190924     E05013700  2035.0   0-18                                0.0   \n",
       "190925     E05013700  2034.0  51-60                                0.0   \n",
       "190926     E05013684  2026.0   0-18                                0.0   \n",
       "\n",
       "        deaths_pct_change_ward_outlier_df  netflow_pct_change_ward_outlier_df  \\\n",
       "0                                     1.0                                 1.0   \n",
       "1                                     1.0                                 1.0   \n",
       "2                                     1.0                                 1.0   \n",
       "3                                     1.0                                 1.0   \n",
       "4                                     1.0                                 1.0   \n",
       "...                                   ...                                 ...   \n",
       "190922                                1.0                                 0.0   \n",
       "190923                                0.0                                 0.0   \n",
       "190924                                0.0                                 1.0   \n",
       "190925                                0.0                                 0.0   \n",
       "190926                                0.0                                 1.0   \n",
       "\n",
       "        popn_pct_change_ward_outlier_df  \\\n",
       "0                                   1.0   \n",
       "1                                   1.0   \n",
       "2                                   1.0   \n",
       "3                                   1.0   \n",
       "4                                   1.0   \n",
       "...                                 ...   \n",
       "190922                              0.0   \n",
       "190923                              0.0   \n",
       "190924                              0.0   \n",
       "190925                              0.0   \n",
       "190926                              0.0   \n",
       "\n",
       "        births_pct_change_ward_inf_outlier_df  \\\n",
       "0                                         0.0   \n",
       "1                                         0.0   \n",
       "2                                         0.0   \n",
       "3                                         0.0   \n",
       "4                                         0.0   \n",
       "...                                       ...   \n",
       "190922                                    0.0   \n",
       "190923                                    0.0   \n",
       "190924                                    0.0   \n",
       "190925                                    0.0   \n",
       "190926                                    0.0   \n",
       "\n",
       "        deaths_pct_change_ward_inf_outlier_df  \\\n",
       "0                                         1.0   \n",
       "1                                         1.0   \n",
       "2                                         1.0   \n",
       "3                                         1.0   \n",
       "4                                         1.0   \n",
       "...                                       ...   \n",
       "190922                                    0.0   \n",
       "190923                                    0.0   \n",
       "190924                                    0.0   \n",
       "190925                                    0.0   \n",
       "190926                                    0.0   \n",
       "\n",
       "        netflow_pct_change_ward_inf_outlier_df  \\\n",
       "0                                          1.0   \n",
       "1                                          1.0   \n",
       "2                                          1.0   \n",
       "3                                          1.0   \n",
       "4                                          1.0   \n",
       "...                                        ...   \n",
       "190922                                     0.0   \n",
       "190923                                     1.0   \n",
       "190924                                     0.0   \n",
       "190925                                     0.0   \n",
       "190926                                     0.0   \n",
       "\n",
       "        popn_pct_change_ward_inf_outlier_df  \\\n",
       "0                                       1.0   \n",
       "1                                       1.0   \n",
       "2                                       1.0   \n",
       "3                                       1.0   \n",
       "4                                       0.0   \n",
       "...                                     ...   \n",
       "190922                                  0.0   \n",
       "190923                                  0.0   \n",
       "190924                                  0.0   \n",
       "190925                                  0.0   \n",
       "190926                                  0.0   \n",
       "\n",
       "        total_pop_temporal_outliers_ward_df  \\\n",
       "0                                       1.0   \n",
       "1                                       1.0   \n",
       "2                                       1.0   \n",
       "3                                       1.0   \n",
       "4                                       1.0   \n",
       "...                                     ...   \n",
       "190922                                  0.0   \n",
       "190923                                  0.0   \n",
       "190924                                  0.0   \n",
       "190925                                  0.0   \n",
       "190926                                  0.0   \n",
       "\n",
       "        total_pop_cross_sectional_outliers_ward_df  births_gender_outliers_df  \\\n",
       "0                                              1.0                        0.0   \n",
       "1                                              1.0                        0.0   \n",
       "2                                              1.0                        0.0   \n",
       "3                                              1.0                        0.0   \n",
       "4                                              1.0                        0.0   \n",
       "...                                            ...                        ...   \n",
       "190922                                         0.0                        0.0   \n",
       "190923                                         0.0                        0.0   \n",
       "190924                                         0.0                        0.0   \n",
       "190925                                         0.0                        0.0   \n",
       "190926                                         0.0                        0.0   \n",
       "\n",
       "        deaths_gender_outliers_df  netflow_gender_outliers_df  \\\n",
       "0                             1.0                         1.0   \n",
       "1                             1.0                         1.0   \n",
       "2                             1.0                         1.0   \n",
       "3                             1.0                         1.0   \n",
       "4                             1.0                         1.0   \n",
       "...                           ...                         ...   \n",
       "190922                        0.0                         0.0   \n",
       "190923                        0.0                         0.0   \n",
       "190924                        0.0                         0.0   \n",
       "190925                        0.0                         1.0   \n",
       "190926                        0.0                         0.0   \n",
       "\n",
       "        popn_gender_outliers_df  total  total_outlier_score  \n",
       "0                           1.0   11.0           474.171995  \n",
       "1                           1.0   11.0           453.748423  \n",
       "2                           1.0   11.0           267.695860  \n",
       "3                           1.0   11.0           344.876235  \n",
       "4                           1.0   10.0           199.532168  \n",
       "...                         ...    ...                  ...  \n",
       "190922                      0.0    1.0             3.074074  \n",
       "190923                      0.0    1.0            17.624736  \n",
       "190924                      0.0    1.0             4.784363  \n",
       "190925                      0.0    1.0             7.086719  \n",
       "190926                      0.0    1.0            11.805125  \n",
       "\n",
       "[190927 rows x 19 columns]"
      ]
     },
     "execution_count": 79,
     "metadata": {},
     "output_type": "execute_result"
    }
   ],
>>>>>>> d6e679524c1c4c65559ed5b857f2e8f7c637a755
   "source": [
    "df_tally"
   ]
  },
  {
   "cell_type": "code",
<<<<<<< HEAD
   "execution_count": null,
=======
   "execution_count": 80,
>>>>>>> d6e679524c1c4c65559ed5b857f2e8f7c637a755
   "metadata": {},
   "outputs": [],
   "source": [
    "# Concatenate all the DataFrames together\n",
    "combined_df = pd.concat(outlier_dfs_wards)\n",
    "\n",
    "# Group by 'gss_code_ward', 'year', and 'age', and sum the outlier scores\n",
    "grouped_df = combined_df.groupby(['gss_code_ward', 'year', 'age'], as_index=False).agg(\n",
    "    total_outlier_score=('robust_z_score', 'sum')\n",
    ")"
   ]
  },
  {
   "cell_type": "code",
<<<<<<< HEAD
   "execution_count": null,
   "metadata": {},
   "outputs": [],
=======
   "execution_count": 81,
   "metadata": {},
   "outputs": [
    {
     "data": {
      "text/html": [
       "<div>\n",
       "<style scoped>\n",
       "    .dataframe tbody tr th:only-of-type {\n",
       "        vertical-align: middle;\n",
       "    }\n",
       "\n",
       "    .dataframe tbody tr th {\n",
       "        vertical-align: top;\n",
       "    }\n",
       "\n",
       "    .dataframe thead th {\n",
       "        text-align: right;\n",
       "    }\n",
       "</style>\n",
       "<table border=\"1\" class=\"dataframe\">\n",
       "  <thead>\n",
       "    <tr style=\"text-align: right;\">\n",
       "      <th></th>\n",
       "      <th>gss_code_ward</th>\n",
       "      <th>year</th>\n",
       "      <th>age</th>\n",
       "      <th>total_outlier_score</th>\n",
       "    </tr>\n",
       "  </thead>\n",
       "  <tbody>\n",
       "    <tr>\n",
       "      <th>0</th>\n",
       "      <td>E05009317</td>\n",
       "      <td>2011.0</td>\n",
       "      <td>19-30</td>\n",
       "      <td>15.679717</td>\n",
       "    </tr>\n",
       "    <tr>\n",
       "      <th>1</th>\n",
       "      <td>E05009317</td>\n",
       "      <td>2011.0</td>\n",
       "      <td>31-40</td>\n",
       "      <td>7.383452</td>\n",
       "    </tr>\n",
       "    <tr>\n",
       "      <th>2</th>\n",
       "      <td>E05009317</td>\n",
       "      <td>2012.0</td>\n",
       "      <td>0-18</td>\n",
       "      <td>31.320886</td>\n",
       "    </tr>\n",
       "    <tr>\n",
       "      <th>3</th>\n",
       "      <td>E05009317</td>\n",
       "      <td>2012.0</td>\n",
       "      <td>19-30</td>\n",
       "      <td>20.319800</td>\n",
       "    </tr>\n",
       "    <tr>\n",
       "      <th>4</th>\n",
       "      <td>E05009317</td>\n",
       "      <td>2012.0</td>\n",
       "      <td>31-40</td>\n",
       "      <td>-9.184773</td>\n",
       "    </tr>\n",
       "    <tr>\n",
       "      <th>...</th>\n",
       "      <td>...</td>\n",
       "      <td>...</td>\n",
       "      <td>...</td>\n",
       "      <td>...</td>\n",
       "    </tr>\n",
       "    <tr>\n",
       "      <th>190922</th>\n",
       "      <td>E09000001</td>\n",
       "      <td>2050.0</td>\n",
       "      <td>19-30</td>\n",
       "      <td>24.854884</td>\n",
       "    </tr>\n",
       "    <tr>\n",
       "      <th>190923</th>\n",
       "      <td>E09000001</td>\n",
       "      <td>2050.0</td>\n",
       "      <td>31-40</td>\n",
       "      <td>-7.041345</td>\n",
       "    </tr>\n",
       "    <tr>\n",
       "      <th>190924</th>\n",
       "      <td>E09000001</td>\n",
       "      <td>2050.0</td>\n",
       "      <td>41-50</td>\n",
       "      <td>7.924344</td>\n",
       "    </tr>\n",
       "    <tr>\n",
       "      <th>190925</th>\n",
       "      <td>E09000001</td>\n",
       "      <td>2050.0</td>\n",
       "      <td>81-89</td>\n",
       "      <td>20.530123</td>\n",
       "    </tr>\n",
       "    <tr>\n",
       "      <th>190926</th>\n",
       "      <td>E09000001</td>\n",
       "      <td>2050.0</td>\n",
       "      <td>90+</td>\n",
       "      <td>117.008103</td>\n",
       "    </tr>\n",
       "  </tbody>\n",
       "</table>\n",
       "<p>190927 rows × 4 columns</p>\n",
       "</div>"
      ],
      "text/plain": [
       "       gss_code_ward    year    age  total_outlier_score\n",
       "0          E05009317  2011.0  19-30            15.679717\n",
       "1          E05009317  2011.0  31-40             7.383452\n",
       "2          E05009317  2012.0   0-18            31.320886\n",
       "3          E05009317  2012.0  19-30            20.319800\n",
       "4          E05009317  2012.0  31-40            -9.184773\n",
       "...              ...     ...    ...                  ...\n",
       "190922     E09000001  2050.0  19-30            24.854884\n",
       "190923     E09000001  2050.0  31-40            -7.041345\n",
       "190924     E09000001  2050.0  41-50             7.924344\n",
       "190925     E09000001  2050.0  81-89            20.530123\n",
       "190926     E09000001  2050.0    90+           117.008103\n",
       "\n",
       "[190927 rows x 4 columns]"
      ]
     },
     "execution_count": 81,
     "metadata": {},
     "output_type": "execute_result"
    }
   ],
>>>>>>> d6e679524c1c4c65559ed5b857f2e8f7c637a755
   "source": [
    "grouped_df"
   ]
  },
  {
   "cell_type": "code",
<<<<<<< HEAD
   "execution_count": null,
   "metadata": {},
   "outputs": [],
=======
   "execution_count": 82,
   "metadata": {},
   "outputs": [
    {
     "data": {
      "text/html": [
       "<div>\n",
       "<style scoped>\n",
       "    .dataframe tbody tr th:only-of-type {\n",
       "        vertical-align: middle;\n",
       "    }\n",
       "\n",
       "    .dataframe tbody tr th {\n",
       "        vertical-align: top;\n",
       "    }\n",
       "\n",
       "    .dataframe thead th {\n",
       "        text-align: right;\n",
       "    }\n",
       "</style>\n",
       "<table border=\"1\" class=\"dataframe\">\n",
       "  <thead>\n",
       "    <tr style=\"text-align: right;\">\n",
       "      <th></th>\n",
       "      <th>gss_code_ward</th>\n",
       "      <th>year</th>\n",
       "      <th>age</th>\n",
       "      <th>total_outlier_score</th>\n",
       "    </tr>\n",
       "  </thead>\n",
       "  <tbody>\n",
       "    <tr>\n",
       "      <th>134478</th>\n",
       "      <td>E05013826</td>\n",
       "      <td>2014.0</td>\n",
       "      <td>81-89</td>\n",
       "      <td>2.572716e+18</td>\n",
       "    </tr>\n",
       "    <tr>\n",
       "      <th>156660</th>\n",
       "      <td>E05013978</td>\n",
       "      <td>2015.0</td>\n",
       "      <td>81-89</td>\n",
       "      <td>2.216494e+18</td>\n",
       "    </tr>\n",
       "    <tr>\n",
       "      <th>152630</th>\n",
       "      <td>E05013943</td>\n",
       "      <td>2020.0</td>\n",
       "      <td>51-60</td>\n",
       "      <td>1.899852e+18</td>\n",
       "    </tr>\n",
       "    <tr>\n",
       "      <th>171688</th>\n",
       "      <td>E05014053</td>\n",
       "      <td>2016.0</td>\n",
       "      <td>81-89</td>\n",
       "      <td>1.543630e+18</td>\n",
       "    </tr>\n",
       "    <tr>\n",
       "      <th>7164</th>\n",
       "      <td>E05009371</td>\n",
       "      <td>2014.0</td>\n",
       "      <td>81-89</td>\n",
       "      <td>1.464469e+18</td>\n",
       "    </tr>\n",
       "    <tr>\n",
       "      <th>...</th>\n",
       "      <td>...</td>\n",
       "      <td>...</td>\n",
       "      <td>...</td>\n",
       "      <td>...</td>\n",
       "    </tr>\n",
       "    <tr>\n",
       "      <th>116612</th>\n",
       "      <td>E05013759</td>\n",
       "      <td>2012.0</td>\n",
       "      <td>71-80</td>\n",
       "      <td>-1.751040e+17</td>\n",
       "    </tr>\n",
       "    <tr>\n",
       "      <th>152930</th>\n",
       "      <td>E05013944</td>\n",
       "      <td>2026.0</td>\n",
       "      <td>71-80</td>\n",
       "      <td>-1.792732e+17</td>\n",
       "    </tr>\n",
       "    <tr>\n",
       "      <th>159689</th>\n",
       "      <td>E05013989</td>\n",
       "      <td>2015.0</td>\n",
       "      <td>81-89</td>\n",
       "      <td>-1.834423e+17</td>\n",
       "    </tr>\n",
       "    <tr>\n",
       "      <th>134469</th>\n",
       "      <td>E05013826</td>\n",
       "      <td>2013.0</td>\n",
       "      <td>81-89</td>\n",
       "      <td>-2.001189e+17</td>\n",
       "    </tr>\n",
       "    <tr>\n",
       "      <th>41419</th>\n",
       "      <td>E05011487</td>\n",
       "      <td>2015.0</td>\n",
       "      <td>61-70</td>\n",
       "      <td>-2.293029e+17</td>\n",
       "    </tr>\n",
       "  </tbody>\n",
       "</table>\n",
       "<p>190927 rows × 4 columns</p>\n",
       "</div>"
      ],
      "text/plain": [
       "       gss_code_ward    year    age  total_outlier_score\n",
       "134478     E05013826  2014.0  81-89         2.572716e+18\n",
       "156660     E05013978  2015.0  81-89         2.216494e+18\n",
       "152630     E05013943  2020.0  51-60         1.899852e+18\n",
       "171688     E05014053  2016.0  81-89         1.543630e+18\n",
       "7164       E05009371  2014.0  81-89         1.464469e+18\n",
       "...              ...     ...    ...                  ...\n",
       "116612     E05013759  2012.0  71-80        -1.751040e+17\n",
       "152930     E05013944  2026.0  71-80        -1.792732e+17\n",
       "159689     E05013989  2015.0  81-89        -1.834423e+17\n",
       "134469     E05013826  2013.0  81-89        -2.001189e+17\n",
       "41419      E05011487  2015.0  61-70        -2.293029e+17\n",
       "\n",
       "[190927 rows x 4 columns]"
      ]
     },
     "execution_count": 82,
     "metadata": {},
     "output_type": "execute_result"
    }
   ],
>>>>>>> d6e679524c1c4c65559ed5b857f2e8f7c637a755
   "source": [
    "grouped_df\n",
    "grouped_df.sort_values(by='total_outlier_score', ascending=False)"
   ]
  },
  {
   "cell_type": "code",
<<<<<<< HEAD
   "execution_count": null,
=======
   "execution_count": 83,
>>>>>>> d6e679524c1c4c65559ed5b857f2e8f7c637a755
   "metadata": {},
   "outputs": [],
   "source": [
    "# potential alterations:\n",
    "# using single year of age vs binned ages \n",
    "# add weighting to final tally\n",
    "# remove certain age groups like 90+ from outlier detection\n",
    "# household data\n",
    "# hmtl report generation\n"
   ]
  },
  {
   "cell_type": "markdown",
   "metadata": {},
   "source": [
    "## Average Household Size Outliers\n",
    "This section will use the function to produce a dataframe with outliers regrading the average household size.\n",
    "It also contains some contextual results so comparison can be more easily made, such as the year before and after, so that teh change can be seen. As well as the average household size for that word as well as that year across all wards."
   ]
  },
  {
   "cell_type": "code",
<<<<<<< HEAD
   "execution_count": null,
=======
   "execution_count": 84,
>>>>>>> d6e679524c1c4c65559ed5b857f2e8f7c637a755
   "metadata": {},
   "outputs": [],
   "source": [
    "#read in rds file\n",
    "average_household_size = pyreadr.read_r(r\"C:\\Users\\user\\Documents\\population_data\\2022_Identified_Capacity_15yr_high_fert\\2022_Identified_Capacity_15yr_high_fert\\ahs.rds\")\n",
    "average_household_size = average_household_size[None]"
   ]
  },
  {
   "cell_type": "code",
<<<<<<< HEAD
   "execution_count": null,
=======
   "execution_count": 85,
>>>>>>> d6e679524c1c4c65559ed5b857f2e8f7c637a755
   "metadata": {},
   "outputs": [],
   "source": [
    "#remove nan columns\n",
    "average_household_size = average_household_size.dropna(axis=1, how='all')"
   ]
  },
  {
   "cell_type": "code",
<<<<<<< HEAD
   "execution_count": null,
   "metadata": {},
   "outputs": [],
=======
   "execution_count": 86,
   "metadata": {},
   "outputs": [
    {
     "data": {
      "text/html": [
       "<div>\n",
       "<style scoped>\n",
       "    .dataframe tbody tr th:only-of-type {\n",
       "        vertical-align: middle;\n",
       "    }\n",
       "\n",
       "    .dataframe tbody tr th {\n",
       "        vertical-align: top;\n",
       "    }\n",
       "\n",
       "    .dataframe thead th {\n",
       "        text-align: right;\n",
       "    }\n",
       "</style>\n",
       "<table border=\"1\" class=\"dataframe\">\n",
       "  <thead>\n",
       "    <tr style=\"text-align: right;\">\n",
       "      <th></th>\n",
       "      <th>gss_code_ward</th>\n",
       "      <th>2021</th>\n",
       "      <th>2022</th>\n",
       "      <th>2023</th>\n",
       "      <th>2024</th>\n",
       "      <th>2025</th>\n",
       "      <th>2026</th>\n",
       "      <th>2027</th>\n",
       "      <th>2028</th>\n",
       "      <th>2029</th>\n",
       "      <th>...</th>\n",
       "      <th>2041</th>\n",
       "      <th>2042</th>\n",
       "      <th>2043</th>\n",
       "      <th>2044</th>\n",
       "      <th>2045</th>\n",
       "      <th>2046</th>\n",
       "      <th>2047</th>\n",
       "      <th>2048</th>\n",
       "      <th>2049</th>\n",
       "      <th>2050</th>\n",
       "    </tr>\n",
       "  </thead>\n",
       "  <tbody>\n",
       "    <tr>\n",
       "      <th>0</th>\n",
       "      <td>E09000001</td>\n",
       "      <td>1.729055</td>\n",
       "      <td>2.141426</td>\n",
       "      <td>2.087426</td>\n",
       "      <td>2.040820</td>\n",
       "      <td>2.014128</td>\n",
       "      <td>1.994125</td>\n",
       "      <td>1.979868</td>\n",
       "      <td>1.968333</td>\n",
       "      <td>1.958878</td>\n",
       "      <td>...</td>\n",
       "      <td>1.910785</td>\n",
       "      <td>1.920089</td>\n",
       "      <td>1.927280</td>\n",
       "      <td>1.933181</td>\n",
       "      <td>1.938368</td>\n",
       "      <td>1.942776</td>\n",
       "      <td>1.946773</td>\n",
       "      <td>1.950291</td>\n",
       "      <td>1.953340</td>\n",
       "      <td>1.956169</td>\n",
       "    </tr>\n",
       "    <tr>\n",
       "      <th>1</th>\n",
       "      <td>E05014053</td>\n",
       "      <td>2.813790</td>\n",
       "      <td>2.548360</td>\n",
       "      <td>2.275661</td>\n",
       "      <td>2.153346</td>\n",
       "      <td>2.133935</td>\n",
       "      <td>2.105798</td>\n",
       "      <td>2.090412</td>\n",
       "      <td>2.078165</td>\n",
       "      <td>2.067971</td>\n",
       "      <td>...</td>\n",
       "      <td>2.135847</td>\n",
       "      <td>2.145677</td>\n",
       "      <td>2.156537</td>\n",
       "      <td>2.168107</td>\n",
       "      <td>2.179532</td>\n",
       "      <td>2.191080</td>\n",
       "      <td>2.202550</td>\n",
       "      <td>2.213891</td>\n",
       "      <td>2.224858</td>\n",
       "      <td>2.235705</td>\n",
       "    </tr>\n",
       "    <tr>\n",
       "      <th>2</th>\n",
       "      <td>E05014054</td>\n",
       "      <td>2.909020</td>\n",
       "      <td>2.883138</td>\n",
       "      <td>2.922277</td>\n",
       "      <td>2.923762</td>\n",
       "      <td>2.903617</td>\n",
       "      <td>2.882361</td>\n",
       "      <td>2.865726</td>\n",
       "      <td>2.849186</td>\n",
       "      <td>2.833638</td>\n",
       "      <td>...</td>\n",
       "      <td>2.799580</td>\n",
       "      <td>2.807506</td>\n",
       "      <td>2.818172</td>\n",
       "      <td>2.830171</td>\n",
       "      <td>2.843024</td>\n",
       "      <td>2.855550</td>\n",
       "      <td>2.867720</td>\n",
       "      <td>2.879492</td>\n",
       "      <td>2.890862</td>\n",
       "      <td>2.901789</td>\n",
       "    </tr>\n",
       "    <tr>\n",
       "      <th>3</th>\n",
       "      <td>E05014055</td>\n",
       "      <td>2.951577</td>\n",
       "      <td>2.634936</td>\n",
       "      <td>2.445635</td>\n",
       "      <td>2.358832</td>\n",
       "      <td>2.298595</td>\n",
       "      <td>2.248707</td>\n",
       "      <td>2.224863</td>\n",
       "      <td>2.213345</td>\n",
       "      <td>2.205129</td>\n",
       "      <td>...</td>\n",
       "      <td>2.170113</td>\n",
       "      <td>2.238887</td>\n",
       "      <td>2.279179</td>\n",
       "      <td>2.306654</td>\n",
       "      <td>2.327505</td>\n",
       "      <td>2.345364</td>\n",
       "      <td>2.360961</td>\n",
       "      <td>2.375091</td>\n",
       "      <td>2.388186</td>\n",
       "      <td>2.400488</td>\n",
       "    </tr>\n",
       "    <tr>\n",
       "      <th>4</th>\n",
       "      <td>E05014056</td>\n",
       "      <td>3.048425</td>\n",
       "      <td>2.873637</td>\n",
       "      <td>2.762628</td>\n",
       "      <td>2.698691</td>\n",
       "      <td>2.621724</td>\n",
       "      <td>2.577278</td>\n",
       "      <td>2.570153</td>\n",
       "      <td>2.579542</td>\n",
       "      <td>2.593865</td>\n",
       "      <td>...</td>\n",
       "      <td>2.627652</td>\n",
       "      <td>2.621036</td>\n",
       "      <td>2.617148</td>\n",
       "      <td>2.614639</td>\n",
       "      <td>2.612952</td>\n",
       "      <td>2.611757</td>\n",
       "      <td>2.610252</td>\n",
       "      <td>2.608712</td>\n",
       "      <td>2.606719</td>\n",
       "      <td>2.604483</td>\n",
       "    </tr>\n",
       "    <tr>\n",
       "      <th>...</th>\n",
       "      <td>...</td>\n",
       "      <td>...</td>\n",
       "      <td>...</td>\n",
       "      <td>...</td>\n",
       "      <td>...</td>\n",
       "      <td>...</td>\n",
       "      <td>...</td>\n",
       "      <td>...</td>\n",
       "      <td>...</td>\n",
       "      <td>...</td>\n",
       "      <td>...</td>\n",
       "      <td>...</td>\n",
       "      <td>...</td>\n",
       "      <td>...</td>\n",
       "      <td>...</td>\n",
       "      <td>...</td>\n",
       "      <td>...</td>\n",
       "      <td>...</td>\n",
       "      <td>...</td>\n",
       "      <td>...</td>\n",
       "      <td>...</td>\n",
       "    </tr>\n",
       "    <tr>\n",
       "      <th>675</th>\n",
       "      <td>E05013805</td>\n",
       "      <td>2.090312</td>\n",
       "      <td>2.182428</td>\n",
       "      <td>2.214119</td>\n",
       "      <td>2.199514</td>\n",
       "      <td>2.189446</td>\n",
       "      <td>2.177585</td>\n",
       "      <td>2.166442</td>\n",
       "      <td>2.155516</td>\n",
       "      <td>2.145647</td>\n",
       "      <td>...</td>\n",
       "      <td>2.083577</td>\n",
       "      <td>2.088475</td>\n",
       "      <td>2.093266</td>\n",
       "      <td>2.097676</td>\n",
       "      <td>2.101798</td>\n",
       "      <td>2.105602</td>\n",
       "      <td>2.109047</td>\n",
       "      <td>2.112118</td>\n",
       "      <td>2.114787</td>\n",
       "      <td>2.117179</td>\n",
       "    </tr>\n",
       "    <tr>\n",
       "      <th>676</th>\n",
       "      <td>E05013806</td>\n",
       "      <td>1.805705</td>\n",
       "      <td>1.890946</td>\n",
       "      <td>1.862247</td>\n",
       "      <td>1.822636</td>\n",
       "      <td>1.809524</td>\n",
       "      <td>1.797709</td>\n",
       "      <td>1.787583</td>\n",
       "      <td>1.779312</td>\n",
       "      <td>1.772270</td>\n",
       "      <td>...</td>\n",
       "      <td>1.716521</td>\n",
       "      <td>1.720707</td>\n",
       "      <td>1.725001</td>\n",
       "      <td>1.728974</td>\n",
       "      <td>1.732693</td>\n",
       "      <td>1.735995</td>\n",
       "      <td>1.739187</td>\n",
       "      <td>1.741991</td>\n",
       "      <td>1.744623</td>\n",
       "      <td>1.747075</td>\n",
       "    </tr>\n",
       "    <tr>\n",
       "      <th>677</th>\n",
       "      <td>E05013807</td>\n",
       "      <td>2.004284</td>\n",
       "      <td>2.053970</td>\n",
       "      <td>2.069157</td>\n",
       "      <td>2.044950</td>\n",
       "      <td>2.034003</td>\n",
       "      <td>2.020535</td>\n",
       "      <td>2.006764</td>\n",
       "      <td>1.992909</td>\n",
       "      <td>1.982163</td>\n",
       "      <td>...</td>\n",
       "      <td>1.908214</td>\n",
       "      <td>1.912048</td>\n",
       "      <td>1.916078</td>\n",
       "      <td>1.919994</td>\n",
       "      <td>1.923638</td>\n",
       "      <td>1.926997</td>\n",
       "      <td>1.930111</td>\n",
       "      <td>1.932949</td>\n",
       "      <td>1.935549</td>\n",
       "      <td>1.937979</td>\n",
       "    </tr>\n",
       "    <tr>\n",
       "      <th>678</th>\n",
       "      <td>E05013808</td>\n",
       "      <td>1.816990</td>\n",
       "      <td>1.941948</td>\n",
       "      <td>1.968739</td>\n",
       "      <td>1.952043</td>\n",
       "      <td>1.940812</td>\n",
       "      <td>1.928824</td>\n",
       "      <td>1.917613</td>\n",
       "      <td>1.907717</td>\n",
       "      <td>1.899374</td>\n",
       "      <td>...</td>\n",
       "      <td>1.845124</td>\n",
       "      <td>1.848929</td>\n",
       "      <td>1.853117</td>\n",
       "      <td>1.857303</td>\n",
       "      <td>1.861331</td>\n",
       "      <td>1.865219</td>\n",
       "      <td>1.868803</td>\n",
       "      <td>1.872123</td>\n",
       "      <td>1.875104</td>\n",
       "      <td>1.877877</td>\n",
       "    </tr>\n",
       "    <tr>\n",
       "      <th>679</th>\n",
       "      <td>E05013809</td>\n",
       "      <td>2.511750</td>\n",
       "      <td>2.462910</td>\n",
       "      <td>2.475662</td>\n",
       "      <td>2.434957</td>\n",
       "      <td>2.412697</td>\n",
       "      <td>2.388079</td>\n",
       "      <td>2.365577</td>\n",
       "      <td>2.343510</td>\n",
       "      <td>2.324101</td>\n",
       "      <td>...</td>\n",
       "      <td>2.193373</td>\n",
       "      <td>2.199205</td>\n",
       "      <td>2.203948</td>\n",
       "      <td>2.207706</td>\n",
       "      <td>2.210991</td>\n",
       "      <td>2.213785</td>\n",
       "      <td>2.216087</td>\n",
       "      <td>2.217799</td>\n",
       "      <td>2.219213</td>\n",
       "      <td>2.220325</td>\n",
       "    </tr>\n",
       "  </tbody>\n",
       "</table>\n",
       "<p>680 rows × 31 columns</p>\n",
       "</div>"
      ],
      "text/plain": [
       "    gss_code_ward      2021      2022      2023      2024      2025      2026  \\\n",
       "0       E09000001  1.729055  2.141426  2.087426  2.040820  2.014128  1.994125   \n",
       "1       E05014053  2.813790  2.548360  2.275661  2.153346  2.133935  2.105798   \n",
       "2       E05014054  2.909020  2.883138  2.922277  2.923762  2.903617  2.882361   \n",
       "3       E05014055  2.951577  2.634936  2.445635  2.358832  2.298595  2.248707   \n",
       "4       E05014056  3.048425  2.873637  2.762628  2.698691  2.621724  2.577278   \n",
       "..            ...       ...       ...       ...       ...       ...       ...   \n",
       "675     E05013805  2.090312  2.182428  2.214119  2.199514  2.189446  2.177585   \n",
       "676     E05013806  1.805705  1.890946  1.862247  1.822636  1.809524  1.797709   \n",
       "677     E05013807  2.004284  2.053970  2.069157  2.044950  2.034003  2.020535   \n",
       "678     E05013808  1.816990  1.941948  1.968739  1.952043  1.940812  1.928824   \n",
       "679     E05013809  2.511750  2.462910  2.475662  2.434957  2.412697  2.388079   \n",
       "\n",
       "         2027      2028      2029  ...      2041      2042      2043  \\\n",
       "0    1.979868  1.968333  1.958878  ...  1.910785  1.920089  1.927280   \n",
       "1    2.090412  2.078165  2.067971  ...  2.135847  2.145677  2.156537   \n",
       "2    2.865726  2.849186  2.833638  ...  2.799580  2.807506  2.818172   \n",
       "3    2.224863  2.213345  2.205129  ...  2.170113  2.238887  2.279179   \n",
       "4    2.570153  2.579542  2.593865  ...  2.627652  2.621036  2.617148   \n",
       "..        ...       ...       ...  ...       ...       ...       ...   \n",
       "675  2.166442  2.155516  2.145647  ...  2.083577  2.088475  2.093266   \n",
       "676  1.787583  1.779312  1.772270  ...  1.716521  1.720707  1.725001   \n",
       "677  2.006764  1.992909  1.982163  ...  1.908214  1.912048  1.916078   \n",
       "678  1.917613  1.907717  1.899374  ...  1.845124  1.848929  1.853117   \n",
       "679  2.365577  2.343510  2.324101  ...  2.193373  2.199205  2.203948   \n",
       "\n",
       "         2044      2045      2046      2047      2048      2049      2050  \n",
       "0    1.933181  1.938368  1.942776  1.946773  1.950291  1.953340  1.956169  \n",
       "1    2.168107  2.179532  2.191080  2.202550  2.213891  2.224858  2.235705  \n",
       "2    2.830171  2.843024  2.855550  2.867720  2.879492  2.890862  2.901789  \n",
       "3    2.306654  2.327505  2.345364  2.360961  2.375091  2.388186  2.400488  \n",
       "4    2.614639  2.612952  2.611757  2.610252  2.608712  2.606719  2.604483  \n",
       "..        ...       ...       ...       ...       ...       ...       ...  \n",
       "675  2.097676  2.101798  2.105602  2.109047  2.112118  2.114787  2.117179  \n",
       "676  1.728974  1.732693  1.735995  1.739187  1.741991  1.744623  1.747075  \n",
       "677  1.919994  1.923638  1.926997  1.930111  1.932949  1.935549  1.937979  \n",
       "678  1.857303  1.861331  1.865219  1.868803  1.872123  1.875104  1.877877  \n",
       "679  2.207706  2.210991  2.213785  2.216087  2.217799  2.219213  2.220325  \n",
       "\n",
       "[680 rows x 31 columns]"
      ]
     },
     "execution_count": 86,
     "metadata": {},
     "output_type": "execute_result"
    }
   ],
>>>>>>> d6e679524c1c4c65559ed5b857f2e8f7c637a755
   "source": [
    "average_household_size"
   ]
  },
  {
   "cell_type": "code",
<<<<<<< HEAD
   "execution_count": null,
=======
   "execution_count": 87,
>>>>>>> d6e679524c1c4c65559ed5b857f2e8f7c637a755
   "metadata": {},
   "outputs": [],
   "source": [
    "# Example usage:\n",
    "anomalous_average_household_size_absolute = find_ahs_outliers_absolute_value(average_household_size, z_threshold=3)\n",
    "\n"
   ]
  },
  {
   "cell_type": "code",
<<<<<<< HEAD
   "execution_count": null,
   "metadata": {},
   "outputs": [],
=======
   "execution_count": 88,
   "metadata": {},
   "outputs": [
    {
     "data": {
      "text/html": [
       "<div>\n",
       "<style scoped>\n",
       "    .dataframe tbody tr th:only-of-type {\n",
       "        vertical-align: middle;\n",
       "    }\n",
       "\n",
       "    .dataframe tbody tr th {\n",
       "        vertical-align: top;\n",
       "    }\n",
       "\n",
       "    .dataframe thead th {\n",
       "        text-align: right;\n",
       "    }\n",
       "</style>\n",
       "<table border=\"1\" class=\"dataframe\">\n",
       "  <thead>\n",
       "    <tr style=\"text-align: right;\">\n",
       "      <th></th>\n",
       "      <th>gss_code_ward</th>\n",
       "      <th>year</th>\n",
       "      <th>z_score</th>\n",
       "      <th>outlier_value</th>\n",
       "      <th>year_before_value</th>\n",
       "      <th>year_after_value</th>\n",
       "      <th>average_for_year</th>\n",
       "      <th>average_for_ward</th>\n",
       "    </tr>\n",
       "  </thead>\n",
       "  <tbody>\n",
       "    <tr>\n",
       "      <th>34</th>\n",
       "      <td>E05013921</td>\n",
       "      <td>2023</td>\n",
       "      <td>4.354520</td>\n",
       "      <td>4.086808</td>\n",
       "      <td>4.036352</td>\n",
       "      <td>4.074413</td>\n",
       "      <td>2.574048</td>\n",
       "      <td>3.821120</td>\n",
       "    </tr>\n",
       "    <tr>\n",
       "      <th>21</th>\n",
       "      <td>E05013921</td>\n",
       "      <td>2022</td>\n",
       "      <td>4.335116</td>\n",
       "      <td>4.036352</td>\n",
       "      <td>3.995211</td>\n",
       "      <td>4.086808</td>\n",
       "      <td>2.552756</td>\n",
       "      <td>3.821120</td>\n",
       "    </tr>\n",
       "    <tr>\n",
       "      <th>47</th>\n",
       "      <td>E05013921</td>\n",
       "      <td>2024</td>\n",
       "      <td>4.311738</td>\n",
       "      <td>4.074413</td>\n",
       "      <td>4.086808</td>\n",
       "      <td>4.045974</td>\n",
       "      <td>2.562898</td>\n",
       "      <td>3.821120</td>\n",
       "    </tr>\n",
       "    <tr>\n",
       "      <th>60</th>\n",
       "      <td>E05013921</td>\n",
       "      <td>2025</td>\n",
       "      <td>4.257276</td>\n",
       "      <td>4.045974</td>\n",
       "      <td>4.074413</td>\n",
       "      <td>4.007388</td>\n",
       "      <td>2.551880</td>\n",
       "      <td>3.821120</td>\n",
       "    </tr>\n",
       "    <tr>\n",
       "      <th>73</th>\n",
       "      <td>E05013921</td>\n",
       "      <td>2026</td>\n",
       "      <td>4.195264</td>\n",
       "      <td>4.007388</td>\n",
       "      <td>4.045974</td>\n",
       "      <td>3.971685</td>\n",
       "      <td>2.535572</td>\n",
       "      <td>3.821120</td>\n",
       "    </tr>\n",
       "    <tr>\n",
       "      <th>...</th>\n",
       "      <td>...</td>\n",
       "      <td>...</td>\n",
       "      <td>...</td>\n",
       "      <td>...</td>\n",
       "      <td>...</td>\n",
       "      <td>...</td>\n",
       "      <td>...</td>\n",
       "      <td>...</td>\n",
       "    </tr>\n",
       "    <tr>\n",
       "      <th>172</th>\n",
       "      <td>E05013538</td>\n",
       "      <td>2034</td>\n",
       "      <td>3.001468</td>\n",
       "      <td>3.497292</td>\n",
       "      <td>3.509477</td>\n",
       "      <td>3.489739</td>\n",
       "      <td>2.454628</td>\n",
       "      <td>3.508954</td>\n",
       "    </tr>\n",
       "    <tr>\n",
       "      <th>77</th>\n",
       "      <td>E05014015</td>\n",
       "      <td>2026</td>\n",
       "      <td>-3.018934</td>\n",
       "      <td>1.476446</td>\n",
       "      <td>1.519301</td>\n",
       "      <td>1.454275</td>\n",
       "      <td>2.535572</td>\n",
       "      <td>1.488101</td>\n",
       "    </tr>\n",
       "    <tr>\n",
       "      <th>116</th>\n",
       "      <td>E05014015</td>\n",
       "      <td>2029</td>\n",
       "      <td>-3.037740</td>\n",
       "      <td>1.432531</td>\n",
       "      <td>1.441933</td>\n",
       "      <td>1.453046</td>\n",
       "      <td>2.487824</td>\n",
       "      <td>1.488101</td>\n",
       "    </tr>\n",
       "    <tr>\n",
       "      <th>90</th>\n",
       "      <td>E05014015</td>\n",
       "      <td>2027</td>\n",
       "      <td>-3.042164</td>\n",
       "      <td>1.454275</td>\n",
       "      <td>1.476446</td>\n",
       "      <td>1.441933</td>\n",
       "      <td>2.519411</td>\n",
       "      <td>1.488101</td>\n",
       "    </tr>\n",
       "    <tr>\n",
       "      <th>103</th>\n",
       "      <td>E05014015</td>\n",
       "      <td>2028</td>\n",
       "      <td>-3.042355</td>\n",
       "      <td>1.441933</td>\n",
       "      <td>1.454275</td>\n",
       "      <td>1.432531</td>\n",
       "      <td>2.503444</td>\n",
       "      <td>1.488101</td>\n",
       "    </tr>\n",
       "  </tbody>\n",
       "</table>\n",
       "<p>190 rows × 8 columns</p>\n",
       "</div>"
      ],
      "text/plain": [
       "    gss_code_ward  year   z_score  outlier_value  year_before_value  \\\n",
       "34      E05013921  2023  4.354520       4.086808           4.036352   \n",
       "21      E05013921  2022  4.335116       4.036352           3.995211   \n",
       "47      E05013921  2024  4.311738       4.074413           4.086808   \n",
       "60      E05013921  2025  4.257276       4.045974           4.074413   \n",
       "73      E05013921  2026  4.195264       4.007388           4.045974   \n",
       "..            ...   ...       ...            ...                ...   \n",
       "172     E05013538  2034  3.001468       3.497292           3.509477   \n",
       "77      E05014015  2026 -3.018934       1.476446           1.519301   \n",
       "116     E05014015  2029 -3.037740       1.432531           1.441933   \n",
       "90      E05014015  2027 -3.042164       1.454275           1.476446   \n",
       "103     E05014015  2028 -3.042355       1.441933           1.454275   \n",
       "\n",
       "     year_after_value  average_for_year  average_for_ward  \n",
       "34           4.074413          2.574048          3.821120  \n",
       "21           4.086808          2.552756          3.821120  \n",
       "47           4.045974          2.562898          3.821120  \n",
       "60           4.007388          2.551880          3.821120  \n",
       "73           3.971685          2.535572          3.821120  \n",
       "..                ...               ...               ...  \n",
       "172          3.489739          2.454628          3.508954  \n",
       "77           1.454275          2.535572          1.488101  \n",
       "116          1.453046          2.487824          1.488101  \n",
       "90           1.441933          2.519411          1.488101  \n",
       "103          1.432531          2.503444          1.488101  \n",
       "\n",
       "[190 rows x 8 columns]"
      ]
     },
     "execution_count": 88,
     "metadata": {},
     "output_type": "execute_result"
    }
   ],
>>>>>>> d6e679524c1c4c65559ed5b857f2e8f7c637a755
   "source": [
    "anomalous_average_household_size_absolute"
   ]
  },
  {
   "cell_type": "code",
<<<<<<< HEAD
   "execution_count": null,
   "metadata": {},
   "outputs": [],
=======
   "execution_count": 89,
   "metadata": {},
   "outputs": [
    {
     "name": "stdout",
     "output_type": "stream",
     "text": [
      "outlier wards: ['E05013921' 'E05013913' 'E05013914' 'E05013537' 'E05011248' 'E05013514'\n",
      " 'E05013926' 'E05011240' 'E05013539' 'E05013538' 'E05014064' 'E05013909'\n",
      " 'E05014015']\n"
     ]
    }
   ],
>>>>>>> d6e679524c1c4c65559ed5b857f2e8f7c637a755
   "source": [
    "#unique values in gss_code_ward for outlier_sorted_context\n",
    "print(\"outlier wards:\", anomalous_average_household_size_absolute['gss_code_ward'].unique())"
   ]
  },
  {
   "cell_type": "code",
<<<<<<< HEAD
   "execution_count": null,
=======
   "execution_count": 90,
>>>>>>> d6e679524c1c4c65559ed5b857f2e8f7c637a755
   "metadata": {},
   "outputs": [],
   "source": [
    "anomalous_average_household_size_pct_change = find_ahs_outliers_pct_change(average_household_size, pct_change_threshold=0.10\n",
    "                                                               )"
   ]
  },
  {
   "cell_type": "code",
<<<<<<< HEAD
   "execution_count": null,
   "metadata": {},
   "outputs": [],
=======
   "execution_count": 91,
   "metadata": {},
   "outputs": [
    {
     "data": {
      "text/html": [
       "<div>\n",
       "<style scoped>\n",
       "    .dataframe tbody tr th:only-of-type {\n",
       "        vertical-align: middle;\n",
       "    }\n",
       "\n",
       "    .dataframe tbody tr th {\n",
       "        vertical-align: top;\n",
       "    }\n",
       "\n",
       "    .dataframe thead th {\n",
       "        text-align: right;\n",
       "    }\n",
       "</style>\n",
       "<table border=\"1\" class=\"dataframe\">\n",
       "  <thead>\n",
       "    <tr style=\"text-align: right;\">\n",
       "      <th></th>\n",
       "      <th>gss_code_ward</th>\n",
       "      <th>year</th>\n",
       "      <th>pct_change</th>\n",
       "      <th>outlier_value</th>\n",
       "      <th>year_before_value</th>\n",
       "      <th>year_after_value</th>\n",
       "      <th>average_for_year</th>\n",
       "      <th>average_for_ward</th>\n",
       "    </tr>\n",
       "  </thead>\n",
       "  <tbody>\n",
       "    <tr>\n",
       "      <th>11</th>\n",
       "      <td>E05013516</td>\n",
       "      <td>2022</td>\n",
       "      <td>0.335970</td>\n",
       "      <td>2.959530</td>\n",
       "      <td>2.215267</td>\n",
       "      <td>2.972539</td>\n",
       "      <td>2.552756</td>\n",
       "      <td>2.978746</td>\n",
       "    </tr>\n",
       "    <tr>\n",
       "      <th>8</th>\n",
       "      <td>E09000001</td>\n",
       "      <td>2022</td>\n",
       "      <td>0.238495</td>\n",
       "      <td>2.141426</td>\n",
       "      <td>1.729055</td>\n",
       "      <td>2.087426</td>\n",
       "      <td>2.552756</td>\n",
       "      <td>1.949733</td>\n",
       "    </tr>\n",
       "    <tr>\n",
       "      <th>12</th>\n",
       "      <td>E05013653</td>\n",
       "      <td>2022</td>\n",
       "      <td>0.232125</td>\n",
       "      <td>2.261578</td>\n",
       "      <td>1.835510</td>\n",
       "      <td>2.280820</td>\n",
       "      <td>2.552756</td>\n",
       "      <td>2.107772</td>\n",
       "    </tr>\n",
       "    <tr>\n",
       "      <th>15</th>\n",
       "      <td>E05013796</td>\n",
       "      <td>2022</td>\n",
       "      <td>0.128527</td>\n",
       "      <td>2.381155</td>\n",
       "      <td>2.109967</td>\n",
       "      <td>2.354674</td>\n",
       "      <td>2.552756</td>\n",
       "      <td>2.190323</td>\n",
       "    </tr>\n",
       "    <tr>\n",
       "      <th>13</th>\n",
       "      <td>E05013570</td>\n",
       "      <td>2022</td>\n",
       "      <td>0.114253</td>\n",
       "      <td>3.213425</td>\n",
       "      <td>2.883927</td>\n",
       "      <td>3.267856</td>\n",
       "      <td>2.552756</td>\n",
       "      <td>3.219093</td>\n",
       "    </tr>\n",
       "    <tr>\n",
       "      <th>14</th>\n",
       "      <td>E05009336</td>\n",
       "      <td>2022</td>\n",
       "      <td>0.102414</td>\n",
       "      <td>2.673119</td>\n",
       "      <td>2.424788</td>\n",
       "      <td>2.648123</td>\n",
       "      <td>2.552756</td>\n",
       "      <td>2.491788</td>\n",
       "    </tr>\n",
       "    <tr>\n",
       "      <th>17</th>\n",
       "      <td>E05014053</td>\n",
       "      <td>2023</td>\n",
       "      <td>-0.107010</td>\n",
       "      <td>2.275661</td>\n",
       "      <td>2.548360</td>\n",
       "      <td>2.153346</td>\n",
       "      <td>2.574048</td>\n",
       "      <td>2.171645</td>\n",
       "    </tr>\n",
       "    <tr>\n",
       "      <th>10</th>\n",
       "      <td>E05014055</td>\n",
       "      <td>2022</td>\n",
       "      <td>-0.107278</td>\n",
       "      <td>2.634936</td>\n",
       "      <td>2.951577</td>\n",
       "      <td>2.445635</td>\n",
       "      <td>2.552756</td>\n",
       "      <td>2.265520</td>\n",
       "    </tr>\n",
       "  </tbody>\n",
       "</table>\n",
       "</div>"
      ],
      "text/plain": [
       "   gss_code_ward  year  pct_change  outlier_value  year_before_value  \\\n",
       "11     E05013516  2022    0.335970       2.959530           2.215267   \n",
       "8      E09000001  2022    0.238495       2.141426           1.729055   \n",
       "12     E05013653  2022    0.232125       2.261578           1.835510   \n",
       "15     E05013796  2022    0.128527       2.381155           2.109967   \n",
       "13     E05013570  2022    0.114253       3.213425           2.883927   \n",
       "14     E05009336  2022    0.102414       2.673119           2.424788   \n",
       "17     E05014053  2023   -0.107010       2.275661           2.548360   \n",
       "10     E05014055  2022   -0.107278       2.634936           2.951577   \n",
       "\n",
       "    year_after_value  average_for_year  average_for_ward  \n",
       "11          2.972539          2.552756          2.978746  \n",
       "8           2.087426          2.552756          1.949733  \n",
       "12          2.280820          2.552756          2.107772  \n",
       "15          2.354674          2.552756          2.190323  \n",
       "13          3.267856          2.552756          3.219093  \n",
       "14          2.648123          2.552756          2.491788  \n",
       "17          2.153346          2.574048          2.171645  \n",
       "10          2.445635          2.552756          2.265520  "
      ]
     },
     "execution_count": 91,
     "metadata": {},
     "output_type": "execute_result"
    }
   ],
>>>>>>> d6e679524c1c4c65559ed5b857f2e8f7c637a755
   "source": [
    "anomalous_average_household_size_pct_change "
   ]
  },
  {
   "cell_type": "markdown",
   "metadata": {},
   "source": [
    "## Produce HMTL report"
   ]
  },
  {
   "cell_type": "markdown",
   "metadata": {},
   "source": [
    "##### Table formatting got html"
   ]
  },
  {
   "cell_type": "code",
<<<<<<< HEAD
   "execution_count": null,
=======
   "execution_count": 92,
>>>>>>> d6e679524c1c4c65559ed5b857f2e8f7c637a755
   "metadata": {},
   "outputs": [],
   "source": [
    "# Define the DataFrames, shorten  \n",
    "tally_df_20 = df_tally.head(20)  # DataFrame containing outliers\n",
    "anomalous_average_household_size_absolute_df = anomalous_average_household_size_absolute.head(20)  # DataFrame with summary statistics\n",
    "anomalous_average_household_size_pct_change_df = anomalous_average_household_size_pct_change  # DataFrame with outliers    "
   ]
  },
  {
   "cell_type": "code",
<<<<<<< HEAD
   "execution_count": null,
=======
   "execution_count": 93,
>>>>>>> d6e679524c1c4c65559ed5b857f2e8f7c637a755
   "metadata": {},
   "outputs": [],
   "source": [
    "name_lookup = combined_10yr_fert[['gss_code', 'la_name', 'gss_code_ward', 'ward_name']]\n",
    "#remove where all values in the row are the same\n",
    "name_lookup = name_lookup.drop_duplicates()\n",
    "#remove nan values\n",
    "name_lookup = name_lookup.dropna()"
   ]
  },
  {
   "cell_type": "code",
<<<<<<< HEAD
   "execution_count": null,
=======
   "execution_count": 94,
>>>>>>> d6e679524c1c4c65559ed5b857f2e8f7c637a755
   "metadata": {},
   "outputs": [],
   "source": [
    "# Identify duplicated ward names and create a unique name by appending the local authority name\n",
    "name_lookup['ward_name_unique'] = name_lookup.apply(\n",
    "    lambda row: f\"{row['ward_name']} ({row['la_name']})\" if row['ward_name'] in name_lookup[name_lookup['ward_name'].duplicated()]['ward_name'].values else row['ward_name'],\n",
    "    axis=1\n",
    ")\n"
   ]
  },
  {
   "cell_type": "code",
<<<<<<< HEAD
   "execution_count": null,
   "metadata": {},
   "outputs": [],
=======
   "execution_count": 95,
   "metadata": {},
   "outputs": [
    {
     "data": {
      "text/html": [
       "<div>\n",
       "<style scoped>\n",
       "    .dataframe tbody tr th:only-of-type {\n",
       "        vertical-align: middle;\n",
       "    }\n",
       "\n",
       "    .dataframe tbody tr th {\n",
       "        vertical-align: top;\n",
       "    }\n",
       "\n",
       "    .dataframe thead th {\n",
       "        text-align: right;\n",
       "    }\n",
       "</style>\n",
       "<table border=\"1\" class=\"dataframe\">\n",
       "  <thead>\n",
       "    <tr style=\"text-align: right;\">\n",
       "      <th></th>\n",
       "      <th>gss_code</th>\n",
       "      <th>la_name</th>\n",
       "      <th>gss_code_ward</th>\n",
       "      <th>ward_name</th>\n",
       "      <th>ward_name_unique</th>\n",
       "    </tr>\n",
       "  </thead>\n",
       "  <tbody>\n",
       "    <tr>\n",
       "      <th>477048</th>\n",
       "      <td>E09000001</td>\n",
       "      <td>City of London</td>\n",
       "      <td>E09000001</td>\n",
       "      <td>City of London</td>\n",
       "      <td>City of London</td>\n",
       "    </tr>\n",
       "    <tr>\n",
       "      <th>477126</th>\n",
       "      <td>E09000002</td>\n",
       "      <td>Barking and Dagenham</td>\n",
       "      <td>E05014053</td>\n",
       "      <td>Abbey</td>\n",
       "      <td>Abbey (Barking and Dagenham)</td>\n",
       "    </tr>\n",
       "    <tr>\n",
       "      <th>477204</th>\n",
       "      <td>E09000002</td>\n",
       "      <td>Barking and Dagenham</td>\n",
       "      <td>E05014054</td>\n",
       "      <td>Alibon</td>\n",
       "      <td>Alibon</td>\n",
       "    </tr>\n",
       "    <tr>\n",
       "      <th>477282</th>\n",
       "      <td>E09000002</td>\n",
       "      <td>Barking and Dagenham</td>\n",
       "      <td>E05014055</td>\n",
       "      <td>Barking Riverside</td>\n",
       "      <td>Barking Riverside</td>\n",
       "    </tr>\n",
       "    <tr>\n",
       "      <th>477360</th>\n",
       "      <td>E09000002</td>\n",
       "      <td>Barking and Dagenham</td>\n",
       "      <td>E05014056</td>\n",
       "      <td>Beam</td>\n",
       "      <td>Beam</td>\n",
       "    </tr>\n",
       "    <tr>\n",
       "      <th>...</th>\n",
       "      <td>...</td>\n",
       "      <td>...</td>\n",
       "      <td>...</td>\n",
       "      <td>...</td>\n",
       "      <td>...</td>\n",
       "    </tr>\n",
       "    <tr>\n",
       "      <th>529698</th>\n",
       "      <td>E09000033</td>\n",
       "      <td>Westminster</td>\n",
       "      <td>E05013805</td>\n",
       "      <td>Regent's Park</td>\n",
       "      <td>Regent's Park (Westminster)</td>\n",
       "    </tr>\n",
       "    <tr>\n",
       "      <th>529776</th>\n",
       "      <td>E09000033</td>\n",
       "      <td>Westminster</td>\n",
       "      <td>E05013806</td>\n",
       "      <td>St James's</td>\n",
       "      <td>St James's</td>\n",
       "    </tr>\n",
       "    <tr>\n",
       "      <th>529854</th>\n",
       "      <td>E09000033</td>\n",
       "      <td>Westminster</td>\n",
       "      <td>E05013807</td>\n",
       "      <td>Vincent Square</td>\n",
       "      <td>Vincent Square</td>\n",
       "    </tr>\n",
       "    <tr>\n",
       "      <th>529932</th>\n",
       "      <td>E09000033</td>\n",
       "      <td>Westminster</td>\n",
       "      <td>E05013808</td>\n",
       "      <td>West End</td>\n",
       "      <td>West End</td>\n",
       "    </tr>\n",
       "    <tr>\n",
       "      <th>530010</th>\n",
       "      <td>E09000033</td>\n",
       "      <td>Westminster</td>\n",
       "      <td>E05013809</td>\n",
       "      <td>Westbourne</td>\n",
       "      <td>Westbourne</td>\n",
       "    </tr>\n",
       "  </tbody>\n",
       "</table>\n",
       "<p>680 rows × 5 columns</p>\n",
       "</div>"
      ],
      "text/plain": [
       "         gss_code               la_name gss_code_ward          ward_name  \\\n",
       "477048  E09000001        City of London     E09000001     City of London   \n",
       "477126  E09000002  Barking and Dagenham     E05014053              Abbey   \n",
       "477204  E09000002  Barking and Dagenham     E05014054             Alibon   \n",
       "477282  E09000002  Barking and Dagenham     E05014055  Barking Riverside   \n",
       "477360  E09000002  Barking and Dagenham     E05014056               Beam   \n",
       "...           ...                   ...           ...                ...   \n",
       "529698  E09000033           Westminster     E05013805      Regent's Park   \n",
       "529776  E09000033           Westminster     E05013806         St James's   \n",
       "529854  E09000033           Westminster     E05013807     Vincent Square   \n",
       "529932  E09000033           Westminster     E05013808           West End   \n",
       "530010  E09000033           Westminster     E05013809         Westbourne   \n",
       "\n",
       "                    ward_name_unique  \n",
       "477048                City of London  \n",
       "477126  Abbey (Barking and Dagenham)  \n",
       "477204                        Alibon  \n",
       "477282             Barking Riverside  \n",
       "477360                          Beam  \n",
       "...                              ...  \n",
       "529698   Regent's Park (Westminster)  \n",
       "529776                    St James's  \n",
       "529854                Vincent Square  \n",
       "529932                      West End  \n",
       "530010                    Westbourne  \n",
       "\n",
       "[680 rows x 5 columns]"
      ]
     },
     "execution_count": 95,
     "metadata": {},
     "output_type": "execute_result"
    }
   ],
>>>>>>> d6e679524c1c4c65559ed5b857f2e8f7c637a755
   "source": [
    "#duplicate ward_name\n",
    "name_lookup"
   ]
  },
  {
   "cell_type": "code",
<<<<<<< HEAD
   "execution_count": null,
=======
   "execution_count": 96,
>>>>>>> d6e679524c1c4c65559ed5b857f2e8f7c637a755
   "metadata": {},
   "outputs": [],
   "source": [
    "#merge dataframes with name_lookup\n",
    "tally_df_20 = pd.merge(tally_df_20, name_lookup, left_on='gss_code_ward', right_on='gss_code_ward', how='left') \n",
    "anomalous_average_household_size_absolute_df = pd.merge(anomalous_average_household_size_absolute_df, name_lookup, left_on='gss_code_ward', right_on='gss_code_ward', how='left')   \n",
    "anomalous_average_household_size_pct_change_df = pd.merge(anomalous_average_household_size_pct_change_df, name_lookup, left_on='gss_code_ward', right_on='gss_code_ward', how='left')   "
   ]
  },
  {
   "cell_type": "code",
<<<<<<< HEAD
   "execution_count": null,
=======
   "execution_count": 97,
>>>>>>> d6e679524c1c4c65559ed5b857f2e8f7c637a755
   "metadata": {},
   "outputs": [],
   "source": [
    "#rename column heading\n",
    "#tally_df = tally_df.rename(columns={'gss_code': 'Borough Code', 'ward_name': 'Ward Name', 'gss_code_ward': 'Ward Code', 'ward_name_unique': 'Unique Ward Name', 'la_name': 'Borough Name', 'year': 'Year', 'age': 'Age', 'births_pct_change_ward_outlier_df': 'Births % Change Outlier', 'deaths_pct_change_ward_outlier_df': 'Deaths % Change Outlier', 'netflow_pct_change_ward_outlier_df': 'Netflow % Change Outlier', 'popn_pct_change_ward_outlier_df': 'Population % Change Outlier', 'births_pct_change_ward_inf_outlier_df': 'Births % Change Outlier (Inf Values)', 'deaths_pct_change_ward_inf_outlier_df': 'Deaths % Change Outlier (Inf Values)', 'netflow_pct_change_ward_inf_outlier_df': 'Netflow % Change Outlier (Inf Values)', 'popn_pct_change_ward_inf_outlier_df': 'Population % Change Outlier (Inf Values)', 'total_pop_temporal_outliers_ward_df': 'Total Population Temporal Outlier', 'total_pop_cross_sectional_outliers_ward_df': 'Total Population Cross-Sectional Outlier'})\n",
    "#drop column ward_name\n",
    "tally_df_20= tally_df_20.drop(columns=['ward_name'])\n",
    "anomalous_average_household_size_absolute_df = anomalous_average_household_size_absolute_df.drop(columns=['ward_name'])\n",
    "anomalous_average_household_size_pct_change_df = anomalous_average_household_size_pct_change_df.drop(columns=['ward_name'])\n",
    "#rename ward to unique \n",
    "tally_df_20 = tally_df_20.rename(columns={'gss_code': 'Borough Code', 'gss_code_ward': 'Ward Code', 'ward_name_unique': 'Ward Name', 'la_name': 'Borough Name', 'year': 'Year', 'age': 'Age', 'total': 'Total Occurrence', 'total_outlier_score': 'Total Outlier Score'})\n",
    "anomalous_average_household_size_absolute_df = anomalous_average_household_size_absolute_df.rename(columns={'gss_code': 'Borough Code', 'gss_code_ward': 'Ward Code', 'ward_name_unique': 'Unique Ward Name', 'la_name': 'Borough Name', 'year': 'Year', 'z_score': 'Z-Score', 'outlier_value': 'Outlier Value', 'year_before_value': 'Year Before Value', 'year_after_value': 'Year After Value', 'average_for_year': 'Average for Year', 'average_for_ward': 'Average for Ward'})\n",
    "anomalous_average_household_size_pct_change_df = anomalous_average_household_size_pct_change_df.rename(columns={'gss_code': 'Borough Code', 'gss_code_ward': 'Ward Code', 'ward_name_unique': 'Unique Ward Name', 'la_name': 'Borough Name', 'year': 'Year', 'outlier_value': 'Outlier Value', 'year_before_value': 'Year Before Value', 'year_after_value': 'Year After Value', 'average_for_year': 'Average for Year', 'average_for_ward': 'Average for Ward'})"
   ]
  },
  {
   "cell_type": "code",
<<<<<<< HEAD
   "execution_count": null,
   "metadata": {},
   "outputs": [],
=======
   "execution_count": 98,
   "metadata": {},
   "outputs": [
    {
     "data": {
      "text/plain": [
       "['Ward Code',\n",
       " 'Year',\n",
       " 'Z-Score',\n",
       " 'Outlier Value',\n",
       " 'Year Before Value',\n",
       " 'Year After Value',\n",
       " 'Average for Year',\n",
       " 'Average for Ward',\n",
       " 'Borough Code',\n",
       " 'Borough Name',\n",
       " 'Unique Ward Name']"
      ]
     },
     "execution_count": 98,
     "metadata": {},
     "output_type": "execute_result"
    }
   ],
>>>>>>> d6e679524c1c4c65559ed5b857f2e8f7c637a755
   "source": [
    "anomalous_average_household_size_absolute_df.columns.to_list()"
   ]
  },
  {
   "cell_type": "code",
<<<<<<< HEAD
   "execution_count": null,
=======
   "execution_count": 99,
>>>>>>> d6e679524c1c4c65559ed5b857f2e8f7c637a755
   "metadata": {},
   "outputs": [],
   "source": [
    "#order columns\n",
    "tally_df_20 = tally_df_20[['Borough Name','Borough Code','Ward Name','Ward Code',\n",
    " 'Year',\n",
    " 'Age',\n",
    " 'births_pct_change_ward_outlier_df',\n",
    " 'deaths_pct_change_ward_outlier_df',\n",
    " 'netflow_pct_change_ward_outlier_df',\n",
    " 'popn_pct_change_ward_outlier_df',\n",
    " 'births_pct_change_ward_inf_outlier_df',\n",
    " 'deaths_pct_change_ward_inf_outlier_df',\n",
    " 'netflow_pct_change_ward_inf_outlier_df',\n",
    " 'popn_pct_change_ward_inf_outlier_df',\n",
    " 'total_pop_temporal_outliers_ward_df',\n",
    " 'total_pop_cross_sectional_outliers_ward_df',\n",
    " 'births_gender_outliers_df',\n",
    " 'deaths_gender_outliers_df',\n",
    " 'netflow_gender_outliers_df',\n",
    " 'popn_gender_outliers_df',\n",
    " 'Total Occurrence',\n",
    " 'Total Outlier Score',]]\n",
    "\n",
    "anomalous_average_household_size_absolute_df = anomalous_average_household_size_absolute_df[['Borough Name','Borough Code', 'Unique Ward Name','Ward Code',\n",
    " 'Year',\n",
    " 'Z-Score',\n",
    " 'Outlier Value',\n",
    " 'Year Before Value',\n",
    " 'Year After Value',\n",
    " 'Average for Year',\n",
    " 'Average for Ward',\n",
    "]]\n",
    "\n",
    "anomalous_average_household_size_pct_change_df = anomalous_average_household_size_pct_change_df[['Borough Name',\n",
    "    'Borough Code',\n",
    "    'Unique Ward Name',\n",
    "    'Ward Code',\n",
    "    'Year',\n",
    "    'pct_change',\n",
    "    'Outlier Value',\n",
    "    'Year Before Value',\n",
    "    'Year After Value',\n",
    "    'Average for Year',\n",
    "    'Average for Ward']]"
   ]
  },
  {
   "cell_type": "markdown",
   "metadata": {},
   "source": [
    "#### HTML layout"
   ]
  },
  {
   "cell_type": "code",
<<<<<<< HEAD
   "execution_count": null,
=======
   "execution_count": 100,
>>>>>>> d6e679524c1c4c65559ed5b857f2e8f7c637a755
   "metadata": {},
   "outputs": [],
   "source": [
    "# Get the directory where the notebook file is located\n",
    "script_dir = os.path.dirname(os.path.abspath('QA_population_projection.ipynb'))\n",
    "# Set the working directory to 'Projections_QA' so the hmtl is saved in the correct location\n",
    "os.chdir(script_dir)"
   ]
  },
  {
   "cell_type": "code",
<<<<<<< HEAD
   "execution_count": null,
   "metadata": {},
   "outputs": [],
=======
   "execution_count": 103,
   "metadata": {},
   "outputs": [
    {
     "name": "stdout",
     "output_type": "stream",
     "text": [
      "HTML report generated successfully!\n"
     ]
    }
   ],
>>>>>>> d6e679524c1c4c65559ed5b857f2e8f7c637a755
   "source": [
    "# Convert DataFrames to HTML\n",
    "tally_df_html = tally_df_20.to_html()\n",
    "average_household_size_absolute_html = anomalous_average_household_size_absolute_df.to_html()\n",
    "anomalous_average_household_size_pct_change_df_html = anomalous_average_household_size_pct_change_df.to_html()  # Added parentheses\n",
    "\n",
    "# HTML template for the report with doubled braces in CSS to prevent KeyError\n",
    "html_content = \"\"\"\n",
    "<html>\n",
    "<head>\n",
    "    <title>Population Projections Report</title>\n",
    "    <link rel=\"icon\" href=\"https://resource.esriuk.com/wp-content/uploads/2017/06/GLA-Logo-Resized.png\" type=\"image/png\">  <!-- Link to the favicon -->\n",
    "    <style>\n",
    "        /* General Styling */\n",
    "        body {{\n",
    "            font-family: Arial, sans-serif;\n",
    "            color: #333;\n",
    "            background-color: #f4f4f9;\n",
    "            margin: 0;\n",
    "            padding: 0;\n",
    "        }}\n",
    "        .container {{\n",
    "            width: 80%;\n",
    "            margin: auto;\n",
    "            background-color: #fff;\n",
    "            padding: 20px;\n",
    "            box-shadow: 0px 0px 15px rgba(0, 0, 0, 0.1);\n",
    "            border-radius: 8px; /* Rounded corners */\n",
    "        }}\n",
    "        \n",
    "        /* Logo Styling */\n",
    "        .logo {{\n",
    "            display: block;\n",
    "            margin: 0 auto;\n",
    "            width: 250px; /* Increased size */\n",
    "        }}\n",
    "        \n",
    "        /* Header Styling */\n",
    "        h1, h2 {{\n",
    "            text-align: center;\n",
    "            color: #2c3e50;\n",
    "        }}\n",
    "        \n",
    "        h1 {{\n",
    "            font-size: 2.8em; /* Increased font size */\n",
    "            border-bottom: 2px solid #2c3e50;\n",
    "            padding-bottom: 10px;\n",
    "            margin-bottom: 20px;\n",
    "        }}\n",
    "        \n",
    "        h2 {{\n",
    "            font-size: 2em; /* Increased font size */\n",
    "            margin-top: 30px;\n",
    "        }}\n",
    "        \n",
    "        /* Table Container Styling */\n",
    "        .table-container {{\n",
    "            max-height: 400px; /* Adjust the height as needed */\n",
    "            overflow-y: auto;  /* Enables vertical scrolling */\n",
    "            overflow-x: auto;  /* Enables horizontal scrolling */\n",
    "            margin: 20px 0;    /* Space above and below the table */\n",
    "            border: 1px solid #ddd; /* Optional border around the table container */\n",
    "            padding: 5px; /* Optional padding inside the container */\n",
    "        }}\n",
    "\n",
    "        table {{\n",
    "            width: 100%;\n",
    "            border-collapse: collapse;\n",
    "            margin: 20px 0;\n",
    "            font-size: 1em;\n",
    "        }}\n",
    "        \n",
    "        table, th, td {{\n",
    "            border: 1px solid #ddd;\n",
    "            padding: 12px; /* Increased padding for better readability */\n",
    "        }}\n",
    "        \n",
    "        th {{\n",
    "            background-color: #2c3e50;\n",
    "            color: #fff;\n",
    "            text-align: left;\n",
    "        }}\n",
    "        \n",
    "        tr:nth-child(even) {{\n",
    "            background-color: #f2f2f2;\n",
    "        }}\n",
    "        \n",
    "        /* Image and Plot Styling */\n",
    "        .image-container {{\n",
    "            text-align: center;\n",
    "            margin-top: 20px;\n",
    "        }}\n",
    "        \n",
    "        .image-container img, .plot-container iframe {{\n",
    "            max-width: 100%;\n",
    "            height: auto;\n",
    "        }}\n",
    "\n",
    "        /* Footer Styling */\n",
    "        .footer {{\n",
    "            text-align: center;\n",
    "            margin-top: 40px;\n",
    "            font-size: 1em; /* Increased font size for better readability */\n",
    "            color: #555;\n",
    "            padding: 10px 0;\n",
    "            border-top: 1px solid #ddd; /* Added border to separate footer */\n",
    "            background-color: #f9f9f9; /* Light background for footer */\n",
    "        }}\n",
    "    </style>\n",
    "</head>\n",
    "<body>\n",
    "    <div class=\"container\">\n",
    "        <!-- Company Logo -->\n",
    "        <img src=\"https://resource.esriuk.com/wp-content/uploads/2017/06/GLA-Logo-Resized.png\" alt=\"Company Logo\" class=\"logo\">\n",
    "\n",
    "        <!-- Report Title -->\n",
    "        <h1>Population Projections Outlier Report</h1>\n",
    "\n",
    "        <!-- Tallied Dataframe -->\n",
    "        <h2>Tallied Outlier Table</h2>\n",
    "        <div class=\"table-container\">\n",
    "            {tallied_table}\n",
    "        </div>\n",
    "\n",
    "        <!-- Average Household Size Absolute Table -->\n",
    "        <h2>Average Household Size Absolute Table</h2>\n",
    "        <div class=\"table-container\">\n",
    "            {average_household_size_absolute}\n",
    "        </div>\n",
    "\n",
    "        <!-- Average Household Size Percentage Change Table -->\n",
    "        <h2>Average Household Size Percentage Change Table</h2>\n",
    "        <div class=\"table-container\">\n",
    "            {anomalous_average_household_size_pct}\n",
    "        </div>\n",
    "\n",
    "        <!-- Population Pyramid Visualisation -->\n",
    "        <h2>Interactive Population Pyramid App</h2>\n",
    "        <div>\n",
    "            <iframe src=\"http://localhost:1223\" width=\"100%\" height=\"800\" frameborder=\"0\"></iframe>\n",
    "        </div>\n",
    "\n",
    "        <!-- Interactive Plot -->\n",
    "        <h2>Population project by component</h2>\n",
    "        <div>\n",
    "            <iframe src=\"interactive_line_plot.html\" width=\"100%\" height=\"600\" frameborder=\"0\"></iframe>\n",
    "        </div>\n",
    "\n",
    "        <!-- Footer Section -->\n",
    "        <div class=\"footer\">\n",
    "            <p>This is an automated report produced by the Greater London Authority (GLA). The script provided is merely a suggestion for areas to investigate further regarding outliers and potential errors in the population projections. It is not guaranteed to capture every error that may exist within the dataset.</p>\n",
    "            <p>If you require further information, please email <a href=\"mailto:Sebastian.Heslin-Rees@london.gov.uk\">Sebastian.Heslin-Rees@london.gov.uk</a>.</p>\n",
    "        </div>\n",
    "    </div>\n",
    "</body>\n",
    "</html>\n",
    "\"\"\"\n",
    "\n",
    "# Format the HTML content with DataFrame HTML strings\n",
    "html_report = html_content.format(\n",
    "    tallied_table=tally_df_html,\n",
    "    average_household_size_absolute=average_household_size_absolute_html,\n",
    "    anomalous_average_household_size_pct=anomalous_average_household_size_pct_change_df_html,\n",
    ")\n",
    "\n",
    "# Save the report to an HTML file\n",
    "with open(\"population_projections_report.html\", \"w\") as f:\n",
    "    f.write(html_report)\n",
    "\n",
    "print(\"HTML report generated successfully!\")\n",
    "\n",
    "\n"
   ]
  },
  {
   "cell_type": "code",
<<<<<<< HEAD
   "execution_count": null,
=======
   "execution_count": 104,
>>>>>>> d6e679524c1c4c65559ed5b857f2e8f7c637a755
   "metadata": {},
   "outputs": [],
   "source": [
    "#describe table for all numeric columns\n",
    "component_columns_describe_value_columns_describe = combined_10yr_fert_agebins_component_columns[['births', 'deaths', 'netflow', 'popn']].describe()\n",
    "#remove inf and nan values from pct change columns\n",
    "combined_10yr_fert_agebins_component_columns_no_nans = combined_10yr_fert_agebins_component_columns.replace([np.inf, -np.inf], np.nan).dropna()\n",
    "#describe percentage change columns\n",
    "pct_change_columns_describe = combined_10yr_fert_agebins_component_columns_no_nans[['births_pct_change', 'deaths_pct_change', 'netflow_pct_change', 'popn_pct_change']].describe()\n",
    "# Concatenate horizontally (side by side)\n",
    "combined_describe = pd.concat([component_columns_describe_value_columns_describe, pct_change_columns_describe], axis=1)"
   ]
  },
  {
   "cell_type": "code",
<<<<<<< HEAD
   "execution_count": null,
=======
   "execution_count": 105,
>>>>>>> d6e679524c1c4c65559ed5b857f2e8f7c637a755
   "metadata": {},
   "outputs": [],
   "source": [
    "combined_describe_html = combined_describe.to_html()"
   ]
  },
  {
   "cell_type": "code",
<<<<<<< HEAD
   "execution_count": null,
=======
   "execution_count": 106,
>>>>>>> d6e679524c1c4c65559ed5b857f2e8f7c637a755
   "metadata": {},
   "outputs": [],
   "source": [
    "missing_values = combined_10yr_fert.isnull().sum().to_frame()\n",
    "missing_values_df = missing_values.rename(columns={0: \"missing_values\"})\n",
    "missing_values_df = missing_values_df.to_html()\n",
    "\n"
   ]
  },
  {
   "cell_type": "code",
<<<<<<< HEAD
   "execution_count": null,
=======
   "execution_count": 107,
>>>>>>> d6e679524c1c4c65559ed5b857f2e8f7c637a755
   "metadata": {},
   "outputs": [],
   "source": [
    "# Perform checks and convert results to HTML-safe strings\n",
    "year_range_fert = get_year_range(combined_10yr_fert)\n",
    "year_range_ward = get_year_range(combined_10yr_fert_ward)\n",
    "year_range_boroughs = get_year_range(combined_10yr_fert_boroughs)\n",
    "\n",
    "missing_values = combined_10yr_fert.isnull().sum().to_frame().to_html()  # Convert to HTML format\n",
    "duplicates = combined_10yr_fert.duplicated().sum()\n",
    "\n",
    "# Checking for negative values and extremely high values\n",
    "negative_values = combined_10yr_fert[combined_10yr_fert['value'] < 0]\n",
    "negative_components = negative_values['component'].unique()\n",
    "negative_component_str = negative_components[0]\n",
    "\n",
    "# Check for the max and min age condition\n",
    "age_check = (combined_10yr_fert['age'].max() == 90) & (combined_10yr_fert['age'].min() == 0)\n",
    "max_age = combined_10yr_fert['age'].max()\n",
    "min_age = combined_10yr_fert['age'].min()"
   ]
  },
  {
   "cell_type": "code",
<<<<<<< HEAD
   "execution_count": null,
   "metadata": {},
   "outputs": [],
=======
   "execution_count": 109,
   "metadata": {},
   "outputs": [
    {
     "name": "stdout",
     "output_type": "stream",
     "text": [
      "HTML report with checks generated successfully!\n"
     ]
    }
   ],
>>>>>>> d6e679524c1c4c65559ed5b857f2e8f7c637a755
   "source": [
    "# Prepare all checks as strings to inject into HTML\n",
    "check_results = f\"\"\"\n",
    "<h2>Basic sense check</h2>\n",
    "<h4>Year ranges</h4>\n",
    "<p>Complete year range: {year_range_fert}</p>\n",
    "<p>Year range for wards: {year_range_ward}</p>\n",
    "<p>Year range for boroughs: {year_range_boroughs}</p>\n",
    "\n",
    "<h4>Missing Values</h4>\n",
    "<p>Missing values per column:</p>\n",
    "{missing_values_df}\n",
    "\n",
    "<h4>Duplicates</h4>\n",
    "<p>Number of duplicate rows: {duplicates}</p>\n",
    "\n",
    "<h4>Negative Values</h4>\n",
    "<p>Components columns that contain negative values: {negative_component_str} </p>\n",
    "\n",
    "\n",
    "<h4>Age Range Check</h4>\n",
    "<p>Max age: {max_age}</p>\n",
    "<p>Min age: {min_age}</p>\n",
    "\n",
    "<h4>Descriptive Statistics</h4>\n",
    "<div class=\"table-container\">\n",
    "    {combined_describe_html}\n",
    "</div>\n",
    "\"\"\"\n",
    "\n",
    "# HTML template for the report with placeholders for the checks\n",
    "html_content = f\"\"\"\n",
    "<html>\n",
    "<head>\n",
    "    <title>Population Projections Report</title>\n",
    "    <link rel=\"icon\" href=\"https://resource.esriuk.com/wp-content/uploads/2017/06/GLA-Logo-Resized.png\" type=\"image/png\">  <!-- Link to the favicon -->\n",
    "    <style>\n",
    "        /* General Styling */\n",
    "        body {{\n",
    "            font-family: Arial, sans-serif;\n",
    "            color: #333;\n",
    "            background-color: #f4f4f9;\n",
    "            margin: 0;\n",
    "            padding: 0;\n",
    "        }}\n",
    "        .container {{\n",
    "            width: 80%;\n",
    "            margin: auto;\n",
    "            background-color: #fff;\n",
    "            padding: 20px;\n",
    "            box-shadow: 0px 0px 15px rgba(0, 0, 0, 0.1);\n",
    "            border-radius: 8px; /* Rounded corners */\n",
    "        }}\n",
    "        \n",
    "        /* Logo Styling */\n",
    "        .logo {{\n",
    "            display: block;\n",
    "            margin: 0 auto;\n",
    "            width: 250px; /* Increased size */\n",
    "        }}\n",
    "        \n",
    "        /* Header Styling */\n",
    "        h1, h2 {{\n",
    "            text-align: center;\n",
    "            color: #2c3e50;\n",
    "        }}\n",
    "        \n",
    "        h1 {{\n",
    "            font-size: 2.8em; /* Increased font size */\n",
    "            border-bottom: 2px solid #2c3e50;\n",
    "            padding-bottom: 10px;\n",
    "            margin-bottom: 20px;\n",
    "        }}\n",
    "        \n",
    "        h2 {{\n",
    "            font-size: 2em; /* Increased font size */\n",
    "            margin-top: 30px;\n",
    "        }}\n",
    "        \n",
    "        /* Table Container Styling */\n",
    "        .table-container {{\n",
    "            max-height: 400px; /* Adjust the height as needed */\n",
    "            overflow-y: auto;  /* Enables vertical scrolling */\n",
    "            overflow-x: auto;  /* Enables horizontal scrolling */\n",
    "            margin: 20px 0;    /* Space above and below the table */\n",
    "            border: 1px solid #ddd; /* Optional border around the table container */\n",
    "            padding: 5px; /* Optional padding inside the container */\n",
    "        }}\n",
    "\n",
    "        table {{\n",
    "            width: 100%;\n",
    "            border-collapse: collapse;\n",
    "            margin: 20px 0;\n",
    "            font-size: 1em;\n",
    "        }}\n",
    "        \n",
    "        table, th, td {{\n",
    "            border: 1px solid #ddd;\n",
    "            padding: 12px; /* Increased padding for better readability */\n",
    "        }}\n",
    "        \n",
    "        th {{\n",
    "            background-color: #2c3e50;\n",
    "            color: #fff;\n",
    "            text-align: left;\n",
    "        }}\n",
    "        \n",
    "        tr:nth-child(even) {{\n",
    "            background-color: #f2f2f2;\n",
    "        }}\n",
    "        \n",
    "        /* Image and Plot Styling */\n",
    "        .image-container {{\n",
    "            text-align: center;\n",
    "            margin-top: 20px;\n",
    "        }}\n",
    "        \n",
    "        .image-container img, .plot-container iframe {{\n",
    "            max-width: 100%;\n",
    "            height: auto;\n",
    "        }}\n",
    "\n",
    "        /* Footer Styling */\n",
    "        .footer {{\n",
    "            text-align: center;\n",
    "            margin-top: 40px;\n",
    "            font-size: 1em; /* Increased font size for better readability */\n",
    "            color: #555;\n",
    "            padding: 10px 0;\n",
    "            border-top: 1px solid #ddd; /* Added border to separate footer */\n",
    "            background-color: #f9f9f9; /* Light background for footer */\n",
    "        }}\n",
    "    </style>\n",
    "</head>\n",
    "<body>\n",
    "    <div class=\"container\">\n",
    "        <!-- Company Logo -->\n",
    "        <img src=\"https://resource.esriuk.com/wp-content/uploads/2017/06/GLA-Logo-Resized.png\" alt=\"Company Logo\" class=\"logo\">\n",
    "\n",
    "        <!-- Report Title -->\n",
    "        <h1>Population Projections Outlier Report</h1>\n",
    "\n",
    "        <!-- Add Check Results -->\n",
    "        {check_results}\n",
    "\n",
    "        <!-- Tallied Dataframe -->\n",
    "        <h2>Tallied Outlier Table</h2>\n",
    "        <div class=\"table-container\">\n",
    "            {tally_df_html}\n",
    "        </div>\n",
    "\n",
    "        <!-- Average Household Size Absolute Table -->\n",
    "        <h2>Average Household Size Absolute Table</h2>\n",
    "        <div class=\"table-container\">\n",
    "            {average_household_size_absolute_html}\n",
    "        </div>\n",
    "\n",
    "        <!-- Average Household Size Percentage Change Table -->\n",
    "        <h2>Average Household Size Percentage Change Table</h2>\n",
    "        <div class=\"table-container\">\n",
    "            {anomalous_average_household_size_pct_change_df_html}\n",
    "        </div>\n",
    "\n",
<<<<<<< HEAD
    "        <!-- Swarm plot -->\n",
    "        <h2> Ward Distributions </h2>\n",
    "        <div>\n",
    "            <iframe src=\"http://localhost:2222\" width=\"100%\" height=\"800\" frameborder=\"0\"></iframe>\n",
    "        </div>\n",
    "\n",
=======
>>>>>>> d6e679524c1c4c65559ed5b857f2e8f7c637a755
    "        <!-- Population Pyramid Visualisation -->\n",
    "        <h2>Interactive Population Pyramid App</h2>\n",
    "        <div>\n",
    "            <iframe src=\"http://localhost:1223\" width=\"100%\" height=\"800\" frameborder=\"0\"></iframe>\n",
    "        </div>\n",
    "\n",
<<<<<<< HEAD
    "         <!-- Population Pyramid Visualisation -->\n",
    "        <h2>Component trend over time</h2>\n",
    "        <div>\n",
    "            <iframe src=\"http://localhost:1333\" width=\"100%\" height=\"800\" frameborder=\"0\"></iframe>\n",
    "        </div>\n",
    "\n",
=======
>>>>>>> d6e679524c1c4c65559ed5b857f2e8f7c637a755
    "        <!-- Interactive Plot -->\n",
    "        <h2>Population project by component</h2>\n",
    "        <div>\n",
    "            <iframe src=\"interactive_line_plot.html\" width=\"100%\" height=\"600\" frameborder=\"0\"></iframe>\n",
    "        </div>\n",
    "\n",
    "        <!-- Footer Section -->\n",
    "        <div class=\"footer\">\n",
    "            <p>This is an automated report produced by the Greater London Authority (GLA). The script provided is merely a suggestion for areas to investigate further regarding outliers and potential errors in the population projections. It is not guaranteed to capture every error that may exist within the dataset.</p>\n",
    "            <p>If you require further information, please email <a href=\"mailto:Sebastian.Heslin-Rees@london.gov.uk\">Sebastian.Heslin-Rees@london.gov.uk</a>.</p>\n",
    "        </div>\n",
    "    </div>\n",
    "</body>\n",
    "</html>\n",
    "\"\"\"\n",
    "\n",
    "# Save the report to an HTML file\n",
    "with open(\"population_projections_report_with_checks.html\", \"w\") as f:\n",
    "    f.write(html_content)\n",
    "\n",
    "print(\"HTML report with checks generated successfully!\")\n",
    "\n"
   ]
  }
 ],
 "metadata": {
  "kernelspec": {
   "display_name": "env",
   "language": "python",
   "name": "python3"
  },
  "language_info": {
   "codemirror_mode": {
    "name": "ipython",
    "version": 3
   },
   "file_extension": ".py",
   "mimetype": "text/x-python",
   "name": "python",
   "nbconvert_exporter": "python",
   "pygments_lexer": "ipython3",
   "version": "3.12.3"
  }
 },
 "nbformat": 4,
 "nbformat_minor": 2
}
